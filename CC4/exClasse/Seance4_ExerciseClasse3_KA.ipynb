{
 "cells": [
  {
   "cell_type": "code",
   "execution_count": 1,
   "metadata": {},
   "outputs": [],
   "source": [
    "#import libraries\n",
    "import networkx as nx\n",
    "import numpy as np\n",
    "import matplotlib.pyplot as plt\n",
    "import scipy.stats\n",
    "import collections\n",
    "from scipy.optimize import curve_fit"
   ]
  },
  {
   "cell_type": "markdown",
   "metadata": {},
   "source": [
    "Echange de pétrole entre tous les pays du monde qu'elle a retravaillé pour qu'elle soit plus exploitable (enlever les valeurs manquantes etc.)\n",
    "Les liens sont orientés mais dans cet exercice, je ne veux que les liens rediriger. Je passe donc par pandas pour après le symétriser (en faisant la somme des directions). "
   ]
  },
  {
   "cell_type": "code",
   "execution_count": 8,
   "metadata": {},
   "outputs": [
    {
     "data": {
      "text/html": [
       "<div>\n",
       "<style scoped>\n",
       "    .dataframe tbody tr th:only-of-type {\n",
       "        vertical-align: middle;\n",
       "    }\n",
       "\n",
       "    .dataframe tbody tr th {\n",
       "        vertical-align: top;\n",
       "    }\n",
       "\n",
       "    .dataframe thead th {\n",
       "        text-align: right;\n",
       "    }\n",
       "</style>\n",
       "<table border=\"1\" class=\"dataframe\">\n",
       "  <thead>\n",
       "    <tr style=\"text-align: right;\">\n",
       "      <th></th>\n",
       "      <th>exp</th>\n",
       "      <th>imp</th>\n",
       "      <th>v</th>\n",
       "    </tr>\n",
       "  </thead>\n",
       "  <tbody>\n",
       "    <tr>\n",
       "      <th>0</th>\n",
       "      <td>Afghanistan</td>\n",
       "      <td>Paraguay</td>\n",
       "      <td>2667.523</td>\n",
       "    </tr>\n",
       "    <tr>\n",
       "      <th>1</th>\n",
       "      <td>Albania</td>\n",
       "      <td>Bulgaria</td>\n",
       "      <td>1317.288</td>\n",
       "    </tr>\n",
       "    <tr>\n",
       "      <th>2</th>\n",
       "      <td>Albania</td>\n",
       "      <td>Czechia</td>\n",
       "      <td>10834.733</td>\n",
       "    </tr>\n",
       "    <tr>\n",
       "      <th>3</th>\n",
       "      <td>Albania</td>\n",
       "      <td>Egypt</td>\n",
       "      <td>9352.174</td>\n",
       "    </tr>\n",
       "    <tr>\n",
       "      <th>4</th>\n",
       "      <td>Albania</td>\n",
       "      <td>Greece</td>\n",
       "      <td>41345.449</td>\n",
       "    </tr>\n",
       "  </tbody>\n",
       "</table>\n",
       "</div>"
      ],
      "text/plain": [
       "           exp       imp          v\n",
       "0  Afghanistan  Paraguay   2667.523\n",
       "1      Albania  Bulgaria   1317.288\n",
       "2      Albania   Czechia  10834.733\n",
       "3      Albania     Egypt   9352.174\n",
       "4      Albania    Greece  41345.449"
      ]
     },
     "execution_count": 8,
     "metadata": {},
     "output_type": "execute_result"
    }
   ],
   "source": [
    "import pandas as pd\n",
    "df=pd.read_csv('data/oilDB.csv',sep=',')\n",
    "df.head()"
   ]
  },
  {
   "cell_type": "code",
   "execution_count": 9,
   "metadata": {},
   "outputs": [],
   "source": [
    "# D'abord le graphique est dirigé.\n",
    "dG=nx.from_pandas_edgelist(df,'exp','imp',['v'],create_using=nx.DiGraph())"
   ]
  },
  {
   "cell_type": "code",
   "execution_count": 10,
   "metadata": {},
   "outputs": [],
   "source": [
    "# Je passe à un graphe non dirigé où le poids est la valeur des deux directions. \n",
    "G=nx.to_undirected(dG)\n",
    "for (i,j) in G.edges():\n",
    "    G[i][j]['weight']=0\n",
    "    if (i,j) in dG.edges():\n",
    "        G[i][j]['weight']=G[i][j]['weight']+dG[i][j]['v']\n",
    "    if (j,i) in dG.edges():\n",
    "        G[i][j]['weight']=G[i][j]['weight']+dG[j][i]['v']"
   ]
  },
  {
   "cell_type": "code",
   "execution_count": 11,
   "metadata": {},
   "outputs": [
    {
     "data": {
      "text/plain": [
       "[('Afghanistan',\n",
       "  'Iran',\n",
       "  {'v': 658642.0929999999, 'weight': 658642.0929999999}),\n",
       " ('Afghanistan', 'Azerbaijan', {'v': 72687.057, 'weight': 72687.057}),\n",
       " ('Afghanistan',\n",
       "  'Kazakhstan',\n",
       "  {'v': 128145.51199999999, 'weight': 128145.51199999999}),\n",
       " ('Afghanistan',\n",
       "  'Turkmenistan',\n",
       "  {'v': 66452.41900000001, 'weight': 66452.41900000001}),\n",
       " ('Afghanistan', 'Russian Federation', {'v': 40907.138, 'weight': 40907.138})]"
      ]
     },
     "execution_count": 11,
     "metadata": {},
     "output_type": "execute_result"
    }
   ],
   "source": [
    "list(G.edges(data=True))[:5]"
   ]
  },
  {
   "cell_type": "code",
   "execution_count": 12,
   "metadata": {},
   "outputs": [
    {
     "data": {
      "text/plain": [
       "0.17997716991502136"
      ]
     },
     "execution_count": 12,
     "metadata": {},
     "output_type": "execute_result"
    }
   ],
   "source": [
    "nx.density(G)"
   ]
  },
  {
   "cell_type": "markdown",
   "metadata": {},
   "source": [
    "# Weight's distribution"
   ]
  },
  {
   "cell_type": "code",
   "execution_count": 13,
   "metadata": {},
   "outputs": [],
   "source": [
    "def logBinning(degreeList,nbin):\n",
    "    kmin=min(degreeList)\n",
    "    kmax=max(degreeList)\n",
    "    logBins = np.logspace(np.log10(kmin), np.log10(kmax),num=nbin)\n",
    "    logBinDensity, binedges = np.histogram(degreeList, bins=logBins,density=True)\n",
    "    logBins = np.delete(logBins, -1)\n",
    "    return logBinDensity, logBins"
   ]
  },
  {
   "cell_type": "code",
   "execution_count": 14,
   "metadata": {},
   "outputs": [],
   "source": [
    "weights=[G[u][v]['weight'] for (u,v) in G.edges()]"
   ]
  },
  {
   "cell_type": "code",
   "execution_count": 15,
   "metadata": {},
   "outputs": [
    {
     "data": {
      "image/png": "[encoded data removed]",
      "text/plain": [
       "<Figure size 432x288 with 1 Axes>"
      ]
     },
     "metadata": {
      "needs_background": "light"
     },
     "output_type": "display_data"
    }
   ],
   "source": [
    "y,x=logBinning(np.array(weights),20)\n",
    "plt.loglog(x,y,'o',markersize=10)\n",
    "plt.xlabel('w')\n",
    "plt.ylabel('P(w)')\n",
    "plt.show()"
   ]
  },
  {
   "cell_type": "markdown",
   "metadata": {},
   "source": [
    "# Strength distribution"
   ]
  },
  {
   "cell_type": "code",
   "execution_count": 19,
   "metadata": {},
   "outputs": [],
   "source": [
    "s=list(dict(G.degree(weight='weight')).values())"
   ]
  },
  {
   "cell_type": "code",
   "execution_count": 20,
   "metadata": {},
   "outputs": [
    {
     "data": {
      "image/png": "[encoded data removed]",
      "text/plain": [
       "<Figure size 432x288 with 1 Axes>"
      ]
     },
     "metadata": {
      "needs_background": "light"
     },
     "output_type": "display_data"
    }
   ],
   "source": [
    "y,x=logBinning(np.array(s),10)\n",
    "plt.loglog(x,y,'o',markersize=10)\n",
    "plt.xlabel('s')\n",
    "plt.ylabel('P(s)')\n",
    "plt.show()"
   ]
  },
  {
   "cell_type": "markdown",
   "metadata": {},
   "source": [
    "# Strength degree correlation"
   ]
  },
  {
   "cell_type": "markdown",
   "metadata": {},
   "source": [
    "Relation entre la force et le degré. \n",
    "La force grandit avec le degré ici comme attendu. "
   ]
  },
  {
   "cell_type": "code",
   "execution_count": 21,
   "metadata": {},
   "outputs": [],
   "source": [
    "k=list(dict(G.degree()).values())"
   ]
  },
  {
   "cell_type": "code",
   "execution_count": 22,
   "metadata": {},
   "outputs": [
    {
     "data": {
      "image/png": "[encoded data removed]",
      "text/plain": [
       "<Figure size 432x288 with 1 Axes>"
      ]
     },
     "metadata": {
      "needs_background": "light"
     },
     "output_type": "display_data"
    }
   ],
   "source": [
    "plt.loglog(k,s,'o',alpha=0.3)\n",
    "\n",
    "logBins=np.logspace(np.log2(np.min(k)),np.log2(np.max(k)),base=2,num=15)\n",
    "ybin,xbin,binnumber=scipy.stats.binned_statistic(k,s,statistic='mean',bins=logBins)\n",
    "plt.loglog(xbin[:-1],ybin,'o',markersize=10)\n",
    "\n",
    "plt.xlabel('k')\n",
    "plt.ylabel('s')\n",
    "plt.show()"
   ]
  },
  {
   "cell_type": "markdown",
   "metadata": {},
   "source": [
    "Je cherche à faire un fit. Si c'est linéaire, il y a peu de degrés entre k et s sinon il y a une relations. Je fais donc comme avant ma loi de puissance logarithmique. \n",
    "\n",
    "Les pays qui ont du pétrole vont vendre plus que les autres c'est logique. La pondération est dans ce cas associée à la structure topologiqu. "
   ]
  },
  {
   "cell_type": "code",
   "execution_count": 23,
   "metadata": {},
   "outputs": [],
   "source": [
    "def powerLaw(x, a, b):\n",
    "    return b*x**(a)"
   ]
  },
  {
   "cell_type": "code",
   "execution_count": 24,
   "metadata": {},
   "outputs": [
    {
     "name": "stdout",
     "output_type": "stream",
     "text": [
      "1.3063774614774446\n"
     ]
    },
    {
     "data": {
      "image/png": "[encoded data removed]",
      "text/plain": [
       "<Figure size 432x288 with 1 Axes>"
      ]
     },
     "metadata": {
      "needs_background": "light"
     },
     "output_type": "display_data"
    }
   ],
   "source": [
    "plt.loglog(k,s,'o',alpha=0.3)\n",
    "\n",
    "#visualisation des données\n",
    "logBins=np.logspace(np.log2(np.min(k)),np.log2(np.max(k)),base=2,num=15)\n",
    "ybin,xbin,binnumber=scipy.stats.binned_statistic(k,s,statistic='mean',bins=logBins)\n",
    "plt.loglog(xbin[:-1],ybin,'o',markersize=10)\n",
    "\n",
    "#on fait le fit jusqu'à k=50 pour être sûr que ça marche bien \n",
    "fitx=[i for (i,j) in zip(k,s) if  i<50] #k jusqu'à 50\n",
    "fity=[j for (i,j) in zip(k,s) if i<50]\n",
    "popt, pcov = curve_fit(powerLaw, fitx, fity)  \n",
    "#popt, pcov = curve_fit(powerLaw, k, s)  \n",
    "print (popt[0])\n",
    "plt.loglog(sorted(k), powerLaw(sorted(k), *popt), '--',c='k',linewidth=3)\n",
    "\n",
    "plt.xlabel('k')\n",
    "plt.ylabel('s')\n",
    "plt.show()"
   ]
  },
  {
   "cell_type": "markdown",
   "metadata": {},
   "source": [
    "# ROBUSTNESS"
   ]
  },
  {
   "cell_type": "markdown",
   "metadata": {},
   "source": [
    "Quelle est la robustesse du réseau ? "
   ]
  },
  {
   "cell_type": "markdown",
   "metadata": {},
   "source": [
    "### random failures"
   ]
  },
  {
   "cell_type": "markdown",
   "metadata": {},
   "source": [
    "On enlève (attaque) aléatoirement des noeuds. Je choisis la fraction que j'enlève 1/20 = 5/100 des noeuds.\n",
    "<mark>Alain dit qu'il faut faire 21 et pas 20</mark>"
   ]
  },
  {
   "cell_type": "code",
   "execution_count": 31,
   "metadata": {},
   "outputs": [],
   "source": [
    "fList=np.linspace(0,1,20)\n",
    "NtoRem=[int(i*G.number_of_nodes()) for i in fList]"
   ]
  },
  {
   "cell_type": "code",
   "execution_count": 32,
   "metadata": {},
   "outputs": [
    {
     "name": "stdout",
     "output_type": "stream",
     "text": [
      "[0, 11, 22, 34, 45, 57, 68, 80, 91, 103, 114, 126, 137, 149, 160, 172, 183, 195, 206, 218]\n"
     ]
    }
   ],
   "source": [
    "print(NtoRem)"
   ]
  },
  {
   "cell_type": "code",
   "execution_count": null,
   "metadata": {},
   "outputs": [],
   "source": [
    "On v"
   ]
  },
  {
   "cell_type": "code",
   "execution_count": 29,
   "metadata": {},
   "outputs": [],
   "source": [
    "import random\n",
    "sf=[]\n",
    "for nn in NtoRem[:-1]:\n",
    "    # je copie mon graphe pour ne pas toucher au graphe initial\n",
    "    thisG=G.copy()\n",
    "    # je prends un échantillon aléatoire de ces noeuds. \n",
    "    ll=random.sample(G.nodes(),nn)\n",
    "    # je les enlève du graphe\n",
    "    thisG.remove_nodes_from(ll)\n",
    "    #je calcule la taille de la plus grande composante (maximale)\n",
    "    thisSf=len(max(sorted(nx.connected_components(thisG), key = len, reverse=True)))\n",
    "    # j'ajoute la taille/nb noeud dans la liste sf. \n",
    "    sf.append(thisSf/float(G.number_of_nodes()))"
   ]
  },
  {
   "cell_type": "code",
   "execution_count": 33,
   "metadata": {},
   "outputs": [
    {
     "name": "stderr",
     "output_type": "stream",
     "text": [
      "C:\\Users\\Kim Antunez\\Anaconda3\\lib\\site-packages\\ipykernel_launcher.py:1: MatplotlibDeprecationWarning: Case-insensitive properties were deprecated in 3.3 and support will be removed two minor releases later\n",
      "  \"\"\"Entry point for launching an IPython kernel.\n"
     ]
    },
    {
     "data": {
      "image/png": "[encoded data removed]",
      "text/plain": [
       "<Figure size 432x288 with 1 Axes>"
      ]
     },
     "metadata": {
      "needs_background": "light"
     },
     "output_type": "display_data"
    }
   ],
   "source": [
    "plt.plot(fList[:-1],sf,'o-',markerSize=10,label='random failure')\n",
    "plt.xlabel('f')\n",
    "plt.ylabel('Sf/N')\n",
    "plt.legend()\n",
    "plt.show()"
   ]
  },
  {
   "cell_type": "markdown",
   "metadata": {},
   "source": [
    "### attacks"
   ]
  },
  {
   "cell_type": "markdown",
   "metadata": {},
   "source": [
    "Attaque ciblée : j'enlève les noeuds aux degrés les plus importants. \n",
    "\n",
    "Rq : Ce travail peut être fait avec un réseau dirigé. Ce serait mieux de le faire d'ailleurs sur un réseau dirigé. "
   ]
  },
  {
   "cell_type": "code",
   "execution_count": 34,
   "metadata": {},
   "outputs": [],
   "source": [
    "hh=collections.Counter(dict(G.degree())).most_common()\n",
    "#je classe les noeuds selon leur degré.\n",
    "orderedNodes=[u for (u,v) in hh]"
   ]
  },
  {
   "cell_type": "code",
   "execution_count": 35,
   "metadata": {},
   "outputs": [
    {
     "name": "stdout",
     "output_type": "stream",
     "text": [
      "['USA', 'China', 'Netherlands', 'France', 'Germany', 'Russian Federation', 'Belgium', 'Italy', 'Turkey', 'United Arab Emirates']\n"
     ]
    }
   ],
   "source": [
    "#10 premiers noeuds\n",
    "print(orderedNodes[:10])"
   ]
  },
  {
   "cell_type": "code",
   "execution_count": 36,
   "metadata": {},
   "outputs": [],
   "source": [
    "fList1=np.linspace(0,1,20)\n",
    "NtoRem=[int(i*G.number_of_nodes()) for i in fList1]"
   ]
  },
  {
   "cell_type": "code",
   "execution_count": 37,
   "metadata": {},
   "outputs": [],
   "source": [
    "sfAtt=[]\n",
    "for nn in NtoRem[:-1]:\n",
    "    thisG=G.copy()\n",
    "    # je prends les nn premiers dans le classement\n",
    "    ll=orderedNodes[:nn]\n",
    "    # je les enlève\n",
    "    thisG.remove_nodes_from(ll)\n",
    "    # je calcule la composante connectée\n",
    "    thisSf=len(max(sorted(nx.connected_components(thisG), key = len, reverse=True)))\n",
    "    sfAtt.append(thisSf/float(G.number_of_nodes()))"
   ]
  },
  {
   "cell_type": "code",
   "execution_count": 38,
   "metadata": {},
   "outputs": [
    {
     "name": "stderr",
     "output_type": "stream",
     "text": [
      "C:\\Users\\Kim Antunez\\Anaconda3\\lib\\site-packages\\ipykernel_launcher.py:1: MatplotlibDeprecationWarning: Case-insensitive properties were deprecated in 3.3 and support will be removed two minor releases later\n",
      "  \"\"\"Entry point for launching an IPython kernel.\n",
      "C:\\Users\\Kim Antunez\\Anaconda3\\lib\\site-packages\\ipykernel_launcher.py:2: MatplotlibDeprecationWarning: Case-insensitive properties were deprecated in 3.3 and support will be removed two minor releases later\n",
      "  \n"
     ]
    },
    {
     "data": {
      "image/png": "[encoded data removed]",
      "text/plain": [
       "<Figure size 432x288 with 1 Axes>"
      ]
     },
     "metadata": {
      "needs_background": "light"
     },
     "output_type": "display_data"
    }
   ],
   "source": [
    "plt.plot(fList1[:-1],sfAtt,'o-',markerSize=10,label='attack')\n",
    "plt.plot(fList[:-1],sf,'s-',markerSize=10,label='random failure')\n",
    "plt.xlabel('f')\n",
    "plt.ylabel('Sf/N')\n",
    "plt.legend()\n",
    "plt.show()"
   ]
  },
  {
   "cell_type": "markdown",
   "metadata": {},
   "source": [
    "Les attaques ciblées sont plus efficaces que les attaques random car on se retrouve sur un réseau déconnecté. "
   ]
  }
 ],
 "metadata": {
  "kernelspec": {
   "display_name": "Python 3",
   "language": "python",
   "name": "python3"
  },
  "language_info": {
   "codemirror_mode": {
    "name": "ipython",
    "version": 3
   },
   "file_extension": ".py",
   "mimetype": "text/x-python",
   "name": "python",
   "nbconvert_exporter": "python",
   "pygments_lexer": "ipython3",
   "version": "3.7.4"
  }
 },
 "nbformat": 4,
 "nbformat_minor": 4
}
