{
 "cells": [
  {
   "cell_type": "markdown",
   "metadata": {},
   "source": [
    "# Exercises 24 February 2021\n",
    "\n",
    "## Personal networks, ego networks"
   ]
  },
  {
   "cell_type": "markdown",
   "metadata": {},
   "source": [
    "<mark> Remarque : les exercices à faire pour le 02 mars sont plus bas dans le fichier après le sous-titre \"Homework\". Le haut du fichier correspond au TP effectué en classe, commenté. </mark>"
   ]
  },
  {
   "cell_type": "markdown",
   "metadata": {},
   "source": [
    "On s'intéresse cette fois-ci à un réseau concentré contrairement aux réseaux complets que nous avions vus auparavant. "
   ]
  },
  {
   "cell_type": "code",
   "execution_count": 1,
   "metadata": {},
   "outputs": [],
   "source": [
    "########### Preparation ##############\n",
    "# import packages\n",
    "import networkx as nx\n",
    "import matplotlib.pyplot as plt\n",
    "import pandas as pd\n",
    "import numpy as np"
   ]
  },
  {
   "cell_type": "code",
   "execution_count": 2,
   "metadata": {},
   "outputs": [
    {
     "data": {
      "text/html": [
       "<div>\n",
       "<style scoped>\n",
       "    .dataframe tbody tr th:only-of-type {\n",
       "        vertical-align: middle;\n",
       "    }\n",
       "\n",
       "    .dataframe tbody tr th {\n",
       "        vertical-align: top;\n",
       "    }\n",
       "\n",
       "    .dataframe thead th {\n",
       "        text-align: right;\n",
       "    }\n",
       "</style>\n",
       "<table border=\"1\" class=\"dataframe\">\n",
       "  <thead>\n",
       "    <tr style=\"text-align: right;\">\n",
       "      <th></th>\n",
       "      <th>ID</th>\n",
       "      <th>Qualification</th>\n",
       "      <th>Gender</th>\n",
       "      <th>Multiplexity</th>\n",
       "      <th>Support</th>\n",
       "      <th>Proximity</th>\n",
       "    </tr>\n",
       "  </thead>\n",
       "  <tbody>\n",
       "    <tr>\n",
       "      <th>0</th>\n",
       "      <td>210</td>\n",
       "      <td>1</td>\n",
       "      <td>1</td>\n",
       "      <td>3</td>\n",
       "      <td>2</td>\n",
       "      <td>4</td>\n",
       "    </tr>\n",
       "    <tr>\n",
       "      <th>1</th>\n",
       "      <td>25</td>\n",
       "      <td>2</td>\n",
       "      <td>1</td>\n",
       "      <td>1</td>\n",
       "      <td>1</td>\n",
       "      <td>1</td>\n",
       "    </tr>\n",
       "    <tr>\n",
       "      <th>2</th>\n",
       "      <td>27</td>\n",
       "      <td>2</td>\n",
       "      <td>1</td>\n",
       "      <td>3</td>\n",
       "      <td>1</td>\n",
       "      <td>2</td>\n",
       "    </tr>\n",
       "    <tr>\n",
       "      <th>3</th>\n",
       "      <td>28</td>\n",
       "      <td>2</td>\n",
       "      <td>1</td>\n",
       "      <td>2</td>\n",
       "      <td>1</td>\n",
       "      <td>1</td>\n",
       "    </tr>\n",
       "    <tr>\n",
       "      <th>4</th>\n",
       "      <td>31</td>\n",
       "      <td>2</td>\n",
       "      <td>1</td>\n",
       "      <td>1</td>\n",
       "      <td>1</td>\n",
       "      <td>2</td>\n",
       "    </tr>\n",
       "  </tbody>\n",
       "</table>\n",
       "</div>"
      ],
      "text/plain": [
       "    ID  Qualification  Gender  Multiplexity  Support  Proximity\n",
       "0  210              1       1             3        2          4\n",
       "1   25              2       1             1        1          1\n",
       "2   27              2       1             3        1          2\n",
       "3   28              2       1             2        1          1\n",
       "4   31              2       1             1        1          2"
      ]
     },
     "execution_count": 2,
     "metadata": {},
     "output_type": "execute_result"
    }
   ],
   "source": [
    "# use pandas to import list of nodes with attributes\n",
    "nodes = pd.read_table('Ego210_Nodes.txt', sep='\\t')\n",
    "nodes.head()"
   ]
  },
  {
   "cell_type": "markdown",
   "metadata": {},
   "source": [
    "La première ligne de la table est \"Ego\", c'est-à-dire l'individu **210**. \n",
    "\n",
    "Les différents **attributs de la table des noeuds** sont les suivants d'après le Codebook du réseau : \n",
    "\n",
    "- `Qualification` : en 6 catégories (1: partenaire / 2: ami / 3: membre de la famille / 4: collègue de travail / 5: professionnel de santé / 6: autre)  \n",
    "- `Genre` : (1: femme / 2: homme) \n",
    "- `Multiplexity` : la manière dont la personne est en contact avec Ego (1: seulement en face à face / 2: seulement en ligne / 3: en ligne et face à face)\n",
    "- `Support` : si la personne pourrait fournir du soutien à Ego (1: non / 2: oui)\n",
    "- `Proximity` : intensité de proximité (1: Peu proche / 2: Proche / 3: Très proche / 4: Intime)\n",
    "\n",
    "**Remarque** : Ces variables pourraient potentiellement être intéressantes pour représenter la force des liens. "
   ]
  },
  {
   "cell_type": "code",
   "execution_count": 3,
   "metadata": {},
   "outputs": [
    {
     "name": "stdout",
     "output_type": "stream",
     "text": [
      "    ID  Qualification  Gender  Multiplexity  Support  Proximity\n",
      "0  210              1       1             3        2          4\n"
     ]
    }
   ],
   "source": [
    "# Let's select Ego\n",
    "ego = nodes[nodes.ID==210]\n",
    "print(ego)"
   ]
  },
  {
   "cell_type": "code",
   "execution_count": 4,
   "metadata": {},
   "outputs": [
    {
     "data": {
      "text/html": [
       "<div>\n",
       "<style scoped>\n",
       "    .dataframe tbody tr th:only-of-type {\n",
       "        vertical-align: middle;\n",
       "    }\n",
       "\n",
       "    .dataframe tbody tr th {\n",
       "        vertical-align: top;\n",
       "    }\n",
       "\n",
       "    .dataframe thead th {\n",
       "        text-align: right;\n",
       "    }\n",
       "</style>\n",
       "<table border=\"1\" class=\"dataframe\">\n",
       "  <thead>\n",
       "    <tr style=\"text-align: right;\">\n",
       "      <th></th>\n",
       "      <th>ID</th>\n",
       "      <th>Qualification</th>\n",
       "      <th>Gender</th>\n",
       "      <th>Multiplexity</th>\n",
       "      <th>Support</th>\n",
       "      <th>Proximity</th>\n",
       "    </tr>\n",
       "  </thead>\n",
       "  <tbody>\n",
       "    <tr>\n",
       "      <th>1</th>\n",
       "      <td>25</td>\n",
       "      <td>2</td>\n",
       "      <td>1</td>\n",
       "      <td>1</td>\n",
       "      <td>1</td>\n",
       "      <td>1</td>\n",
       "    </tr>\n",
       "    <tr>\n",
       "      <th>2</th>\n",
       "      <td>27</td>\n",
       "      <td>2</td>\n",
       "      <td>1</td>\n",
       "      <td>3</td>\n",
       "      <td>1</td>\n",
       "      <td>2</td>\n",
       "    </tr>\n",
       "    <tr>\n",
       "      <th>3</th>\n",
       "      <td>28</td>\n",
       "      <td>2</td>\n",
       "      <td>1</td>\n",
       "      <td>2</td>\n",
       "      <td>1</td>\n",
       "      <td>1</td>\n",
       "    </tr>\n",
       "    <tr>\n",
       "      <th>4</th>\n",
       "      <td>31</td>\n",
       "      <td>2</td>\n",
       "      <td>1</td>\n",
       "      <td>1</td>\n",
       "      <td>1</td>\n",
       "      <td>2</td>\n",
       "    </tr>\n",
       "    <tr>\n",
       "      <th>5</th>\n",
       "      <td>33</td>\n",
       "      <td>2</td>\n",
       "      <td>1</td>\n",
       "      <td>2</td>\n",
       "      <td>1</td>\n",
       "      <td>1</td>\n",
       "    </tr>\n",
       "  </tbody>\n",
       "</table>\n",
       "</div>"
      ],
      "text/plain": [
       "   ID  Qualification  Gender  Multiplexity  Support  Proximity\n",
       "1  25              2       1             1        1          1\n",
       "2  27              2       1             3        1          2\n",
       "3  28              2       1             2        1          1\n",
       "4  31              2       1             1        1          2\n",
       "5  33              2       1             2        1          1"
      ]
     },
     "execution_count": 4,
     "metadata": {},
     "output_type": "execute_result"
    }
   ],
   "source": [
    "# Select alters \n",
    "alters = nodes[nodes.ID != 210]\n",
    "alters.head()"
   ]
  },
  {
   "cell_type": "code",
   "execution_count": 5,
   "metadata": {},
   "outputs": [
    {
     "data": {
      "text/html": [
       "<div>\n",
       "<style scoped>\n",
       "    .dataframe tbody tr th:only-of-type {\n",
       "        vertical-align: middle;\n",
       "    }\n",
       "\n",
       "    .dataframe tbody tr th {\n",
       "        vertical-align: top;\n",
       "    }\n",
       "\n",
       "    .dataframe thead th {\n",
       "        text-align: right;\n",
       "    }\n",
       "</style>\n",
       "<table border=\"1\" class=\"dataframe\">\n",
       "  <thead>\n",
       "    <tr style=\"text-align: right;\">\n",
       "      <th></th>\n",
       "      <th>V1</th>\n",
       "      <th>V2</th>\n",
       "      <th>Type</th>\n",
       "    </tr>\n",
       "  </thead>\n",
       "  <tbody>\n",
       "    <tr>\n",
       "      <th>0</th>\n",
       "      <td>210</td>\n",
       "      <td>25</td>\n",
       "      <td>1</td>\n",
       "    </tr>\n",
       "    <tr>\n",
       "      <th>1</th>\n",
       "      <td>210</td>\n",
       "      <td>27</td>\n",
       "      <td>1</td>\n",
       "    </tr>\n",
       "    <tr>\n",
       "      <th>2</th>\n",
       "      <td>210</td>\n",
       "      <td>31</td>\n",
       "      <td>1</td>\n",
       "    </tr>\n",
       "    <tr>\n",
       "      <th>3</th>\n",
       "      <td>210</td>\n",
       "      <td>34</td>\n",
       "      <td>1</td>\n",
       "    </tr>\n",
       "    <tr>\n",
       "      <th>4</th>\n",
       "      <td>210</td>\n",
       "      <td>35</td>\n",
       "      <td>1</td>\n",
       "    </tr>\n",
       "  </tbody>\n",
       "</table>\n",
       "</div>"
      ],
      "text/plain": [
       "    V1  V2  Type\n",
       "0  210  25     1\n",
       "1  210  27     1\n",
       "2  210  31     1\n",
       "3  210  34     1\n",
       "4  210  35     1"
      ]
     },
     "execution_count": 5,
     "metadata": {},
     "output_type": "execute_result"
    }
   ],
   "source": [
    "# use pandas to import edgelist as a table\n",
    "EgoEdges = pd.read_table('Ego210_Edges.txt', sep=',')\n",
    "EgoEdges.head()"
   ]
  },
  {
   "cell_type": "markdown",
   "metadata": {},
   "source": [
    "On va créer un graphe Ego210. \n",
    "\n",
    "Les différents **attributs de la table des liens** sont les suivants d'après le Codebook du réseau : \n",
    "- `V1` et `V2` correspondent aux deux noeuds reliés dans le réseau. \n",
    "- `Type` : type de lien (1: face à face / 2: en ligne)\n",
    "\n",
    "Les liens ne sont pas orientés comme bien souvent dans les réseaux qualifiés de personnels. \n",
    "\n",
    "C'est un `MultiGraph` qui permet d'introduire des liens de types différents, ou, même si ce n'est pas le cas ici, d'introduire des liens vers soi-même (*loops*). \n",
    "\n",
    "**Remarque** : l'attribut `edge_attr = 'Type'` ajoute l'attribut type afin de garder la double nature des liens. "
   ]
  },
  {
   "cell_type": "code",
   "execution_count": 6,
   "metadata": {},
   "outputs": [
    {
     "name": "stdout",
     "output_type": "stream",
     "text": [
      "Name: \n",
      "Type: MultiGraph\n",
      "Number of nodes: 51\n",
      "Number of edges: 114\n",
      "Average degree:   4.4706\n"
     ]
    }
   ],
   "source": [
    "# generate graph from pandas edgelist\n",
    "# it is an undirected multigraph\n",
    "# a 'multigraph' accepts multiple types of ties (here, online and offline)\n",
    "\n",
    "Ego210 = nx.from_pandas_edgelist(EgoEdges, 'V1', 'V2', edge_attr ='Type', create_using=nx.MultiGraph()) \n",
    "print(nx.info(Ego210))"
   ]
  },
  {
   "cell_type": "markdown",
   "metadata": {},
   "source": [
    "**Remarque** : Si on l'avait chargé comme graphe normal, ce qui change c'est le nombre d'*edges* qui diminue. Il y en a désormais 71 au lieu de 114. "
   ]
  },
  {
   "cell_type": "code",
   "execution_count": 7,
   "metadata": {},
   "outputs": [
    {
     "name": "stdout",
     "output_type": "stream",
     "text": [
      "Name: \n",
      "Type: Graph\n",
      "Number of nodes: 51\n",
      "Number of edges: 71\n",
      "Average degree:   2.7843\n"
     ]
    }
   ],
   "source": [
    "# Note: if we had created it as a simple undirected graph, networkx would have omitted multiple ties\n",
    "test = nx.from_pandas_edgelist(EgoEdges, 'V1', 'V2', create_using=nx.Graph()) \n",
    "print(nx.info(test))"
   ]
  },
  {
   "cell_type": "markdown",
   "metadata": {},
   "source": [
    "Revenons à nos données de MultiGraph."
   ]
  },
  {
   "cell_type": "code",
   "execution_count": 8,
   "metadata": {},
   "outputs": [
    {
     "name": "stdout",
     "output_type": "stream",
     "text": [
      "[(210, {'Qualification': 1, 'Gender': 1, 'Multiplexity': 3, 'Support': 2, 'Proximity': 4}), (25, {'Qualification': 2, 'Gender': 1, 'Multiplexity': 1, 'Support': 1, 'Proximity': 1}), (27, {'Qualification': 2, 'Gender': 1, 'Multiplexity': 3, 'Support': 1, 'Proximity': 2}), (31, {'Qualification': 2, 'Gender': 1, 'Multiplexity': 1, 'Support': 1, 'Proximity': 2}), (34, {'Qualification': 2, 'Gender': 1, 'Multiplexity': 3, 'Support': 1, 'Proximity': 2}), (35, {'Qualification': 2, 'Gender': 1, 'Multiplexity': 3, 'Support': 1, 'Proximity': 2}), (39, {'Qualification': 4, 'Gender': 1, 'Multiplexity': 3, 'Support': 2, 'Proximity': 2}), (95, {'Qualification': 1, 'Gender': 2, 'Multiplexity': 3, 'Support': 2, 'Proximity': 3}), (106, {'Qualification': 2, 'Gender': 2, 'Multiplexity': 3, 'Support': 1, 'Proximity': 3}), (110, {'Qualification': 4, 'Gender': 2, 'Multiplexity': 3, 'Support': 1, 'Proximity': 1}), (112, {'Qualification': 6, 'Gender': 1, 'Multiplexity': 3, 'Support': 1, 'Proximity': 1}), (124, {'Qualification': 2, 'Gender': 2, 'Multiplexity': 3, 'Support': 1, 'Proximity': 1}), (132, {'Qualification': 2, 'Gender': 2, 'Multiplexity': 3, 'Support': 1, 'Proximity': 1}), (140, {'Qualification': 4, 'Gender': 2, 'Multiplexity': 3, 'Support': 1, 'Proximity': 1}), (260, {'Qualification': 2, 'Gender': 2, 'Multiplexity': 3, 'Support': 2, 'Proximity': 2}), (270, {'Qualification': 5, 'Gender': 2, 'Multiplexity': 1, 'Support': 2, 'Proximity': 1}), (290, {'Qualification': 4, 'Gender': 1, 'Multiplexity': 1, 'Support': 2, 'Proximity': 2}), (317, {'Qualification': 4, 'Gender': 1, 'Multiplexity': 3, 'Support': 1, 'Proximity': 1}), (320, {'Qualification': 4, 'Gender': 1, 'Multiplexity': 1, 'Support': 1, 'Proximity': 1}), (330, {'Qualification': 2, 'Gender': 2, 'Multiplexity': 3, 'Support': 1, 'Proximity': 2}), (340, {'Qualification': 2, 'Gender': 1, 'Multiplexity': 3, 'Support': 2, 'Proximity': 2}), (350, {'Qualification': 2, 'Gender': 1, 'Multiplexity': 3, 'Support': 2, 'Proximity': 2}), (360, {'Qualification': 2, 'Gender': 2, 'Multiplexity': 1, 'Support': 1, 'Proximity': 2}), (370, {'Qualification': 2, 'Gender': 2, 'Multiplexity': 3, 'Support': 1, 'Proximity': 1}), (410, {'Qualification': 2, 'Gender': 1, 'Multiplexity': 3, 'Support': 2, 'Proximity': 2}), (411, {'Qualification': 3, 'Gender': 1, 'Multiplexity': 3, 'Support': 2, 'Proximity': 3}), (420, {'Qualification': 5, 'Gender': 2, 'Multiplexity': 1, 'Support': 2, 'Proximity': 1}), (430, {'Qualification': 4, 'Gender': 2, 'Multiplexity': 1, 'Support': 1, 'Proximity': 1}), (440, {'Qualification': 2, 'Gender': 1, 'Multiplexity': 1, 'Support': 1, 'Proximity': 1}), (450, {'Qualification': 4, 'Gender': 1, 'Multiplexity': 1, 'Support': 1, 'Proximity': 1}), (511, {'Qualification': 3, 'Gender': 2, 'Multiplexity': 3, 'Support': 1, 'Proximity': 2}), (729, {'Qualification': 5, 'Gender': 1, 'Multiplexity': 1, 'Support': 2, 'Proximity': 1}), (828, {'Qualification': 3, 'Gender': 2, 'Multiplexity': 3, 'Support': 2, 'Proximity': 3}), (1620, {'Qualification': 2, 'Gender': 1, 'Multiplexity': 3, 'Support': 2, 'Proximity': 2}), (1719, {'Qualification': 2, 'Gender': 1, 'Multiplexity': 3, 'Support': 1, 'Proximity': 1}), (1815, {'Qualification': 2, 'Gender': 2, 'Multiplexity': 1, 'Support': 1, 'Proximity': 1}), (1916, {'Qualification': 6, 'Gender': 1, 'Multiplexity': 1, 'Support': 1, 'Proximity': 1}), (2113, {'Qualification': 2, 'Gender': 2, 'Multiplexity': 3, 'Support': 2, 'Proximity': 2}), (2214, {'Qualification': 2, 'Gender': 1, 'Multiplexity': 3, 'Support': 2, 'Proximity': 3}), (2317, {'Qualification': 4, 'Gender': 2, 'Multiplexity': 3, 'Support': 1, 'Proximity': 1}), (2418, {'Qualification': 2, 'Gender': 2, 'Multiplexity': 1, 'Support': 1, 'Proximity': 1}), (2522, {'Qualification': 2, 'Gender': 1, 'Multiplexity': 3, 'Support': 1, 'Proximity': 2}), (3021, {'Qualification': 6, 'Gender': 2, 'Multiplexity': 3, 'Support': 1, 'Proximity': 1}), (3823, {'Qualification': 2, 'Gender': 1, 'Multiplexity': 3, 'Support': 1, 'Proximity': 2}), (3924, {'Qualification': 4, 'Gender': 1, 'Multiplexity': 3, 'Support': 2, 'Proximity': 2}), (4026, {'Qualification': 3, 'Gender': 1, 'Multiplexity': 1, 'Support': 1, 'Proximity': 2}), (28, {'Qualification': 2, 'Gender': 1, 'Multiplexity': 2, 'Support': 1, 'Proximity': 1}), (33, {'Qualification': 2, 'Gender': 1, 'Multiplexity': 2, 'Support': 1, 'Proximity': 1}), (153, {'Qualification': 3, 'Gender': 1, 'Multiplexity': 2, 'Support': 1, 'Proximity': 1}), (632, {'Qualification': 3, 'Gender': 1, 'Multiplexity': 2, 'Support': 1, 'Proximity': 1}), (2030, {'Qualification': 3, 'Gender': 2, 'Multiplexity': 2, 'Support': 1, 'Proximity': 1})]\n"
     ]
    }
   ],
   "source": [
    "# match nodes of graph with attributes of nodes\n",
    "NodeData = nodes.set_index('ID').to_dict('index').items()\n",
    "Ego210.add_nodes_from(NodeData)\n",
    "\n",
    "# view results\n",
    "print(Ego210.nodes(data=True))"
   ]
  },
  {
   "cell_type": "code",
   "execution_count": 9,
   "metadata": {},
   "outputs": [
    {
     "name": "stdout",
     "output_type": "stream",
     "text": [
      "[(210, 25, {'Type': 1}), (210, 27, {'Type': 1}), (210, 27, {'Type': 2}), (210, 31, {'Type': 1}), (210, 34, {'Type': 1}), (210, 34, {'Type': 2}), (210, 35, {'Type': 1}), (210, 35, {'Type': 2}), (210, 39, {'Type': 1}), (210, 39, {'Type': 2}), (210, 95, {'Type': 1}), (210, 95, {'Type': 2}), (210, 106, {'Type': 1}), (210, 106, {'Type': 2}), (210, 110, {'Type': 1}), (210, 110, {'Type': 2}), (210, 112, {'Type': 1}), (210, 112, {'Type': 2}), (210, 124, {'Type': 1}), (210, 124, {'Type': 2}), (210, 132, {'Type': 1}), (210, 132, {'Type': 2}), (210, 140, {'Type': 1}), (210, 140, {'Type': 2}), (210, 260, {'Type': 1}), (210, 260, {'Type': 2}), (210, 270, {'Type': 1}), (210, 290, {'Type': 1}), (210, 317, {'Type': 1}), (210, 317, {'Type': 2}), (210, 320, {'Type': 1}), (210, 330, {'Type': 1}), (210, 330, {'Type': 2}), (210, 340, {'Type': 1}), (210, 340, {'Type': 2}), (210, 350, {'Type': 1}), (210, 350, {'Type': 2}), (210, 360, {'Type': 1}), (210, 370, {'Type': 1}), (210, 370, {'Type': 2}), (210, 410, {'Type': 1}), (210, 410, {'Type': 2}), (210, 411, {'Type': 1}), (210, 411, {'Type': 2}), (210, 420, {'Type': 1}), (210, 430, {'Type': 1}), (210, 440, {'Type': 1}), (210, 450, {'Type': 1}), (210, 511, {'Type': 1}), (210, 511, {'Type': 2}), (210, 729, {'Type': 1}), (210, 828, {'Type': 1}), (210, 828, {'Type': 2}), (210, 1620, {'Type': 1}), (210, 1620, {'Type': 2}), (210, 1719, {'Type': 1}), (210, 1719, {'Type': 2}), (210, 1815, {'Type': 1}), (210, 1916, {'Type': 1}), (210, 2113, {'Type': 1}), (210, 2113, {'Type': 2}), (210, 2214, {'Type': 1}), (210, 2214, {'Type': 2}), (210, 2317, {'Type': 1}), (210, 2317, {'Type': 2}), (210, 2418, {'Type': 1}), (210, 2522, {'Type': 1}), (210, 2522, {'Type': 2}), (210, 3021, {'Type': 1}), (210, 3021, {'Type': 2}), (210, 3823, {'Type': 1}), (210, 3823, {'Type': 2}), (210, 3924, {'Type': 1}), (210, 3924, {'Type': 2}), (210, 4026, {'Type': 1}), (210, 28, {'Type': 2}), (210, 33, {'Type': 2}), (210, 153, {'Type': 2}), (210, 632, {'Type': 2}), (210, 2030, {'Type': 2}), (27, 1620, {'Type': 1}), (27, 1620, {'Type': 2}), (27, 3823, {'Type': 1}), (27, 3823, {'Type': 2}), (31, 35, {'Type': 1}), (31, 320, {'Type': 1}), (35, 39, {'Type': 1}), (95, 112, {'Type': 1}), (95, 112, {'Type': 2}), (95, 3021, {'Type': 1}), (95, 3021, {'Type': 2}), (112, 3021, {'Type': 1}), (112, 3021, {'Type': 2}), (132, 350, {'Type': 1}), (132, 350, {'Type': 2}), (260, 340, {'Type': 1}), (260, 340, {'Type': 2}), (260, 440, {'Type': 1}), (320, 440, {'Type': 1}), (330, 2522, {'Type': 1}), (330, 2522, {'Type': 2}), (370, 1719, {'Type': 1}), (370, 1719, {'Type': 2}), (411, 511, {'Type': 1}), (411, 511, {'Type': 2}), (411, 828, {'Type': 1}), (411, 828, {'Type': 2}), (440, 2418, {'Type': 1}), (511, 828, {'Type': 1}), (511, 828, {'Type': 2}), (511, 4026, {'Type': 1}), (1620, 632, {'Type': 2}), (2113, 2214, {'Type': 1}), (2113, 2214, {'Type': 2})]\n"
     ]
    }
   ],
   "source": [
    "# view edges\n",
    "print(Ego210.edges(data=True))"
   ]
  },
  {
   "cell_type": "markdown",
   "metadata": {},
   "source": [
    "Nous utilisons désormais un mode de visualisation particulier, un peu plus complexe que d'habitude, car un simple `nx.draw` ne permet pas de visualiser les double liens. Nous utilisons une disposition des noeuds en `spring_layout`. Les liens doubles sont représentés courbés. \n",
    "\n",
    "Le **noeud 210** est placé automatiquement au centre par l'algorithme car il correspond à celui qui a le plus de lien (en tant que noeud *Ego*). "
   ]
  },
  {
   "cell_type": "code",
   "execution_count": 10,
   "metadata": {},
   "outputs": [
    {
     "data": {
      "image/png": "[encoded data removed]",
      "text/plain": [
       "<Figure size 432x288 with 1 Axes>"
      ]
     },
     "metadata": {},
     "output_type": "display_data"
    }
   ],
   "source": [
    "# Visualization\n",
    "\n",
    "# define layout\n",
    "pos = nx.spring_layout(Ego210, seed=1)\n",
    "# draw nodes according to layoabsut\n",
    "nx.draw_networkx_nodes(Ego210, pos, node_color = 'r', node_size = 100, alpha = 1)\n",
    "# use matplotlib to draw edges\n",
    "ax = plt.gca()\n",
    "for e in Ego210.edges:\n",
    "    ax.annotate(\"\",\n",
    "                xy=pos[e[0]], xycoords='data',\n",
    "                xytext=pos[e[1]], textcoords='data',\n",
    "                arrowprops=dict(arrowstyle=\"-\", #multi-graph but not oriented\n",
    "                                color='black',\n",
    "                                alpha=0.5,\n",
    "                                shrinkA=5, shrinkB=5,\n",
    "                                patchA=None, patchB=None,\n",
    "                                #arc3,rad=rrr : permet de faire des courbes plutôt que des lignes\n",
    "                                #au lieu de donner une même valeur pour toutes les courbes, je donne\n",
    "                                #une valeur différente pour type 1 et type 2. \n",
    "                                connectionstyle=\"arc3,rad=rrr\".replace('rrr',str(0.3*e[2])),\n",
    "                                ),\n",
    "                )\n",
    "plt.axis('off')\n",
    "plt.show()"
   ]
  },
  {
   "cell_type": "markdown",
   "metadata": {},
   "source": [
    "Faisons le même graphique en distinguant les liens selon leur type (bleu de type 1 offline et vert de type 2 online). "
   ]
  },
  {
   "cell_type": "code",
   "execution_count": 11,
   "metadata": {},
   "outputs": [
    {
     "data": {
      "image/png": "[encoded data removed]",
      "text/plain": [
       "<Figure size 432x288 with 1 Axes>"
      ]
     },
     "metadata": {},
     "output_type": "display_data"
    }
   ],
   "source": [
    "# Visualization with differences by types\n",
    "\n",
    "#Colors : blue for offline and green for online\n",
    "edge_color = []\n",
    "for edge in list(Ego210.edges(data=True)):\n",
    "    if list(edge[2].values())==[1]:\n",
    "        edge_color.append('blue')\n",
    "    else:\n",
    "        edge_color.append('green')\n",
    "        \n",
    "# keep the same layout as before (\"pos\") to compare\n",
    "# draw nodes according to layoabsut\n",
    "nx.draw_networkx_nodes(Ego210, pos, node_color = 'r', node_size = 100, alpha = 1)\n",
    "# use matplotlib to draw edges\n",
    "ax = plt.gca()\n",
    "\n",
    "\n",
    "for i in range(len(Ego210.edges)):\n",
    "    e = list(Ego210.edges)[i]\n",
    "    ax.annotate(\"\",\n",
    "                xy=pos[e[0]], xycoords='data',\n",
    "                xytext=pos[e[1]], textcoords='data',\n",
    "                arrowprops=dict(arrowstyle=\"-\", #multi-graph but not oriented\n",
    "                                color=edge_color[i],\n",
    "                                alpha=0.8,\n",
    "                                shrinkA=5, shrinkB=5,\n",
    "                                patchA=None, patchB=None,\n",
    "                                #arc3,rad=rrr : permet de faire des courbes plutôt que des lignes\n",
    "                                #au lieu de donner une même valeur pour toutes les courbes, je donne\n",
    "                                #une valeur différente pour type 1 et type 2. \n",
    "                                connectionstyle=\"arc3,rad=rrr\".replace('rrr',str(0.3*e[2])),\n",
    "                                ),\n",
    "                )\n",
    "plt.axis('off')\n",
    "plt.show()"
   ]
  },
  {
   "cell_type": "markdown",
   "metadata": {},
   "source": [
    "## Subset graph: offline-only, online-only, without Ego"
   ]
  },
  {
   "cell_type": "markdown",
   "metadata": {},
   "source": [
    "##### Offline ties\n",
    "\n",
    "Je me restreins ici au sous-graphe des liens de type 1 (offline). "
   ]
  },
  {
   "cell_type": "code",
   "execution_count": 12,
   "metadata": {},
   "outputs": [
    {
     "name": "stdout",
     "output_type": "stream",
     "text": [
      "Name: \n",
      "Type: Graph\n",
      "Number of nodes: 46\n",
      "Number of edges: 65\n",
      "Average degree:   2.8261\n"
     ]
    }
   ],
   "source": [
    "## Subset graph: take only offline ties\n",
    "\n",
    "# take subset of relevant edges\n",
    "offline = [(u, v) for (u, v, d) in Ego210.edges(data=True) if d[\"Type\"] ==1]\n",
    "\n",
    "# create graph\n",
    "Ego210Offline = nx.Graph(offline)\n",
    "print(nx.info(Ego210Offline))"
   ]
  },
  {
   "cell_type": "markdown",
   "metadata": {},
   "source": [
    "On l'associe avec notre liste initiale de noeuds pour considérer les noeuds isolés, ce qui permet de comparer avec les noeuds d'origine. "
   ]
  },
  {
   "cell_type": "code",
   "execution_count": 13,
   "metadata": {},
   "outputs": [
    {
     "name": "stdout",
     "output_type": "stream",
     "text": [
      "Name: \n",
      "Type: Graph\n",
      "Number of nodes: 51\n",
      "Number of edges: 65\n",
      "Average degree:   2.5490\n"
     ]
    }
   ],
   "source": [
    "# match with nodes table to add isolates\n",
    "Ego210Offline.add_nodes_from(NodeData)\n",
    "\n",
    "# view results\n",
    "print(nx.info(Ego210Offline))"
   ]
  },
  {
   "cell_type": "markdown",
   "metadata": {},
   "source": [
    "Les liens sont moins nombreux et il n'existe plus de noeud double. "
   ]
  },
  {
   "cell_type": "code",
   "execution_count": 14,
   "metadata": {},
   "outputs": [
    {
     "data": {
      "image/png": "[encoded data removed]",
      "text/plain": [
       "<Figure size 432x288 with 1 Axes>"
      ]
     },
     "metadata": {},
     "output_type": "display_data"
    }
   ],
   "source": [
    "# Visualization\n",
    "\n",
    "# keep the same layout as before (\"pos\") to compare\n",
    "# draw nodes according to this layout\n",
    "nx.draw_networkx_nodes(Ego210Offline, pos, node_color = 'r', node_size = 100, alpha = 1)\n",
    "# use matplotlib to draw edges\n",
    "ax = plt.gca()\n",
    "for e in Ego210Offline.edges:\n",
    "    ax.annotate(\"\",\n",
    "                xy=pos[e[0]], xycoords='data',\n",
    "                xytext=pos[e[1]], textcoords='data',\n",
    "                arrowprops=dict(arrowstyle=\"-\",\n",
    "                                color='gray',\n",
    "                                shrinkA=5, shrinkB=5,\n",
    "                                patchA=None, patchB=None,\n",
    "                                connectionstyle=\"arc3,rad=0.3\"),\n",
    "                                )\n",
    "plt.axis('off')\n",
    "plt.show()"
   ]
  },
  {
   "cell_type": "markdown",
   "metadata": {},
   "source": [
    "##### Exercise: now, repeat the same for online ties"
   ]
  },
  {
   "cell_type": "markdown",
   "metadata": {},
   "source": [
    "Nous réitérons la procédure en nous restreignant au sous-graphe des liens de type 2 (online). "
   ]
  },
  {
   "cell_type": "code",
   "execution_count": 15,
   "metadata": {},
   "outputs": [
    {
     "name": "stdout",
     "output_type": "stream",
     "text": [
      "Name: \n",
      "Type: Graph\n",
      "Number of nodes: 36\n",
      "Number of edges: 49\n",
      "Average degree:   2.7222\n",
      "Name: \n",
      "Type: Graph\n",
      "Number of nodes: 51\n",
      "Number of edges: 49\n",
      "Average degree:   1.9216\n"
     ]
    },
    {
     "data": {
      "image/png": "[encoded data removed]",
      "text/plain": [
       "<Figure size 432x288 with 1 Axes>"
      ]
     },
     "metadata": {},
     "output_type": "display_data"
    }
   ],
   "source": [
    "## Subset graph: take only offline ties\n",
    "\n",
    "# take subset of relevant edges\n",
    "online = [(u, v) for (u, v, d) in Ego210.edges(data=True) if d[\"Type\"] ==2]\n",
    "\n",
    "# create graph\n",
    "Ego210Online = nx.Graph(online)\n",
    "print(nx.info(Ego210Online))\n",
    "\n",
    "# match with nodes table to add isolates\n",
    "Ego210Online.add_nodes_from(NodeData)\n",
    "\n",
    "# view results\n",
    "print(nx.info(Ego210Online))\n",
    "\n",
    "# Visualization\n",
    "\n",
    "# keep the same layout as before (\"pos\") to compare\n",
    "# draw nodes according to this layout\n",
    "nx.draw_networkx_nodes(Ego210Online, pos, node_color = 'r', node_size = 100, alpha = 1)\n",
    "# use matplotlib to draw edges\n",
    "ax = plt.gca()\n",
    "for e in Ego210Online.edges:\n",
    "    ax.annotate(\"\",\n",
    "                xy=pos[e[0]], xycoords='data',\n",
    "                xytext=pos[e[1]], textcoords='data',\n",
    "                arrowprops=dict(arrowstyle=\"-\",\n",
    "                                color='gray',\n",
    "                                shrinkA=5, shrinkB=5,\n",
    "                                patchA=None, patchB=None,\n",
    "                                connectionstyle=\"arc3,rad=0.3\"),\n",
    "                                )\n",
    "plt.axis('off')\n",
    "plt.show()"
   ]
  },
  {
   "cell_type": "markdown",
   "metadata": {},
   "source": [
    "##### Remove Ego from the graph"
   ]
  },
  {
   "cell_type": "markdown",
   "metadata": {},
   "source": [
    "Afin d'améliorer la visualisation, nous refaisons le graphe sans Ego car Ego a des relations avec tout le monde, ce qui correspond à une information redondante. Pour cela, nous faisons une copie du graphe précédent pour commencer. "
   ]
  },
  {
   "cell_type": "code",
   "execution_count": 16,
   "metadata": {},
   "outputs": [
    {
     "name": "stdout",
     "output_type": "stream",
     "text": [
      "Name: \n",
      "Type: MultiGraph\n",
      "Number of nodes: 50\n",
      "Number of edges: 34\n",
      "Average degree:   1.3600\n"
     ]
    }
   ],
   "source": [
    "# Graph without Ego\n",
    "Ego210_noEgo = Ego210.copy()\n",
    "Ego210_noEgo.remove_node(210)\n",
    "# View results\n",
    "print(nx.info(Ego210_noEgo))"
   ]
  },
  {
   "cell_type": "markdown",
   "metadata": {},
   "source": [
    "La densité est faible et peut s'interpréter de deux manières : \n",
    "\n",
    "1.  Les personnes qui ont des soucis de santé préfèrent probablement garder des relations séparées pour que lleurs contacts ne puissent pas parler entre eux. C'est une sorte de protection. \n",
    "\n",
    "2. Il y a aussi un sujet de méthode. Dans l'enquête, on demande à Ego qui sont ses alters (formulé bien sûr autrement) et les relations entre ses alters. Il est aussi possible qu'Ego ne connaisse pas toutes les relations de ses alters et sous-estime les liens entre ces derniers. "
   ]
  },
  {
   "cell_type": "markdown",
   "metadata": {},
   "source": [
    "##### Exercise: now, visualize it with the same layout as Ego210"
   ]
  },
  {
   "cell_type": "code",
   "execution_count": 17,
   "metadata": {},
   "outputs": [
    {
     "data": {
      "image/png": "[encoded data removed]",
      "text/plain": [
       "<Figure size 432x288 with 1 Axes>"
      ]
     },
     "metadata": {},
     "output_type": "display_data"
    }
   ],
   "source": [
    "# Visualization with differences by types\n",
    "\n",
    "#Colors : blue for offline and green for online\n",
    "edge_color = []\n",
    "for edge in list(Ego210_noEgo.edges(data=True)):\n",
    "    if list(edge[2].values())==[1]:\n",
    "        edge_color.append('blue')\n",
    "    else:\n",
    "        edge_color.append('green')\n",
    "        \n",
    "# keep the same layout as before (\"pos\") to compare\n",
    "# draw nodes according to layoabsut\n",
    "nx.draw_networkx_nodes(Ego210_noEgo, pos, node_color = 'r', node_size = 100, alpha = 1)\n",
    "# use matplotlib to draw edges\n",
    "ax = plt.gca()\n",
    "\n",
    "\n",
    "for i in range(len(Ego210_noEgo.edges)):\n",
    "    e = list(Ego210_noEgo.edges)[i]\n",
    "    ax.annotate(\"\",\n",
    "                xy=pos[e[0]], xycoords='data',\n",
    "                xytext=pos[e[1]], textcoords='data',\n",
    "                arrowprops=dict(arrowstyle=\"-\", #multi-graph but not oriented\n",
    "                                color=edge_color[i],\n",
    "                                alpha=0.8,\n",
    "                                shrinkA=5, shrinkB=5,\n",
    "                                patchA=None, patchB=None,\n",
    "                                #arc3,rad=rrr : permet de faire des courbes plutôt que des lignes\n",
    "                                #au lieu de donner une même valeur pour toutes les courbes, je donne\n",
    "                                #une valeur différente pour type 1 et type 2. \n",
    "                                connectionstyle=\"arc3,rad=rrr\".replace('rrr',str(0.3*e[2])),\n",
    "                                ),\n",
    "                )\n",
    "plt.axis('off')\n",
    "plt.show()"
   ]
  },
  {
   "cell_type": "markdown",
   "metadata": {},
   "source": [
    "##### Weighted graph\n",
    "\n",
    "L'intérêt de pondérer le graphe est d'analyser la force des liens, par exemple quand le lien est double (en ligne et hors ligne). Même si bien sûr, en tant de Covid, cette interprétation n'est pas forcément la bonne ! On va donc transformer le graphe avec cette idée en tête. \n",
    "\n",
    "Le nouveau graph est composé de **51 noeuds** (dont Ego) et de **71 liens** (nombre de liens uniques de `test`). \n",
    "\n",
    "L'attribut `weight` du nouveau graphe vaut 1 si le lien apparaît une fois et 2 s'il apparaît 2 fois. "
   ]
  },
  {
   "cell_type": "code",
   "execution_count": 18,
   "metadata": {},
   "outputs": [
    {
     "name": "stdout",
     "output_type": "stream",
     "text": [
      "Name: \n",
      "Type: Graph\n",
      "Number of nodes: 51\n",
      "Number of edges: 71\n",
      "Average degree:   2.7843\n"
     ]
    }
   ],
   "source": [
    "## Create weighted undirected graph from multigraph\n",
    "# Idea : each tie has value 2 if it is both online and offline, 1 otherwise\n",
    "# We can interpret multiplexity as tie strength\n",
    "\n",
    "Ego210WUG = nx.Graph()\n",
    "\n",
    "for u,v,data in Ego210.edges(data=True):\n",
    "    w = 1   \n",
    "    if Ego210WUG.has_edge(u,v):\n",
    "        Ego210WUG[u][v]['weight'] += w\n",
    "    else:\n",
    "        Ego210WUG.add_edge(u, v, weight=w)\n",
    "\n",
    "print(nx.info(Ego210WUG))"
   ]
  },
  {
   "cell_type": "code",
   "execution_count": 19,
   "metadata": {},
   "outputs": [
    {
     "name": "stdout",
     "output_type": "stream",
     "text": [
      "[(210, 25, {'weight': 1}), (210, 27, {'weight': 2}), (210, 31, {'weight': 1}), (210, 34, {'weight': 2}), (210, 35, {'weight': 2}), (210, 39, {'weight': 2}), (210, 95, {'weight': 2}), (210, 106, {'weight': 2}), (210, 110, {'weight': 2}), (210, 112, {'weight': 2}), (210, 124, {'weight': 2}), (210, 132, {'weight': 2}), (210, 140, {'weight': 2}), (210, 260, {'weight': 2}), (210, 270, {'weight': 1}), (210, 290, {'weight': 1}), (210, 317, {'weight': 2}), (210, 320, {'weight': 1}), (210, 330, {'weight': 2}), (210, 340, {'weight': 2}), (210, 350, {'weight': 2}), (210, 360, {'weight': 1}), (210, 370, {'weight': 2}), (210, 410, {'weight': 2}), (210, 411, {'weight': 2}), (210, 420, {'weight': 1}), (210, 430, {'weight': 1}), (210, 440, {'weight': 1}), (210, 450, {'weight': 1}), (210, 511, {'weight': 2}), (210, 729, {'weight': 1}), (210, 828, {'weight': 2}), (210, 1620, {'weight': 2}), (210, 1719, {'weight': 2}), (210, 1815, {'weight': 1}), (210, 1916, {'weight': 1}), (210, 2113, {'weight': 2}), (210, 2214, {'weight': 2}), (210, 2317, {'weight': 2}), (210, 2418, {'weight': 1}), (210, 2522, {'weight': 2}), (210, 3021, {'weight': 2}), (210, 3823, {'weight': 2}), (210, 3924, {'weight': 2}), (210, 4026, {'weight': 1}), (210, 28, {'weight': 1}), (210, 33, {'weight': 1}), (210, 153, {'weight': 1}), (210, 632, {'weight': 1}), (210, 2030, {'weight': 1}), (27, 1620, {'weight': 2}), (27, 3823, {'weight': 2}), (31, 35, {'weight': 1}), (31, 320, {'weight': 1}), (35, 39, {'weight': 1}), (95, 112, {'weight': 2}), (95, 3021, {'weight': 2}), (112, 3021, {'weight': 2}), (132, 350, {'weight': 2}), (260, 340, {'weight': 2}), (260, 440, {'weight': 1}), (320, 440, {'weight': 1}), (330, 2522, {'weight': 2}), (370, 1719, {'weight': 2}), (411, 511, {'weight': 2}), (411, 828, {'weight': 2}), (440, 2418, {'weight': 1}), (511, 828, {'weight': 2}), (511, 4026, {'weight': 1}), (1620, 632, {'weight': 1}), (2113, 2214, {'weight': 2})]\n"
     ]
    }
   ],
   "source": [
    "print(Ego210WUG.edges(data=True))"
   ]
  },
  {
   "cell_type": "markdown",
   "metadata": {},
   "source": [
    "Afin de visualiser intuitivement les résultats, nous représentons les liens doubles par des segments plus épais que pour les liens faibles."
   ]
  },
  {
   "cell_type": "code",
   "execution_count": 20,
   "metadata": {},
   "outputs": [
    {
     "data": {
      "text/plain": [
       "<matplotlib.collections.LineCollection at 0x2167ba95d08>"
      ]
     },
     "execution_count": 20,
     "metadata": {},
     "output_type": "execute_result"
    },
    {
     "data": {
      "image/png": "[encoded data removed]",
      "text/plain": [
       "<Figure size 432x288 with 1 Axes>"
      ]
     },
     "metadata": {},
     "output_type": "display_data"
    }
   ],
   "source": [
    "# Visualization\n",
    "\n",
    "strongTies = [(u, v) for (u, v, d) in Ego210WUG.edges(data=True) if d[\"weight\"] > 1]\n",
    "weakTies = [(u, v) for (u, v, d) in Ego210WUG.edges(data=True) if d[\"weight\"] <= 1]\n",
    "\n",
    "pos = nx.spring_layout(Ego210WUG)  # positions for all nodes\n",
    "\n",
    "# nodes\n",
    "nx.draw_networkx_nodes(Ego210WUG, pos, node_color = 'r', node_size = 100, alpha = 1)\n",
    "\n",
    "# edges\n",
    "nx.draw_networkx_edges(Ego210WUG, pos, edgelist=strongTies, width=5, alpha=0.5)  # strong ties\n",
    "nx.draw_networkx_edges(Ego210WUG, pos, edgelist=weakTies, width=2, alpha=1) # weak ties\n"
   ]
  },
  {
   "cell_type": "markdown",
   "metadata": {},
   "source": [
    "## Personal network composition indicators"
   ]
  },
  {
   "cell_type": "code",
   "execution_count": 21,
   "metadata": {},
   "outputs": [
    {
     "data": {
      "text/plain": [
       "0.6624"
      ]
     },
     "execution_count": 21,
     "metadata": {},
     "output_type": "execute_result"
    }
   ],
   "source": [
    "## Blau index\n",
    "\n",
    "# recall it is equal to 1 - p1^2 - p2^2 - ... - pk^2\n",
    "\n",
    "# first create a function\n",
    "def blau(df, col):\n",
    "    return (1- ((df[col].value_counts() / df[col].count()) ** 2).sum())\n",
    "\n",
    "# then apply it to the 'alters' table, attribute 'Qualification'\n",
    "blau(alters, 'Qualification')"
   ]
  },
  {
   "cell_type": "code",
   "execution_count": 22,
   "metadata": {},
   "outputs": [
    {
     "name": "stdout",
     "output_type": "stream",
     "text": [
      "[2 4 1 6 3 5]\n"
     ]
    }
   ],
   "source": [
    "# NB if you need to see how many/ which categories are represented in a categorical variables\n",
    "print (alters['Qualification'].unique())"
   ]
  },
  {
   "cell_type": "code",
   "execution_count": 23,
   "metadata": {},
   "outputs": [
    {
     "name": "stdout",
     "output_type": "stream",
     "text": [
      "k : 6\n"
     ]
    },
    {
     "data": {
      "text/plain": [
       "0.7948799999999999"
      ]
     },
     "execution_count": 23,
     "metadata": {},
     "output_type": "execute_result"
    }
   ],
   "source": [
    "# Index of Qualitative Variation\n",
    "# equal to Blau * k/(k-1)\n",
    "# (normalized version)\n",
    "k = len(list(alters['Qualification'].unique()))\n",
    "print(\"k :\",k)\n",
    "blau(alters, 'Qualification')*(k/(k-1))"
   ]
  },
  {
   "cell_type": "code",
   "execution_count": 24,
   "metadata": {},
   "outputs": [
    {
     "data": {
      "text/plain": [
       "0.3376"
      ]
     },
     "execution_count": 24,
     "metadata": {},
     "output_type": "execute_result"
    }
   ],
   "source": [
    "# Herfindahl-Hirschman index (HHI)\n",
    "# equal to 1 - Blau\n",
    "1 - blau(alters, 'Qualification')"
   ]
  },
  {
   "cell_type": "markdown",
   "metadata": {},
   "source": [
    "#### Exercise: calculate these indexes for the other attributes (Gender, Multiplexity, Support and Proximity)"
   ]
  },
  {
   "cell_type": "code",
   "execution_count": 25,
   "metadata": {},
   "outputs": [
    {
     "name": "stdout",
     "output_type": "stream",
     "text": [
      "Blau index\n",
      "\n",
      "Qualification :  0.6624\n",
      "Gender :  0.4872000000000001\n",
      "Multiplexity :  0.54\n",
      "Support :  0.4351999999999999\n",
      "Proximity :  0.5751999999999999\n",
      "\n",
      "Index of Qualitative Variation\n",
      "\n",
      "Qualification (k = 6 ) : 0.7948799999999999\n",
      "Gender (k = 2 ) : 0.9744000000000002\n",
      "Multiplexity (k = 3 ) : 0.81\n",
      "Support (k = 2 ) : 0.8703999999999998\n",
      "Proximity (k = 3 ) : 0.8627999999999999\n",
      "\n",
      "Herfindahl-Hirschman index \n",
      "\n",
      "Qualification :  0.3376\n",
      "Gender :  0.5127999999999999\n",
      "Multiplexity :  0.45999999999999996\n",
      "Support :  0.5648000000000001\n",
      "Proximity :  0.42480000000000007\n"
     ]
    }
   ],
   "source": [
    "variables = ['Qualification','Gender','Multiplexity','Support','Proximity']\n",
    "\n",
    "print('Blau index\\n')\n",
    "for var in variables:\n",
    "    print(var,\": \",blau(alters, var))\n",
    "    \n",
    "print('\\nIndex of Qualitative Variation\\n')\n",
    "for var in variables:\n",
    "    k = len(list(alters[var].unique()))\n",
    "    blau(alters, var)*(k/(k-1))\n",
    "    print(var,\"(k =\",k,\") :\",blau(alters, var)*(k/(k-1)))\n",
    "    \n",
    "print('\\nHerfindahl-Hirschman index \\n')\n",
    "for var in variables:\n",
    "    print(var,\": \",1 - blau(alters, var))"
   ]
  },
  {
   "cell_type": "markdown",
   "metadata": {},
   "source": [
    "**Remarque** : Pour `Proximity`, $k = 3$ et non $4$ car la classe $4$ (Intime) non concerne que l'individu ego et non les alters. "
   ]
  },
  {
   "cell_type": "markdown",
   "metadata": {},
   "source": [
    "## Structural measures"
   ]
  },
  {
   "cell_type": "code",
   "execution_count": 26,
   "metadata": {},
   "outputs": [
    {
     "data": {
      "text/plain": [
       "[28, 33, 153, 632, 2030]"
      ]
     },
     "execution_count": 26,
     "metadata": {},
     "output_type": "execute_result"
    }
   ],
   "source": [
    "# find isolates (components consisting in 1 node, for example in the offline-only network)\n",
    "list(nx.isolates(Ego210Offline)) "
   ]
  },
  {
   "cell_type": "code",
   "execution_count": 27,
   "metadata": {},
   "outputs": [
    {
     "data": {
      "text/plain": [
       "0.08941176470588236"
      ]
     },
     "execution_count": 27,
     "metadata": {},
     "output_type": "execute_result"
    }
   ],
   "source": [
    "# density (for ex. in the original Ego210 graph)\n",
    "nx.density(Ego210) "
   ]
  },
  {
   "cell_type": "code",
   "execution_count": 28,
   "metadata": {},
   "outputs": [
    {
     "name": "stdout",
     "output_type": "stream",
     "text": [
      "0.053738317757009345\n"
     ]
    }
   ],
   "source": [
    "# Transitivity (cannot do it in Ego210 because not implemented for MultiGraph type)\n",
    "print(nx.transitivity(Ego210WUG)) "
   ]
  },
  {
   "cell_type": "markdown",
   "metadata": {},
   "source": [
    "##### In principle, all structural measures can be calculated on a personal / ego network. Just be aware of graph type and relevance of each measure (par ex. reciprocity is not meaningful in un undirected graph)."
   ]
  },
  {
   "cell_type": "markdown",
   "metadata": {},
   "source": [
    "<mark> Début des devoirs à faire pour le 02/03 </mark>\n",
    "\n",
    "## Homework"
   ]
  },
  {
   "cell_type": "markdown",
   "metadata": {},
   "source": [
    "##### Take the advice network of Lazega's lawyers.\n",
    "\n",
    "##### Extract the ego-centred network of one of the lawyers i (i = 1,..., 71).\n",
    "###### NB The networkx function to extract the ego graph of i is: Egoi = nx.ego_graph(G, i)\n",
    "\n",
    "##### Describe the ego-network of lawyer i through composition indicators (Blau index etc.) for relevant attributes, and structure indicators (density etc.).\n",
    "\n",
    "##### Bonus: repeat the exercise with the multigraph that results from combining advice, friendship and cowork.\n",
    "\n",
    "##### Please email to paola.tubaro@lri.fr by Tuesday, March 2, 2pm.\n"
   ]
  },
  {
   "cell_type": "markdown",
   "metadata": {},
   "source": [
    "## ELadvice only"
   ]
  },
  {
   "cell_type": "code",
   "execution_count": 29,
   "metadata": {
    "scrolled": true
   },
   "outputs": [
    {
     "data": {
      "text/html": [
       "<div>\n",
       "<style scoped>\n",
       "    .dataframe tbody tr th:only-of-type {\n",
       "        vertical-align: middle;\n",
       "    }\n",
       "\n",
       "    .dataframe tbody tr th {\n",
       "        vertical-align: top;\n",
       "    }\n",
       "\n",
       "    .dataframe thead th {\n",
       "        text-align: right;\n",
       "    }\n",
       "</style>\n",
       "<table border=\"1\" class=\"dataframe\">\n",
       "  <thead>\n",
       "    <tr style=\"text-align: right;\">\n",
       "      <th></th>\n",
       "      <th>Node</th>\n",
       "      <th>Status</th>\n",
       "      <th>Gender</th>\n",
       "      <th>Office</th>\n",
       "      <th>Senior</th>\n",
       "      <th>Age</th>\n",
       "      <th>Spec</th>\n",
       "      <th>School</th>\n",
       "    </tr>\n",
       "  </thead>\n",
       "  <tbody>\n",
       "    <tr>\n",
       "      <th>0</th>\n",
       "      <td>1</td>\n",
       "      <td>1</td>\n",
       "      <td>1</td>\n",
       "      <td>1</td>\n",
       "      <td>31</td>\n",
       "      <td>64</td>\n",
       "      <td>1</td>\n",
       "      <td>1</td>\n",
       "    </tr>\n",
       "    <tr>\n",
       "      <th>1</th>\n",
       "      <td>2</td>\n",
       "      <td>1</td>\n",
       "      <td>1</td>\n",
       "      <td>1</td>\n",
       "      <td>32</td>\n",
       "      <td>62</td>\n",
       "      <td>2</td>\n",
       "      <td>1</td>\n",
       "    </tr>\n",
       "    <tr>\n",
       "      <th>2</th>\n",
       "      <td>3</td>\n",
       "      <td>1</td>\n",
       "      <td>1</td>\n",
       "      <td>2</td>\n",
       "      <td>13</td>\n",
       "      <td>67</td>\n",
       "      <td>1</td>\n",
       "      <td>1</td>\n",
       "    </tr>\n",
       "    <tr>\n",
       "      <th>3</th>\n",
       "      <td>4</td>\n",
       "      <td>1</td>\n",
       "      <td>1</td>\n",
       "      <td>1</td>\n",
       "      <td>31</td>\n",
       "      <td>59</td>\n",
       "      <td>2</td>\n",
       "      <td>3</td>\n",
       "    </tr>\n",
       "    <tr>\n",
       "      <th>4</th>\n",
       "      <td>5</td>\n",
       "      <td>1</td>\n",
       "      <td>1</td>\n",
       "      <td>2</td>\n",
       "      <td>31</td>\n",
       "      <td>59</td>\n",
       "      <td>1</td>\n",
       "      <td>2</td>\n",
       "    </tr>\n",
       "  </tbody>\n",
       "</table>\n",
       "</div>"
      ],
      "text/plain": [
       "   Node  Status  Gender  Office  Senior  Age  Spec  School\n",
       "0     1       1       1       1      31   64     1       1\n",
       "1     2       1       1       1      32   62     2       1\n",
       "2     3       1       1       2      13   67     1       1\n",
       "3     4       1       1       1      31   59     2       3\n",
       "4     5       1       1       2      31   59     1       2"
      ]
     },
     "execution_count": 29,
     "metadata": {},
     "output_type": "execute_result"
    }
   ],
   "source": [
    "# use pandas to import list of nodes with attributes\n",
    "nodes = pd.read_table('ELnodeAttributes.txt', sep='\\t')\n",
    "nodes.head()"
   ]
  },
  {
   "cell_type": "markdown",
   "metadata": {},
   "source": [
    "Reminder : The three networks refer to cowork, friendship, and advice. The first 36 respondents are the partners in the firm. The attribute variables in the file ELattr.dat are:\n",
    "\n",
    "    Node\n",
    "    status (1=partner; 2=associate)\n",
    "    gender (1=man; 2=woman)\n",
    "    office (1=Boston; 2=Hartford; 3=Providence)\n",
    "    years with the firm\n",
    "    age\n",
    "    practice (1=litigation; 2=corporate)\n",
    "    law school (1: harvard, yale; 2: ucon; 3: other) "
   ]
  },
  {
   "cell_type": "code",
   "execution_count": 30,
   "metadata": {},
   "outputs": [],
   "source": [
    "# Let's select Ego\n",
    "num_ego = 3"
   ]
  },
  {
   "cell_type": "code",
   "execution_count": 31,
   "metadata": {},
   "outputs": [
    {
     "data": {
      "text/html": [
       "<div>\n",
       "<style scoped>\n",
       "    .dataframe tbody tr th:only-of-type {\n",
       "        vertical-align: middle;\n",
       "    }\n",
       "\n",
       "    .dataframe tbody tr th {\n",
       "        vertical-align: top;\n",
       "    }\n",
       "\n",
       "    .dataframe thead th {\n",
       "        text-align: right;\n",
       "    }\n",
       "</style>\n",
       "<table border=\"1\" class=\"dataframe\">\n",
       "  <thead>\n",
       "    <tr style=\"text-align: right;\">\n",
       "      <th></th>\n",
       "      <th>node1</th>\n",
       "      <th>node2</th>\n",
       "    </tr>\n",
       "  </thead>\n",
       "  <tbody>\n",
       "    <tr>\n",
       "      <th>0</th>\n",
       "      <td>1</td>\n",
       "      <td>2</td>\n",
       "    </tr>\n",
       "    <tr>\n",
       "      <th>1</th>\n",
       "      <td>1</td>\n",
       "      <td>17</td>\n",
       "    </tr>\n",
       "    <tr>\n",
       "      <th>2</th>\n",
       "      <td>1</td>\n",
       "      <td>20</td>\n",
       "    </tr>\n",
       "    <tr>\n",
       "      <th>3</th>\n",
       "      <td>2</td>\n",
       "      <td>1</td>\n",
       "    </tr>\n",
       "    <tr>\n",
       "      <th>4</th>\n",
       "      <td>2</td>\n",
       "      <td>6</td>\n",
       "    </tr>\n",
       "  </tbody>\n",
       "</table>\n",
       "</div>"
      ],
      "text/plain": [
       "   node1  node2\n",
       "0      1      2\n",
       "1      1     17\n",
       "2      1     20\n",
       "3      2      1\n",
       "4      2      6"
      ]
     },
     "execution_count": 31,
     "metadata": {},
     "output_type": "execute_result"
    }
   ],
   "source": [
    "# use pandas to import edgelist as a table\n",
    "EgoEdges = pd.read_table('ELadvice_edgelist.txt', sep='\\t')\n",
    "EgoEdges.head()"
   ]
  },
  {
   "cell_type": "markdown",
   "metadata": {},
   "source": [
    "On va créer un graphe EgoGraph. \n",
    "\n",
    "Il n'y a pas d'**attributs dans la table des liens**.\n",
    "\n",
    "Les liens sont orientés. \n",
    "\n",
    "<!--C'est un `MultiGraph` qui permet d'introduire des liens de types différents, ou, même si ce n'est pas le cas ici, d'introduire des liens vers soi-même (*loops*). \n",
    "\n",
    "**Remarque** : l'attribut `edge_attr = 'Type'` ajoute l'attribut type afin de garder la double nature des liens.-->\n",
    "\n",
    "Nous n'avons pas besoin ici d'utiliser une visualisation complexe comme précédemment car n'avons pas la problématique des liens doubles dans le cas du simple graphe de conseils. \n",
    "\n",
    "Nous utilisons une disposition des noeuds en `spring_layout`. "
   ]
  },
  {
   "cell_type": "code",
   "execution_count": 32,
   "metadata": {},
   "outputs": [],
   "source": [
    "# generate graph from pandas edgelist\n",
    "# it is a directed graph\n",
    "\n",
    "# load the full graph \n",
    "EgoTotal = nx.from_pandas_edgelist(EgoEdges, 'node1', 'node2', create_using=nx.DiGraph()) \n",
    "\n",
    "# match nodes of graph with attributes of nodes\n",
    "NodeData = nodes.set_index('Node').to_dict('index').items()\n",
    "EgoTotal.add_nodes_from(NodeData)"
   ]
  },
  {
   "cell_type": "code",
   "execution_count": 33,
   "metadata": {},
   "outputs": [
    {
     "name": "stdout",
     "output_type": "stream",
     "text": [
      "Name: \n",
      "Type: DiGraph\n",
      "Number of nodes: 12\n",
      "Number of edges: 59\n",
      "Average in degree:   4.9167\n",
      "Average out degree:   4.9167\n"
     ]
    }
   ],
   "source": [
    "#Method 1 : \"a la mano\"\n",
    "predecessors = list(EgoTotal.predecessors(num_ego))\n",
    "successors = list(EgoTotal.successors(num_ego))\n",
    "neighbors = list(dict.fromkeys(predecessors + successors)) #remove duplicate nodes\n",
    "# Filter Nodes around individual num_ego\n",
    "EgoGraph = EgoTotal.subgraph([num_ego] + neighbors)\n",
    "print(nx.info(EgoGraph))"
   ]
  },
  {
   "cell_type": "code",
   "execution_count": 34,
   "metadata": {},
   "outputs": [
    {
     "data": {
      "image/png": "[encoded data removed]",
      "text/plain": [
       "<Figure size 432x288 with 1 Axes>"
      ]
     },
     "metadata": {},
     "output_type": "display_data"
    }
   ],
   "source": [
    "def creer_vect_couleur(G, noeuds_colores):\n",
    "    node_color = []\n",
    "    for node in list(G.nodes()):\n",
    "        if node in noeuds_colores :\n",
    "            node_color.append('green')\n",
    "        else:\n",
    "            node_color.append('red')\n",
    "    return node_color\n",
    "\n",
    "pos= nx.spring_layout(EgoGraph, k=0.9, iterations=20, seed=1)\n",
    "node_color = creer_vect_couleur(EgoGraph, [num_ego])\n",
    "nx.draw(EgoGraph, with_labels=True, node_size=300, node_color=node_color,\n",
    "        alpha=0.8, edge_color = \"gray\", pos=pos)\n",
    "plt.show()"
   ]
  },
  {
   "cell_type": "code",
   "execution_count": 35,
   "metadata": {},
   "outputs": [
    {
     "name": "stdout",
     "output_type": "stream",
     "text": [
      "Name: \n",
      "Type: DiGraph\n",
      "Number of nodes: 12\n",
      "Number of edges: 59\n",
      "Average in degree:   4.9167\n",
      "Average out degree:   4.9167\n"
     ]
    }
   ],
   "source": [
    "#Method 2 : The networkx function to extract the ego graph of i\n",
    "EgoGraph = nx.ego_graph(EgoTotal, num_ego, undirected=True) \n",
    "#DONT'T FORGET THE OPTION undirected : if True use both  in and out neighbors for directed graphs\n",
    "print(nx.info(EgoGraph))"
   ]
  },
  {
   "cell_type": "code",
   "execution_count": 36,
   "metadata": {},
   "outputs": [
    {
     "data": {
      "image/png": "[encoded data removed]",
      "text/plain": [
       "<Figure size 432x288 with 1 Axes>"
      ]
     },
     "metadata": {},
     "output_type": "display_data"
    }
   ],
   "source": [
    "node_color = creer_vect_couleur(EgoGraph, [num_ego])\n",
    "nx.draw(EgoGraph, with_labels=True, node_size=300, node_color=node_color,\n",
    "        alpha=0.8, edge_color = \"gray\", pos=pos)\n",
    "plt.show()"
   ]
  },
  {
   "cell_type": "markdown",
   "metadata": {},
   "source": [
    "<mark><b>ATTENTION :</b></mark> ne pas oublier l'option `undirected = True` (qui permet d'utiliser à la fois les voisins entrants et sortants pour les graphes orientés). Si vous l'oubliez, vous ne garderez pas les voisins qui ont simplement un lien entrant vers 3. Par exemple le noeud 25 (cf. ci-dessous). "
   ]
  },
  {
   "cell_type": "code",
   "execution_count": 37,
   "metadata": {},
   "outputs": [
    {
     "data": {
      "image/png": "[encoded data removed]",
      "text/plain": [
       "<Figure size 432x288 with 1 Axes>"
      ]
     },
     "metadata": {},
     "output_type": "display_data"
    }
   ],
   "source": [
    "#Method 2 : The networkx function to extract the ego graph of i\n",
    "EgoGraph_wrong = nx.ego_graph(EgoTotal, num_ego, undirected=False) ###### ERRORRRRRRRRR\n",
    "#DONT'T FORGET THE OPTION undirected : if True use both  in and out neighbors for directed graphs\n",
    "node_color = creer_vect_couleur(EgoGraph_wrong, [num_ego])\n",
    "nx.draw(EgoGraph_wrong, with_labels=True, node_size=300, node_color=node_color,\n",
    "        alpha=0.8, edge_color = \"gray\", pos=nx.spring_layout(EgoGraph, k=0.9, iterations=20, seed=1))\n",
    "plt.title(\"WRONG GRAPH !!!\")\n",
    "plt.show()\n"
   ]
  },
  {
   "cell_type": "markdown",
   "metadata": {},
   "source": [
    "Pas de donnée d'attribut pour les edges. "
   ]
  },
  {
   "cell_type": "code",
   "execution_count": 38,
   "metadata": {},
   "outputs": [
    {
     "name": "stdout",
     "output_type": "stream",
     "text": [
      "[(2, 6, {}), (2, 17, {}), (3, 2, {}), (3, 6, {}), (3, 14, {}), (3, 17, {}), (3, 18, {}), (3, 28, {}), (3, 30, {}), (4, 2, {}), (4, 3, {}), (4, 6, {}), (4, 14, {}), (4, 17, {}), (4, 19, {}), (4, 28, {}), (14, 3, {}), (14, 4, {}), (14, 6, {}), (14, 17, {}), (14, 25, {}), (14, 28, {}), (14, 30, {}), (17, 2, {}), (17, 4, {}), (17, 14, {}), (17, 28, {}), (18, 3, {}), (18, 6, {}), (19, 2, {}), (19, 3, {}), (19, 4, {}), (19, 6, {}), (19, 17, {}), (19, 28, {}), (19, 30, {}), (23, 3, {}), (23, 4, {}), (23, 18, {}), (25, 3, {}), (25, 14, {}), (25, 17, {}), (25, 28, {}), (25, 30, {}), (28, 3, {}), (28, 4, {}), (28, 6, {}), (28, 14, {}), (28, 17, {}), (28, 18, {}), (28, 19, {}), (28, 25, {}), (28, 30, {}), (30, 3, {}), (30, 6, {}), (30, 14, {}), (30, 17, {}), (30, 25, {}), (30, 28, {})]\n"
     ]
    }
   ],
   "source": [
    "# view edges \n",
    "print(EgoGraph.edges(data=True))"
   ]
  },
  {
   "cell_type": "markdown",
   "metadata": {},
   "source": [
    "## Subset graph: ~~offline-only, online-only,~~ without Ego"
   ]
  },
  {
   "cell_type": "markdown",
   "metadata": {},
   "source": [
    "##### Remove Ego from the graph"
   ]
  },
  {
   "cell_type": "markdown",
   "metadata": {},
   "source": [
    "Afin d'améliorer la visualisation, nous refaisons le graphe sans Ego car Ego a des relations avec tout le monde, ce qui correspond à une information redondante. Pour cela, nous faisons une copie du graphe précédent pour commencer. "
   ]
  },
  {
   "cell_type": "code",
   "execution_count": 39,
   "metadata": {},
   "outputs": [
    {
     "name": "stdout",
     "output_type": "stream",
     "text": [
      "Name: \n",
      "Type: DiGraph\n",
      "Number of nodes: 11\n",
      "Number of edges: 44\n",
      "Average in degree:   4.0000\n",
      "Average out degree:   4.0000\n"
     ]
    }
   ],
   "source": [
    "# Graph without Ego\n",
    "EgoGraph_noEgo = EgoGraph.copy()\n",
    "EgoGraph_noEgo.remove_node(num_ego)\n",
    "# View results\n",
    "print(nx.info(EgoGraph_noEgo))"
   ]
  },
  {
   "cell_type": "markdown",
   "metadata": {},
   "source": [
    "##### Exercise: now, visualize it with the same layout as EgoGraph"
   ]
  },
  {
   "cell_type": "code",
   "execution_count": 40,
   "metadata": {},
   "outputs": [
    {
     "data": {
      "image/png": "[encoded data removed]",
      "text/plain": [
       "<Figure size 432x288 with 1 Axes>"
      ]
     },
     "metadata": {},
     "output_type": "display_data"
    }
   ],
   "source": [
    "node_color = creer_vect_couleur(EgoGraph_noEgo, [num_ego])\n",
    "nx.draw(EgoGraph_noEgo, with_labels=True, node_size=300, node_color='r',\n",
    "        alpha=0.8, edge_color = \"gray\",pos=pos)\n",
    "plt.show()"
   ]
  },
  {
   "cell_type": "markdown",
   "metadata": {},
   "source": [
    "## Personal network composition indicators"
   ]
  },
  {
   "cell_type": "code",
   "execution_count": 41,
   "metadata": {},
   "outputs": [
    {
     "data": {
      "text/html": [
       "<div>\n",
       "<style scoped>\n",
       "    .dataframe tbody tr th:only-of-type {\n",
       "        vertical-align: middle;\n",
       "    }\n",
       "\n",
       "    .dataframe tbody tr th {\n",
       "        vertical-align: top;\n",
       "    }\n",
       "\n",
       "    .dataframe thead th {\n",
       "        text-align: right;\n",
       "    }\n",
       "</style>\n",
       "<table border=\"1\" class=\"dataframe\">\n",
       "  <thead>\n",
       "    <tr style=\"text-align: right;\">\n",
       "      <th></th>\n",
       "      <th>Node</th>\n",
       "      <th>Status</th>\n",
       "      <th>Gender</th>\n",
       "      <th>Office</th>\n",
       "      <th>Senior</th>\n",
       "      <th>Age</th>\n",
       "      <th>Spec</th>\n",
       "      <th>School</th>\n",
       "    </tr>\n",
       "  </thead>\n",
       "  <tbody>\n",
       "    <tr>\n",
       "      <th>2</th>\n",
       "      <td>3</td>\n",
       "      <td>1</td>\n",
       "      <td>1</td>\n",
       "      <td>2</td>\n",
       "      <td>13</td>\n",
       "      <td>67</td>\n",
       "      <td>1</td>\n",
       "      <td>1</td>\n",
       "    </tr>\n",
       "  </tbody>\n",
       "</table>\n",
       "</div>"
      ],
      "text/plain": [
       "   Node  Status  Gender  Office  Senior  Age  Spec  School\n",
       "2     3       1       1       2      13   67     1       1"
      ]
     },
     "execution_count": 41,
     "metadata": {},
     "output_type": "execute_result"
    }
   ],
   "source": [
    "# Select ego \n",
    "ego = nodes[nodes.Node== num_ego]\n",
    "ego"
   ]
  },
  {
   "cell_type": "code",
   "execution_count": 42,
   "metadata": {},
   "outputs": [
    {
     "data": {
      "text/html": [
       "<div>\n",
       "<style scoped>\n",
       "    .dataframe tbody tr th:only-of-type {\n",
       "        vertical-align: middle;\n",
       "    }\n",
       "\n",
       "    .dataframe tbody tr th {\n",
       "        vertical-align: top;\n",
       "    }\n",
       "\n",
       "    .dataframe thead th {\n",
       "        text-align: right;\n",
       "    }\n",
       "</style>\n",
       "<table border=\"1\" class=\"dataframe\">\n",
       "  <thead>\n",
       "    <tr style=\"text-align: right;\">\n",
       "      <th></th>\n",
       "      <th>Node</th>\n",
       "      <th>Status</th>\n",
       "      <th>Gender</th>\n",
       "      <th>Office</th>\n",
       "      <th>Senior</th>\n",
       "      <th>Age</th>\n",
       "      <th>Spec</th>\n",
       "      <th>School</th>\n",
       "    </tr>\n",
       "  </thead>\n",
       "  <tbody>\n",
       "    <tr>\n",
       "      <th>1</th>\n",
       "      <td>2</td>\n",
       "      <td>1</td>\n",
       "      <td>1</td>\n",
       "      <td>1</td>\n",
       "      <td>32</td>\n",
       "      <td>62</td>\n",
       "      <td>2</td>\n",
       "      <td>1</td>\n",
       "    </tr>\n",
       "    <tr>\n",
       "      <th>3</th>\n",
       "      <td>4</td>\n",
       "      <td>1</td>\n",
       "      <td>1</td>\n",
       "      <td>1</td>\n",
       "      <td>31</td>\n",
       "      <td>59</td>\n",
       "      <td>2</td>\n",
       "      <td>3</td>\n",
       "    </tr>\n",
       "    <tr>\n",
       "      <th>5</th>\n",
       "      <td>6</td>\n",
       "      <td>1</td>\n",
       "      <td>1</td>\n",
       "      <td>2</td>\n",
       "      <td>29</td>\n",
       "      <td>55</td>\n",
       "      <td>1</td>\n",
       "      <td>1</td>\n",
       "    </tr>\n",
       "    <tr>\n",
       "      <th>13</th>\n",
       "      <td>14</td>\n",
       "      <td>1</td>\n",
       "      <td>1</td>\n",
       "      <td>2</td>\n",
       "      <td>1</td>\n",
       "      <td>56</td>\n",
       "      <td>2</td>\n",
       "      <td>1</td>\n",
       "    </tr>\n",
       "    <tr>\n",
       "      <th>16</th>\n",
       "      <td>17</td>\n",
       "      <td>1</td>\n",
       "      <td>1</td>\n",
       "      <td>1</td>\n",
       "      <td>23</td>\n",
       "      <td>50</td>\n",
       "      <td>2</td>\n",
       "      <td>1</td>\n",
       "    </tr>\n",
       "    <tr>\n",
       "      <th>17</th>\n",
       "      <td>18</td>\n",
       "      <td>1</td>\n",
       "      <td>1</td>\n",
       "      <td>2</td>\n",
       "      <td>18</td>\n",
       "      <td>45</td>\n",
       "      <td>1</td>\n",
       "      <td>2</td>\n",
       "    </tr>\n",
       "    <tr>\n",
       "      <th>18</th>\n",
       "      <td>19</td>\n",
       "      <td>1</td>\n",
       "      <td>1</td>\n",
       "      <td>1</td>\n",
       "      <td>19</td>\n",
       "      <td>46</td>\n",
       "      <td>2</td>\n",
       "      <td>1</td>\n",
       "    </tr>\n",
       "    <tr>\n",
       "      <th>22</th>\n",
       "      <td>23</td>\n",
       "      <td>1</td>\n",
       "      <td>1</td>\n",
       "      <td>1</td>\n",
       "      <td>16</td>\n",
       "      <td>45</td>\n",
       "      <td>1</td>\n",
       "      <td>2</td>\n",
       "    </tr>\n",
       "    <tr>\n",
       "      <th>24</th>\n",
       "      <td>25</td>\n",
       "      <td>1</td>\n",
       "      <td>1</td>\n",
       "      <td>2</td>\n",
       "      <td>15</td>\n",
       "      <td>43</td>\n",
       "      <td>2</td>\n",
       "      <td>2</td>\n",
       "    </tr>\n",
       "    <tr>\n",
       "      <th>27</th>\n",
       "      <td>28</td>\n",
       "      <td>1</td>\n",
       "      <td>1</td>\n",
       "      <td>2</td>\n",
       "      <td>11</td>\n",
       "      <td>38</td>\n",
       "      <td>2</td>\n",
       "      <td>2</td>\n",
       "    </tr>\n",
       "    <tr>\n",
       "      <th>29</th>\n",
       "      <td>30</td>\n",
       "      <td>1</td>\n",
       "      <td>1</td>\n",
       "      <td>2</td>\n",
       "      <td>7</td>\n",
       "      <td>39</td>\n",
       "      <td>1</td>\n",
       "      <td>3</td>\n",
       "    </tr>\n",
       "  </tbody>\n",
       "</table>\n",
       "</div>"
      ],
      "text/plain": [
       "    Node  Status  Gender  Office  Senior  Age  Spec  School\n",
       "1      2       1       1       1      32   62     2       1\n",
       "3      4       1       1       1      31   59     2       3\n",
       "5      6       1       1       2      29   55     1       1\n",
       "13    14       1       1       2       1   56     2       1\n",
       "16    17       1       1       1      23   50     2       1\n",
       "17    18       1       1       2      18   45     1       2\n",
       "18    19       1       1       1      19   46     2       1\n",
       "22    23       1       1       1      16   45     1       2\n",
       "24    25       1       1       2      15   43     2       2\n",
       "27    28       1       1       2      11   38     2       2\n",
       "29    30       1       1       2       7   39     1       3"
      ]
     },
     "execution_count": 42,
     "metadata": {},
     "output_type": "execute_result"
    }
   ],
   "source": [
    "# Select alters \n",
    "alters = nodes[nodes['Node'].isin(list(EgoGraph_noEgo.nodes()))]\n",
    "alters"
   ]
  },
  {
   "cell_type": "markdown",
   "metadata": {},
   "source": [
    "Variables quantitatives : distribution de la variable. \n",
    "\n",
    "- La distribution de l'âge du réseau d'Ego est concentrée sur des individus autour de 20 ans d'expérience. \n",
    "- La distribution d'âge des avocats du réseau d'Ego est centrée autour de 45/50 ans. \n",
    "\n",
    "Ego est âgé et assez expérimenté et ses contacts lui ressemblent sur ces deux variables. "
   ]
  },
  {
   "cell_type": "code",
   "execution_count": 43,
   "metadata": {},
   "outputs": [],
   "source": [
    "import seaborn as sns \n",
    "\n",
    "def kernel_density(df, col):\n",
    "    sns.displot(df, x=col, kind=\"kde\")"
   ]
  },
  {
   "cell_type": "code",
   "execution_count": 44,
   "metadata": {},
   "outputs": [
    {
     "data": {
      "image/png": "[encoded data removed]",
      "text/plain": [
       "<Figure size 360x360 with 1 Axes>"
      ]
     },
     "metadata": {
      "needs_background": "light"
     },
     "output_type": "display_data"
    },
    {
     "data": {
      "image/png": "[encoded data removed]",
      "text/plain": [
       "<Figure size 360x360 with 1 Axes>"
      ]
     },
     "metadata": {
      "needs_background": "light"
     },
     "output_type": "display_data"
    }
   ],
   "source": [
    "variables = ['Senior', 'Age']\n",
    "for var in variables:\n",
    "    kernel_density(alters,var)"
   ]
  },
  {
   "cell_type": "markdown",
   "metadata": {},
   "source": [
    "Variables qualitatives. \n",
    "- Pour Status et genre, l'ensemble des catégories n'est pas représenté puisque Ego est en lien avec des personnes de son sexe et de son statut uniquement. \n",
    "- Pour les autres variables, l'IQV est plus proche de 1, c'est-à-dire que toutes ces catégories sont à peu près équitablement représentées. \n",
    "\n",
    "Ces indices sont conformes à l'aperçu des données plus haut. "
   ]
  },
  {
   "cell_type": "code",
   "execution_count": 45,
   "metadata": {},
   "outputs": [
    {
     "name": "stdout",
     "output_type": "stream",
     "text": [
      "Blau index\n",
      "\n",
      "Status :  0.0\n",
      "Gender :  0.0\n",
      "Office :  0.49586776859504145\n",
      "Spec :  0.4628099173553719\n",
      "School :  0.628099173553719\n",
      "\n",
      "Index of Qualitative Variation\n",
      "\n",
      "Office (k = 2 ) : 0.9917355371900829\n",
      "Spec (k = 2 ) : 0.9256198347107438\n",
      "School (k = 3 ) : 0.9421487603305785\n",
      "\n",
      "Herfindahl-Hirschman index \n",
      "\n",
      "Status :  1.0\n",
      "Gender :  1.0\n",
      "Office :  0.5041322314049586\n",
      "Spec :  0.5371900826446281\n",
      "School :  0.371900826446281\n"
     ]
    }
   ],
   "source": [
    "variables = ['Status', 'Gender', 'Office', 'Spec', 'School']\n",
    "\n",
    "print('Blau index\\n')\n",
    "for var in variables:\n",
    "    print(var,\": \",blau(alters, var))\n",
    "    \n",
    "print('\\nIndex of Qualitative Variation\\n')\n",
    "for var in ['Office', 'Spec', 'School']:\n",
    "    k = len(list(alters[var].unique()))\n",
    "    blau(alters, var)*(k/(k-1))\n",
    "    print(var,\"(k =\",k,\") :\",blau(alters, var)*(k/(k-1)))\n",
    "    \n",
    "print('\\nHerfindahl-Hirschman index \\n')\n",
    "for var in variables:\n",
    "    print(var,\": \",1 - blau(alters, var))"
   ]
  },
  {
   "cell_type": "markdown",
   "metadata": {},
   "source": [
    "## Structural measures"
   ]
  },
  {
   "cell_type": "markdown",
   "metadata": {},
   "source": [
    "##### In principle, all structural measures can be calculated on a personal / ego network. Just be aware of graph type and relevance of each measure (par ex. reciprocity is not meaningful in un undirected graph)."
   ]
  },
  {
   "cell_type": "markdown",
   "metadata": {},
   "source": [
    "### Cohesion (density)"
   ]
  },
  {
   "cell_type": "code",
   "execution_count": 46,
   "metadata": {},
   "outputs": [
    {
     "name": "stdout",
     "output_type": "stream",
     "text": [
      "Densité graphe orienté AVEC Ego : 0.44696969696969696\n",
      "Densité graphe non orienté AVEC Ego : 0.6212121212121212\n",
      "Densité graphe orienté SANS Ego : 0.4\n",
      "Densité graphe non orienté SANS Ego : 0.5454545454545454\n"
     ]
    }
   ],
   "source": [
    "print(\"Densité graphe orienté AVEC Ego :\",nx.density(EgoGraph))\n",
    "\n",
    "EgoGraphUG = nx.DiGraph.to_undirected(EgoGraph)\n",
    "\n",
    "print(\"Densité graphe non orienté AVEC Ego :\",nx.density(EgoGraphUG))\n",
    "\n",
    "print(\"Densité graphe orienté SANS Ego :\",nx.density(EgoGraph_noEgo))\n",
    "\n",
    "EgoGraphUG_noEgo = nx.DiGraph.to_undirected(EgoGraph_noEgo)\n",
    "\n",
    "print(\"Densité graphe non orienté SANS Ego :\",nx.density(EgoGraphUG_noEgo))"
   ]
  },
  {
   "cell_type": "markdown",
   "metadata": {},
   "source": [
    "**Rappel** : Il s'agit du ratio du nombre de liens qui existent sur ceux qui pourraient exister. Elle est élevée pour un réseau dense et est faible pour un réseau peu dense (ou *sparse*, typiquement un réseau social). \n",
    "\n",
    "$$Density=\\begin{cases}\n",
    "\\frac{L}{n(n-1)} & \\text{ unoriented graphes} \\\\\n",
    "\\frac{L}{\\frac{(n-1)}{2}} & \\text{ oriented graphes} \n",
    "\\end{cases}\n",
    "$$\n",
    "\n",
    "La densité du graphe orienté avec Ego est de 0,44. C'est assez élevé. Si on retire l'individu Ego, la densité est rendue plus faible (0,4) car par définition Ego contenait était concerné par de nombreux liens dans le graphe précédent. "
   ]
  },
  {
   "cell_type": "markdown",
   "metadata": {},
   "source": [
    "### Basic connectivity measures"
   ]
  },
  {
   "cell_type": "markdown",
   "metadata": {},
   "source": [
    "Il n'y a pas de noeud isolé, c'est logique car on s'intéresse à l'ensemble du réseau concentré autour d'Ego"
   ]
  },
  {
   "cell_type": "code",
   "execution_count": 47,
   "metadata": {},
   "outputs": [
    {
     "name": "stdout",
     "output_type": "stream",
     "text": [
      "[]\n",
      "[]\n"
     ]
    }
   ],
   "source": [
    "### find isolates (components consisting in 1 node)\n",
    "print(list(nx.isolates(EgoGraph)))\n",
    "print(list(nx.isolates(EgoGraph_noEgo)))\n"
   ]
  },
  {
   "cell_type": "code",
   "execution_count": 48,
   "metadata": {},
   "outputs": [
    {
     "name": "stdout",
     "output_type": "stream",
     "text": [
      "False\n",
      "True\n",
      "False\n",
      "True\n"
     ]
    }
   ],
   "source": [
    "# is the graph connected?\n",
    "print(nx.is_strongly_connected(EgoGraph)) # \"strongly\" because it is a digraph\n",
    "# with an undirected graph, nx.is_connected(G)\n",
    "\n",
    "# if \"strongly\" is false, try with \"weakly\":\n",
    "print(nx.is_weakly_connected(EgoGraph))\n",
    "\n",
    "# is the graph connected?\n",
    "print(nx.is_strongly_connected(EgoGraph_noEgo)) # \"strongly\" because it is a digraph\n",
    "# with an undirected graph, nx.is_connected(G)\n",
    "\n",
    "# if \"strongly\" is false, try with \"weakly\":\n",
    "print(nx.is_weakly_connected(EgoGraph_noEgo))\n"
   ]
  },
  {
   "cell_type": "markdown",
   "metadata": {},
   "source": [
    "**Rappel** : Un *walk* (chemin en français) est une séquence de sommets qui se suivent en suivant les arêtes. Un *path* (une chaîne en français), est un *walk* pour lequel chaque noeud n'apparaît qu'une fois. Ainsi, un *path* est en particulier un *walk*.\n",
    "\n",
    "- Avec ou sans Ego, le graphe **n'est pas connecté de manière directe**. C'est à dire qu'il n'existe pas de *walk* (ni de *path* du coup) entre tous les noeuds en suivant la direction des liens. \n",
    "- En revanche, avec ou sans Ego, il **est pas connecté de manière faible** cela signifique qu'il existe un `walk` entre tous les noeuds, même indépendamment de la direction des liens. "
   ]
  },
  {
   "cell_type": "code",
   "execution_count": 49,
   "metadata": {},
   "outputs": [],
   "source": [
    "## diameter\n",
    "# because graph is not strongly connected (infinite distances)\n",
    "# we need to take its undirected representation\n",
    "#print(nx.diameter(ELfriendUG))\n",
    "def calculer_diametre(G):\n",
    "    if nx.is_directed(G):\n",
    "        if not nx.is_weakly_connected(G):\n",
    "            print(\"Calcul du diamètre impossible car le graphe n'est pas connecté.\")\n",
    "        else:\n",
    "            UG = nx.DiGraph.to_undirected(G)\n",
    "            print(\"Diamètre :\",nx.diameter(UG))   \n",
    "    else:\n",
    "        if not nx.is_connected(G):\n",
    "            print(\"Calcul du diamètre impossible car le graphe n'est pas connecté.\")\n",
    "        else:\n",
    "            UG = G.copy()   \n",
    "            print(\"Diamètre :\",nx.diameter(UG))"
   ]
  },
  {
   "cell_type": "code",
   "execution_count": 50,
   "metadata": {},
   "outputs": [
    {
     "name": "stdout",
     "output_type": "stream",
     "text": [
      "Diamètre : 2\n",
      "Diamètre : 3\n"
     ]
    }
   ],
   "source": [
    "calculer_diametre(EgoGraph)\n",
    "calculer_diametre(EgoGraph_noEgo)"
   ]
  },
  {
   "cell_type": "markdown",
   "metadata": {},
   "source": [
    "**Rappel**  : Le diamètre correspond à la distance la plus grande possible qui puisse exister entre deux sommets, la distance entre deux sommets étant définie comme le plus court chemin entre deux sommets. "
   ]
  },
  {
   "cell_type": "markdown",
   "metadata": {},
   "source": [
    "La diamètre est un peu plus élevé dans le Graphe sans Ego (3) qu'avec (2), ce qui signifie que, sans lui, les relations sont plus indirectes et le graphe est moins connecté. Il faut plus de liens pour mettre en relations deux noeuds. C'est logique."
   ]
  },
  {
   "cell_type": "code",
   "execution_count": 51,
   "metadata": {},
   "outputs": [],
   "source": [
    "## average shortest path length\n",
    "def calculer_shortest_path_length(G):\n",
    "    if nx.is_directed(G):\n",
    "        if not nx.is_weakly_connected(G):\n",
    "            print(\"Calcul du chemin le plus court impossible car le graphe n'est pas connecté.\")\n",
    "        else:\n",
    "            UG = nx.DiGraph.to_undirected(G)\n",
    "            print(\"Longueur du chemin le plus court :\",nx.average_shortest_path_length(UG))   \n",
    "    else:\n",
    "        if not nx.is_connected(G):\n",
    "             print(\"Calcul du chemin le plus court impossible car le graphe n'est pas connecté.\")\n",
    "        else:\n",
    "            UG = G.copy()   \n",
    "            print(\"Longueur du chemin le plus court :\",nx.average_shortest_path_length(UG))"
   ]
  },
  {
   "cell_type": "code",
   "execution_count": 52,
   "metadata": {},
   "outputs": [
    {
     "name": "stdout",
     "output_type": "stream",
     "text": [
      "Longueur du chemin le plus court : 1.378787878787879\n",
      "Longueur du chemin le plus court : 1.490909090909091\n"
     ]
    }
   ],
   "source": [
    "calculer_shortest_path_length(EgoGraph)\n",
    "calculer_shortest_path_length(EgoGraph_noEgo)"
   ]
  },
  {
   "cell_type": "markdown",
   "metadata": {},
   "source": [
    "**Rappel** : La longueur moyenne du chemin le plus court (*average path length*, A.P.L.) correspond à la distance moyenne entre toutes les paires de noeuds. C'est une mesure moins sensible aux *outliers* que le diamètre. Si les chemins sont courts, l'information dans le réseau met peu de temps à circuler. "
   ]
  },
  {
   "cell_type": "markdown",
   "metadata": {},
   "source": [
    "La longueur du chemin le plus court est un peu plus élevée dans le Graphe sans Ego (1,49) qu'avec (1,37), ce qui signifie que, sans lui, les relations sont plus indirectes et le graphe est moins connecté. Il faut plus de liens pour mettre en relations deux noeuds. C'est logique. "
   ]
  },
  {
   "cell_type": "code",
   "execution_count": 53,
   "metadata": {},
   "outputs": [
    {
     "name": "stdout",
     "output_type": "stream",
     "text": [
      "[[3, 2, 19, 4, 17], [3, 2, 19, 4, 6], [3, 28, 17, 19, 4], [3, 28, 17, 19, 30], [3, 28, 17, 14, 25, 30], [3, 28, 17, 14, 4], [3, 28, 6, 18], [3, 28, 6, 4, 19], [3, 28, 6, 4, 14], [3, 28, 6, 30, 19], [3, 28, 6, 30, 14], [3, 23, 18], [3, 23, 4]]\n",
      "Nombre de cliques :  13\n",
      "Longueur moyenne des cliques :  4.6923076923076925\n"
     ]
    }
   ],
   "source": [
    "### find cliques \n",
    "cliques = list(nx.find_cliques(EgoGraphUG))\n",
    "print(cliques)\n",
    "print(\"Nombre de cliques : \", len(cliques))\n",
    "from statistics import mean\n",
    "print(\"Longueur moyenne des cliques : \", mean([len(col) for col in cliques]))"
   ]
  },
  {
   "cell_type": "markdown",
   "metadata": {},
   "source": [
    "**Rappel** : Un *clique* est un sous-ensemble de noeuds où toutes les paires de noeuds sont directement connectées.  Les cliques permettent de capturer des différences de cohésion entre différentes parties du réseau. \n",
    "\n",
    "Le graphe concentré comporte 13 cliques (sous-ensembles connectés). Ils sont d'une taille moyenne de 4,7 individus."
   ]
  },
  {
   "cell_type": "markdown",
   "metadata": {},
   "source": [
    "### Local structures"
   ]
  },
  {
   "cell_type": "code",
   "execution_count": 54,
   "metadata": {},
   "outputs": [
    {
     "data": {
      "text/plain": [
       "0.6101694915254238"
      ]
     },
     "execution_count": 54,
     "metadata": {},
     "output_type": "execute_result"
    }
   ],
   "source": [
    "##### Reciprocity (only interesting in digraph; not relevant in undirected graphs)\n",
    "nx.reciprocity(EgoGraph)"
   ]
  },
  {
   "cell_type": "markdown",
   "metadata": {},
   "source": [
    "**Rappel** : Reciprocity = $\\frac{N\\text{ reciprocated ties}}{N\\text{ ties}}$.\n",
    "La notion de réciprocité s'applique uniquement pour les graphes orientés, c'est bien le cas ici.\n",
    "\n",
    "61 % des liens du réseau d'Ego sont réciproques. "
   ]
  },
  {
   "cell_type": "code",
   "execution_count": 55,
   "metadata": {},
   "outputs": [
    {
     "name": "stdout",
     "output_type": "stream",
     "text": [
      "0.5608974358974359\n"
     ]
    }
   ],
   "source": [
    "##### Transitivity\n",
    "print(nx.transitivity(EgoGraph)) # this is the global clustering coefficient"
   ]
  },
  {
   "cell_type": "markdown",
   "metadata": {},
   "source": [
    "**Rappel** : La *transitivity* est le rapport entre le nombre de triades transitives et le nombre de triades possiblement transitives : \n",
    " $$ \\text{transitivity }= \\frac{N \\text{ transitive triads}}{N \\text{ potentially transitive triads}}\n",
    "$$\n",
    "La transitivité est forte quand les gens sont reliés entre eux par des intermédiaires, comme selon l'adage \"les amis de mes amis sont mes amis\". \n",
    "\n",
    "Ici, la part de transitivité des liens du réseau d'Ego est de 56 %, un peu plus faible que la réciprocité mais relativement forte. Il y a donc un certain nombre de triades transitives dans le réseau d'Ego."
   ]
  },
  {
   "cell_type": "code",
   "execution_count": 56,
   "metadata": {},
   "outputs": [
    {
     "name": "stdout",
     "output_type": "stream",
     "text": [
      "{2: 0.5357142857142857, 3: 0.43564356435643564, 4: 0.5161290322580645, 6: 0.5178571428571429, 14: 0.6388888888888888, 17: 0.5887096774193549, 18: 0.5, 19: 0.6176470588235294, 23: 0.5, 25: 0.94, 28: 0.5265486725663717, 30: 0.6862745098039216}\n"
     ]
    }
   ],
   "source": [
    "# Clustering\n",
    "print(nx.clustering(EgoGraph))  # measure is by node (local clustering coefficient)"
   ]
  },
  {
   "cell_type": "code",
   "execution_count": 57,
   "metadata": {},
   "outputs": [
    {
     "name": "stdout",
     "output_type": "stream",
     "text": [
      "0.583617736057333\n"
     ]
    }
   ],
   "source": [
    "## take the average:\n",
    "print(nx.average_clustering(EgoGraph)) "
   ]
  },
  {
   "cell_type": "markdown",
   "metadata": {},
   "source": [
    "**Rappel** : Le coefficient de groupement local (*local clustering coefficient*) mesure la cohésion dans le voisinage d'un noeud (combien de ses amis sont amis entre eux). Pour chaque noeud $i$,\n",
    "$$\n",
    "CI_i=\\frac{\\text{number existing ties between i's friends}}{\\text{number possible ties between i's friends}}\n",
    "$$\n",
    "\n",
    "On fait ici sa moyenne. \n",
    "\n",
    "La moyenne du *local clustering coefficient* est de 58 %. C'est assez proche de la transitivité globale."
   ]
  },
  {
   "cell_type": "markdown",
   "metadata": {},
   "source": [
    "### Centrality"
   ]
  },
  {
   "cell_type": "code",
   "execution_count": 58,
   "metadata": {},
   "outputs": [
    {
     "data": {
      "text/plain": [
       "{28: 1.4545454545454546,\n",
       " 3: 1.3636363636363638,\n",
       " 14: 1.1818181818181819,\n",
       " 4: 1.0909090909090908,\n",
       " 17: 1.0909090909090908,\n",
       " 30: 1.0,\n",
       " 19: 0.8181818181818182,\n",
       " 6: 0.7272727272727273,\n",
       " 25: 0.7272727272727273,\n",
       " 2: 0.5454545454545454,\n",
       " 18: 0.4545454545454546,\n",
       " 23: 0.2727272727272727}"
      ]
     },
     "execution_count": 58,
     "metadata": {},
     "output_type": "execute_result"
    }
   ],
   "source": [
    "# degree centrality (without considering directed edges)\n",
    "# sur un graphe orienté il fait la somme des in et out\n",
    "centra_degree = nx.degree_centrality(EgoGraph)\n",
    "dict(sorted(centra_degree.items(), key=lambda item: item[1], reverse=True))"
   ]
  },
  {
   "cell_type": "markdown",
   "metadata": {},
   "source": [
    "**Rappel** La centralité de degrés montrent qui sont les noeuds les plus actifs, qui ont le plus de connexions. Ils jouent un rôle de connecteur, de *hub*.\n",
    "\n",
    "Etonnamment, l'individu **28** est encore plus central qu'Ego dans son propre réseau. Il est en effet respectivement quatrième et premier en centralité de degré entrant et sortant (cf. ci-dessous). Il possède également de nombreux voisins. "
   ]
  },
  {
   "cell_type": "code",
   "execution_count": 59,
   "metadata": {},
   "outputs": [
    {
     "data": {
      "text/plain": [
       "{3: 0.7272727272727273,\n",
       " 6: 0.7272727272727273,\n",
       " 17: 0.7272727272727273,\n",
       " 28: 0.6363636363636364,\n",
       " 14: 0.5454545454545454,\n",
       " 4: 0.4545454545454546,\n",
       " 30: 0.4545454545454546,\n",
       " 2: 0.36363636363636365,\n",
       " 18: 0.2727272727272727,\n",
       " 25: 0.2727272727272727,\n",
       " 19: 0.18181818181818182,\n",
       " 23: 0.0}"
      ]
     },
     "execution_count": 59,
     "metadata": {},
     "output_type": "execute_result"
    }
   ],
   "source": [
    "# indegree centrality (incoming ties)\n",
    "centra_indegree = nx.in_degree_centrality(EgoGraph)\n",
    "dict(sorted(centra_indegree.items(), key=lambda item: item[1], reverse=True))"
   ]
  },
  {
   "cell_type": "code",
   "execution_count": 60,
   "metadata": {},
   "outputs": [
    {
     "data": {
      "text/plain": [
       "{28: 0.8181818181818182,\n",
       " 3: 0.6363636363636364,\n",
       " 4: 0.6363636363636364,\n",
       " 14: 0.6363636363636364,\n",
       " 19: 0.6363636363636364,\n",
       " 30: 0.5454545454545454,\n",
       " 25: 0.4545454545454546,\n",
       " 17: 0.36363636363636365,\n",
       " 23: 0.2727272727272727,\n",
       " 2: 0.18181818181818182,\n",
       " 18: 0.18181818181818182,\n",
       " 6: 0.0}"
      ]
     },
     "execution_count": 60,
     "metadata": {},
     "output_type": "execute_result"
    }
   ],
   "source": [
    "# outdegree centrality (outgoing ties)\n",
    "centra_outdegree = nx.out_degree_centrality(EgoGraph)\n",
    "dict(sorted(centra_outdegree.items(), key=lambda item: item[1], reverse=True))"
   ]
  },
  {
   "cell_type": "code",
   "execution_count": 61,
   "metadata": {},
   "outputs": [
    {
     "data": {
      "text/plain": [
       "{28: 0.1546969696969697,\n",
       " 3: 0.15196969696969698,\n",
       " 17: 0.10106060606060606,\n",
       " 4: 0.06303030303030303,\n",
       " 14: 0.05742424242424242,\n",
       " 30: 0.016515151515151514,\n",
       " 19: 0.004545454545454545,\n",
       " 18: 0.00303030303030303,\n",
       " 2: 0.0022727272727272726,\n",
       " 6: 0.0,\n",
       " 23: 0.0,\n",
       " 25: 0.0}"
      ]
     },
     "execution_count": 61,
     "metadata": {},
     "output_type": "execute_result"
    }
   ],
   "source": [
    "# Betweenness centrality ordered (descending importance of betweenness)\n",
    "betweenness = nx.betweenness_centrality(EgoGraph)\n",
    "dict(sorted(betweenness.items(), key=lambda item: item[1], reverse=True))\n",
    "\n",
    "# Betweenness values are normalized by 2/((n-1)(n-2)) for graphs,\n",
    "# and 1/((n-1)(n-2)) for directed graphs, where n is the number of nodes "
   ]
  },
  {
   "cell_type": "markdown",
   "metadata": {},
   "source": [
    "**Rappel** : la centralité de *betweeness* permet d'identifier les individus qui jouent le rôle de \"ponts\" au sein du network. Cela peut être une information d'importance de l'individu au sein du réseau car il permet de l'étendre.\n",
    "\n",
    "On voit que l'individu 28 est aussi l'individu dont la centralité de *betweenness* est la plus forte. "
   ]
  },
  {
   "cell_type": "markdown",
   "metadata": {},
   "source": [
    "## Multigraph resulting from combining advice, friendship and cowork."
   ]
  },
  {
   "cell_type": "markdown",
   "metadata": {},
   "source": [
    "On crée une base de données des *edges* en concaténant les données des liens des 3 graphes (*advice*, *friend* et *cowork*). "
   ]
  },
  {
   "cell_type": "code",
   "execution_count": 62,
   "metadata": {},
   "outputs": [
    {
     "name": "stdout",
     "output_type": "stream",
     "text": [
      "   node1  node2    Type\n",
      "0      1      2  advice\n",
      "1      1     17  advice\n",
      "2      1     20  advice\n",
      "3      2      1  advice\n",
      "4      2      6  advice\n",
      "   node1  node2    Type\n",
      "0      1      2  friend\n",
      "1      1      4  friend\n",
      "2      1      8  friend\n",
      "3      1     17  friend\n",
      "4      2     16  friend\n",
      "   node1  node2    Type\n",
      "0      1     17  cowork\n",
      "1      1     39  cowork\n",
      "2      1     40  cowork\n",
      "3      1     41  cowork\n",
      "4      2      7  cowork\n",
      "   node1  node2    Type\n",
      "0      1      2  advice\n",
      "1      1     17  advice\n",
      "2      1     20  advice\n",
      "3      2      1  advice\n",
      "4      2      6  advice\n"
     ]
    }
   ],
   "source": [
    "### use pandas to import different edgelists as a unique table\n",
    "\n",
    "# directed\n",
    "advice_df = pd.read_table('ELadvice_edgelist.txt', sep='\\t')\n",
    "advice_df.insert(2, \"Type\", \"advice\") \n",
    "print(advice_df.head())\n",
    "\n",
    "# directed\n",
    "friend_df = pd.read_table('Elfriend_edgelist.txt', sep='\\t')\n",
    "friend_df.insert(2, \"Type\", \"friend\") \n",
    "print(friend_df.head())\n",
    "\n",
    "#undirected : we decide to transform each undirected tie into 2 directed ties\n",
    "cowork_df = pd.read_table('ELcowork_edgelist.txt', sep='\\t')\n",
    "cowork_df.insert(2, \"Type\", \"cowork\") \n",
    "print(cowork_df.head())\n",
    "\n",
    "# use pandas to import edgelist as a table\n",
    "EgoEdges = pd.concat([advice_df, friend_df, cowork_df])\n",
    "print(EgoEdges.head())"
   ]
  },
  {
   "cell_type": "markdown",
   "metadata": {},
   "source": [
    "On va créer un graphe EgoGraph, cette fois-ci en choisissant le **noeud 47**.\n",
    "\n",
    "C'est un `MultiGraph` qui permet d'introduire des liens de types différents, ou, même si ce n'est pas le cas ici, d'introduire des liens vers soi-même (*loops*). \n",
    "\n",
    "Les liens sont orientés. \n",
    "\n",
    "**Remarque** : l'attribut `edge_attr = 'Type'` ajoute l'attribut type afin de garder la **triple nature** des liens.\n",
    "\n",
    "Nous utilisons une disposition des noeuds en `spring_layout`. \n",
    "\n",
    "<mark><b>ATTENTION :</b></mark> ne pas oublier l'option `undirected = True` (qui permet d'utiliser à la fois les voisins entrants et sortants pour les graphes orientés). Si vous l'oubliez, vous ne garderez pas les voisins qui ont simplement un lien entrant vers 3. Par exemple le noeud 25 (cf. ci-dessous). "
   ]
  },
  {
   "cell_type": "code",
   "execution_count": 63,
   "metadata": {},
   "outputs": [
    {
     "name": "stdout",
     "output_type": "stream",
     "text": [
      "Name: \n",
      "Type: MultiDiGraph\n",
      "Number of nodes: 7\n",
      "Number of edges: 29\n",
      "Average in degree:   4.1429\n",
      "Average out degree:   4.1429\n"
     ]
    }
   ],
   "source": [
    "# generate graph from pandas edgelist\n",
    "# it is a directed multigraph (MultiDiGraph)\n",
    "\n",
    "# load the full graph \n",
    "EgoTotal = nx.from_pandas_edgelist(df=EgoEdges, source='node1', target='node2',\n",
    "                                   edge_attr ='Type', create_using=nx.MultiDiGraph()) #MULTIDIGRAPH!\n",
    "# match nodes of graph with attributes of nodes\n",
    "NodeData = nodes.set_index('Node').to_dict('index').items()\n",
    "EgoTotal.add_nodes_from(NodeData)\n",
    "\n",
    "#Method 2 : The networkx function to extract the ego graph of i\n",
    "num_ego = 47\n",
    "EgoGraph = nx.ego_graph(EgoTotal, num_ego, undirected=True) \n",
    "#DONT'T FORGET THE OPTION undirected : if True use both  in and out neighbors for directed graphs\n",
    "print(nx.info(EgoGraph))"
   ]
  },
  {
   "cell_type": "code",
   "execution_count": 64,
   "metadata": {},
   "outputs": [
    {
     "name": "stdout",
     "output_type": "stream",
     "text": [
      "[(36, {'Status': 1, 'Gender': 1, 'Office': 1, 'Senior': 5, 'Age': 43, 'Spec': 1, 'School': 3}), (37, {'Status': 2, 'Gender': 1, 'Office': 3, 'Senior': 5, 'Age': 44, 'Spec': 2, 'School': 3}), (15, {'Status': 1, 'Gender': 1, 'Office': 3, 'Senior': 21, 'Age': 48, 'Spec': 2, 'School': 3}), (47, {'Status': 2, 'Gender': 1, 'Office': 3, 'Senior': 3, 'Age': 38, 'Spec': 1, 'School': 3}), (22, {'Status': 1, 'Gender': 1, 'Office': 1, 'Senior': 9, 'Age': 49, 'Spec': 1, 'School': 3}), (23, {'Status': 1, 'Gender': 1, 'Office': 1, 'Senior': 16, 'Age': 45, 'Spec': 1, 'School': 2}), (30, {'Status': 1, 'Gender': 1, 'Office': 2, 'Senior': 7, 'Age': 39, 'Spec': 1, 'School': 3})]\n"
     ]
    }
   ],
   "source": [
    "# view results\n",
    "print(EgoGraph.nodes(data=True))"
   ]
  },
  {
   "cell_type": "code",
   "execution_count": 65,
   "metadata": {},
   "outputs": [
    {
     "name": "stdout",
     "output_type": "stream",
     "text": [
      "[(36, 15, {'Type': 'advice'}), (36, 15, {'Type': 'cowork'}), (36, 47, {'Type': 'cowork'}), (36, 30, {'Type': 'friend'}), (37, 15, {'Type': 'advice'}), (37, 15, {'Type': 'cowork'}), (37, 47, {'Type': 'advice'}), (15, 36, {'Type': 'cowork'}), (15, 37, {'Type': 'friend'}), (15, 37, {'Type': 'cowork'}), (15, 47, {'Type': 'cowork'}), (15, 22, {'Type': 'advice'}), (15, 22, {'Type': 'cowork'}), (47, 15, {'Type': 'advice'}), (47, 15, {'Type': 'cowork'}), (47, 22, {'Type': 'advice'}), (47, 22, {'Type': 'cowork'}), (47, 23, {'Type': 'advice'}), (47, 23, {'Type': 'cowork'}), (47, 30, {'Type': 'advice'}), (47, 36, {'Type': 'advice'}), (47, 36, {'Type': 'cowork'}), (22, 15, {'Type': 'advice'}), (22, 15, {'Type': 'cowork'}), (22, 47, {'Type': 'cowork'}), (23, 47, {'Type': 'cowork'}), (30, 36, {'Type': 'advice'}), (30, 36, {'Type': 'friend'}), (30, 22, {'Type': 'advice'})]\n"
     ]
    }
   ],
   "source": [
    "# view edges\n",
    "print(EgoGraph.edges(data=True))"
   ]
  },
  {
   "cell_type": "markdown",
   "metadata": {},
   "source": [
    "Nous utilisons désormais un mode de visualisation particulier, un peu plus complexe que d'habitude, car un simple `nx.draw` ne permet pas de visualiser les double liens. Nous utilisons une disposition des noeuds en `spring_layout`. Les liens doubles sont représentés courbés. \n",
    "\n",
    "Le **noeud 47** est placé automatiquement au centre par l'algorithme car il correspond à celui qui a le plus de lien (en tant que noeud *Ego*). "
   ]
  },
  {
   "cell_type": "code",
   "execution_count": 66,
   "metadata": {},
   "outputs": [
    {
     "data": {
      "image/png": "[encoded data removed]",
      "text/plain": [
       "<Figure size 432x288 with 1 Axes>"
      ]
     },
     "metadata": {},
     "output_type": "display_data"
    }
   ],
   "source": [
    "# Visualization\n",
    "# define layout\n",
    "pos = nx.spring_layout(EgoGraph, seed=1)\n",
    "node_color = creer_vect_couleur(EgoGraph, [num_ego])\n",
    "\n",
    "# use matplotlib to draw edges\n",
    "ax = plt.gca()\n",
    "# draw nodes according to layout\n",
    "nx.draw_networkx_nodes(EgoGraph, pos, node_color = node_color, node_size = 100, alpha = 1)\n",
    "for e in EgoGraph.edges:\n",
    "    ax.annotate(\"\",\n",
    "                xy=pos[e[0]], xycoords='data',\n",
    "                xytext=pos[e[1]], textcoords='data',\n",
    "                arrowprops=dict(color='black',\n",
    "                                alpha=0.5,\n",
    "                                width = 0.5,\n",
    "                                headwidth = 5,\n",
    "                                shrink=0.05,\n",
    "                                patchA=None, patchB=None,\n",
    "                                connectionstyle=\"arc3,rad=rrr\".replace('rrr',str(0.3*(e[2]+0.3)))\n",
    "                                ),\n",
    "                )\n",
    "plt.axis('off')\n",
    "plt.show()\n"
   ]
  },
  {
   "cell_type": "markdown",
   "metadata": {},
   "source": [
    "Faisons le même graphique en distinguant les liens selon leur type (bleu de type 'friend', gris de type 'advice' et orange de type 'cowork'). "
   ]
  },
  {
   "cell_type": "code",
   "execution_count": 67,
   "metadata": {},
   "outputs": [
    {
     "data": {
      "image/png": "[encoded data removed]",
      "text/plain": [
       "<Figure size 432x288 with 1 Axes>"
      ]
     },
     "metadata": {},
     "output_type": "display_data"
    }
   ],
   "source": [
    "# Visualization with differences by types\n",
    "\n",
    "#Colors : blue for friend, grey for advice and orange for cowork\n",
    "edge_color = []\n",
    "for edge in list(EgoGraph.edges(data=True)):\n",
    "    if list(edge[2].values())==['friend']:\n",
    "        edge_color.append('blue')\n",
    "    elif list(edge[2].values())==['advice']:\n",
    "        edge_color.append('grey')\n",
    "    else:\n",
    "        edge_color.append('orange')\n",
    "\n",
    "        \n",
    "# keep the same layout as before (\"pos\") to compare\n",
    "node_color = creer_vect_couleur(EgoGraph, [num_ego])\n",
    "\n",
    "# use matplotlib to draw edges\n",
    "ax = plt.gca()\n",
    "\n",
    "for i in range(len(EgoGraph.edges)):\n",
    "    e = list(EgoGraph.edges)[i]\n",
    "    ax.annotate(\"\",\n",
    "                xy=pos[e[0]], xycoords='data',\n",
    "                xytext=pos[e[1]], textcoords='data',\n",
    "                arrowprops=dict(color=edge_color[i],\n",
    "                                alpha=0.5,\n",
    "                                width = 0.5,\n",
    "                                headwidth = 5,\n",
    "                                shrink=0.05,\n",
    "                                patchA=None, patchB=None,\n",
    "                                connectionstyle=\"arc3,rad=rrr\".replace('rrr',str(0.3*(e[2]+0.3)))\n",
    "                                ),\n",
    "                )\n",
    "plt.axis('off')\n",
    "# draw nodes according to layout\n",
    "nx.draw_networkx_nodes(EgoGraph, pos, node_color = node_color, node_size = 100, alpha = 1)\n",
    "plt.show()\n"
   ]
  },
  {
   "cell_type": "markdown",
   "metadata": {},
   "source": [
    "## Subset graph: friend-only, advice-only, cowork-only, without Ego"
   ]
  },
  {
   "cell_type": "markdown",
   "metadata": {},
   "source": [
    "##### Friend ties\n",
    "\n",
    "Je me restreins ici au sous-graphe des liens de type 'friend'. "
   ]
  },
  {
   "cell_type": "code",
   "execution_count": 68,
   "metadata": {},
   "outputs": [
    {
     "name": "stdout",
     "output_type": "stream",
     "text": [
      "Name: \n",
      "Type: DiGraph\n",
      "Number of nodes: 4\n",
      "Number of edges: 3\n",
      "Average in degree:   0.7500\n",
      "Average out degree:   0.7500\n"
     ]
    }
   ],
   "source": [
    "## Subset graph: take only friend ties\n",
    "\n",
    "# take subset of relevant edges\n",
    "f = [(u, v) for (u, v, d) in EgoGraph.edges(data=True) if d[\"Type\"] =='friend']\n",
    "# create graph\n",
    "EgoGraphf = nx.DiGraph(f)\n",
    "print(nx.info(EgoGraphf))"
   ]
  },
  {
   "cell_type": "markdown",
   "metadata": {},
   "source": [
    "On l'associe avec notre liste initiale de noeuds pour considérer les noeuds isolés, ce qui permet de comparer avec les noeuds d'origine. "
   ]
  },
  {
   "cell_type": "code",
   "execution_count": 69,
   "metadata": {},
   "outputs": [
    {
     "name": "stdout",
     "output_type": "stream",
     "text": [
      "Name: \n",
      "Type: DiGraph\n",
      "Number of nodes: 7\n",
      "Number of edges: 3\n",
      "Average in degree:   0.4286\n",
      "Average out degree:   0.4286\n"
     ]
    }
   ],
   "source": [
    "# match with nodes table to add isolates\n",
    "EgoGraphf.add_nodes_from(list(EgoGraph.nodes()))\n",
    "\n",
    "# view results\n",
    "print(nx.info(EgoGraphf))"
   ]
  },
  {
   "cell_type": "markdown",
   "metadata": {},
   "source": [
    "Les liens sont moins nombreux et il n'existe plus de noeud double. "
   ]
  },
  {
   "cell_type": "code",
   "execution_count": 70,
   "metadata": {},
   "outputs": [
    {
     "data": {
      "image/png": "[encoded data removed]",
      "text/plain": [
       "<Figure size 432x288 with 1 Axes>"
      ]
     },
     "metadata": {},
     "output_type": "display_data"
    }
   ],
   "source": [
    "# Visualization\n",
    "\n",
    "# define layout\n",
    "# keep the same layout as before (\"pos\") to compare\n",
    "node_color = creer_vect_couleur(EgoGraphf, [num_ego])\n",
    "\n",
    "# use matplotlib to draw edges\n",
    "ax = plt.gca()\n",
    "for e in EgoGraphf.edges:\n",
    "    ax.annotate(\"\",\n",
    "                xy=pos[e[0]], xycoords='data',\n",
    "                xytext=pos[e[1]], textcoords='data',\n",
    "                arrowprops=dict(color='blue',\n",
    "                                alpha=0.5,\n",
    "                                width = 0.5,\n",
    "                                headwidth = 5,\n",
    "                                shrink=0.05,\n",
    "                                patchA=None, patchB=None,\n",
    "                                #connectionstyle=\"arc3,rad=rrr\".replace('rrr',str(0.4*e[2]))\n",
    "                                connectionstyle=\"arc3,rad=0.1\"\n",
    "                                ),\n",
    "                )\n",
    "plt.axis('off')\n",
    "# draw nodes according to layout\n",
    "nx.draw_networkx_nodes(EgoGraphf, pos, node_color = node_color, node_size = 100, alpha = 1)\n",
    "plt.show()\n"
   ]
  },
  {
   "cell_type": "markdown",
   "metadata": {},
   "source": [
    "##### Advice ties\n",
    "\n",
    "Je me restreins ici au sous-graphe des liens de type 'advice'. "
   ]
  },
  {
   "cell_type": "code",
   "execution_count": 71,
   "metadata": {},
   "outputs": [
    {
     "name": "stdout",
     "output_type": "stream",
     "text": [
      "Name: \n",
      "Type: DiGraph\n",
      "Number of nodes: 7\n",
      "Number of edges: 12\n",
      "Average in degree:   1.7143\n",
      "Average out degree:   1.7143\n"
     ]
    }
   ],
   "source": [
    "## Subset graph: take only advice ties\n",
    "\n",
    "# take subset of relevant edges\n",
    "a = [(u, v) for (u, v, d) in EgoGraph.edges(data=True) if d[\"Type\"] =='advice']\n",
    "\n",
    "# create graph\n",
    "EgoGrapha = nx.DiGraph(a)\n",
    "print(nx.info(EgoGrapha))"
   ]
  },
  {
   "cell_type": "markdown",
   "metadata": {},
   "source": [
    "On l'associe avec notre liste initiale de noeuds pour considérer les noeuds isolés, ce qui permet de comparer avec les noeuds d'origine. N'a pas d'impact ici car il n'y avait pas de noeud isolé."
   ]
  },
  {
   "cell_type": "code",
   "execution_count": 72,
   "metadata": {},
   "outputs": [
    {
     "name": "stdout",
     "output_type": "stream",
     "text": [
      "Name: \n",
      "Type: DiGraph\n",
      "Number of nodes: 7\n",
      "Number of edges: 12\n",
      "Average in degree:   1.7143\n",
      "Average out degree:   1.7143\n"
     ]
    }
   ],
   "source": [
    "# match with nodes table to add isolates\n",
    "EgoGrapha.add_nodes_from(list(EgoGraph.nodes()))\n",
    "\n",
    "# view results\n",
    "print(nx.info(EgoGrapha))"
   ]
  },
  {
   "cell_type": "markdown",
   "metadata": {},
   "source": [
    "Les liens sont moins nombreux et il n'existe plus de noeud double. "
   ]
  },
  {
   "cell_type": "code",
   "execution_count": 73,
   "metadata": {},
   "outputs": [
    {
     "data": {
      "image/png": "[encoded data removed]",
      "text/plain": [
       "<Figure size 432x288 with 1 Axes>"
      ]
     },
     "metadata": {},
     "output_type": "display_data"
    }
   ],
   "source": [
    "# Visualization\n",
    "\n",
    "# define layout\n",
    "# keep the same layout as before (\"pos\") to compare\n",
    "node_color = creer_vect_couleur(EgoGrapha, [num_ego])\n",
    "\n",
    "# use matplotlib to draw edges\n",
    "ax = plt.gca()\n",
    "for e in EgoGrapha.edges:\n",
    "    ax.annotate(\"\",\n",
    "                xy=pos[e[0]], xycoords='data',\n",
    "                xytext=pos[e[1]], textcoords='data',\n",
    "                arrowprops=dict(color='grey',\n",
    "                                alpha=0.5,\n",
    "                                width = 0.5,\n",
    "                                headwidth = 5,\n",
    "                                shrink=0.05,\n",
    "                                patchA=None, patchB=None,\n",
    "                                #connectionstyle=\"arc3,rad=rrr\".replace('rrr',str(0.4*e[2])),\n",
    "                                connectionstyle=\"arc3,rad=0.1\"\n",
    "                                ),\n",
    "                )\n",
    "plt.axis('off')\n",
    "# draw nodes according to layout\n",
    "nx.draw_networkx_nodes(EgoGrapha, pos, node_color = node_color, node_size = 100, alpha = 1)\n",
    "plt.show()\n"
   ]
  },
  {
   "cell_type": "markdown",
   "metadata": {},
   "source": [
    "##### Cowork ties\n",
    "\n",
    "Je me restreins ici au sous-graphe des liens de type 'cowork'. "
   ]
  },
  {
   "cell_type": "code",
   "execution_count": 74,
   "metadata": {},
   "outputs": [
    {
     "name": "stdout",
     "output_type": "stream",
     "text": [
      "Name: \n",
      "Type: DiGraph\n",
      "Number of nodes: 6\n",
      "Number of edges: 14\n",
      "Average in degree:   2.3333\n",
      "Average out degree:   2.3333\n"
     ]
    }
   ],
   "source": [
    "## Subset graph: take only advice ties\n",
    "\n",
    "# take subset of relevant edges\n",
    "c = [(u, v) for (u, v, d) in EgoGraph.edges(data=True) if d[\"Type\"] =='cowork']\n",
    "# create graph\n",
    "EgoGraphc = nx.DiGraph(c)\n",
    "print(nx.info(EgoGraphc))"
   ]
  },
  {
   "cell_type": "markdown",
   "metadata": {},
   "source": [
    "On l'associe avec notre liste initiale de noeuds pour considérer les noeuds isolés, ce qui permet de comparer avec les noeuds d'origine. "
   ]
  },
  {
   "cell_type": "code",
   "execution_count": 75,
   "metadata": {},
   "outputs": [
    {
     "name": "stdout",
     "output_type": "stream",
     "text": [
      "Name: \n",
      "Type: DiGraph\n",
      "Number of nodes: 7\n",
      "Number of edges: 14\n",
      "Average in degree:   2.0000\n",
      "Average out degree:   2.0000\n"
     ]
    }
   ],
   "source": [
    "# match with nodes table to add isolates\n",
    "EgoGraphc.add_nodes_from(list(EgoGraph.nodes()))\n",
    "\n",
    "# view results\n",
    "print(nx.info(EgoGraphc))"
   ]
  },
  {
   "cell_type": "markdown",
   "metadata": {},
   "source": [
    "Les liens sont moins nombreux et il n'existe plus de noeud double. "
   ]
  },
  {
   "cell_type": "code",
   "execution_count": 76,
   "metadata": {},
   "outputs": [
    {
     "data": {
      "image/png": "[encoded data removed]",
      "text/plain": [
       "<Figure size 432x288 with 1 Axes>"
      ]
     },
     "metadata": {},
     "output_type": "display_data"
    }
   ],
   "source": [
    "# Visualization\n",
    "\n",
    "# define layout\n",
    "# keep the same layout as before (\"pos\") to compare\n",
    "node_color = creer_vect_couleur(EgoGraphc, [num_ego])\n",
    "\n",
    "# use matplotlib to draw edges\n",
    "ax = plt.gca()\n",
    "for e in EgoGraphc.edges:\n",
    "    ax.annotate(\"\",\n",
    "                xy=pos[e[0]], xycoords='data',\n",
    "                xytext=pos[e[1]], textcoords='data',\n",
    "                arrowprops=dict(color='orange',\n",
    "                                alpha=0.5,\n",
    "                                width = 0.5,\n",
    "                                headwidth = 5,\n",
    "                                shrink=0.05,\n",
    "                                patchA=None, patchB=None,\n",
    "                                #connectionstyle=\"arc3,rad=rrr\".replace('rrr',str(0.4*e[2])),\n",
    "                                connectionstyle=\"arc3,rad=0.1\"\n",
    "                                ),\n",
    "                )\n",
    "plt.axis('off')\n",
    "# draw nodes according to layout\n",
    "nx.draw_networkx_nodes(EgoGraphc, pos, node_color = node_color, node_size = 100, alpha = 1)\n",
    "plt.show()\n"
   ]
  },
  {
   "cell_type": "markdown",
   "metadata": {},
   "source": [
    "##### Remove Ego from the graph"
   ]
  },
  {
   "cell_type": "markdown",
   "metadata": {},
   "source": [
    "Afin d'améliorer la visualisation, nous refaisons le graphe sans Ego car Ego a des relations avec tout le monde, ce qui correspond à une information redondante. Pour cela, nous faisons une copie du graphe précédent pour commencer. "
   ]
  },
  {
   "cell_type": "code",
   "execution_count": 77,
   "metadata": {},
   "outputs": [
    {
     "name": "stdout",
     "output_type": "stream",
     "text": [
      "Name: \n",
      "Type: MultiDiGraph\n",
      "Number of nodes: 6\n",
      "Number of edges: 15\n",
      "Average in degree:   2.5000\n",
      "Average out degree:   2.5000\n"
     ]
    }
   ],
   "source": [
    "# Graph without Ego\n",
    "EgoGraph_noEgo = EgoGraph.copy()\n",
    "EgoGraph_noEgo.remove_node(num_ego)\n",
    "# View results\n",
    "print(nx.info(EgoGraph_noEgo))"
   ]
  },
  {
   "cell_type": "code",
   "execution_count": 78,
   "metadata": {},
   "outputs": [
    {
     "data": {
      "image/png": "[encoded data removed]",
      "text/plain": [
       "<Figure size 432x288 with 1 Axes>"
      ]
     },
     "metadata": {},
     "output_type": "display_data"
    }
   ],
   "source": [
    "# Visualization with differences by types\n",
    "\n",
    "#Colors : blue for friend, grey for advice and orange for cowork\n",
    "edge_color = []\n",
    "for edge in list(EgoGraph_noEgo.edges(data=True)):\n",
    "    if list(edge[2].values())==['friend']:\n",
    "        edge_color.append('blue')\n",
    "    elif list(edge[2].values())==['advice']:\n",
    "        edge_color.append('grey')\n",
    "    else:\n",
    "        edge_color.append('orange')\n",
    "\n",
    "        \n",
    "node_color = creer_vect_couleur(EgoGraph_noEgo, [num_ego])\n",
    "\n",
    "# use matplotlib to draw edges\n",
    "ax = plt.gca()\n",
    "\n",
    "for i in range(len(EgoGraph_noEgo.edges)):\n",
    "    e = list(EgoGraph_noEgo.edges)[i]\n",
    "    ax.annotate(\"\",\n",
    "                xy=pos[e[0]], xycoords='data',\n",
    "                xytext=pos[e[1]], textcoords='data',\n",
    "                arrowprops=dict(color=edge_color[i],\n",
    "                                alpha=0.5,\n",
    "                                width = 0.5,\n",
    "                                headwidth = 5,\n",
    "                                shrink=0.05,\n",
    "                                patchA=None, patchB=None,\n",
    "                                connectionstyle=\"arc3,rad=rrr\".replace('rrr',str(0.3*(e[2]+0.3)))\n",
    "                                ),\n",
    "                )\n",
    "plt.axis('off')\n",
    "# draw nodes according to layout\n",
    "nx.draw_networkx_nodes(EgoGraph_noEgo, pos, node_color = node_color, node_size = 100, alpha = 1)\n",
    "plt.show()\n"
   ]
  },
  {
   "cell_type": "markdown",
   "metadata": {},
   "source": [
    "##### Weighted graph\n",
    "\n",
    "L'intérêt de pondérer le graphe est d'analyser la force des liens, par exemple quand le lien est triple comme ici (friend, advice et cowork). \n",
    "\n",
    "Le nouveau graph est composé de **7 noeuds** (dont Ego) et de **19 liens**.\n",
    "\n",
    "L'attribut `weight` du nouveau graphe correspond au nombre de liens cumulés (de 1 à 3). La valeur 3 n'arrive jamais en raison des très faibles liens d'amitié dans ce sous-graphe.  "
   ]
  },
  {
   "cell_type": "code",
   "execution_count": 79,
   "metadata": {},
   "outputs": [
    {
     "name": "stdout",
     "output_type": "stream",
     "text": [
      "Name: \n",
      "Type: DiGraph\n",
      "Number of nodes: 7\n",
      "Number of edges: 19\n",
      "Average in degree:   2.7143\n",
      "Average out degree:   2.7143\n"
     ]
    }
   ],
   "source": [
    "## Create weighted undirected graph from multigraph\n",
    "# Idea : each tie has value 2 if it is both online and offline, 1 otherwise\n",
    "# We can interpret multiplexity as tie strength\n",
    "\n",
    "EgoGraphWG = nx.DiGraph()\n",
    "\n",
    "for u,v,data in EgoGraph.edges(data=True):\n",
    "    w = 1   \n",
    "    if EgoGraphWG.has_edge(u,v):\n",
    "        EgoGraphWG[u][v]['weight'] += w\n",
    "    else:\n",
    "        EgoGraphWG.add_edge(u, v, weight=w)\n",
    "\n",
    "print(nx.info(EgoGraphWG))"
   ]
  },
  {
   "cell_type": "code",
   "execution_count": 80,
   "metadata": {},
   "outputs": [
    {
     "name": "stdout",
     "output_type": "stream",
     "text": [
      "[(36, 15, {'weight': 2}), (36, 47, {'weight': 1}), (36, 30, {'weight': 1}), (15, 36, {'weight': 1}), (15, 37, {'weight': 2}), (15, 47, {'weight': 1}), (15, 22, {'weight': 2}), (47, 15, {'weight': 2}), (47, 22, {'weight': 2}), (47, 23, {'weight': 2}), (47, 30, {'weight': 1}), (47, 36, {'weight': 2}), (30, 36, {'weight': 2}), (30, 22, {'weight': 1}), (37, 15, {'weight': 2}), (37, 47, {'weight': 1}), (22, 15, {'weight': 2}), (22, 47, {'weight': 1}), (23, 47, {'weight': 1})]\n"
     ]
    }
   ],
   "source": [
    "print(EgoGraphWG.edges(data=True))"
   ]
  },
  {
   "cell_type": "markdown",
   "metadata": {},
   "source": [
    "Afin de visualiser intuitivement les résultats, nous représentons les liens doubles par des segments deux fois plus épais que pour les liens simples."
   ]
  },
  {
   "cell_type": "code",
   "execution_count": 81,
   "metadata": {},
   "outputs": [
    {
     "name": "stdout",
     "output_type": "stream",
     "text": [
      "[(36, 47), (36, 30), (15, 36), (15, 47), (47, 30), (30, 22), (37, 47), (22, 47), (23, 47)]\n",
      "[(36, 15), (15, 37), (15, 22), (47, 15), (47, 22), (47, 23), (47, 36), (30, 36), (37, 15), (22, 15)]\n",
      "[]\n"
     ]
    }
   ],
   "source": [
    "simpleTies = [(u, v) for (u, v, d) in EgoGraphWG.edges(data=True) if d[\"weight\"] == 1]\n",
    "print(simpleTies)\n",
    "doubleTies = [(u, v) for (u, v, d) in EgoGraphWG.edges(data=True) if d[\"weight\"] == 2]\n",
    "print(doubleTies)\n",
    "tripleTies = [(u, v) for (u, v, d) in EgoGraphWG.edges(data=True) if d[\"weight\"] == 3]\n",
    "print(tripleTies)"
   ]
  },
  {
   "cell_type": "code",
   "execution_count": 82,
   "metadata": {},
   "outputs": [
    {
     "data": {
      "text/plain": [
       "[<matplotlib.patches.FancyArrowPatch at 0x2167b98a808>,\n",
       " <matplotlib.patches.FancyArrowPatch at 0x2167b8ffa88>,\n",
       " <matplotlib.patches.FancyArrowPatch at 0x2167b995848>,\n",
       " <matplotlib.patches.FancyArrowPatch at 0x2167b995088>,\n",
       " <matplotlib.patches.FancyArrowPatch at 0x2167b9952c8>,\n",
       " <matplotlib.patches.FancyArrowPatch at 0x2167b99c948>,\n",
       " <matplotlib.patches.FancyArrowPatch at 0x2167b99cd48>,\n",
       " <matplotlib.patches.FancyArrowPatch at 0x2167b9c3ec8>,\n",
       " <matplotlib.patches.FancyArrowPatch at 0x2167b9fe348>]"
      ]
     },
     "execution_count": 82,
     "metadata": {},
     "output_type": "execute_result"
    },
    {
     "data": {
      "image/png": "[encoded data removed]",
      "text/plain": [
       "<Figure size 432x288 with 1 Axes>"
      ]
     },
     "metadata": {},
     "output_type": "display_data"
    }
   ],
   "source": [
    "# Visualization\n",
    "\n",
    "pos = nx.spring_layout(EgoGraphWG)  # positions for all nodes\n",
    "\n",
    "# nodes\n",
    "nx.draw_networkx_nodes(EgoGraphWG, pos, node_color = 'r', node_size = 100, alpha = 1)\n",
    "\n",
    "# edges\n",
    "nx.draw_networkx_edges(EgoGraphWG, pos, edgelist=tripleTies,\n",
    "                       width=6, alpha=0.25, connectionstyle=\"arc3,rad=0.1\")  # triple ties\n",
    "nx.draw_networkx_edges(EgoGraphWG, pos, edgelist=doubleTies,\n",
    "                       width=4, alpha=0.5, connectionstyle=\"arc3,rad=0.1\")  # double ties\n",
    "nx.draw_networkx_edges(EgoGraphWG, pos, edgelist=simpleTies,\n",
    "                       width=2, alpha=1, connectionstyle=\"arc3,rad=0.1\") # simple ties\n"
   ]
  },
  {
   "cell_type": "markdown",
   "metadata": {},
   "source": [
    "## Personal network composition indicators"
   ]
  },
  {
   "cell_type": "code",
   "execution_count": 83,
   "metadata": {},
   "outputs": [
    {
     "data": {
      "text/html": [
       "<div>\n",
       "<style scoped>\n",
       "    .dataframe tbody tr th:only-of-type {\n",
       "        vertical-align: middle;\n",
       "    }\n",
       "\n",
       "    .dataframe tbody tr th {\n",
       "        vertical-align: top;\n",
       "    }\n",
       "\n",
       "    .dataframe thead th {\n",
       "        text-align: right;\n",
       "    }\n",
       "</style>\n",
       "<table border=\"1\" class=\"dataframe\">\n",
       "  <thead>\n",
       "    <tr style=\"text-align: right;\">\n",
       "      <th></th>\n",
       "      <th>Node</th>\n",
       "      <th>Status</th>\n",
       "      <th>Gender</th>\n",
       "      <th>Office</th>\n",
       "      <th>Senior</th>\n",
       "      <th>Age</th>\n",
       "      <th>Spec</th>\n",
       "      <th>School</th>\n",
       "    </tr>\n",
       "  </thead>\n",
       "  <tbody>\n",
       "    <tr>\n",
       "      <th>46</th>\n",
       "      <td>47</td>\n",
       "      <td>2</td>\n",
       "      <td>1</td>\n",
       "      <td>3</td>\n",
       "      <td>3</td>\n",
       "      <td>38</td>\n",
       "      <td>1</td>\n",
       "      <td>3</td>\n",
       "    </tr>\n",
       "  </tbody>\n",
       "</table>\n",
       "</div>"
      ],
      "text/plain": [
       "    Node  Status  Gender  Office  Senior  Age  Spec  School\n",
       "46    47       2       1       3       3   38     1       3"
      ]
     },
     "execution_count": 83,
     "metadata": {},
     "output_type": "execute_result"
    }
   ],
   "source": [
    "# Select ego \n",
    "ego = nodes[nodes.Node== num_ego]\n",
    "ego"
   ]
  },
  {
   "cell_type": "code",
   "execution_count": 84,
   "metadata": {},
   "outputs": [
    {
     "data": {
      "text/html": [
       "<div>\n",
       "<style scoped>\n",
       "    .dataframe tbody tr th:only-of-type {\n",
       "        vertical-align: middle;\n",
       "    }\n",
       "\n",
       "    .dataframe tbody tr th {\n",
       "        vertical-align: top;\n",
       "    }\n",
       "\n",
       "    .dataframe thead th {\n",
       "        text-align: right;\n",
       "    }\n",
       "</style>\n",
       "<table border=\"1\" class=\"dataframe\">\n",
       "  <thead>\n",
       "    <tr style=\"text-align: right;\">\n",
       "      <th></th>\n",
       "      <th>Node</th>\n",
       "      <th>Status</th>\n",
       "      <th>Gender</th>\n",
       "      <th>Office</th>\n",
       "      <th>Senior</th>\n",
       "      <th>Age</th>\n",
       "      <th>Spec</th>\n",
       "      <th>School</th>\n",
       "    </tr>\n",
       "  </thead>\n",
       "  <tbody>\n",
       "    <tr>\n",
       "      <th>14</th>\n",
       "      <td>15</td>\n",
       "      <td>1</td>\n",
       "      <td>1</td>\n",
       "      <td>3</td>\n",
       "      <td>21</td>\n",
       "      <td>48</td>\n",
       "      <td>2</td>\n",
       "      <td>3</td>\n",
       "    </tr>\n",
       "    <tr>\n",
       "      <th>21</th>\n",
       "      <td>22</td>\n",
       "      <td>1</td>\n",
       "      <td>1</td>\n",
       "      <td>1</td>\n",
       "      <td>9</td>\n",
       "      <td>49</td>\n",
       "      <td>1</td>\n",
       "      <td>3</td>\n",
       "    </tr>\n",
       "    <tr>\n",
       "      <th>22</th>\n",
       "      <td>23</td>\n",
       "      <td>1</td>\n",
       "      <td>1</td>\n",
       "      <td>1</td>\n",
       "      <td>16</td>\n",
       "      <td>45</td>\n",
       "      <td>1</td>\n",
       "      <td>2</td>\n",
       "    </tr>\n",
       "    <tr>\n",
       "      <th>29</th>\n",
       "      <td>30</td>\n",
       "      <td>1</td>\n",
       "      <td>1</td>\n",
       "      <td>2</td>\n",
       "      <td>7</td>\n",
       "      <td>39</td>\n",
       "      <td>1</td>\n",
       "      <td>3</td>\n",
       "    </tr>\n",
       "    <tr>\n",
       "      <th>35</th>\n",
       "      <td>36</td>\n",
       "      <td>1</td>\n",
       "      <td>1</td>\n",
       "      <td>1</td>\n",
       "      <td>5</td>\n",
       "      <td>43</td>\n",
       "      <td>1</td>\n",
       "      <td>3</td>\n",
       "    </tr>\n",
       "    <tr>\n",
       "      <th>36</th>\n",
       "      <td>37</td>\n",
       "      <td>2</td>\n",
       "      <td>1</td>\n",
       "      <td>3</td>\n",
       "      <td>5</td>\n",
       "      <td>44</td>\n",
       "      <td>2</td>\n",
       "      <td>3</td>\n",
       "    </tr>\n",
       "  </tbody>\n",
       "</table>\n",
       "</div>"
      ],
      "text/plain": [
       "    Node  Status  Gender  Office  Senior  Age  Spec  School\n",
       "14    15       1       1       3      21   48     2       3\n",
       "21    22       1       1       1       9   49     1       3\n",
       "22    23       1       1       1      16   45     1       2\n",
       "29    30       1       1       2       7   39     1       3\n",
       "35    36       1       1       1       5   43     1       3\n",
       "36    37       2       1       3       5   44     2       3"
      ]
     },
     "execution_count": 84,
     "metadata": {},
     "output_type": "execute_result"
    }
   ],
   "source": [
    "# Select alters \n",
    "alters = nodes[nodes['Node'].isin(list(EgoGraph_noEgo.nodes()))]\n",
    "alters"
   ]
  },
  {
   "cell_type": "markdown",
   "metadata": {},
   "source": [
    "Variables quantitatives : distribution de la variable. \n",
    "\n",
    "- La distribution de l'âge du réseau d'Ego est concentrée sur des individus autour de 8/10 ans d'expérience. \n",
    "- La distribution d'âge des avocats du réseau d'Ego est centrée autour de 45 ans. \n",
    "\n",
    "Ego échange avec des individus légèrement plus âgés et expérimentés que lui."
   ]
  },
  {
   "cell_type": "code",
   "execution_count": 85,
   "metadata": {},
   "outputs": [],
   "source": [
    "import seaborn as sns \n",
    "\n",
    "def kernel_density(df, col):\n",
    "    sns.displot(df, x=col, kind=\"kde\")"
   ]
  },
  {
   "cell_type": "code",
   "execution_count": 86,
   "metadata": {},
   "outputs": [
    {
     "data": {
      "image/png": "[encoded data removed]",
      "text/plain": [
       "<Figure size 360x360 with 1 Axes>"
      ]
     },
     "metadata": {
      "needs_background": "light"
     },
     "output_type": "display_data"
    },
    {
     "data": {
      "image/png": "[encoded data removed]",
      "text/plain": [
       "<Figure size 360x360 with 1 Axes>"
      ]
     },
     "metadata": {
      "needs_background": "light"
     },
     "output_type": "display_data"
    }
   ],
   "source": [
    "variables = ['Senior', 'Age']\n",
    "for var in variables:\n",
    "    kernel_density(alters,var)"
   ]
  },
  {
   "cell_type": "markdown",
   "metadata": {},
   "source": [
    "Variables qualitatives. \n",
    "- Pour genre, l'ensemble des catégories n'est pas représenté puisque Ego est en lien avec des personnes de son sexe uniquement. \n",
    "- Pour Status et School, l'IQV est proche de 0.5 et n'est pas très élevé. Les contacts d'Ego sont peu diversifiés selon ces variables (beaucoup de status = 1 et school = 3). \n",
    "- Pour Office est Spec, l'IQV est plus proche de 1, c'est-à-dire que toutes ces catégories sont à peu près équitablement représentées. \n",
    "\n",
    "Ces indices sont conformes à l'aperçu des données plus haut. "
   ]
  },
  {
   "cell_type": "code",
   "execution_count": 87,
   "metadata": {},
   "outputs": [
    {
     "name": "stdout",
     "output_type": "stream",
     "text": [
      "Blau index\n",
      "\n",
      "Status :  0.2777777777777777\n",
      "Gender :  0.0\n",
      "Office :  0.6111111111111112\n",
      "Spec :  0.4444444444444444\n",
      "School :  0.2777777777777777\n",
      "\n",
      "Index of Qualitative Variation\n",
      "\n",
      "Status (k = 2 ) : 0.5555555555555554\n",
      "Office (k = 3 ) : 0.9166666666666667\n",
      "Spec (k = 2 ) : 0.8888888888888888\n",
      "School (k = 2 ) : 0.5555555555555554\n",
      "\n",
      "Herfindahl-Hirschman index \n",
      "\n",
      "Status :  0.7222222222222223\n",
      "Gender :  1.0\n",
      "Office :  0.38888888888888884\n",
      "Spec :  0.5555555555555556\n",
      "School :  0.7222222222222223\n"
     ]
    }
   ],
   "source": [
    "variables = ['Status', 'Gender', 'Office', 'Spec', 'School']\n",
    "\n",
    "print('Blau index\\n')\n",
    "for var in variables:\n",
    "    print(var,\": \",blau(alters, var))\n",
    "    \n",
    "print('\\nIndex of Qualitative Variation\\n')\n",
    "for var in ['Status','Office', 'Spec', 'School']:\n",
    "    k = len(list(alters[var].unique()))\n",
    "    blau(alters, var)*(k/(k-1))\n",
    "    print(var,\"(k =\",k,\") :\",blau(alters, var)*(k/(k-1)))\n",
    "    \n",
    "print('\\nHerfindahl-Hirschman index \\n')\n",
    "for var in variables:\n",
    "    print(var,\": \",1 - blau(alters, var))"
   ]
  },
  {
   "cell_type": "markdown",
   "metadata": {},
   "source": [
    "## Structural measures"
   ]
  },
  {
   "cell_type": "markdown",
   "metadata": {},
   "source": [
    "##### In principle, all structural measures can be calculated on a personal / ego network. Just be aware of graph type and relevance of each measure (par ex. reciprocity is not meaningful in un undirected graph)."
   ]
  },
  {
   "cell_type": "markdown",
   "metadata": {},
   "source": [
    "### Cohesion (density)"
   ]
  },
  {
   "cell_type": "code",
   "execution_count": 88,
   "metadata": {},
   "outputs": [
    {
     "name": "stdout",
     "output_type": "stream",
     "text": [
      "Densité graphe orienté AVEC Ego : 0.6904761904761905\n",
      "Densité graphe non orienté AVEC Ego : 0.5238095238095238\n",
      "Densité graphe orienté SANS Ego : 0.5\n",
      "Densité graphe non orienté SANS Ego : 0.3333333333333333\n"
     ]
    }
   ],
   "source": [
    "print(\"Densité graphe orienté AVEC Ego :\",nx.density(EgoGraph))\n",
    "\n",
    "EgoGraphUG = nx.DiGraph.to_undirected(EgoGraph)\n",
    "\n",
    "print(\"Densité graphe non orienté AVEC Ego :\",nx.density(EgoGraphUG))\n",
    "\n",
    "print(\"Densité graphe orienté SANS Ego :\",nx.density(EgoGraph_noEgo))\n",
    "\n",
    "EgoGraphUG_noEgo = nx.DiGraph.to_undirected(EgoGraph_noEgo)\n",
    "\n",
    "print(\"Densité graphe non orienté SANS Ego :\",nx.density(EgoGraphUG_noEgo))"
   ]
  },
  {
   "cell_type": "markdown",
   "metadata": {},
   "source": [
    "**Rappel** : Il s'agit du ratio du nombre de liens qui existent sur ceux qui pourraient exister. Elle est élevée pour un réseau dense et est faible pour un réseau peu dense (ou *sparse*, typiquement un réseau social). \n",
    "\n",
    "$$Density=\\begin{cases}\n",
    "\\frac{L}{n(n-1)} & \\text{ unoriented graphes} \\\\\n",
    "\\frac{L}{\\frac{(n-1)}{2}} & \\text{ oriented graphes} \n",
    "\\end{cases}\n",
    "$$\n",
    "\n",
    "La densité du graphe orienté avec Ego est de 0,52. C'est assez élevé. Si on retire l'individu Ego, la densité est rendue plus faible (0,33) car par définition Ego contenait était concerné par de nombreux liens dans le graphe précédent. "
   ]
  },
  {
   "cell_type": "markdown",
   "metadata": {},
   "source": [
    "### Basic connectivity measures"
   ]
  },
  {
   "cell_type": "markdown",
   "metadata": {},
   "source": [
    "Il n'y a pas de noeud isolé dans le graph avec Ego, c'est logique car on s'intéresse à l'ensemble du réseau concentré autour d'Ego. Quand on enlève Ego, 23 devient isolé."
   ]
  },
  {
   "cell_type": "code",
   "execution_count": 89,
   "metadata": {},
   "outputs": [
    {
     "name": "stdout",
     "output_type": "stream",
     "text": [
      "[]\n",
      "[23]\n"
     ]
    }
   ],
   "source": [
    "### find isolates (components consisting in 1 node)\n",
    "print(list(nx.isolates(EgoGraph)))\n",
    "print(list(nx.isolates(EgoGraph_noEgo)))"
   ]
  },
  {
   "cell_type": "code",
   "execution_count": 90,
   "metadata": {},
   "outputs": [
    {
     "name": "stdout",
     "output_type": "stream",
     "text": [
      "Name: \n",
      "Type: MultiDiGraph\n",
      "Number of nodes: 6\n",
      "Number of edges: 15\n",
      "Average in degree:   2.5000\n",
      "Average out degree:   2.5000\n",
      "Name: \n",
      "Type: MultiDiGraph\n",
      "Number of nodes: 5\n",
      "Number of edges: 15\n",
      "Average in degree:   3.0000\n",
      "Average out degree:   3.0000\n"
     ]
    }
   ],
   "source": [
    "print(nx.info(EgoGraph_noEgo))\n",
    "EgoGraph_noEgo_notisolated = EgoGraph_noEgo.copy()\n",
    "EgoGraph_noEgo_notisolated.remove_nodes_from(list(nx.isolates(EgoGraph_noEgo_notisolated)))\n",
    "print(nx.info(EgoGraph_noEgo_notisolated))"
   ]
  },
  {
   "cell_type": "code",
   "execution_count": 91,
   "metadata": {},
   "outputs": [
    {
     "name": "stdout",
     "output_type": "stream",
     "text": [
      "EgoGraph\n",
      "True\n",
      "True\n",
      "\n",
      "EgoGraph_noEgo\n",
      "False\n",
      "False\n",
      "\n",
      "EgoGraph_noEgo_notisolated\n",
      "True\n",
      "True\n"
     ]
    }
   ],
   "source": [
    "# is the graph connected?\n",
    "\n",
    "print(\"EgoGraph\")\n",
    "print(nx.is_strongly_connected(EgoGraph)) # \"strongly\" because it is a digraph\n",
    "# with an undirected graph, nx.is_connected(G)\n",
    "\n",
    "# if \"strongly\" is false, try with \"weakly\":\n",
    "print(nx.is_weakly_connected(EgoGraph))\n",
    "\n",
    "print(\"\\nEgoGraph_noEgo\")\n",
    "print(nx.is_strongly_connected(EgoGraph_noEgo)) # \"strongly\" because it is a digraph\n",
    "# with an undirected graph, nx.is_connected(G)\n",
    "\n",
    "# if \"strongly\" is false, try with \"weakly\":\n",
    "print(nx.is_weakly_connected(EgoGraph_noEgo))\n",
    "\n",
    "print(\"\\nEgoGraph_noEgo_notisolated\")\n",
    "print(nx.is_strongly_connected(EgoGraph_noEgo_notisolated)) # \"strongly\" because it is a digraph\n",
    "# with an undirected graph, nx.is_connected(G)\n",
    "\n",
    "# if \"strongly\" is false, try with \"weakly\":\n",
    "print(nx.is_weakly_connected(EgoGraph_noEgo_notisolated))\n"
   ]
  },
  {
   "cell_type": "markdown",
   "metadata": {},
   "source": [
    "**Rappel** : Un *walk* (chemin en français) est une séquence de sommets qui se suivent en suivant les arêtes. Un *path* (une chaîne en français), est un *walk* pour lequel chaque noeud n'apparaît qu'une fois. Ainsi, un *path* est en particulier un *walk*.\n",
    "\n",
    "Avec Ego, \n",
    "- Le graphe **est connecté de manière directe**. C'est à dire qu'il existe un *walk* (ou *path*) entre tous les noeuds en suivant la direction des liens. \n",
    "- Le graphe **est  connecté de manière faible** cela signifique qu'il existe un *walk* entre tous les noeuds, même indépendamment de la direction des liens. \n",
    "\n",
    "Sans Ego, le graphe n'**est pas connecté (fortement et faiblement)**, c'est normal, il y a des isolés. \n",
    "\n",
    "Sans Ego mais sans noeud isolé, le graphe **est connecté (fortement et faiblement)**."
   ]
  },
  {
   "cell_type": "code",
   "execution_count": 92,
   "metadata": {},
   "outputs": [
    {
     "name": "stdout",
     "output_type": "stream",
     "text": [
      "Diamètre : 2\n",
      "Calcul du diamètre impossible car le graphe n'est pas connecté.\n",
      "Diamètre : 3\n"
     ]
    }
   ],
   "source": [
    "calculer_diametre(EgoGraph)\n",
    "calculer_diametre(EgoGraph_noEgo)\n",
    "calculer_diametre(EgoGraph_noEgo_notisolated)"
   ]
  },
  {
   "cell_type": "markdown",
   "metadata": {},
   "source": [
    "**Rappel**  : Le diamètre correspond à la distance la plus grande possible qui puisse exister entre deux sommets, la distance entre deux sommets étant définie comme le plus court chemin entre deux sommets. "
   ]
  },
  {
   "cell_type": "markdown",
   "metadata": {},
   "source": [
    "La diamètre est un peu plus élevé dans le Graphe sans Ego (ni noeud isolé) (3) qu'avec (2), ce qui signifie que, sans lui, les relations sont plus indirectes et le graphe est moins connecté. Il faut plus de liens pour mettre en relations deux noeuds. C'est logique."
   ]
  },
  {
   "cell_type": "code",
   "execution_count": 93,
   "metadata": {},
   "outputs": [],
   "source": [
    "## average shortest path length\n",
    "def calculer_shortest_path_length(G):\n",
    "    if nx.is_directed(G):\n",
    "        if not nx.is_weakly_connected(G):\n",
    "            print(\"Calcul du chemin le plus court impossible car le graphe n'est pas connecté.\")\n",
    "        else:\n",
    "            UG = nx.DiGraph.to_undirected(G)\n",
    "            print(\"Longueur du chemin le plus court :\",nx.average_shortest_path_length(UG))   \n",
    "    else:\n",
    "        if not nx.is_connected(G):\n",
    "             print(\"Calcul du chemin le plus court impossible car le graphe n'est pas connecté.\")\n",
    "        else:\n",
    "            UG = G.copy()   \n",
    "            print(\"Longueur du chemin le plus court :\",nx.average_shortest_path_length(UG))"
   ]
  },
  {
   "cell_type": "code",
   "execution_count": 94,
   "metadata": {},
   "outputs": [
    {
     "name": "stdout",
     "output_type": "stream",
     "text": [
      "Longueur du chemin le plus court : 1.4761904761904763\n",
      "Calcul du chemin le plus court impossible car le graphe n'est pas connecté.\n",
      "Longueur du chemin le plus court : 1.6\n"
     ]
    }
   ],
   "source": [
    "calculer_shortest_path_length(EgoGraph)\n",
    "calculer_shortest_path_length(EgoGraph_noEgo)\n",
    "calculer_shortest_path_length(EgoGraph_noEgo_notisolated)"
   ]
  },
  {
   "cell_type": "markdown",
   "metadata": {},
   "source": [
    "**Rappel** : La longueur moyenne du chemin le plus court (*average path length*, A.P.L.) correspond à la distance moyenne entre toutes les paires de noeuds. C'est une mesure moins sensible aux *outliers* que le diamètre. Si les chemins sont courts, l'information dans le réseau met peu de temps à circuler. "
   ]
  },
  {
   "cell_type": "markdown",
   "metadata": {},
   "source": [
    "La longueur du chemin le plus court est un peu plus élevée dans le Graphe sans Ego ni noeud isolé (1,6) qu'avec (1,48), ce qui signifie que, sans lui, les relations sont plus indirectes et le graphe est moins connecté. Il faut plus de liens pour mettre en relations deux noeuds. C'est logique. "
   ]
  },
  {
   "cell_type": "code",
   "execution_count": 95,
   "metadata": {},
   "outputs": [
    {
     "name": "stdout",
     "output_type": "stream",
     "text": [
      "[[47, 23], [47, 30, 36], [47, 30, 22], [47, 15, 36], [47, 15, 37], [47, 15, 22]]\n",
      "Nombre de cliques :  6\n",
      "Longueur moyenne des cliques :  2.8333333333333335\n"
     ]
    }
   ],
   "source": [
    "### find cliques \n",
    "cliques = list(nx.find_cliques(EgoGraphUG))\n",
    "print(cliques)\n",
    "print(\"Nombre de cliques : \", len(cliques))\n",
    "from statistics import mean\n",
    "print(\"Longueur moyenne des cliques : \", mean([len(col) for col in cliques]))"
   ]
  },
  {
   "cell_type": "markdown",
   "metadata": {},
   "source": [
    "**Rappel** : Un *clique* est un sous-ensemble de noeuds où toutes les paires de noeuds sont directement connectées.  Les cliques permettent de capturer des différences de cohésion entre différentes parties du réseau. \n",
    "\n",
    "Le graphe concentré comporte 6 cliques (sous-ensembles connectés). Ils sont d'une taille moyenne de 2,8 individus."
   ]
  },
  {
   "cell_type": "markdown",
   "metadata": {},
   "source": [
    "### Local structures"
   ]
  },
  {
   "cell_type": "code",
   "execution_count": 96,
   "metadata": {},
   "outputs": [
    {
     "data": {
      "text/plain": [
       "0.6896551724137931"
      ]
     },
     "execution_count": 96,
     "metadata": {},
     "output_type": "execute_result"
    }
   ],
   "source": [
    "##### Reciprocity (only interesting in digraph; not relevant in undirected graphs)\n",
    "nx.reciprocity(EgoGraph)"
   ]
  },
  {
   "cell_type": "markdown",
   "metadata": {},
   "source": [
    "**Rappel** : Reciprocity = $\\frac{N\\text{ reciprocated ties}}{N\\text{ ties}}$.\n",
    "La notion de réciprocité s'applique uniquement pour les graphes orientés, c'est bien le cas ici.\n",
    "\n",
    "69 % des liens du réseau d'Ego sont réciproques. "
   ]
  },
  {
   "cell_type": "code",
   "execution_count": 97,
   "metadata": {},
   "outputs": [
    {
     "name": "stdout",
     "output_type": "stream",
     "text": [
      "0.4318181818181818\n"
     ]
    }
   ],
   "source": [
    "##### Transitivity\n",
    "print(nx.transitivity(EgoGraphWG)) # this is the global clustering coefficient"
   ]
  },
  {
   "cell_type": "markdown",
   "metadata": {},
   "source": [
    "**Rappel** : La *transitivity* est le rapport entre le nombre de triades transitives et le nombre de triades possiblement transitives : \n",
    " $$ \\text{transitivity }= \\frac{N \\text{ transitive triads}}{N \\text{ potentially transitive triads}}\n",
    "$$\n",
    "La transitivité est forte quand les gens sont reliés entre eux par des intermédiaires, comme selon l'adage \"les amis de mes amis sont mes amis\". \n",
    "\n",
    "Ici, la part de transitivité des liens du réseau (**pondéré** car on ne peut pas calculer de transitivité sur un MultiGraph) d'Ego est de 43 %"
   ]
  },
  {
   "cell_type": "code",
   "execution_count": 98,
   "metadata": {},
   "outputs": [
    {
     "name": "stdout",
     "output_type": "stream",
     "text": [
      "{36: 0.5, 15: 0.4166666666666667, 47: 0.3170731707317073, 30: 0.6, 37: 1.0, 22: 0.625, 23: 0}\n"
     ]
    }
   ],
   "source": [
    "# Clustering\n",
    "print(nx.clustering(EgoGraphWG))  # measure is by node (local clustering coefficient)"
   ]
  },
  {
   "cell_type": "code",
   "execution_count": 99,
   "metadata": {},
   "outputs": [
    {
     "name": "stdout",
     "output_type": "stream",
     "text": [
      "0.4941056910569106\n"
     ]
    }
   ],
   "source": [
    "## take the average:\n",
    "print(nx.average_clustering(EgoGraphWG)) "
   ]
  },
  {
   "cell_type": "markdown",
   "metadata": {},
   "source": [
    "**Rappel** : Le coefficient de groupement local (*local clustering coefficient*) mesure la cohésion dans le voisinage d'un noeud (combien de ses amis sont amis entre eux). Pour chaque noeud $i$,\n",
    "$$\n",
    "CI_i=\\frac{\\text{number existing ties between i's friends}}{\\text{number possible ties between i's friends}}\n",
    "$$\n",
    "\n",
    "On fait ici sa moyenne. \n",
    "\n",
    "La moyenne du *local clustering coefficient* est de 49 %. C'est assez proche de la transitivité globale."
   ]
  },
  {
   "cell_type": "markdown",
   "metadata": {},
   "source": [
    "### Centrality"
   ]
  },
  {
   "cell_type": "code",
   "execution_count": 100,
   "metadata": {},
   "outputs": [
    {
     "data": {
      "text/plain": [
       "{15: 2.333333333333333,\n",
       " 47: 2.333333333333333,\n",
       " 36: 1.5,\n",
       " 22: 1.3333333333333333,\n",
       " 37: 0.8333333333333333,\n",
       " 30: 0.8333333333333333,\n",
       " 23: 0.5}"
      ]
     },
     "execution_count": 100,
     "metadata": {},
     "output_type": "execute_result"
    }
   ],
   "source": [
    "# degree centrality (without considering directed edges)\n",
    "# sur un graphe orienté il fait la somme des in et out\n",
    "centra_degree = nx.degree_centrality(EgoGraph)\n",
    "dict(sorted(centra_degree.items(), key=lambda item: item[1], reverse=True))"
   ]
  },
  {
   "cell_type": "markdown",
   "metadata": {},
   "source": [
    "**Rappel** La centralité de degrés montrent qui sont les noeuds les plus actifs, qui ont le plus de connexions. Ils jouent un rôle de connecteur, de *hub*.\n",
    "\n",
    "Etonnamment, l'individu **15** est aussi central qu'Ego dans son propre réseau. Il est en effet respectivement premier et deuxième en centralité de degré entrant et sortant (cf. ci-dessous). Il possède également de nombreux voisins. "
   ]
  },
  {
   "cell_type": "code",
   "execution_count": 101,
   "metadata": {},
   "outputs": [
    {
     "data": {
      "text/plain": [
       "{15: 1.3333333333333333,\n",
       " 36: 0.8333333333333333,\n",
       " 47: 0.8333333333333333,\n",
       " 22: 0.8333333333333333,\n",
       " 37: 0.3333333333333333,\n",
       " 23: 0.3333333333333333,\n",
       " 30: 0.3333333333333333}"
      ]
     },
     "execution_count": 101,
     "metadata": {},
     "output_type": "execute_result"
    }
   ],
   "source": [
    "# indegree centrality (incoming ties)\n",
    "centra_indegree = nx.in_degree_centrality(EgoGraph)\n",
    "dict(sorted(centra_indegree.items(), key=lambda item: item[1], reverse=True))"
   ]
  },
  {
   "cell_type": "code",
   "execution_count": 102,
   "metadata": {},
   "outputs": [
    {
     "data": {
      "text/plain": [
       "{47: 1.5,\n",
       " 15: 1.0,\n",
       " 36: 0.6666666666666666,\n",
       " 37: 0.5,\n",
       " 22: 0.5,\n",
       " 30: 0.5,\n",
       " 23: 0.16666666666666666}"
      ]
     },
     "execution_count": 102,
     "metadata": {},
     "output_type": "execute_result"
    }
   ],
   "source": [
    "# outdegree centrality (outgoing ties)\n",
    "centra_outdegree = nx.out_degree_centrality(EgoGraph)\n",
    "dict(sorted(centra_outdegree.items(), key=lambda item: item[1], reverse=True))"
   ]
  },
  {
   "cell_type": "code",
   "execution_count": 103,
   "metadata": {},
   "outputs": [
    {
     "data": {
      "text/plain": [
       "{47: 0.47777777777777775,\n",
       " 15: 0.22777777777777777,\n",
       " 36: 0.08333333333333333,\n",
       " 22: 0.06666666666666667,\n",
       " 30: 0.01111111111111111,\n",
       " 37: 0.0,\n",
       " 23: 0.0}"
      ]
     },
     "execution_count": 103,
     "metadata": {},
     "output_type": "execute_result"
    }
   ],
   "source": [
    "# Betweenness centrality ordered (descending importance of betweenness)\n",
    "# Not working for multigraph\n",
    "betweenness = nx.betweenness_centrality(EgoGraphWG)\n",
    "dict(sorted(betweenness.items(), key=lambda item: item[1], reverse=True))\n",
    "\n",
    "# Betweenness values are normalized by 2/((n-1)(n-2)) for graphs,\n",
    "# and 1/((n-1)(n-2)) for directed graphs, where n is the number of nodes "
   ]
  },
  {
   "cell_type": "markdown",
   "metadata": {},
   "source": [
    "**Rappel** : la centralité de *betweeness* permet d'identifier les individus qui jouent le rôle de \"ponts\" au sein du network. Cela peut être une information d'importance de l'individu au sein du réseau car il permet de l'étendre.\n",
    "\n",
    "On voit que l'individu ego 47 est l'individu dont la centralité de *betweenness* est la plus forte. "
   ]
  }
 ],
 "metadata": {
  "kernelspec": {
   "display_name": "Python 3",
   "language": "python",
   "name": "python3"
  },
  "language_info": {
   "codemirror_mode": {
    "name": "ipython",
    "version": 3
   },
   "file_extension": ".py",
   "mimetype": "text/x-python",
   "name": "python",
   "nbconvert_exporter": "python",
   "pygments_lexer": "ipython3",
   "version": "3.7.4"
  }
 },
 "nbformat": 4,
 "nbformat_minor": 4
}
