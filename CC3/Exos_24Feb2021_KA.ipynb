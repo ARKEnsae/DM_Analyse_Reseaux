{
 "cells": [
  {
   "cell_type": "markdown",
   "metadata": {},
   "source": [
    "# Exercises 24 February 2021\n",
    "\n",
    "## Personal networks, ego networks"
   ]
  },
  {
   "cell_type": "markdown",
   "metadata": {},
   "source": [
    "On va désormais étudier un réseau concentré contrairement aux réseaux complets que nous avions vus auparavant. "
   ]
  },
  {
   "cell_type": "code",
   "execution_count": 1,
   "metadata": {},
   "outputs": [],
   "source": [
    "########### Preparation ##############\n",
    "# import packages\n",
    "import networkx as nx\n",
    "import matplotlib.pyplot as plt\n",
    "import pandas as pd\n",
    "import numpy as np"
   ]
  },
  {
   "cell_type": "code",
   "execution_count": 5,
   "metadata": {},
   "outputs": [
    {
     "data": {
      "text/html": [
       "<div>\n",
       "<style scoped>\n",
       "    .dataframe tbody tr th:only-of-type {\n",
       "        vertical-align: middle;\n",
       "    }\n",
       "\n",
       "    .dataframe tbody tr th {\n",
       "        vertical-align: top;\n",
       "    }\n",
       "\n",
       "    .dataframe thead th {\n",
       "        text-align: right;\n",
       "    }\n",
       "</style>\n",
       "<table border=\"1\" class=\"dataframe\">\n",
       "  <thead>\n",
       "    <tr style=\"text-align: right;\">\n",
       "      <th></th>\n",
       "      <th>ID</th>\n",
       "      <th>Qualification</th>\n",
       "      <th>Gender</th>\n",
       "      <th>Multiplexity</th>\n",
       "      <th>Support</th>\n",
       "      <th>Proximity</th>\n",
       "    </tr>\n",
       "  </thead>\n",
       "  <tbody>\n",
       "    <tr>\n",
       "      <th>0</th>\n",
       "      <td>210</td>\n",
       "      <td>1</td>\n",
       "      <td>1</td>\n",
       "      <td>3</td>\n",
       "      <td>2</td>\n",
       "      <td>4</td>\n",
       "    </tr>\n",
       "    <tr>\n",
       "      <th>1</th>\n",
       "      <td>25</td>\n",
       "      <td>2</td>\n",
       "      <td>1</td>\n",
       "      <td>1</td>\n",
       "      <td>1</td>\n",
       "      <td>1</td>\n",
       "    </tr>\n",
       "    <tr>\n",
       "      <th>2</th>\n",
       "      <td>27</td>\n",
       "      <td>2</td>\n",
       "      <td>1</td>\n",
       "      <td>3</td>\n",
       "      <td>1</td>\n",
       "      <td>2</td>\n",
       "    </tr>\n",
       "    <tr>\n",
       "      <th>3</th>\n",
       "      <td>28</td>\n",
       "      <td>2</td>\n",
       "      <td>1</td>\n",
       "      <td>2</td>\n",
       "      <td>1</td>\n",
       "      <td>1</td>\n",
       "    </tr>\n",
       "    <tr>\n",
       "      <th>4</th>\n",
       "      <td>31</td>\n",
       "      <td>2</td>\n",
       "      <td>1</td>\n",
       "      <td>1</td>\n",
       "      <td>1</td>\n",
       "      <td>2</td>\n",
       "    </tr>\n",
       "  </tbody>\n",
       "</table>\n",
       "</div>"
      ],
      "text/plain": [
       "    ID  Qualification  Gender  Multiplexity  Support  Proximity\n",
       "0  210              1       1             3        2          4\n",
       "1   25              2       1             1        1          1\n",
       "2   27              2       1             3        1          2\n",
       "3   28              2       1             2        1          1\n",
       "4   31              2       1             1        1          2"
      ]
     },
     "execution_count": 5,
     "metadata": {},
     "output_type": "execute_result"
    }
   ],
   "source": [
    "# use pandas to import list of nodes with attributes\n",
    "nodes = pd.read_table('Ego210_Nodes.txt', sep='\\t')\n",
    "nodes.head()"
   ]
  },
  {
   "cell_type": "markdown",
   "metadata": {},
   "source": [
    "La première ligne de la table est \"Ego\", c'est-à-dire l'individu 210. \n",
    "\n",
    "Les différentes variables de la table sont : \n",
    "- Qualification en 6 catégories. \n",
    "- Genre : 1 et 2\n",
    "- Multiplexity : la personne est-elle en contact avec Ego que online, que offline ou les deux (3) ?\n",
    "- Support = Est-ce que cette personne pourrait fournir du soutien à Ego ?\n",
    "- Proximity = très proche ou peu proche, codé entre 1 et 4 \n",
    "\n",
    "Ces variables pourraient potentiellement être intéressantes pour tester la force des liens. "
   ]
  },
  {
   "cell_type": "code",
   "execution_count": 10,
   "metadata": {},
   "outputs": [
    {
     "name": "stdout",
     "output_type": "stream",
     "text": [
      "    ID  Qualification  Gender  Multiplexity  Support  Proximity\n",
      "0  210              1       1             3        2          4\n"
     ]
    }
   ],
   "source": [
    "# Let's select Ego\n",
    "ego = nodes[nodes.ID==210]\n",
    "print(ego)"
   ]
  },
  {
   "cell_type": "code",
   "execution_count": 11,
   "metadata": {},
   "outputs": [
    {
     "data": {
      "text/html": [
       "<div>\n",
       "<style scoped>\n",
       "    .dataframe tbody tr th:only-of-type {\n",
       "        vertical-align: middle;\n",
       "    }\n",
       "\n",
       "    .dataframe tbody tr th {\n",
       "        vertical-align: top;\n",
       "    }\n",
       "\n",
       "    .dataframe thead th {\n",
       "        text-align: right;\n",
       "    }\n",
       "</style>\n",
       "<table border=\"1\" class=\"dataframe\">\n",
       "  <thead>\n",
       "    <tr style=\"text-align: right;\">\n",
       "      <th></th>\n",
       "      <th>ID</th>\n",
       "      <th>Qualification</th>\n",
       "      <th>Gender</th>\n",
       "      <th>Multiplexity</th>\n",
       "      <th>Support</th>\n",
       "      <th>Proximity</th>\n",
       "    </tr>\n",
       "  </thead>\n",
       "  <tbody>\n",
       "    <tr>\n",
       "      <th>1</th>\n",
       "      <td>25</td>\n",
       "      <td>2</td>\n",
       "      <td>1</td>\n",
       "      <td>1</td>\n",
       "      <td>1</td>\n",
       "      <td>1</td>\n",
       "    </tr>\n",
       "    <tr>\n",
       "      <th>2</th>\n",
       "      <td>27</td>\n",
       "      <td>2</td>\n",
       "      <td>1</td>\n",
       "      <td>3</td>\n",
       "      <td>1</td>\n",
       "      <td>2</td>\n",
       "    </tr>\n",
       "    <tr>\n",
       "      <th>3</th>\n",
       "      <td>28</td>\n",
       "      <td>2</td>\n",
       "      <td>1</td>\n",
       "      <td>2</td>\n",
       "      <td>1</td>\n",
       "      <td>1</td>\n",
       "    </tr>\n",
       "    <tr>\n",
       "      <th>4</th>\n",
       "      <td>31</td>\n",
       "      <td>2</td>\n",
       "      <td>1</td>\n",
       "      <td>1</td>\n",
       "      <td>1</td>\n",
       "      <td>2</td>\n",
       "    </tr>\n",
       "    <tr>\n",
       "      <th>5</th>\n",
       "      <td>33</td>\n",
       "      <td>2</td>\n",
       "      <td>1</td>\n",
       "      <td>2</td>\n",
       "      <td>1</td>\n",
       "      <td>1</td>\n",
       "    </tr>\n",
       "  </tbody>\n",
       "</table>\n",
       "</div>"
      ],
      "text/plain": [
       "   ID  Qualification  Gender  Multiplexity  Support  Proximity\n",
       "1  25              2       1             1        1          1\n",
       "2  27              2       1             3        1          2\n",
       "3  28              2       1             2        1          1\n",
       "4  31              2       1             1        1          2\n",
       "5  33              2       1             2        1          1"
      ]
     },
     "execution_count": 11,
     "metadata": {},
     "output_type": "execute_result"
    }
   ],
   "source": [
    "# Select alters \n",
    "alters = nodes[nodes.ID != 210]\n",
    "alters.head()"
   ]
  },
  {
   "cell_type": "code",
   "execution_count": 14,
   "metadata": {},
   "outputs": [
    {
     "data": {
      "text/html": [
       "<div>\n",
       "<style scoped>\n",
       "    .dataframe tbody tr th:only-of-type {\n",
       "        vertical-align: middle;\n",
       "    }\n",
       "\n",
       "    .dataframe tbody tr th {\n",
       "        vertical-align: top;\n",
       "    }\n",
       "\n",
       "    .dataframe thead th {\n",
       "        text-align: right;\n",
       "    }\n",
       "</style>\n",
       "<table border=\"1\" class=\"dataframe\">\n",
       "  <thead>\n",
       "    <tr style=\"text-align: right;\">\n",
       "      <th></th>\n",
       "      <th>V1</th>\n",
       "      <th>V2</th>\n",
       "      <th>Type</th>\n",
       "    </tr>\n",
       "  </thead>\n",
       "  <tbody>\n",
       "    <tr>\n",
       "      <th>0</th>\n",
       "      <td>210</td>\n",
       "      <td>25</td>\n",
       "      <td>1</td>\n",
       "    </tr>\n",
       "    <tr>\n",
       "      <th>1</th>\n",
       "      <td>210</td>\n",
       "      <td>27</td>\n",
       "      <td>1</td>\n",
       "    </tr>\n",
       "    <tr>\n",
       "      <th>2</th>\n",
       "      <td>210</td>\n",
       "      <td>31</td>\n",
       "      <td>1</td>\n",
       "    </tr>\n",
       "    <tr>\n",
       "      <th>3</th>\n",
       "      <td>210</td>\n",
       "      <td>34</td>\n",
       "      <td>1</td>\n",
       "    </tr>\n",
       "    <tr>\n",
       "      <th>4</th>\n",
       "      <td>210</td>\n",
       "      <td>35</td>\n",
       "      <td>1</td>\n",
       "    </tr>\n",
       "  </tbody>\n",
       "</table>\n",
       "</div>"
      ],
      "text/plain": [
       "    V1  V2  Type\n",
       "0  210  25     1\n",
       "1  210  27     1\n",
       "2  210  31     1\n",
       "3  210  34     1\n",
       "4  210  35     1"
      ]
     },
     "execution_count": 14,
     "metadata": {},
     "output_type": "execute_result"
    }
   ],
   "source": [
    "# use pandas to import edgelist as a table\n",
    "EgoEdges = pd.read_table('Ego210_Edges.txt', sep=',')\n",
    "EgoEdges.head()"
   ]
  },
  {
   "cell_type": "markdown",
   "metadata": {},
   "source": [
    "On va créer un graphe Ego210. \n",
    "- V1 : noeud 1\n",
    "- V2 : noeud 2\n",
    "- Type : c'est un attribut de lien. En ligne = 1, Hors ligne = 2. \n",
    "\n",
    "Les liens ne sont pas orientés comme bien souvent dans les réseaux qualifiés de personnels. \n",
    "\n",
    "C'est un `MultiGraph` qui permet d'introduire des liens de types différents, ou, même si ce n'est pas le cas ici, d'introduire des liens vers soi-même (*loops*). \n",
    "\n",
    "Remarque : l'attribut `edge_attr = 'Type'` ajoute l'attribut type afin de garder la double nature des liens. \n",
    "\n"
   ]
  },
  {
   "cell_type": "code",
   "execution_count": 18,
   "metadata": {},
   "outputs": [
    {
     "name": "stdout",
     "output_type": "stream",
     "text": [
      "Name: \n",
      "Type: MultiGraph\n",
      "Number of nodes: 51\n",
      "Number of edges: 114\n",
      "Average degree:   4.4706\n"
     ]
    }
   ],
   "source": [
    "# generate graph from pandas edgelist\n",
    "# it is an undirected multigraph\n",
    "# a 'multigraph' accepts multiple types of ties (here, online and offline)\n",
    "\n",
    "Ego210 = nx.from_pandas_edgelist(EgoEdges, 'V1', 'V2', edge_attr ='Type', create_using=nx.MultiGraph()) \n",
    "print(nx.info(Ego210))"
   ]
  },
  {
   "cell_type": "markdown",
   "metadata": {},
   "source": [
    "Si on l'avait chargé comme graphe normal, ce qui change c'est le nombre d'*edges* qui change et diminue. Il y en a désormais 71 au lieu de 114. "
   ]
  },
  {
   "cell_type": "code",
   "execution_count": 19,
   "metadata": {},
   "outputs": [
    {
     "name": "stdout",
     "output_type": "stream",
     "text": [
      "Name: \n",
      "Type: Graph\n",
      "Number of nodes: 51\n",
      "Number of edges: 71\n",
      "Average degree:   2.7843\n"
     ]
    }
   ],
   "source": [
    "# Note: if we had created it as a simple undirected graph, networkx would have omitted multiple ties\n",
    "test = nx.from_pandas_edgelist(EgoEdges, 'V1', 'V2', create_using=nx.Graph()) \n",
    "print(nx.info(test))"
   ]
  },
  {
   "cell_type": "code",
   "execution_count": 20,
   "metadata": {},
   "outputs": [
    {
     "name": "stdout",
     "output_type": "stream",
     "text": [
      "[(210, {'Qualification': 1, 'Gender': 1, 'Multiplexity': 3, 'Support': 2, 'Proximity': 4}), (25, {'Qualification': 2, 'Gender': 1, 'Multiplexity': 1, 'Support': 1, 'Proximity': 1}), (27, {'Qualification': 2, 'Gender': 1, 'Multiplexity': 3, 'Support': 1, 'Proximity': 2}), (31, {'Qualification': 2, 'Gender': 1, 'Multiplexity': 1, 'Support': 1, 'Proximity': 2}), (34, {'Qualification': 2, 'Gender': 1, 'Multiplexity': 3, 'Support': 1, 'Proximity': 2}), (35, {'Qualification': 2, 'Gender': 1, 'Multiplexity': 3, 'Support': 1, 'Proximity': 2}), (39, {'Qualification': 4, 'Gender': 1, 'Multiplexity': 3, 'Support': 2, 'Proximity': 2}), (95, {'Qualification': 1, 'Gender': 2, 'Multiplexity': 3, 'Support': 2, 'Proximity': 3}), (106, {'Qualification': 2, 'Gender': 2, 'Multiplexity': 3, 'Support': 1, 'Proximity': 3}), (110, {'Qualification': 4, 'Gender': 2, 'Multiplexity': 3, 'Support': 1, 'Proximity': 1}), (112, {'Qualification': 6, 'Gender': 1, 'Multiplexity': 3, 'Support': 1, 'Proximity': 1}), (124, {'Qualification': 2, 'Gender': 2, 'Multiplexity': 3, 'Support': 1, 'Proximity': 1}), (132, {'Qualification': 2, 'Gender': 2, 'Multiplexity': 3, 'Support': 1, 'Proximity': 1}), (140, {'Qualification': 4, 'Gender': 2, 'Multiplexity': 3, 'Support': 1, 'Proximity': 1}), (260, {'Qualification': 2, 'Gender': 2, 'Multiplexity': 3, 'Support': 2, 'Proximity': 2}), (270, {'Qualification': 5, 'Gender': 2, 'Multiplexity': 1, 'Support': 2, 'Proximity': 1}), (290, {'Qualification': 4, 'Gender': 1, 'Multiplexity': 1, 'Support': 2, 'Proximity': 2}), (317, {'Qualification': 4, 'Gender': 1, 'Multiplexity': 3, 'Support': 1, 'Proximity': 1}), (320, {'Qualification': 4, 'Gender': 1, 'Multiplexity': 1, 'Support': 1, 'Proximity': 1}), (330, {'Qualification': 2, 'Gender': 2, 'Multiplexity': 3, 'Support': 1, 'Proximity': 2}), (340, {'Qualification': 2, 'Gender': 1, 'Multiplexity': 3, 'Support': 2, 'Proximity': 2}), (350, {'Qualification': 2, 'Gender': 1, 'Multiplexity': 3, 'Support': 2, 'Proximity': 2}), (360, {'Qualification': 2, 'Gender': 2, 'Multiplexity': 1, 'Support': 1, 'Proximity': 2}), (370, {'Qualification': 2, 'Gender': 2, 'Multiplexity': 3, 'Support': 1, 'Proximity': 1}), (410, {'Qualification': 2, 'Gender': 1, 'Multiplexity': 3, 'Support': 2, 'Proximity': 2}), (411, {'Qualification': 3, 'Gender': 1, 'Multiplexity': 3, 'Support': 2, 'Proximity': 3}), (420, {'Qualification': 5, 'Gender': 2, 'Multiplexity': 1, 'Support': 2, 'Proximity': 1}), (430, {'Qualification': 4, 'Gender': 2, 'Multiplexity': 1, 'Support': 1, 'Proximity': 1}), (440, {'Qualification': 2, 'Gender': 1, 'Multiplexity': 1, 'Support': 1, 'Proximity': 1}), (450, {'Qualification': 4, 'Gender': 1, 'Multiplexity': 1, 'Support': 1, 'Proximity': 1}), (511, {'Qualification': 3, 'Gender': 2, 'Multiplexity': 3, 'Support': 1, 'Proximity': 2}), (729, {'Qualification': 5, 'Gender': 1, 'Multiplexity': 1, 'Support': 2, 'Proximity': 1}), (828, {'Qualification': 3, 'Gender': 2, 'Multiplexity': 3, 'Support': 2, 'Proximity': 3}), (1620, {'Qualification': 2, 'Gender': 1, 'Multiplexity': 3, 'Support': 2, 'Proximity': 2}), (1719, {'Qualification': 2, 'Gender': 1, 'Multiplexity': 3, 'Support': 1, 'Proximity': 1}), (1815, {'Qualification': 2, 'Gender': 2, 'Multiplexity': 1, 'Support': 1, 'Proximity': 1}), (1916, {'Qualification': 6, 'Gender': 1, 'Multiplexity': 1, 'Support': 1, 'Proximity': 1}), (2113, {'Qualification': 2, 'Gender': 2, 'Multiplexity': 3, 'Support': 2, 'Proximity': 2}), (2214, {'Qualification': 2, 'Gender': 1, 'Multiplexity': 3, 'Support': 2, 'Proximity': 3}), (2317, {'Qualification': 4, 'Gender': 2, 'Multiplexity': 3, 'Support': 1, 'Proximity': 1}), (2418, {'Qualification': 2, 'Gender': 2, 'Multiplexity': 1, 'Support': 1, 'Proximity': 1}), (2522, {'Qualification': 2, 'Gender': 1, 'Multiplexity': 3, 'Support': 1, 'Proximity': 2}), (3021, {'Qualification': 6, 'Gender': 2, 'Multiplexity': 3, 'Support': 1, 'Proximity': 1}), (3823, {'Qualification': 2, 'Gender': 1, 'Multiplexity': 3, 'Support': 1, 'Proximity': 2}), (3924, {'Qualification': 4, 'Gender': 1, 'Multiplexity': 3, 'Support': 2, 'Proximity': 2}), (4026, {'Qualification': 3, 'Gender': 1, 'Multiplexity': 1, 'Support': 1, 'Proximity': 2}), (28, {'Qualification': 2, 'Gender': 1, 'Multiplexity': 2, 'Support': 1, 'Proximity': 1}), (33, {'Qualification': 2, 'Gender': 1, 'Multiplexity': 2, 'Support': 1, 'Proximity': 1}), (153, {'Qualification': 3, 'Gender': 1, 'Multiplexity': 2, 'Support': 1, 'Proximity': 1}), (632, {'Qualification': 3, 'Gender': 1, 'Multiplexity': 2, 'Support': 1, 'Proximity': 1}), (2030, {'Qualification': 3, 'Gender': 2, 'Multiplexity': 2, 'Support': 1, 'Proximity': 1})]\n"
     ]
    }
   ],
   "source": [
    "# match nodes of graph with attributes of nodes\n",
    "NodeData = nodes.set_index('ID').to_dict('index').items()\n",
    "Ego210.add_nodes_from(NodeData)\n",
    "\n",
    "# view results\n",
    "print(Ego210.nodes(data=True))"
   ]
  },
  {
   "cell_type": "code",
   "execution_count": 21,
   "metadata": {},
   "outputs": [
    {
     "name": "stdout",
     "output_type": "stream",
     "text": [
      "[(210, 25, {'Type': 1}), (210, 27, {'Type': 1}), (210, 27, {'Type': 2}), (210, 31, {'Type': 1}), (210, 34, {'Type': 1}), (210, 34, {'Type': 2}), (210, 35, {'Type': 1}), (210, 35, {'Type': 2}), (210, 39, {'Type': 1}), (210, 39, {'Type': 2}), (210, 95, {'Type': 1}), (210, 95, {'Type': 2}), (210, 106, {'Type': 1}), (210, 106, {'Type': 2}), (210, 110, {'Type': 1}), (210, 110, {'Type': 2}), (210, 112, {'Type': 1}), (210, 112, {'Type': 2}), (210, 124, {'Type': 1}), (210, 124, {'Type': 2}), (210, 132, {'Type': 1}), (210, 132, {'Type': 2}), (210, 140, {'Type': 1}), (210, 140, {'Type': 2}), (210, 260, {'Type': 1}), (210, 260, {'Type': 2}), (210, 270, {'Type': 1}), (210, 290, {'Type': 1}), (210, 317, {'Type': 1}), (210, 317, {'Type': 2}), (210, 320, {'Type': 1}), (210, 330, {'Type': 1}), (210, 330, {'Type': 2}), (210, 340, {'Type': 1}), (210, 340, {'Type': 2}), (210, 350, {'Type': 1}), (210, 350, {'Type': 2}), (210, 360, {'Type': 1}), (210, 370, {'Type': 1}), (210, 370, {'Type': 2}), (210, 410, {'Type': 1}), (210, 410, {'Type': 2}), (210, 411, {'Type': 1}), (210, 411, {'Type': 2}), (210, 420, {'Type': 1}), (210, 430, {'Type': 1}), (210, 440, {'Type': 1}), (210, 450, {'Type': 1}), (210, 511, {'Type': 1}), (210, 511, {'Type': 2}), (210, 729, {'Type': 1}), (210, 828, {'Type': 1}), (210, 828, {'Type': 2}), (210, 1620, {'Type': 1}), (210, 1620, {'Type': 2}), (210, 1719, {'Type': 1}), (210, 1719, {'Type': 2}), (210, 1815, {'Type': 1}), (210, 1916, {'Type': 1}), (210, 2113, {'Type': 1}), (210, 2113, {'Type': 2}), (210, 2214, {'Type': 1}), (210, 2214, {'Type': 2}), (210, 2317, {'Type': 1}), (210, 2317, {'Type': 2}), (210, 2418, {'Type': 1}), (210, 2522, {'Type': 1}), (210, 2522, {'Type': 2}), (210, 3021, {'Type': 1}), (210, 3021, {'Type': 2}), (210, 3823, {'Type': 1}), (210, 3823, {'Type': 2}), (210, 3924, {'Type': 1}), (210, 3924, {'Type': 2}), (210, 4026, {'Type': 1}), (210, 28, {'Type': 2}), (210, 33, {'Type': 2}), (210, 153, {'Type': 2}), (210, 632, {'Type': 2}), (210, 2030, {'Type': 2}), (27, 1620, {'Type': 1}), (27, 1620, {'Type': 2}), (27, 3823, {'Type': 1}), (27, 3823, {'Type': 2}), (31, 35, {'Type': 1}), (31, 320, {'Type': 1}), (35, 39, {'Type': 1}), (95, 112, {'Type': 1}), (95, 112, {'Type': 2}), (95, 3021, {'Type': 1}), (95, 3021, {'Type': 2}), (112, 3021, {'Type': 1}), (112, 3021, {'Type': 2}), (132, 350, {'Type': 1}), (132, 350, {'Type': 2}), (260, 340, {'Type': 1}), (260, 340, {'Type': 2}), (260, 440, {'Type': 1}), (320, 440, {'Type': 1}), (330, 2522, {'Type': 1}), (330, 2522, {'Type': 2}), (370, 1719, {'Type': 1}), (370, 1719, {'Type': 2}), (411, 511, {'Type': 1}), (411, 511, {'Type': 2}), (411, 828, {'Type': 1}), (411, 828, {'Type': 2}), (440, 2418, {'Type': 1}), (511, 828, {'Type': 1}), (511, 828, {'Type': 2}), (511, 4026, {'Type': 1}), (1620, 632, {'Type': 2}), (2113, 2214, {'Type': 1}), (2113, 2214, {'Type': 2})]\n"
     ]
    }
   ],
   "source": [
    "# view edges\n",
    "print(Ego210.edges(data=True))"
   ]
  },
  {
   "cell_type": "markdown",
   "metadata": {},
   "source": [
    "Quand on fait un draw ça met pas les trucs doubles ? \n",
    "\n",
    "Définir une disposition des noeuds en Layout, je vais utiliser le sprint layout. Je positionne les noeuds selon ce layout et ensuite je dessine les edges avec une fonctionnalités de matplotlib de manière à ce qu'on puisse voir les liens différents entre type 1 et type 2. \n",
    "\n",
    "Question : quelle courbe est de quel type ? C'est vrai, on ne pense pas à le distinguer, on pourrait faire varier la couleur en fonction du type (ou le type pointillé ou continu). N'y avait pas pensé mais ne l'a pas fait mais c'est possible (TODO). \n",
    "\n",
    "Il place bien automatiquement le noeud 210 au centre. C'est le noeud qui a le plus de loin donc l'algorithme le place dans une position centrale. Il a fait les liens en doubles courbés. \n",
    "Les noeuds qui ont tous un double lien ont les 2 liens qui apparaissent bien. \n",
    "On voit bien les liens de 2 types qui apparaissent. \n",
    "On peut avoir un multigraphe complet ou un réseau personnel avec des liens d'un seul type mais là dans notre cas particulier c'est les deux ! \n"
   ]
  },
  {
   "cell_type": "code",
   "execution_count": 23,
   "metadata": {},
   "outputs": [
    {
     "data": {
      "image/png": "[encoded data removed]",
      "text/plain": [
       "<Figure size 432x288 with 1 Axes>"
      ]
     },
     "metadata": {},
     "output_type": "display_data"
    }
   ],
   "source": [
    "# Visualization\n",
    "\n",
    "# define layout\n",
    "pos = nx.spring_layout(Ego210)\n",
    "# draw nodes according to layoabsut\n",
    "nx.draw_networkx_nodes(Ego210, pos, node_color = 'r', node_size = 100, alpha = 1)\n",
    "# use matplotlib to draw edges\n",
    "ax = plt.gca()\n",
    "for e in Ego210.edges:\n",
    "    ax.annotate(\"\",\n",
    "                xy=pos[e[0]], xycoords='data',\n",
    "                xytext=pos[e[1]], textcoords='data',\n",
    "                arrowprops=dict(arrowstyle=\"-\", #multi-graph but not oriented\n",
    "                                color='gray',\n",
    "                                shrinkA=5, shrinkB=5,\n",
    "                                patchA=None, patchB=None,\n",
    "                                #arc3,rad=rrr : permet de faire des courbes plutôt que des lignes\n",
    "                                #au lieu de donner une même valeur pour toutes les courbes, je donne\n",
    "                                #une valeur différente pour type 1 et type 2. \n",
    "                                connectionstyle=\"arc3,rad=rrr\".replace('rrr',str(0.3*e[2])),\n",
    "                                ),\n",
    "                )\n",
    "plt.axis('off')\n",
    "plt.show()"
   ]
  },
  {
   "cell_type": "markdown",
   "metadata": {},
   "source": [
    "## Subset graph: offline-only, online-only, without Ego"
   ]
  },
  {
   "cell_type": "markdown",
   "metadata": {},
   "source": [
    "Je veux par exemple prendre les liens d'un type (ici off-line) et voir à quoi ça ressemble. \n",
    "On peut donc créer un sous-ensemble de graphe que l'on appelle off-line. \n",
    "Offline est un ensemble de liens qui va chercher dans la liste des edges d'origine (u, v, d) = (v1, v2 et le type) car les edges d'origine ont le type en élément. "
   ]
  },
  {
   "cell_type": "code",
   "execution_count": 24,
   "metadata": {},
   "outputs": [
    {
     "name": "stdout",
     "output_type": "stream",
     "text": [
      "Name: \n",
      "Type: Graph\n",
      "Number of nodes: 46\n",
      "Number of edges: 65\n",
      "Average degree:   2.8261\n"
     ]
    }
   ],
   "source": [
    "## Subset graph: take only offline ties\n",
    "\n",
    "# take subset of relevant edges\n",
    "offline = [(u, v) for (u, v, d) in Ego210.edges(data=True) if d[\"Type\"] ==1]\n",
    "\n",
    "# create graph\n",
    "Ego210Offline = nx.Graph(offline)\n",
    "print(nx.info(Ego210Offline))"
   ]
  },
  {
   "cell_type": "markdown",
   "metadata": {},
   "source": [
    "Ce sont les noeuds et les liens qui concernent que les noeuds off-line. On peut le visualiser comme ça, mais on peut avoir envie de le matcher quand même avec notre liste de noeud initiale, ce qui va donner des isolés forcément car il y a 5 noeuds qui n'ont pas de relations hors ligne mais ça permet de comparer plus facilement avec le noeud d'origine. "
   ]
  },
  {
   "cell_type": "code",
   "execution_count": 25,
   "metadata": {},
   "outputs": [
    {
     "name": "stdout",
     "output_type": "stream",
     "text": [
      "Name: \n",
      "Type: Graph\n",
      "Number of nodes: 51\n",
      "Number of edges: 65\n",
      "Average degree:   2.5490\n"
     ]
    }
   ],
   "source": [
    "# match with nodes table to add isolates\n",
    "Ego210Offline.add_nodes_from(NodeData)\n",
    "\n",
    "# view results\n",
    "print(nx.info(Ego210Offline))"
   ]
  },
  {
   "cell_type": "markdown",
   "metadata": {},
   "source": [
    "On va pour visualiser utiliser la même stratégie et le même mositionnement que tout à l'heure. Donc je garde le pos de précédemment, même si les liens vont être ici différents. Il y a moins de lien et il y en a plus qui sont doubles. "
   ]
  },
  {
   "cell_type": "code",
   "execution_count": 26,
   "metadata": {},
   "outputs": [
    {
     "data": {
      "image/png": "[encoded data removed]",
      "text/plain": [
       "<Figure size 432x288 with 1 Axes>"
      ]
     },
     "metadata": {},
     "output_type": "display_data"
    }
   ],
   "source": [
    "# Visualization\n",
    "\n",
    "# keep the same layout as before (\"pos\") to compare\n",
    "# draw nodes according to this layout\n",
    "nx.draw_networkx_nodes(Ego210Offline, pos, node_color = 'r', node_size = 100, alpha = 1)\n",
    "# use matplotlib to draw edges\n",
    "ax = plt.gca()\n",
    "for e in Ego210Offline.edges:\n",
    "    ax.annotate(\"\",\n",
    "                xy=pos[e[0]], xycoords='data',\n",
    "                xytext=pos[e[1]], textcoords='data',\n",
    "                arrowprops=dict(arrowstyle=\"-\",\n",
    "                                color='gray',\n",
    "                                shrinkA=5, shrinkB=5,\n",
    "                                patchA=None, patchB=None,\n",
    "                                connectionstyle=\"arc3,rad=0.3\"),\n",
    "                                )\n",
    "plt.axis('off')\n",
    "plt.show()"
   ]
  },
  {
   "cell_type": "markdown",
   "metadata": {},
   "source": [
    "##### Exercise: now, repeat the same for online ties"
   ]
  },
  {
   "cell_type": "code",
   "execution_count": 27,
   "metadata": {},
   "outputs": [
    {
     "name": "stdout",
     "output_type": "stream",
     "text": [
      "Name: \n",
      "Type: Graph\n",
      "Number of nodes: 36\n",
      "Number of edges: 49\n",
      "Average degree:   2.7222\n",
      "Name: \n",
      "Type: Graph\n",
      "Number of nodes: 51\n",
      "Number of edges: 49\n",
      "Average degree:   1.9216\n"
     ]
    },
    {
     "data": {
      "image/png": "[encoded data removed]",
      "text/plain": [
       "<Figure size 432x288 with 1 Axes>"
      ]
     },
     "metadata": {},
     "output_type": "display_data"
    }
   ],
   "source": [
    "## Subset graph: take only offline ties\n",
    "\n",
    "# take subset of relevant edges\n",
    "online = [(u, v) for (u, v, d) in Ego210.edges(data=True) if d[\"Type\"] ==2]\n",
    "\n",
    "# create graph\n",
    "Ego210Online = nx.Graph(online)\n",
    "print(nx.info(Ego210Online))\n",
    "\n",
    "# match with nodes table to add isolates\n",
    "Ego210Online.add_nodes_from(NodeData)\n",
    "\n",
    "# view results\n",
    "print(nx.info(Ego210Online))\n",
    "\n",
    "# Visualization\n",
    "\n",
    "# keep the same layout as before (\"pos\") to compare\n",
    "# draw nodes according to this layout\n",
    "nx.draw_networkx_nodes(Ego210Online, pos, node_color = 'r', node_size = 100, alpha = 1)\n",
    "# use matplotlib to draw edges\n",
    "ax = plt.gca()\n",
    "for e in Ego210Online.edges:\n",
    "    ax.annotate(\"\",\n",
    "                xy=pos[e[0]], xycoords='data',\n",
    "                xytext=pos[e[1]], textcoords='data',\n",
    "                arrowprops=dict(arrowstyle=\"-\",\n",
    "                                color='gray',\n",
    "                                shrinkA=5, shrinkB=5,\n",
    "                                patchA=None, patchB=None,\n",
    "                                connectionstyle=\"arc3,rad=0.3\"),\n",
    "                                )\n",
    "plt.axis('off')\n",
    "plt.show()"
   ]
  },
  {
   "cell_type": "markdown",
   "metadata": {},
   "source": [
    "##### Remove Ego from the graphe"
   ]
  },
  {
   "cell_type": "markdown",
   "metadata": {},
   "source": [
    "Faire le graphe sans Ego car le fait qu'Ego ait des relations avec tout le monde est une information un peu redondante. On sait déjà enlever un noeud. Mais il vaut mieux faire une copie et changer la copie, mais de manière à garder quand même le graphe d'origine. "
   ]
  },
  {
   "cell_type": "code",
   "execution_count": 28,
   "metadata": {},
   "outputs": [],
   "source": [
    "# Graph without Ego\n",
    "Ego210_noEgo = Ego210.copy()\n",
    "Ego210_noEgo.remove_node(210)"
   ]
  },
  {
   "cell_type": "code",
   "execution_count": 29,
   "metadata": {},
   "outputs": [
    {
     "name": "stdout",
     "output_type": "stream",
     "text": [
      "Name: \n",
      "Type: MultiGraph\n",
      "Number of nodes: 50\n",
      "Number of edges: 34\n",
      "Average degree:   1.3600\n"
     ]
    }
   ],
   "source": [
    "# View results\n",
    "print(nx.info(Ego210_noEgo))"
   ]
  },
  {
   "cell_type": "markdown",
   "metadata": {},
   "source": [
    "2 choses pour interpréter la densité faible. \n",
    "\n",
    "1.  D'une part le réseau n'est pas très dense. Ce n'est pas très dense car les personnes qui ont des soucis de santé les personnes préfèrent garder des relations séparées pour que les gens ne puissent pas parler entre eux. C'est une sorte de protection. \n",
    "\n",
    "2. Il y a aussi un sujet de méthode. Enquête qui demande à Ego qui sont vos alters (pas dit comme ça) et les relation entre eux. Il est aussi peut-être possible qu'Ego ne connaissent pas toutes les relations de ses alters. "
   ]
  },
  {
   "cell_type": "markdown",
   "metadata": {},
   "source": [
    "##### Exercise: now, visualize it with the same layout as Ego210"
   ]
  },
  {
   "cell_type": "markdown",
   "metadata": {},
   "source": [
    "Visualisation : on peut ou non garder le même layout. Rajouter la couleur avec les types pour la version rendue. "
   ]
  },
  {
   "cell_type": "code",
   "execution_count": 32,
   "metadata": {},
   "outputs": [
    {
     "data": {
      "image/png": "[encoded data removed]",
      "text/plain": [
       "<Figure size 432x288 with 1 Axes>"
      ]
     },
     "metadata": {},
     "output_type": "display_data"
    }
   ],
   "source": [
    "# Visualization\n",
    "\n",
    "# define layout\n",
    "# pos = nx.spring_layout(Ego210)\n",
    "# draw nodes according to layoabsut\n",
    "nx.draw_networkx_nodes(Ego210_noEgo, pos, node_color = 'r', node_size = 100, alpha = 1)\n",
    "# use matplotlib to draw edges\n",
    "ax = plt.gca()\n",
    "for e in Ego210_noEgo.edges:\n",
    "    ax.annotate(\"\",\n",
    "                xy=pos[e[0]], xycoords='data',\n",
    "                xytext=pos[e[1]], textcoords='data',\n",
    "                arrowprops=dict(arrowstyle=\"-\", #multi-graph but not oriented\n",
    "                                color='gray',\n",
    "                                shrinkA=5, shrinkB=5,\n",
    "                                patchA=None, patchB=None,\n",
    "                                #arc3,rad=rrr : permet de faire des courbes plutôt que des lignes\n",
    "                                #au lieu de donner une même valeur pour toutes les courbes, je donne\n",
    "                                #une valeur différente pour type 1 et type 2. \n",
    "                                connectionstyle=\"arc3,rad=rrr\".replace('rrr',str(0.3*e[2])),\n",
    "                                ),\n",
    "                )\n",
    "plt.axis('off')\n",
    "plt.show()"
   ]
  },
  {
   "cell_type": "markdown",
   "metadata": {},
   "source": [
    "##### Weighted graphe\n",
    "\n",
    "On peut avoir envie de faire un graphe pondéré. On peut interpréter un lien plus fort si le lien est double. \n",
    "Si une personne a un contact fort avec quelqu'un à la fois en ligne et hors ligne est sûrement plus fort qu'en ligne. Mais en temps de Covid-19 bien sûr cette interprétation n'est pas forcément la bonne ! \n",
    "On va donc transformer ce graphe avec cette idée en tête. "
   ]
  },
  {
   "cell_type": "code",
   "execution_count": 39,
   "metadata": {},
   "outputs": [
    {
     "name": "stdout",
     "output_type": "stream",
     "text": [
      "Name: \n",
      "Type: Graph\n",
      "Number of nodes: 51\n",
      "Number of edges: 71\n",
      "Average degree:   2.7843\n"
     ]
    }
   ],
   "source": [
    "## Create weighted undirected graph from multigraph\n",
    "# Idea : each tie has value 2 if it is both online and offline, 1 otherwise\n",
    "# We can interpret multiplexity as tie strength\n",
    "\n",
    "Ego210WUG = nx.Graph()\n",
    "\n",
    "for u,v,data in Ego210.edges(data=True):\n",
    "    w = 1   \n",
    "    if Ego210WUG.has_edge(u,v):\n",
    "        Ego210WUG[u][v]['weight'] += w\n",
    "    else:\n",
    "        Ego210WUG.add_edge(u, v, weight=w)\n",
    "\n",
    "print(nx.info(Ego210WUG))"
   ]
  },
  {
   "cell_type": "markdown",
   "metadata": {},
   "source": [
    "51 noeuds, il y a aussi Ego. \n",
    "71 edges : chiffre qu'on a déjà rencontrés : nombre de liens unique. C'est bien ce qu'on voulait mais la différence par rapport au cas naïf de test c'est qu'ici on a donné un poids aux liens. \n",
    "\n",
    "On fait apparaître la liste des edges de ce nouvel objet. le poids vaut 1 si le lien apparaissait une fois et 2 s'ils apparaissait 2 fois. \n"
   ]
  },
  {
   "cell_type": "code",
   "execution_count": 40,
   "metadata": {},
   "outputs": [
    {
     "name": "stdout",
     "output_type": "stream",
     "text": [
      "[(210, 25, {'weight': 1}), (210, 27, {'weight': 2}), (210, 31, {'weight': 1}), (210, 34, {'weight': 2}), (210, 35, {'weight': 2}), (210, 39, {'weight': 2}), (210, 95, {'weight': 2}), (210, 106, {'weight': 2}), (210, 110, {'weight': 2}), (210, 112, {'weight': 2}), (210, 124, {'weight': 2}), (210, 132, {'weight': 2}), (210, 140, {'weight': 2}), (210, 260, {'weight': 2}), (210, 270, {'weight': 1}), (210, 290, {'weight': 1}), (210, 317, {'weight': 2}), (210, 320, {'weight': 1}), (210, 330, {'weight': 2}), (210, 340, {'weight': 2}), (210, 350, {'weight': 2}), (210, 360, {'weight': 1}), (210, 370, {'weight': 2}), (210, 410, {'weight': 2}), (210, 411, {'weight': 2}), (210, 420, {'weight': 1}), (210, 430, {'weight': 1}), (210, 440, {'weight': 1}), (210, 450, {'weight': 1}), (210, 511, {'weight': 2}), (210, 729, {'weight': 1}), (210, 828, {'weight': 2}), (210, 1620, {'weight': 2}), (210, 1719, {'weight': 2}), (210, 1815, {'weight': 1}), (210, 1916, {'weight': 1}), (210, 2113, {'weight': 2}), (210, 2214, {'weight': 2}), (210, 2317, {'weight': 2}), (210, 2418, {'weight': 1}), (210, 2522, {'weight': 2}), (210, 3021, {'weight': 2}), (210, 3823, {'weight': 2}), (210, 3924, {'weight': 2}), (210, 4026, {'weight': 1}), (210, 28, {'weight': 1}), (210, 33, {'weight': 1}), (210, 153, {'weight': 1}), (210, 632, {'weight': 1}), (210, 2030, {'weight': 1}), (27, 1620, {'weight': 2}), (27, 3823, {'weight': 2}), (31, 35, {'weight': 1}), (31, 320, {'weight': 1}), (35, 39, {'weight': 1}), (95, 112, {'weight': 2}), (95, 3021, {'weight': 2}), (112, 3021, {'weight': 2}), (132, 350, {'weight': 2}), (260, 340, {'weight': 2}), (260, 440, {'weight': 1}), (320, 440, {'weight': 1}), (330, 2522, {'weight': 2}), (370, 1719, {'weight': 2}), (411, 511, {'weight': 2}), (411, 828, {'weight': 2}), (440, 2418, {'weight': 1}), (511, 828, {'weight': 2}), (511, 4026, {'weight': 1}), (1620, 632, {'weight': 1}), (2113, 2214, {'weight': 2})]\n"
     ]
    }
   ],
   "source": [
    "print(Ego210WUG.edges(data=True))"
   ]
  },
  {
   "cell_type": "markdown",
   "metadata": {},
   "source": [
    "Une manière assez intuitive de visualiser les choses. On a pas pu le voir avant mais on peut le faire maintenant de manière intuitive. En utilisant l'épaisseur du trait. On le fait ici sur un réseau personnel mais on pourrait aussi le faire avec des réseaux complexes. Il faut avoir des attributs de liens interprétables. \n",
    "Plusieurs manières de faire : une solution est de définir 2 sous-ensemble (strong and weaks ties) et on fait varier en fonction l'épaisseur des liens. "
   ]
  },
  {
   "cell_type": "code",
   "execution_count": 44,
   "metadata": {},
   "outputs": [
    {
     "data": {
      "text/plain": [
       "<matplotlib.collections.LineCollection at 0x1d25c582888>"
      ]
     },
     "execution_count": 44,
     "metadata": {},
     "output_type": "execute_result"
    },
    {
     "data": {
      "image/png": "[encoded data removed]",
      "text/plain": [
       "<Figure size 432x288 with 1 Axes>"
      ]
     },
     "metadata": {},
     "output_type": "display_data"
    }
   ],
   "source": [
    "# Visualization\n",
    "\n",
    "strongTies = [(u, v) for (u, v, d) in Ego210WUG.edges(data=True) if d[\"weight\"] > 1]\n",
    "weakTies = [(u, v) for (u, v, d) in Ego210WUG.edges(data=True) if d[\"weight\"] <= 1]\n",
    "\n",
    "pos = nx.spring_layout(Ego210WUG)  # positions for all nodes\n",
    "\n",
    "# nodes\n",
    "nx.draw_networkx_nodes(Ego210WUG, pos, node_color = 'r', node_size = 100, alpha = 1)\n",
    "\n",
    "# edges\n",
    "nx.draw_networkx_edges(Ego210WUG, pos, edgelist=strongTies, width=5, alpha=0.5)  # strong ties\n",
    "nx.draw_networkx_edges(Ego210WUG, pos, edgelist=weakTies, width=2, alpha=1) # weak ties\n"
   ]
  },
  {
   "cell_type": "markdown",
   "metadata": {},
   "source": [
    "## Personal network composition indicators"
   ]
  },
  {
   "cell_type": "code",
   "execution_count": 50,
   "metadata": {},
   "outputs": [
    {
     "data": {
      "text/plain": [
       "0.6624"
      ]
     },
     "execution_count": 50,
     "metadata": {},
     "output_type": "execute_result"
    }
   ],
   "source": [
    "## Blau index\n",
    "\n",
    "# recall it is equal to 1 - p1^2 - p2^2 - ... - pk^2\n",
    "\n",
    "# first create a function\n",
    "def blau(df, col):\n",
    "    return (1- ((df[col].value_counts() / df[col].count()) ** 2).sum())\n",
    "\n",
    "# then apply it to the 'alters' table, attribute 'Qualification'\n",
    "blau(alters, 'Qualification')"
   ]
  },
  {
   "cell_type": "code",
   "execution_count": 73,
   "metadata": {},
   "outputs": [
    {
     "name": "stdout",
     "output_type": "stream",
     "text": [
      "[2 4 1 6 3 5]\n"
     ]
    }
   ],
   "source": [
    "# NB if you need to see how many/ which categories are represented in a categorical variables\n",
    "print (alters['Qualification'].unique())"
   ]
  },
  {
   "cell_type": "code",
   "execution_count": 74,
   "metadata": {},
   "outputs": [
    {
     "name": "stdout",
     "output_type": "stream",
     "text": [
      "k : 6\n"
     ]
    },
    {
     "data": {
      "text/plain": [
       "0.7948799999999999"
      ]
     },
     "execution_count": 74,
     "metadata": {},
     "output_type": "execute_result"
    }
   ],
   "source": [
    "# Index of Qualitative Variation\n",
    "# equal to Blau * k/(k-1)\n",
    "# (normalized version)\n",
    "k = len(list(alters['Qualification'].unique()))\n",
    "print(\"k :\",k)\n",
    "blau(alters, 'Qualification')*(k/(k-1))"
   ]
  },
  {
   "cell_type": "code",
   "execution_count": 76,
   "metadata": {},
   "outputs": [
    {
     "data": {
      "text/plain": [
       "0.3376"
      ]
     },
     "execution_count": 76,
     "metadata": {},
     "output_type": "execute_result"
    }
   ],
   "source": [
    "# Herfindahl-Hirschman index (HHI)\n",
    "# equal to 1 - Blau\n",
    "1 - blau(alters, 'Qualification')"
   ]
  },
  {
   "cell_type": "markdown",
   "metadata": {},
   "source": [
    "#### Exercise: calculate these indexes for the other attributes (Gender, Multiplexity, Support and Proximity)"
   ]
  },
  {
   "cell_type": "code",
   "execution_count": 80,
   "metadata": {},
   "outputs": [
    {
     "name": "stdout",
     "output_type": "stream",
     "text": [
      "Blau index\n",
      "\n",
      "Qualification :  0.6624\n",
      "Gender :  0.4872000000000001\n",
      "Multiplexity :  0.54\n",
      "Support :  0.4351999999999999\n",
      "Proximity :  0.5751999999999999\n",
      "\n",
      "Index of Qualitative Variation\n",
      "\n",
      "Qualification (k = 6 ) : 0.7948799999999999\n",
      "Gender (k = 2 ) : 0.9744000000000002\n",
      "Multiplexity (k = 3 ) : 0.81\n",
      "Support (k = 2 ) : 0.8703999999999998\n",
      "Proximity (k = 3 ) : 0.8627999999999999\n",
      "\n",
      "Herfindahl-Hirschman index \n",
      "\n",
      "Qualification :  0.3376\n",
      "Gender :  0.5127999999999999\n",
      "Multiplexity :  0.45999999999999996\n",
      "Support :  0.5648000000000001\n",
      "Proximity :  0.42480000000000007\n"
     ]
    }
   ],
   "source": [
    "variables = ['Qualification','Gender','Multiplexity','Support','Proximity']\n",
    "\n",
    "print('Blau index\\n')\n",
    "for var in variables:\n",
    "    print(var,\": \",blau(alters, var))\n",
    "    \n",
    "print('\\nIndex of Qualitative Variation\\n')\n",
    "for var in variables:\n",
    "    k = len(list(alters[var].unique()))\n",
    "    blau(alters, var)*(k/(k-1))\n",
    "    print(var,\"(k =\",k,\") :\",blau(alters, var)*(k/(k-1)))\n",
    "    \n",
    "print('\\nHerfindahl-Hirschman index \\n')\n",
    "for var in variables:\n",
    "    print(var,\": \",1 - blau(alters, var))"
   ]
  },
  {
   "cell_type": "markdown",
   "metadata": {},
   "source": [
    "## Structural measures"
   ]
  },
  {
   "cell_type": "code",
   "execution_count": null,
   "metadata": {},
   "outputs": [],
   "source": [
    "# find isolates (components consisting in 1 node, for example in the offline-only network)\n",
    "list(nx.isolates(Ego210Offline)) "
   ]
  },
  {
   "cell_type": "code",
   "execution_count": null,
   "metadata": {},
   "outputs": [],
   "source": [
    "# density (for ex. in the original Ego210 graph)\n",
    "nx.density(Ego210) "
   ]
  },
  {
   "cell_type": "code",
   "execution_count": null,
   "metadata": {},
   "outputs": [],
   "source": [
    "# Transitivity (cannot do it in Ego210 because not implemented for MultiGraph type)\n",
    "print(nx.transitivity(Ego210WUG)) "
   ]
  },
  {
   "cell_type": "markdown",
   "metadata": {},
   "source": [
    "##### In principle, all structural measures can be calculated on a personal / ego network. Just be aware of graph type and relevance of each measure (par ex. reciprocity is not meaningful in un undirected graph)."
   ]
  },
  {
   "cell_type": "markdown",
   "metadata": {},
   "source": [
    "## Exercises for next week"
   ]
  },
  {
   "cell_type": "markdown",
   "metadata": {},
   "source": [
    "##### Take the advice network of Lazega's lawyers.\n",
    "\n",
    "##### Extract the ego-centred network of one of the lawyers i (i = 1,..., 71).\n",
    "###### NB The networkx function to extract the ego graph of i is: Egoi = nx.ego_graph(G, i)\n",
    "\n",
    "##### Describe the ego-network of lawyer i through composition indicators (Blau index etc.) for relevant attributes, and structure indicators (density etc.).\n",
    "\n",
    "##### Bonus: repeat the exercise with the multigraph that results from combining advice, friendship and cowork.\n",
    "\n",
    "##### Please email to paola.tubaro@lri.fr by Tuesday, March 2, 2pm.\n"
   ]
  }
 ],
 "metadata": {
  "kernelspec": {
   "display_name": "Python 3",
   "language": "python",
   "name": "python3"
  },
  "language_info": {
   "codemirror_mode": {
    "name": "ipython",
    "version": 3
   },
   "file_extension": ".py",
   "mimetype": "text/x-python",
   "name": "python",
   "nbconvert_exporter": "python",
   "pygments_lexer": "ipython3",
   "version": "3.7.4"
  }
 },
 "nbformat": 4,
 "nbformat_minor": 4
}
