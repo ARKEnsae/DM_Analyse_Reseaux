{
 "cells": [
  {
   "cell_type": "markdown",
   "metadata": {},
   "source": [
    "# Exercises 24 February 2021\n",
    "\n",
    "## Personal networks, ego networks"
   ]
  },
  {
   "cell_type": "code",
   "execution_count": 1,
   "metadata": {},
   "outputs": [],
   "source": [
    "########### Preparation ##############\n",
    "# import packages\n",
    "import networkx as nx\n",
    "import matplotlib.pyplot as plt\n",
    "import pandas as pd\n",
    "import numpy as np"
   ]
  },
  {
   "cell_type": "code",
   "execution_count": null,
   "metadata": {},
   "outputs": [],
   "source": [
    "ELfriendG = nx.read_edgelist('ELfriend_edgelist.txt',comments=\"node\",create_using=nx.DiGraph(),nodetype=int)\n",
    "ELcowork = nx.read_edgelist('ELcowork_edgelist.txt',comments=\"node\",create_using=nx.Graph(),nodetype=int)\n",
    "ELfriendG.name = \"ELfriend\"\n",
    "ELcowork.name = \"ELcowork\""
   ]
  },
  {
   "cell_type": "code",
   "execution_count": 6,
   "metadata": {},
   "outputs": [
    {
     "name": "stdout",
     "output_type": "stream",
     "text": [
      "      ID  Qualification  Gender  Multiplexity  Support  Proximity\n",
      "0    210              1       1             3        2          4\n",
      "1     25              2       1             1        1          1\n",
      "2     27              2       1             3        1          2\n",
      "3     28              2       1             2        1          1\n",
      "4     31              2       1             1        1          2\n",
      "5     33              2       1             2        1          1\n",
      "6     34              2       1             3        1          2\n",
      "7     35              2       1             3        1          2\n",
      "8     39              4       1             3        2          2\n",
      "9     95              1       2             3        2          3\n",
      "10   106              2       2             3        1          3\n",
      "11   110              4       2             3        1          1\n",
      "12   112              6       1             3        1          1\n",
      "13   124              2       2             3        1          1\n",
      "14   132              2       2             3        1          1\n",
      "15   140              4       2             3        1          1\n",
      "16   153              3       1             2        1          1\n",
      "17   260              2       2             3        2          2\n",
      "18   270              5       2             1        2          1\n",
      "19   290              4       1             1        2          2\n",
      "20   317              4       1             3        1          1\n",
      "21   320              4       1             1        1          1\n",
      "22   330              2       2             3        1          2\n",
      "23   340              2       1             3        2          2\n",
      "24   350              2       1             3        2          2\n",
      "25   360              2       2             1        1          2\n",
      "26   370              2       2             3        1          1\n",
      "27   410              2       1             3        2          2\n",
      "28   411              3       1             3        2          3\n",
      "29   420              5       2             1        2          1\n",
      "30   430              4       2             1        1          1\n",
      "31   440              2       1             1        1          1\n",
      "32   450              4       1             1        1          1\n",
      "33   511              3       2             3        1          2\n",
      "34   632              3       1             2        1          1\n",
      "35   729              5       1             1        2          1\n",
      "36   828              3       2             3        2          3\n",
      "37  1620              2       1             3        2          2\n",
      "38  1719              2       1             3        1          1\n",
      "39  1815              2       2             1        1          1\n",
      "40  1916              6       1             1        1          1\n",
      "41  2030              3       2             2        1          1\n",
      "42  2113              2       2             3        2          2\n",
      "43  2214              2       1             3        2          3\n",
      "44  2317              4       2             3        1          1\n",
      "45  2418              2       2             1        1          1\n",
      "46  2522              2       1             3        1          2\n",
      "47  3021              6       2             3        1          1\n",
      "48  3823              2       1             3        1          2\n",
      "49  3924              4       1             3        2          2\n",
      "50  4026              3       1             1        1          2\n"
     ]
    }
   ],
   "source": [
    "# use pandas to import list of nodes with attributes\n",
    "nodes = pd.read_csv('Ego210_Nodes.txt', sep='\\t')\n",
    "print(nodes)"
   ]
  },
  {
   "cell_type": "code",
   "execution_count": 3,
   "metadata": {},
   "outputs": [
    {
     "name": "stdout",
     "output_type": "stream",
     "text": [
      "    ID  Qualification  Gender  Multiplexity  Support  Proximity\n",
      "0  210              1       1             3        2          4\n"
     ]
    }
   ],
   "source": [
    "# Let's select Ego\n",
    "ego = nodes[nodes.ID==210]\n",
    "print(ego)"
   ]
  },
  {
   "cell_type": "code",
   "execution_count": 4,
   "metadata": {},
   "outputs": [
    {
     "name": "stdout",
     "output_type": "stream",
     "text": [
      "      ID  Qualification  Gender  Multiplexity  Support  Proximity\n",
      "1     25              2       1             1        1          1\n",
      "2     27              2       1             3        1          2\n",
      "3     28              2       1             2        1          1\n",
      "4     31              2       1             1        1          2\n",
      "5     33              2       1             2        1          1\n",
      "6     34              2       1             3        1          2\n",
      "7     35              2       1             3        1          2\n",
      "8     39              4       1             3        2          2\n",
      "9     95              1       2             3        2          3\n",
      "10   106              2       2             3        1          3\n",
      "11   110              4       2             3        1          1\n",
      "12   112              6       1             3        1          1\n",
      "13   124              2       2             3        1          1\n",
      "14   132              2       2             3        1          1\n",
      "15   140              4       2             3        1          1\n",
      "16   153              3       1             2        1          1\n",
      "17   260              2       2             3        2          2\n",
      "18   270              5       2             1        2          1\n",
      "19   290              4       1             1        2          2\n",
      "20   317              4       1             3        1          1\n",
      "21   320              4       1             1        1          1\n",
      "22   330              2       2             3        1          2\n",
      "23   340              2       1             3        2          2\n",
      "24   350              2       1             3        2          2\n",
      "25   360              2       2             1        1          2\n",
      "26   370              2       2             3        1          1\n",
      "27   410              2       1             3        2          2\n",
      "28   411              3       1             3        2          3\n",
      "29   420              5       2             1        2          1\n",
      "30   430              4       2             1        1          1\n",
      "31   440              2       1             1        1          1\n",
      "32   450              4       1             1        1          1\n",
      "33   511              3       2             3        1          2\n",
      "34   632              3       1             2        1          1\n",
      "35   729              5       1             1        2          1\n",
      "36   828              3       2             3        2          3\n",
      "37  1620              2       1             3        2          2\n",
      "38  1719              2       1             3        1          1\n",
      "39  1815              2       2             1        1          1\n",
      "40  1916              6       1             1        1          1\n",
      "41  2030              3       2             2        1          1\n",
      "42  2113              2       2             3        2          2\n",
      "43  2214              2       1             3        2          3\n",
      "44  2317              4       2             3        1          1\n",
      "45  2418              2       2             1        1          1\n",
      "46  2522              2       1             3        1          2\n",
      "47  3021              6       2             3        1          1\n",
      "48  3823              2       1             3        1          2\n",
      "49  3924              4       1             3        2          2\n",
      "50  4026              3       1             1        1          2\n"
     ]
    }
   ],
   "source": [
    "# Select alters \n",
    "alters = nodes[nodes.ID != 210]\n",
    "print(alters)"
   ]
  },
  {
   "cell_type": "code",
   "execution_count": 7,
   "metadata": {},
   "outputs": [
    {
     "data": {
      "text/html": [
       "<div>\n",
       "<style scoped>\n",
       "    .dataframe tbody tr th:only-of-type {\n",
       "        vertical-align: middle;\n",
       "    }\n",
       "\n",
       "    .dataframe tbody tr th {\n",
       "        vertical-align: top;\n",
       "    }\n",
       "\n",
       "    .dataframe thead th {\n",
       "        text-align: right;\n",
       "    }\n",
       "</style>\n",
       "<table border=\"1\" class=\"dataframe\">\n",
       "  <thead>\n",
       "    <tr style=\"text-align: right;\">\n",
       "      <th></th>\n",
       "      <th>V1</th>\n",
       "      <th>V2</th>\n",
       "      <th>Type</th>\n",
       "    </tr>\n",
       "  </thead>\n",
       "  <tbody>\n",
       "    <tr>\n",
       "      <th>0</th>\n",
       "      <td>210</td>\n",
       "      <td>25</td>\n",
       "      <td>1</td>\n",
       "    </tr>\n",
       "    <tr>\n",
       "      <th>1</th>\n",
       "      <td>210</td>\n",
       "      <td>27</td>\n",
       "      <td>1</td>\n",
       "    </tr>\n",
       "    <tr>\n",
       "      <th>2</th>\n",
       "      <td>210</td>\n",
       "      <td>31</td>\n",
       "      <td>1</td>\n",
       "    </tr>\n",
       "    <tr>\n",
       "      <th>3</th>\n",
       "      <td>210</td>\n",
       "      <td>34</td>\n",
       "      <td>1</td>\n",
       "    </tr>\n",
       "    <tr>\n",
       "      <th>4</th>\n",
       "      <td>210</td>\n",
       "      <td>35</td>\n",
       "      <td>1</td>\n",
       "    </tr>\n",
       "    <tr>\n",
       "      <th>5</th>\n",
       "      <td>210</td>\n",
       "      <td>39</td>\n",
       "      <td>1</td>\n",
       "    </tr>\n",
       "    <tr>\n",
       "      <th>6</th>\n",
       "      <td>210</td>\n",
       "      <td>95</td>\n",
       "      <td>1</td>\n",
       "    </tr>\n",
       "    <tr>\n",
       "      <th>7</th>\n",
       "      <td>210</td>\n",
       "      <td>106</td>\n",
       "      <td>1</td>\n",
       "    </tr>\n",
       "    <tr>\n",
       "      <th>8</th>\n",
       "      <td>210</td>\n",
       "      <td>110</td>\n",
       "      <td>1</td>\n",
       "    </tr>\n",
       "    <tr>\n",
       "      <th>9</th>\n",
       "      <td>210</td>\n",
       "      <td>112</td>\n",
       "      <td>1</td>\n",
       "    </tr>\n",
       "    <tr>\n",
       "      <th>10</th>\n",
       "      <td>210</td>\n",
       "      <td>124</td>\n",
       "      <td>1</td>\n",
       "    </tr>\n",
       "    <tr>\n",
       "      <th>11</th>\n",
       "      <td>210</td>\n",
       "      <td>132</td>\n",
       "      <td>1</td>\n",
       "    </tr>\n",
       "    <tr>\n",
       "      <th>12</th>\n",
       "      <td>210</td>\n",
       "      <td>140</td>\n",
       "      <td>1</td>\n",
       "    </tr>\n",
       "    <tr>\n",
       "      <th>13</th>\n",
       "      <td>210</td>\n",
       "      <td>260</td>\n",
       "      <td>1</td>\n",
       "    </tr>\n",
       "    <tr>\n",
       "      <th>14</th>\n",
       "      <td>210</td>\n",
       "      <td>270</td>\n",
       "      <td>1</td>\n",
       "    </tr>\n",
       "    <tr>\n",
       "      <th>15</th>\n",
       "      <td>210</td>\n",
       "      <td>290</td>\n",
       "      <td>1</td>\n",
       "    </tr>\n",
       "    <tr>\n",
       "      <th>16</th>\n",
       "      <td>210</td>\n",
       "      <td>317</td>\n",
       "      <td>1</td>\n",
       "    </tr>\n",
       "    <tr>\n",
       "      <th>17</th>\n",
       "      <td>210</td>\n",
       "      <td>320</td>\n",
       "      <td>1</td>\n",
       "    </tr>\n",
       "    <tr>\n",
       "      <th>18</th>\n",
       "      <td>210</td>\n",
       "      <td>330</td>\n",
       "      <td>1</td>\n",
       "    </tr>\n",
       "    <tr>\n",
       "      <th>19</th>\n",
       "      <td>210</td>\n",
       "      <td>340</td>\n",
       "      <td>1</td>\n",
       "    </tr>\n",
       "    <tr>\n",
       "      <th>20</th>\n",
       "      <td>210</td>\n",
       "      <td>350</td>\n",
       "      <td>1</td>\n",
       "    </tr>\n",
       "    <tr>\n",
       "      <th>21</th>\n",
       "      <td>210</td>\n",
       "      <td>360</td>\n",
       "      <td>1</td>\n",
       "    </tr>\n",
       "    <tr>\n",
       "      <th>22</th>\n",
       "      <td>210</td>\n",
       "      <td>370</td>\n",
       "      <td>1</td>\n",
       "    </tr>\n",
       "    <tr>\n",
       "      <th>23</th>\n",
       "      <td>210</td>\n",
       "      <td>410</td>\n",
       "      <td>1</td>\n",
       "    </tr>\n",
       "    <tr>\n",
       "      <th>24</th>\n",
       "      <td>210</td>\n",
       "      <td>411</td>\n",
       "      <td>1</td>\n",
       "    </tr>\n",
       "    <tr>\n",
       "      <th>25</th>\n",
       "      <td>210</td>\n",
       "      <td>420</td>\n",
       "      <td>1</td>\n",
       "    </tr>\n",
       "    <tr>\n",
       "      <th>26</th>\n",
       "      <td>210</td>\n",
       "      <td>430</td>\n",
       "      <td>1</td>\n",
       "    </tr>\n",
       "    <tr>\n",
       "      <th>27</th>\n",
       "      <td>210</td>\n",
       "      <td>440</td>\n",
       "      <td>1</td>\n",
       "    </tr>\n",
       "    <tr>\n",
       "      <th>28</th>\n",
       "      <td>210</td>\n",
       "      <td>450</td>\n",
       "      <td>1</td>\n",
       "    </tr>\n",
       "    <tr>\n",
       "      <th>29</th>\n",
       "      <td>210</td>\n",
       "      <td>511</td>\n",
       "      <td>1</td>\n",
       "    </tr>\n",
       "    <tr>\n",
       "      <th>...</th>\n",
       "      <td>...</td>\n",
       "      <td>...</td>\n",
       "      <td>...</td>\n",
       "    </tr>\n",
       "    <tr>\n",
       "      <th>84</th>\n",
       "      <td>210</td>\n",
       "      <td>370</td>\n",
       "      <td>2</td>\n",
       "    </tr>\n",
       "    <tr>\n",
       "      <th>85</th>\n",
       "      <td>210</td>\n",
       "      <td>410</td>\n",
       "      <td>2</td>\n",
       "    </tr>\n",
       "    <tr>\n",
       "      <th>86</th>\n",
       "      <td>210</td>\n",
       "      <td>411</td>\n",
       "      <td>2</td>\n",
       "    </tr>\n",
       "    <tr>\n",
       "      <th>87</th>\n",
       "      <td>210</td>\n",
       "      <td>511</td>\n",
       "      <td>2</td>\n",
       "    </tr>\n",
       "    <tr>\n",
       "      <th>88</th>\n",
       "      <td>210</td>\n",
       "      <td>632</td>\n",
       "      <td>2</td>\n",
       "    </tr>\n",
       "    <tr>\n",
       "      <th>89</th>\n",
       "      <td>210</td>\n",
       "      <td>828</td>\n",
       "      <td>2</td>\n",
       "    </tr>\n",
       "    <tr>\n",
       "      <th>90</th>\n",
       "      <td>210</td>\n",
       "      <td>1620</td>\n",
       "      <td>2</td>\n",
       "    </tr>\n",
       "    <tr>\n",
       "      <th>91</th>\n",
       "      <td>210</td>\n",
       "      <td>1719</td>\n",
       "      <td>2</td>\n",
       "    </tr>\n",
       "    <tr>\n",
       "      <th>92</th>\n",
       "      <td>210</td>\n",
       "      <td>2030</td>\n",
       "      <td>2</td>\n",
       "    </tr>\n",
       "    <tr>\n",
       "      <th>93</th>\n",
       "      <td>210</td>\n",
       "      <td>2113</td>\n",
       "      <td>2</td>\n",
       "    </tr>\n",
       "    <tr>\n",
       "      <th>94</th>\n",
       "      <td>210</td>\n",
       "      <td>2214</td>\n",
       "      <td>2</td>\n",
       "    </tr>\n",
       "    <tr>\n",
       "      <th>95</th>\n",
       "      <td>210</td>\n",
       "      <td>2317</td>\n",
       "      <td>2</td>\n",
       "    </tr>\n",
       "    <tr>\n",
       "      <th>96</th>\n",
       "      <td>210</td>\n",
       "      <td>2522</td>\n",
       "      <td>2</td>\n",
       "    </tr>\n",
       "    <tr>\n",
       "      <th>97</th>\n",
       "      <td>210</td>\n",
       "      <td>3021</td>\n",
       "      <td>2</td>\n",
       "    </tr>\n",
       "    <tr>\n",
       "      <th>98</th>\n",
       "      <td>210</td>\n",
       "      <td>3823</td>\n",
       "      <td>2</td>\n",
       "    </tr>\n",
       "    <tr>\n",
       "      <th>99</th>\n",
       "      <td>210</td>\n",
       "      <td>3924</td>\n",
       "      <td>2</td>\n",
       "    </tr>\n",
       "    <tr>\n",
       "      <th>100</th>\n",
       "      <td>27</td>\n",
       "      <td>1620</td>\n",
       "      <td>2</td>\n",
       "    </tr>\n",
       "    <tr>\n",
       "      <th>101</th>\n",
       "      <td>27</td>\n",
       "      <td>3823</td>\n",
       "      <td>2</td>\n",
       "    </tr>\n",
       "    <tr>\n",
       "      <th>102</th>\n",
       "      <td>95</td>\n",
       "      <td>112</td>\n",
       "      <td>2</td>\n",
       "    </tr>\n",
       "    <tr>\n",
       "      <th>103</th>\n",
       "      <td>95</td>\n",
       "      <td>3021</td>\n",
       "      <td>2</td>\n",
       "    </tr>\n",
       "    <tr>\n",
       "      <th>104</th>\n",
       "      <td>112</td>\n",
       "      <td>3021</td>\n",
       "      <td>2</td>\n",
       "    </tr>\n",
       "    <tr>\n",
       "      <th>105</th>\n",
       "      <td>132</td>\n",
       "      <td>350</td>\n",
       "      <td>2</td>\n",
       "    </tr>\n",
       "    <tr>\n",
       "      <th>106</th>\n",
       "      <td>260</td>\n",
       "      <td>340</td>\n",
       "      <td>2</td>\n",
       "    </tr>\n",
       "    <tr>\n",
       "      <th>107</th>\n",
       "      <td>330</td>\n",
       "      <td>2522</td>\n",
       "      <td>2</td>\n",
       "    </tr>\n",
       "    <tr>\n",
       "      <th>108</th>\n",
       "      <td>370</td>\n",
       "      <td>1719</td>\n",
       "      <td>2</td>\n",
       "    </tr>\n",
       "    <tr>\n",
       "      <th>109</th>\n",
       "      <td>411</td>\n",
       "      <td>511</td>\n",
       "      <td>2</td>\n",
       "    </tr>\n",
       "    <tr>\n",
       "      <th>110</th>\n",
       "      <td>411</td>\n",
       "      <td>828</td>\n",
       "      <td>2</td>\n",
       "    </tr>\n",
       "    <tr>\n",
       "      <th>111</th>\n",
       "      <td>511</td>\n",
       "      <td>828</td>\n",
       "      <td>2</td>\n",
       "    </tr>\n",
       "    <tr>\n",
       "      <th>112</th>\n",
       "      <td>632</td>\n",
       "      <td>1620</td>\n",
       "      <td>2</td>\n",
       "    </tr>\n",
       "    <tr>\n",
       "      <th>113</th>\n",
       "      <td>2113</td>\n",
       "      <td>2214</td>\n",
       "      <td>2</td>\n",
       "    </tr>\n",
       "  </tbody>\n",
       "</table>\n",
       "<p>114 rows × 3 columns</p>\n",
       "</div>"
      ],
      "text/plain": [
       "       V1    V2  Type\n",
       "0     210    25     1\n",
       "1     210    27     1\n",
       "2     210    31     1\n",
       "3     210    34     1\n",
       "4     210    35     1\n",
       "5     210    39     1\n",
       "6     210    95     1\n",
       "7     210   106     1\n",
       "8     210   110     1\n",
       "9     210   112     1\n",
       "10    210   124     1\n",
       "11    210   132     1\n",
       "12    210   140     1\n",
       "13    210   260     1\n",
       "14    210   270     1\n",
       "15    210   290     1\n",
       "16    210   317     1\n",
       "17    210   320     1\n",
       "18    210   330     1\n",
       "19    210   340     1\n",
       "20    210   350     1\n",
       "21    210   360     1\n",
       "22    210   370     1\n",
       "23    210   410     1\n",
       "24    210   411     1\n",
       "25    210   420     1\n",
       "26    210   430     1\n",
       "27    210   440     1\n",
       "28    210   450     1\n",
       "29    210   511     1\n",
       "..    ...   ...   ...\n",
       "84    210   370     2\n",
       "85    210   410     2\n",
       "86    210   411     2\n",
       "87    210   511     2\n",
       "88    210   632     2\n",
       "89    210   828     2\n",
       "90    210  1620     2\n",
       "91    210  1719     2\n",
       "92    210  2030     2\n",
       "93    210  2113     2\n",
       "94    210  2214     2\n",
       "95    210  2317     2\n",
       "96    210  2522     2\n",
       "97    210  3021     2\n",
       "98    210  3823     2\n",
       "99    210  3924     2\n",
       "100    27  1620     2\n",
       "101    27  3823     2\n",
       "102    95   112     2\n",
       "103    95  3021     2\n",
       "104   112  3021     2\n",
       "105   132   350     2\n",
       "106   260   340     2\n",
       "107   330  2522     2\n",
       "108   370  1719     2\n",
       "109   411   511     2\n",
       "110   411   828     2\n",
       "111   511   828     2\n",
       "112   632  1620     2\n",
       "113  2113  2214     2\n",
       "\n",
       "[114 rows x 3 columns]"
      ]
     },
     "execution_count": 7,
     "metadata": {},
     "output_type": "execute_result"
    }
   ],
   "source": [
    "# use pandas to import edgelist as a table\n",
    "EgoEdges = pd.read_csv('Ego210_Edges.txt', sep=',')\n",
    "EgoEdges"
   ]
  },
  {
   "cell_type": "code",
   "execution_count": 8,
   "metadata": {},
   "outputs": [
    {
     "name": "stdout",
     "output_type": "stream",
     "text": [
      "Name: \n",
      "Type: MultiGraph\n",
      "Number of nodes: 51\n",
      "Number of edges: 114\n",
      "Average degree:   4.4706\n"
     ]
    }
   ],
   "source": [
    "# generate graph from pandas edgelist\n",
    "# it is an undirected multigraph\n",
    "# a 'multigraph' accepts multiple types of ties (here, online and offline)\n",
    "\n",
    "Ego210 = nx.from_pandas_edgelist(EgoEdges, 'V1', 'V2', edge_attr ='Type', create_using=nx.MultiGraph()) \n",
    "print(nx.info(Ego210))"
   ]
  },
  {
   "cell_type": "code",
   "execution_count": 9,
   "metadata": {},
   "outputs": [
    {
     "name": "stdout",
     "output_type": "stream",
     "text": [
      "Name: \n",
      "Type: Graph\n",
      "Number of nodes: 51\n",
      "Number of edges: 71\n",
      "Average degree:   2.7843\n"
     ]
    }
   ],
   "source": [
    "# Note: if we had created it as a simple undirected graph, networkx would have omitted multiple ties\n",
    "\n",
    "test = nx.from_pandas_edgelist(EgoEdges, 'V1', 'V2', create_using=nx.Graph()) \n",
    "print(nx.info(test))"
   ]
  },
  {
   "cell_type": "code",
   "execution_count": 20,
   "metadata": {},
   "outputs": [
    {
     "name": "stdout",
     "output_type": "stream",
     "text": [
      "[(210, {'Qualification': 1, 'Gender': 1, 'Multiplexity': 3, 'Support': 2, 'Proximity': 4}), (25, {'Qualification': 2, 'Gender': 1, 'Multiplexity': 1, 'Support': 1, 'Proximity': 1}), (27, {'Qualification': 2, 'Gender': 1, 'Multiplexity': 3, 'Support': 1, 'Proximity': 2}), (31, {'Qualification': 2, 'Gender': 1, 'Multiplexity': 1, 'Support': 1, 'Proximity': 2}), (34, {'Qualification': 2, 'Gender': 1, 'Multiplexity': 3, 'Support': 1, 'Proximity': 2}), (35, {'Qualification': 2, 'Gender': 1, 'Multiplexity': 3, 'Support': 1, 'Proximity': 2}), (39, {'Qualification': 4, 'Gender': 1, 'Multiplexity': 3, 'Support': 2, 'Proximity': 2}), (95, {'Qualification': 1, 'Gender': 2, 'Multiplexity': 3, 'Support': 2, 'Proximity': 3}), (106, {'Qualification': 2, 'Gender': 2, 'Multiplexity': 3, 'Support': 1, 'Proximity': 3}), (110, {'Qualification': 4, 'Gender': 2, 'Multiplexity': 3, 'Support': 1, 'Proximity': 1}), (112, {'Qualification': 6, 'Gender': 1, 'Multiplexity': 3, 'Support': 1, 'Proximity': 1}), (124, {'Qualification': 2, 'Gender': 2, 'Multiplexity': 3, 'Support': 1, 'Proximity': 1}), (132, {'Qualification': 2, 'Gender': 2, 'Multiplexity': 3, 'Support': 1, 'Proximity': 1}), (140, {'Qualification': 4, 'Gender': 2, 'Multiplexity': 3, 'Support': 1, 'Proximity': 1}), (260, {'Qualification': 2, 'Gender': 2, 'Multiplexity': 3, 'Support': 2, 'Proximity': 2}), (270, {'Qualification': 5, 'Gender': 2, 'Multiplexity': 1, 'Support': 2, 'Proximity': 1}), (290, {'Qualification': 4, 'Gender': 1, 'Multiplexity': 1, 'Support': 2, 'Proximity': 2}), (317, {'Qualification': 4, 'Gender': 1, 'Multiplexity': 3, 'Support': 1, 'Proximity': 1}), (320, {'Qualification': 4, 'Gender': 1, 'Multiplexity': 1, 'Support': 1, 'Proximity': 1}), (330, {'Qualification': 2, 'Gender': 2, 'Multiplexity': 3, 'Support': 1, 'Proximity': 2}), (340, {'Qualification': 2, 'Gender': 1, 'Multiplexity': 3, 'Support': 2, 'Proximity': 2}), (350, {'Qualification': 2, 'Gender': 1, 'Multiplexity': 3, 'Support': 2, 'Proximity': 2}), (360, {'Qualification': 2, 'Gender': 2, 'Multiplexity': 1, 'Support': 1, 'Proximity': 2}), (370, {'Qualification': 2, 'Gender': 2, 'Multiplexity': 3, 'Support': 1, 'Proximity': 1}), (410, {'Qualification': 2, 'Gender': 1, 'Multiplexity': 3, 'Support': 2, 'Proximity': 2}), (411, {'Qualification': 3, 'Gender': 1, 'Multiplexity': 3, 'Support': 2, 'Proximity': 3}), (420, {'Qualification': 5, 'Gender': 2, 'Multiplexity': 1, 'Support': 2, 'Proximity': 1}), (430, {'Qualification': 4, 'Gender': 2, 'Multiplexity': 1, 'Support': 1, 'Proximity': 1}), (440, {'Qualification': 2, 'Gender': 1, 'Multiplexity': 1, 'Support': 1, 'Proximity': 1}), (450, {'Qualification': 4, 'Gender': 1, 'Multiplexity': 1, 'Support': 1, 'Proximity': 1}), (511, {'Qualification': 3, 'Gender': 2, 'Multiplexity': 3, 'Support': 1, 'Proximity': 2}), (729, {'Qualification': 5, 'Gender': 1, 'Multiplexity': 1, 'Support': 2, 'Proximity': 1}), (828, {'Qualification': 3, 'Gender': 2, 'Multiplexity': 3, 'Support': 2, 'Proximity': 3}), (1620, {'Qualification': 2, 'Gender': 1, 'Multiplexity': 3, 'Support': 2, 'Proximity': 2}), (1719, {'Qualification': 2, 'Gender': 1, 'Multiplexity': 3, 'Support': 1, 'Proximity': 1}), (1815, {'Qualification': 2, 'Gender': 2, 'Multiplexity': 1, 'Support': 1, 'Proximity': 1}), (1916, {'Qualification': 6, 'Gender': 1, 'Multiplexity': 1, 'Support': 1, 'Proximity': 1}), (2113, {'Qualification': 2, 'Gender': 2, 'Multiplexity': 3, 'Support': 2, 'Proximity': 2}), (2214, {'Qualification': 2, 'Gender': 1, 'Multiplexity': 3, 'Support': 2, 'Proximity': 3}), (2317, {'Qualification': 4, 'Gender': 2, 'Multiplexity': 3, 'Support': 1, 'Proximity': 1}), (2418, {'Qualification': 2, 'Gender': 2, 'Multiplexity': 1, 'Support': 1, 'Proximity': 1}), (2522, {'Qualification': 2, 'Gender': 1, 'Multiplexity': 3, 'Support': 1, 'Proximity': 2}), (3021, {'Qualification': 6, 'Gender': 2, 'Multiplexity': 3, 'Support': 1, 'Proximity': 1}), (3823, {'Qualification': 2, 'Gender': 1, 'Multiplexity': 3, 'Support': 1, 'Proximity': 2}), (3924, {'Qualification': 4, 'Gender': 1, 'Multiplexity': 3, 'Support': 2, 'Proximity': 2}), (4026, {'Qualification': 3, 'Gender': 1, 'Multiplexity': 1, 'Support': 1, 'Proximity': 2}), (28, {'Qualification': 2, 'Gender': 1, 'Multiplexity': 2, 'Support': 1, 'Proximity': 1}), (33, {'Qualification': 2, 'Gender': 1, 'Multiplexity': 2, 'Support': 1, 'Proximity': 1}), (153, {'Qualification': 3, 'Gender': 1, 'Multiplexity': 2, 'Support': 1, 'Proximity': 1}), (632, {'Qualification': 3, 'Gender': 1, 'Multiplexity': 2, 'Support': 1, 'Proximity': 1}), (2030, {'Qualification': 3, 'Gender': 2, 'Multiplexity': 2, 'Support': 1, 'Proximity': 1})]\n"
     ]
    }
   ],
   "source": [
    "# match nodes of graph with attributes of nodes\n",
    "NodeData = nodes.set_index('ID').to_dict('index').items()\n",
    "Ego210.add_nodes_from(NodeData)\n",
    "\n",
    "# view results\n",
    "print(Ego210.nodes(data=True))"
   ]
  },
  {
   "cell_type": "code",
   "execution_count": 10,
   "metadata": {},
   "outputs": [
    {
     "name": "stdout",
     "output_type": "stream",
     "text": [
      "[(210, 25, {'Type': 1}), (210, 27, {'Type': 1}), (210, 27, {'Type': 2}), (210, 31, {'Type': 1}), (210, 34, {'Type': 1}), (210, 34, {'Type': 2}), (210, 35, {'Type': 1}), (210, 35, {'Type': 2}), (210, 39, {'Type': 1}), (210, 39, {'Type': 2}), (210, 95, {'Type': 1}), (210, 95, {'Type': 2}), (210, 106, {'Type': 1}), (210, 106, {'Type': 2}), (210, 110, {'Type': 1}), (210, 110, {'Type': 2}), (210, 112, {'Type': 1}), (210, 112, {'Type': 2}), (210, 124, {'Type': 1}), (210, 124, {'Type': 2}), (210, 132, {'Type': 1}), (210, 132, {'Type': 2}), (210, 140, {'Type': 1}), (210, 140, {'Type': 2}), (210, 260, {'Type': 1}), (210, 260, {'Type': 2}), (210, 270, {'Type': 1}), (210, 290, {'Type': 1}), (210, 317, {'Type': 1}), (210, 317, {'Type': 2}), (210, 320, {'Type': 1}), (210, 330, {'Type': 1}), (210, 330, {'Type': 2}), (210, 340, {'Type': 1}), (210, 340, {'Type': 2}), (210, 350, {'Type': 1}), (210, 350, {'Type': 2}), (210, 360, {'Type': 1}), (210, 370, {'Type': 1}), (210, 370, {'Type': 2}), (210, 410, {'Type': 1}), (210, 410, {'Type': 2}), (210, 411, {'Type': 1}), (210, 411, {'Type': 2}), (210, 420, {'Type': 1}), (210, 430, {'Type': 1}), (210, 440, {'Type': 1}), (210, 450, {'Type': 1}), (210, 511, {'Type': 1}), (210, 511, {'Type': 2}), (210, 729, {'Type': 1}), (210, 828, {'Type': 1}), (210, 828, {'Type': 2}), (210, 1620, {'Type': 1}), (210, 1620, {'Type': 2}), (210, 1719, {'Type': 1}), (210, 1719, {'Type': 2}), (210, 1815, {'Type': 1}), (210, 1916, {'Type': 1}), (210, 2113, {'Type': 1}), (210, 2113, {'Type': 2}), (210, 2214, {'Type': 1}), (210, 2214, {'Type': 2}), (210, 2317, {'Type': 1}), (210, 2317, {'Type': 2}), (210, 2418, {'Type': 1}), (210, 2522, {'Type': 1}), (210, 2522, {'Type': 2}), (210, 3021, {'Type': 1}), (210, 3021, {'Type': 2}), (210, 3823, {'Type': 1}), (210, 3823, {'Type': 2}), (210, 3924, {'Type': 1}), (210, 3924, {'Type': 2}), (210, 4026, {'Type': 1}), (210, 28, {'Type': 2}), (210, 33, {'Type': 2}), (210, 153, {'Type': 2}), (210, 632, {'Type': 2}), (210, 2030, {'Type': 2}), (27, 1620, {'Type': 1}), (27, 1620, {'Type': 2}), (27, 3823, {'Type': 1}), (27, 3823, {'Type': 2}), (31, 35, {'Type': 1}), (31, 320, {'Type': 1}), (35, 39, {'Type': 1}), (95, 112, {'Type': 1}), (95, 112, {'Type': 2}), (95, 3021, {'Type': 1}), (95, 3021, {'Type': 2}), (112, 3021, {'Type': 1}), (112, 3021, {'Type': 2}), (132, 350, {'Type': 1}), (132, 350, {'Type': 2}), (260, 340, {'Type': 1}), (260, 340, {'Type': 2}), (260, 440, {'Type': 1}), (320, 440, {'Type': 1}), (330, 2522, {'Type': 1}), (330, 2522, {'Type': 2}), (370, 1719, {'Type': 1}), (370, 1719, {'Type': 2}), (411, 511, {'Type': 1}), (411, 511, {'Type': 2}), (411, 828, {'Type': 1}), (411, 828, {'Type': 2}), (440, 2418, {'Type': 1}), (511, 828, {'Type': 1}), (511, 828, {'Type': 2}), (511, 4026, {'Type': 1}), (1620, 632, {'Type': 2}), (2113, 2214, {'Type': 1}), (2113, 2214, {'Type': 2})]\n"
     ]
    }
   ],
   "source": [
    "# view edges\n",
    "print(Ego210.edges(data=True))"
   ]
  },
  {
   "cell_type": "code",
   "execution_count": 29,
   "metadata": {},
   "outputs": [
    {
     "data": {
      "image/png": "[encoded data removed]",
      "text/plain": [
       "<Figure size 432x288 with 1 Axes>"
      ]
     },
     "metadata": {},
     "output_type": "display_data"
    }
   ],
   "source": [
    "# Visualization\n",
    "\n",
    "# define layout\n",
    "pos = nx.kamada_kawai_layout(Ego210)\n",
    "# draw nodes according to layoabsut\n",
    "nx.draw_networkx_nodes(Ego210, pos, node_color = 'r', node_size = 100, alpha = 1)\n",
    "# use matplotlib to draw edges\n",
    "# on est obligé de faire une manip supplémentaire car sinon doubles edges non affichés\n",
    "ax = plt.gca()\n",
    "for e in Ego210.edges:\n",
    "    ax.annotate(\"\",\n",
    "                xy=pos[e[0]], xycoords='data',\n",
    "                xytext=pos[e[1]], textcoords='data',\n",
    "                arrowprops=dict(arrowstyle=\"-\",\n",
    "                                color='gray',\n",
    "                                shrinkA=5, shrinkB=5,\n",
    "                                patchA=None, patchB=None,\n",
    "                                connectionstyle=\"arc3,rad={}\".format(0.3*e[2]),\n",
    "                                ),\n",
    "                )\n",
    "plt.axis('off')\n",
    "plt.show()"
   ]
  },
  {
   "cell_type": "markdown",
   "metadata": {},
   "source": [
    "## Subset graph: offline-only, online-only, without Ego"
   ]
  },
  {
   "cell_type": "code",
   "execution_count": 21,
   "metadata": {},
   "outputs": [
    {
     "name": "stdout",
     "output_type": "stream",
     "text": [
      "Name: \n",
      "Type: Graph\n",
      "Number of nodes: 46\n",
      "Number of edges: 65\n",
      "Average degree:   2.8261\n"
     ]
    }
   ],
   "source": [
    "## Subset graph: take only offline ties\n",
    "\n",
    "# take subset of relevant edges\n",
    "offline = [(u, v) for (u, v, d) in Ego210.edges(data=True) if d[\"Type\"] ==1]\n",
    "\n",
    "# create graph\n",
    "Ego210Offline = nx.Graph(offline)\n",
    "print(nx.info(Ego210Offline))"
   ]
  },
  {
   "cell_type": "code",
   "execution_count": 22,
   "metadata": {},
   "outputs": [
    {
     "name": "stdout",
     "output_type": "stream",
     "text": [
      "Name: \n",
      "Type: Graph\n",
      "Number of nodes: 51\n",
      "Number of edges: 65\n",
      "Average degree:   2.5490\n"
     ]
    }
   ],
   "source": [
    "# match with nodes table to add isolates\n",
    "Ego210Offline.add_nodes_from(NodeData)\n",
    "\n",
    "# view results\n",
    "print(nx.info(Ego210Offline))"
   ]
  },
  {
   "cell_type": "code",
   "execution_count": 30,
   "metadata": {},
   "outputs": [
    {
     "data": {
      "image/png": "[encoded data removed]",
      "text/plain": [
       "<Figure size 432x288 with 1 Axes>"
      ]
     },
     "metadata": {},
     "output_type": "display_data"
    }
   ],
   "source": [
    "# Visualization\n",
    "\n",
    "# keep the same layout as before (\"pos\") to compare\n",
    "# draw nodes according to this layout\n",
    "nx.draw_networkx_nodes(Ego210Offline, pos, node_color = 'r', node_size = 100, alpha = 1)\n",
    "# use matplotlib to draw edges\n",
    "ax = plt.gca()\n",
    "for e in Ego210Offline.edges:\n",
    "    ax.annotate(\"\",\n",
    "                xy=pos[e[0]], xycoords='data',\n",
    "                xytext=pos[e[1]], textcoords='data',\n",
    "                arrowprops=dict(arrowstyle=\"-\",\n",
    "                                color='gray',\n",
    "                                shrinkA=5, shrinkB=5,\n",
    "                                patchA=None, patchB=None,\n",
    "                                connectionstyle=\"arc3,rad=0.3\"),\n",
    "                                )\n",
    "plt.axis('off')\n",
    "plt.show()"
   ]
  },
  {
   "cell_type": "markdown",
   "metadata": {},
   "source": [
    "##### Exercise: now, repeat the same for online ties"
   ]
  },
  {
   "cell_type": "code",
   "execution_count": 32,
   "metadata": {},
   "outputs": [
    {
     "name": "stdout",
     "output_type": "stream",
     "text": [
      "Name: \n",
      "Type: Graph\n",
      "Number of nodes: 36\n",
      "Number of edges: 49\n",
      "Average degree:   2.7222\n",
      "Name: \n",
      "Type: Graph\n",
      "Number of nodes: 51\n",
      "Number of edges: 49\n",
      "Average degree:   1.9216\n"
     ]
    },
    {
     "data": {
      "image/png": "[encoded data removed]",
      "text/plain": [
       "<Figure size 432x288 with 1 Axes>"
      ]
     },
     "metadata": {},
     "output_type": "display_data"
    }
   ],
   "source": [
    "online = [(u, v) for (u, v, d) in Ego210.edges(data=True) if d[\"Type\"] ==2]\n",
    "\n",
    "# create graph\n",
    "Ego210Online = nx.Graph(online)\n",
    "print(nx.info(Ego210Online))\n",
    "Ego210Online.add_nodes_from(NodeData)\n",
    "\n",
    "# view results\n",
    "print(nx.info(Ego210Online))\n",
    "nx.draw_networkx_nodes(Ego210Online, pos, node_color = 'r', node_size = 100, alpha = 1,label=True)\n",
    "# use matplotlib to draw edges\n",
    "ax = plt.gca()\n",
    "for e in Ego210Online.edges:\n",
    "    ax.annotate(\"\",\n",
    "                xy=pos[e[0]], xycoords='data',\n",
    "                xytext=pos[e[1]], textcoords='data',\n",
    "                arrowprops=dict(arrowstyle=\"-\",\n",
    "                                color='gray',\n",
    "                                shrinkA=5, shrinkB=5,\n",
    "                                patchA=None, patchB=None,\n",
    "                                connectionstyle=\"arc3,rad=0.3\"),\n",
    "                                )\n",
    "plt.axis('off')\n",
    "plt.show()"
   ]
  },
  {
   "cell_type": "code",
   "execution_count": null,
   "metadata": {},
   "outputs": [],
   "source": [
    "# Graph without Ego\n",
    "Ego210_noEgo = Ego210.copy()\n",
    "Ego210_noEgo.remove_node(210)"
   ]
  },
  {
   "cell_type": "code",
   "execution_count": null,
   "metadata": {},
   "outputs": [],
   "source": [
    "# View results\n",
    "print(nx.info(Ego210_noEgo))"
   ]
  },
  {
   "cell_type": "markdown",
   "metadata": {},
   "source": [
    "##### Exercise: now, visualize it with the same layout as Ego210"
   ]
  },
  {
   "cell_type": "code",
   "execution_count": null,
   "metadata": {},
   "outputs": [],
   "source": [
    "## Create weighted undirected graph from multigraph\n",
    "# Idea : each tie has value 2 if it is both online and offline, 1 otherwise\n",
    "# We can interpret multiplexity as tie strength\n",
    "\n",
    "Ego210WUG = nx.Graph()\n",
    "\n",
    "for u,v,data in Ego210.edges(data=True):\n",
    "    w = 1   \n",
    "    if Ego210WUG.has_edge(u,v):\n",
    "        Ego210WUG[u][v]['weight'] += w\n",
    "    else:\n",
    "        Ego210WUG.add_edge(u, v, weight=w)\n",
    "\n",
    "print(nx.info(Ego210WUG))\n",
    "print(Ego210WUG.edges(data=True))"
   ]
  },
  {
   "cell_type": "code",
   "execution_count": null,
   "metadata": {},
   "outputs": [],
   "source": [
    "# Visualization\n",
    "\n",
    "strongTies = [(u, v) for (u, v, d) in Ego210WUG.edges(data=True) if d[\"weight\"] > 1]\n",
    "weakTies = [(u, v) for (u, v, d) in Ego210WUG.edges(data=True) if d[\"weight\"] <= 1]\n",
    "\n",
    "pos = nx.spring_layout(Ego210WUG)  # positions for all nodes\n",
    "\n",
    "# nodes\n",
    "nx.draw_networkx_nodes(Ego210WUG, pos, node_color = 'r', node_size = 100, alpha = 1)\n",
    "\n",
    "# edges\n",
    "nx.draw_networkx_edges(Ego210WUG, pos, edgelist=strongTies, width=5)  # strong ties\n",
    "nx.draw_networkx_edges(Ego210WUG, pos, edgelist=weakTies, width=2) # weak ties\n"
   ]
  },
  {
   "cell_type": "markdown",
   "metadata": {},
   "source": [
    "## Personal network composition indicators"
   ]
  },
  {
   "cell_type": "code",
   "execution_count": null,
   "metadata": {},
   "outputs": [],
   "source": [
    "## Blau index\n",
    "\n",
    "# recall it is equal to 1 - p1^2 - p2^2 - ... - pk^2\n",
    "\n",
    "# first create a function\n",
    "def blau(df, col):\n",
    "    return (1- ((df[col].value_counts() / df[col].count()) ** 2).sum())\n",
    "\n",
    "# then apply it to the 'alters' table, attribute 'Qualification'\n",
    "blau(alters, 'Qualification')"
   ]
  },
  {
   "cell_type": "code",
   "execution_count": null,
   "metadata": {},
   "outputs": [],
   "source": [
    "# Index of Qualitative Variation\n",
    "# equal to Blau * k/(k-1)\n",
    "# (normalized version)\n",
    "\n",
    "blau(alters, 'Qualification')*6/5"
   ]
  },
  {
   "cell_type": "code",
   "execution_count": null,
   "metadata": {},
   "outputs": [],
   "source": [
    "# NB if you need to see how many/ which categories are represented in a categorical variables\n",
    "print (alters['Qualification'].unique())"
   ]
  },
  {
   "cell_type": "code",
   "execution_count": null,
   "metadata": {},
   "outputs": [],
   "source": [
    "# Herfindahl-Hirschman index (HHI)\n",
    "# equal to 1 - Blau\n",
    "\n",
    "1 - blau(alters, 'Qualification')"
   ]
  },
  {
   "cell_type": "markdown",
   "metadata": {},
   "source": [
    "#### Exercise: calculate these indexes for the other attributes (Gender, Multiplexity, Support and Proximity)"
   ]
  },
  {
   "cell_type": "markdown",
   "metadata": {},
   "source": [
    "## Structural measures"
   ]
  },
  {
   "cell_type": "code",
   "execution_count": null,
   "metadata": {},
   "outputs": [],
   "source": [
    "# find isolates (components consisting in 1 node, for example in the offline-only network)\n",
    "list(nx.isolates(Ego210Offline)) "
   ]
  },
  {
   "cell_type": "code",
   "execution_count": null,
   "metadata": {},
   "outputs": [],
   "source": [
    "# density (for ex. in the original Ego210 graph)\n",
    "nx.density(Ego210) "
   ]
  },
  {
   "cell_type": "code",
   "execution_count": null,
   "metadata": {},
   "outputs": [],
   "source": [
    "# Transitivity (cannot do it in Ego210 because not implemented for MultiGraph type)\n",
    "print(nx.transitivity(Ego210WUG)) "
   ]
  },
  {
   "cell_type": "markdown",
   "metadata": {},
   "source": [
    "##### In principle, all structural measures can be calculated on a personal / ego network. Just be aware of graph type and relevance of each measure (par ex. reciprocity is not meaningful in un undirected graph)."
   ]
  },
  {
   "cell_type": "markdown",
   "metadata": {},
   "source": [
    "## Exercises for next week"
   ]
  },
  {
   "cell_type": "markdown",
   "metadata": {},
   "source": [
    "##### Take the advice network of Lazega's lawyers.\n",
    "\n",
    "##### Extract the ego-centred network of one of the lawyers i (i = 1,..., 71).\n",
    "###### NB The networkx function to extract the ego graph of i is: Egoi = nx.ego_graph(G, i)\n",
    "\n",
    "##### Describe the ego-network of lawyer i through composition indicators (Blau index etc.) for relevant attributes, and structure indicators (density etc.).\n",
    "\n",
    "##### Bonus: repeat the exercise with the multigraph that results from combining advice, friendship and cowork.\n",
    "\n",
    "##### Please email to paola.tubaro@lri.fr by Tuesday, March 2, 2pm.\n"
   ]
  }
 ],
 "metadata": {
  "kernelspec": {
   "display_name": "Python 3",
   "language": "python",
   "name": "python3"
  },
  "language_info": {
   "codemirror_mode": {
    "name": "ipython",
    "version": 3
   },
   "file_extension": ".py",
   "mimetype": "text/x-python",
   "name": "python",
   "nbconvert_exporter": "python",
   "pygments_lexer": "ipython3",
   "version": "3.7.5"
  }
 },
 "nbformat": 4,
 "nbformat_minor": 4
}
