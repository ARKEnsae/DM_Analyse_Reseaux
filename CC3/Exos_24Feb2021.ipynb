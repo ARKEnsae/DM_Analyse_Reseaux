{
 "cells": [
  {
   "cell_type": "markdown",
   "metadata": {},
   "source": [
    "# Exercises 24 February 2021\n",
    "\n",
    "## Personal networks, ego networks"
   ]
  },
  {
   "cell_type": "code",
   "execution_count": null,
   "metadata": {},
   "outputs": [],
   "source": [
    "########### Preparation ##############\n",
    "# import packages\n",
    "import networkx as nx\n",
    "import matplotlib.pyplot as plt\n",
    "import pandas as pd\n",
    "import numpy as np"
   ]
  },
  {
   "cell_type": "code",
   "execution_count": null,
   "metadata": {},
   "outputs": [],
   "source": [
    "# use pandas to import list of nodes with attributes\n",
    "nodes = pd.read_table('Ego210_Nodes.txt', sep='\\t')\n",
    "print(nodes)"
   ]
  },
  {
   "cell_type": "code",
   "execution_count": null,
   "metadata": {},
   "outputs": [],
   "source": [
    "# Let's select Ego\n",
    "ego = nodes[nodes.ID==210]\n",
    "print(ego)"
   ]
  },
  {
   "cell_type": "code",
   "execution_count": null,
   "metadata": {},
   "outputs": [],
   "source": [
    "# Select alters \n",
    "alters = nodes[nodes.ID != 210]\n",
    "print(alters)"
   ]
  },
  {
   "cell_type": "code",
   "execution_count": null,
   "metadata": {},
   "outputs": [],
   "source": [
    "# use pandas to import edgelist as a table\n",
    "EgoEdges = pd.read_table('Ego210_Edges.txt', sep=',')\n",
    "EgoEdges"
   ]
  },
  {
   "cell_type": "code",
   "execution_count": null,
   "metadata": {},
   "outputs": [],
   "source": [
    "# generate graph from pandas edgelist\n",
    "# it is an undirected multigraph\n",
    "# a 'multigraph' accepts multiple types of ties (here, online and offline)\n",
    "\n",
    "Ego210 = nx.from_pandas_edgelist(EgoEdges, 'V1', 'V2', edge_attr ='Type', create_using=nx.MultiGraph()) \n",
    "print(nx.info(Ego210))"
   ]
  },
  {
   "cell_type": "code",
   "execution_count": null,
   "metadata": {},
   "outputs": [],
   "source": [
    "# Note: if we had created it as a simple undirected graph, networkx would have omitted multiple ties\n",
    "\n",
    "test = nx.from_pandas_edgelist(EgoEdges, 'V1', 'V2', create_using=nx.Graph()) \n",
    "print(nx.info(test))"
   ]
  },
  {
   "cell_type": "code",
   "execution_count": null,
   "metadata": {},
   "outputs": [],
   "source": [
    "# match nodes of graph with attributes of nodes\n",
    "NodeData = nodes.set_index('ID').to_dict('index').items()\n",
    "Ego210.add_nodes_from(NodeData)\n",
    "\n",
    "# view results\n",
    "print(Ego210.nodes(data=True))"
   ]
  },
  {
   "cell_type": "code",
   "execution_count": null,
   "metadata": {},
   "outputs": [],
   "source": [
    "# view edges\n",
    "print(Ego210.edges(data=True))"
   ]
  },
  {
   "cell_type": "code",
   "execution_count": null,
   "metadata": {},
   "outputs": [],
   "source": [
    "# Visualization\n",
    "\n",
    "# define layout\n",
    "pos = nx.spring_layout(Ego210)\n",
    "# draw nodes according to layoabsut\n",
    "nx.draw_networkx_nodes(Ego210, pos, node_color = 'r', node_size = 100, alpha = 1)\n",
    "# use matplotlib to draw edges\n",
    "ax = plt.gca()\n",
    "for e in Ego210.edges:\n",
    "    ax.annotate(\"\",\n",
    "                xy=pos[e[0]], xycoords='data',\n",
    "                xytext=pos[e[1]], textcoords='data',\n",
    "                arrowprops=dict(arrowstyle=\"-\",\n",
    "                                color='gray',\n",
    "                                shrinkA=5, shrinkB=5,\n",
    "                                patchA=None, patchB=None,\n",
    "                                connectionstyle=\"arc3,rad=rrr\".replace('rrr',str(0.3*e[2])),\n",
    "                                ),\n",
    "                )\n",
    "plt.axis('off')\n",
    "plt.show()"
   ]
  },
  {
   "cell_type": "markdown",
   "metadata": {},
   "source": [
    "## Subset graph: offline-only, online-only, without Ego"
   ]
  },
  {
   "cell_type": "code",
   "execution_count": null,
   "metadata": {},
   "outputs": [],
   "source": [
    "## Subset graph: take only offline ties\n",
    "\n",
    "# take subset of relevant edges\n",
    "offline = [(u, v) for (u, v, d) in Ego210.edges(data=True) if d[\"Type\"] ==1]\n",
    "\n",
    "# create graph\n",
    "Ego210Offline = nx.Graph(offline)\n",
    "print(nx.info(Ego210Offline))"
   ]
  },
  {
   "cell_type": "code",
   "execution_count": null,
   "metadata": {},
   "outputs": [],
   "source": [
    "# match with nodes table to add isolates\n",
    "Ego210Offline.add_nodes_from(NodeData)\n",
    "\n",
    "# view results\n",
    "print(nx.info(Ego210Offline))"
   ]
  },
  {
   "cell_type": "code",
   "execution_count": null,
   "metadata": {},
   "outputs": [],
   "source": [
    "# Visualization\n",
    "\n",
    "# keep the same layout as before (\"pos\") to compare\n",
    "# draw nodes according to this layout\n",
    "nx.draw_networkx_nodes(Ego210Offline, pos, node_color = 'r', node_size = 100, alpha = 1)\n",
    "# use matplotlib to draw edges\n",
    "ax = plt.gca()\n",
    "for e in Ego210Offline.edges:\n",
    "    ax.annotate(\"\",\n",
    "                xy=pos[e[0]], xycoords='data',\n",
    "                xytext=pos[e[1]], textcoords='data',\n",
    "                arrowprops=dict(arrowstyle=\"-\",\n",
    "                                color='gray',\n",
    "                                shrinkA=5, shrinkB=5,\n",
    "                                patchA=None, patchB=None,\n",
    "                                connectionstyle=\"arc3,rad=0.3\"),\n",
    "                                )\n",
    "plt.axis('off')\n",
    "plt.show()"
   ]
  },
  {
   "cell_type": "markdown",
   "metadata": {},
   "source": [
    "##### Exercise: now, repeat the same for online ties"
   ]
  },
  {
   "cell_type": "code",
   "execution_count": null,
   "metadata": {},
   "outputs": [],
   "source": [
    "# Graph without Ego\n",
    "Ego210_noEgo = Ego210.copy()\n",
    "Ego210_noEgo.remove_node(210)"
   ]
  },
  {
   "cell_type": "code",
   "execution_count": null,
   "metadata": {},
   "outputs": [],
   "source": [
    "# View results\n",
    "print(nx.info(Ego210_noEgo))"
   ]
  },
  {
   "cell_type": "markdown",
   "metadata": {},
   "source": [
    "##### Exercise: now, visualize it with the same layout as Ego210"
   ]
  },
  {
   "cell_type": "code",
   "execution_count": null,
   "metadata": {},
   "outputs": [],
   "source": [
    "## Create weighted undirected graph from multigraph\n",
    "# Idea : each tie has value 2 if it is both online and offline, 1 otherwise\n",
    "# We can interpret multiplexity as tie strength\n",
    "\n",
    "Ego210WUG = nx.Graph()\n",
    "\n",
    "for u,v,data in Ego210.edges(data=True):\n",
    "    w = 1   \n",
    "    if Ego210WUG.has_edge(u,v):\n",
    "        Ego210WUG[u][v]['weight'] += w\n",
    "    else:\n",
    "        Ego210WUG.add_edge(u, v, weight=w)\n",
    "\n",
    "print(nx.info(Ego210WUG))\n",
    "print(Ego210WUG.edges(data=True))"
   ]
  },
  {
   "cell_type": "code",
   "execution_count": null,
   "metadata": {},
   "outputs": [],
   "source": [
    "# Visualization\n",
    "\n",
    "strongTies = [(u, v) for (u, v, d) in Ego210WUG.edges(data=True) if d[\"weight\"] > 1]\n",
    "weakTies = [(u, v) for (u, v, d) in Ego210WUG.edges(data=True) if d[\"weight\"] <= 1]\n",
    "\n",
    "pos = nx.spring_layout(Ego210WUG)  # positions for all nodes\n",
    "\n",
    "# nodes\n",
    "nx.draw_networkx_nodes(Ego210WUG, pos, node_color = 'r', node_size = 100, alpha = 1)\n",
    "\n",
    "# edges\n",
    "nx.draw_networkx_edges(Ego210WUG, pos, edgelist=strongTies, width=5)  # strong ties\n",
    "nx.draw_networkx_edges(Ego210WUG, pos, edgelist=weakTies, width=2) # weak ties\n"
   ]
  },
  {
   "cell_type": "markdown",
   "metadata": {},
   "source": [
    "## Personal network composition indicators"
   ]
  },
  {
   "cell_type": "code",
   "execution_count": null,
   "metadata": {},
   "outputs": [],
   "source": [
    "## Blau index\n",
    "\n",
    "# recall it is equal to 1 - p1^2 - p2^2 - ... - pk^2\n",
    "\n",
    "# first create a function\n",
    "def blau(df, col):\n",
    "    return (1- ((df[col].value_counts() / df[col].count()) ** 2).sum())\n",
    "\n",
    "# then apply it to the 'alters' table, attribute 'Qualification'\n",
    "blau(alters, 'Qualification')"
   ]
  },
  {
   "cell_type": "code",
   "execution_count": null,
   "metadata": {},
   "outputs": [],
   "source": [
    "# Index of Qualitative Variation\n",
    "# equal to Blau * k/(k-1)\n",
    "# (normalized version)\n",
    "\n",
    "blau(alters, 'Qualification')*6/5"
   ]
  },
  {
   "cell_type": "code",
   "execution_count": null,
   "metadata": {},
   "outputs": [],
   "source": [
    "# NB if you need to see how many/ which categories are represented in a categorical variables\n",
    "print (alters['Qualification'].unique())"
   ]
  },
  {
   "cell_type": "code",
   "execution_count": null,
   "metadata": {},
   "outputs": [],
   "source": [
    "# Herfindahl-Hirschman index (HHI)\n",
    "# equal to 1 - Blau\n",
    "\n",
    "1 - blau(alters, 'Qualification')"
   ]
  },
  {
   "cell_type": "markdown",
   "metadata": {},
   "source": [
    "#### Exercise: calculate these indexes for the other attributes (Gender, Multiplexity, Support and Proximity)"
   ]
  },
  {
   "cell_type": "markdown",
   "metadata": {},
   "source": [
    "## Structural measures"
   ]
  },
  {
   "cell_type": "code",
   "execution_count": null,
   "metadata": {},
   "outputs": [],
   "source": [
    "# find isolates (components consisting in 1 node, for example in the offline-only network)\n",
    "list(nx.isolates(Ego210Offline)) "
   ]
  },
  {
   "cell_type": "code",
   "execution_count": null,
   "metadata": {},
   "outputs": [],
   "source": [
    "# density (for ex. in the original Ego210 graph)\n",
    "nx.density(Ego210) "
   ]
  },
  {
   "cell_type": "code",
   "execution_count": null,
   "metadata": {},
   "outputs": [],
   "source": [
    "# Transitivity (cannot do it in Ego210 because not implemented for MultiGraph type)\n",
    "print(nx.transitivity(Ego210WUG)) "
   ]
  },
  {
   "cell_type": "markdown",
   "metadata": {},
   "source": [
    "##### In principle, all structural measures can be calculated on a personal / ego network. Just be aware of graph type and relevance of each measure (par ex. reciprocity is not meaningful in un undirected graph)."
   ]
  },
  {
   "cell_type": "markdown",
   "metadata": {},
   "source": [
    "## Exercises for next week"
   ]
  },
  {
   "cell_type": "markdown",
   "metadata": {},
   "source": [
    "##### Take the advice network of Lazega's lawyers.\n",
    "\n",
    "##### Extract the ego-centred network of one of the lawyers i (i = 1,..., 71).\n",
    "###### NB The networkx function to extract the ego graph of i is: Egoi = nx.ego_graph(G, i)\n",
    "\n",
    "##### Describe the ego-network of lawyer i through composition indicators (Blau index etc.) for relevant attributes, and structure indicators (density etc.).\n",
    "\n",
    "##### Bonus: repeat the exercise with the multigraph that results from combining advice, friendship and cowork.\n",
    "\n",
    "##### Please email to paola.tubaro@lri.fr by Tuesday, March 2, 2pm.\n"
   ]
  }
 ],
 "metadata": {
  "kernelspec": {
   "display_name": "Python 3",
   "language": "python",
   "name": "python3"
  },
  "language_info": {
   "codemirror_mode": {
    "name": "ipython",
    "version": 3
   },
   "file_extension": ".py",
   "mimetype": "text/x-python",
   "name": "python",
   "nbconvert_exporter": "python",
   "pygments_lexer": "ipython3",
   "version": "3.8.5"
  }
 },
 "nbformat": 4,
 "nbformat_minor": 4
}
