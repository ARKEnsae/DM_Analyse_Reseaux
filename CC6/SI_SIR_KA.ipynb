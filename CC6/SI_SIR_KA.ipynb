{
 "cells": [
  {
   "cell_type": "code",
   "execution_count": 27,
   "metadata": {},
   "outputs": [],
   "source": [
    "import networkx as nx\n",
    "import random\n",
    "import collections\n",
    "import matplotlib.pyplot as plt\n",
    "import numpy as np"
   ]
  },
  {
   "cell_type": "markdown",
   "metadata": {},
   "source": [
    "# SI MODEL "
   ]
  },
  {
   "cell_type": "markdown",
   "metadata": {},
   "source": [
    "Avec SI, il n'y a qu'un seul paramètre : la probabilité d'infection : 0.3. "
   ]
  },
  {
   "cell_type": "code",
   "execution_count": 28,
   "metadata": {},
   "outputs": [],
   "source": [
    "# model parameters\n",
    "beta=0.1\n",
    "i0=3\n",
    "# network parameter (random graph)\n",
    "N=1000\n",
    "avK=6\n",
    "\n",
    "# network parameter (BA graph)\n",
    "N=1000\n",
    "m=3\n",
    "\n",
    "p=avK/N"
   ]
  },
  {
   "cell_type": "markdown",
   "metadata": {},
   "source": [
    "### INITIALIZATION"
   ]
  },
  {
   "cell_type": "markdown",
   "metadata": {},
   "source": [
    "Je choisis au hasard 3 noeuds à qui je donne le statut d'infecté. "
   ]
  },
  {
   "cell_type": "code",
   "execution_count": 29,
   "metadata": {},
   "outputs": [],
   "source": [
    "# 1- generate graph\n",
    "#G=nx.erdos_renyi_graph(N,p)\n",
    "G=nx.barabasi_albert_graph(N,m)\n",
    "\n",
    "# 2- assign all S states to nodes\n",
    "for node in G.nodes():\n",
    "    G.nodes[node]['status']='S'\n",
    "    \n",
    "# 3- select i0 initial infected\n",
    "iniI=random.sample(G.nodes(),3)\n",
    "for node in iniI:\n",
    "    G.nodes[node]['status']='I'"
   ]
  },
  {
   "cell_type": "code",
   "execution_count": 30,
   "metadata": {},
   "outputs": [],
   "source": [
    "#G.nodes(data=True)"
   ]
  },
  {
   "cell_type": "markdown",
   "metadata": {},
   "source": [
    "### TEMPORAL LOOP"
   ]
  },
  {
   "cell_type": "code",
   "execution_count": 31,
   "metadata": {},
   "outputs": [],
   "source": [
    "# EVOLUTION FUNCTION\n",
    "def SI_updateStates(Graph):\n",
    "    #définition implicite des dictionnaires\n",
    "    newStates={node:Graph.nodes[node]['status'] for node in Graph.nodes()}\n",
    "    #on regarde tous les noeuds\n",
    "    infected=[node for node in Graph.nodes() if Graph.nodes[node]['status']=='I']\n",
    "    for node in infected:\n",
    "        #j'ai un noeud, un susceptible, je tire un chiffre aléatoire\n",
    "        for s_neigh in [node2 for node2 in Graph.neighbors(node) if Graph.nodes[node2]['status']=='S']:\n",
    "            r=random.uniform(0,1)\n",
    "            # si on a cette condition, le susceptible devient infected\n",
    "            if r<beta:\n",
    "                newStates[s_neigh]='I'\n",
    "    return newStates"
   ]
  },
  {
   "cell_type": "code",
   "execution_count": 32,
   "metadata": {},
   "outputs": [],
   "source": [
    "#--------initialization--------------\n",
    "\n",
    "# 1- generate graph\n",
    "#G=nx.erdos_renyi_graph(N,p)\n",
    "G=nx.barabasi_albert_graph(N,m)\n",
    "\n",
    "# 2- assign all S states to nodes\n",
    "for node in G.nodes():\n",
    "    G.nodes[node]['status']='S'\n",
    "    \n",
    "# 3- select i0 initial infected\n",
    "iniI=random.sample(G.nodes(),3)\n",
    "for node in iniI:\n",
    "    G.nodes[node]['status']='I'\n",
    "\n",
    "\n",
    "# I fera la taille du nombre d'itérations à la fin\n",
    "I=[]\n",
    "S=[]\n",
    "#----------------------------------\n",
    "    \n",
    "\n",
    "for time in range(100):\n",
    "    # les nouveaux états sont donnés par la fonction d'évolution donnée avant\n",
    "    newStates=SI_updateStates(G)\n",
    "    for node in G.nodes():\n",
    "        G.nodes[node]['status']=newStates[node]\n",
    "    \n",
    "    S.append(collections.Counter(newStates.values())['S'])\n",
    "    I.append(collections.Counter(newStates.values())['I'])"
   ]
  },
  {
   "cell_type": "code",
   "execution_count": 16,
   "metadata": {},
   "outputs": [
    {
     "data": {
      "text/plain": [
       "100"
      ]
     },
     "execution_count": 16,
     "metadata": {},
     "output_type": "execute_result"
    }
   ],
   "source": [
    "len(I)"
   ]
  },
  {
   "cell_type": "code",
   "execution_count": null,
   "metadata": {},
   "outputs": [],
   "source": [
    "S'il en reste 0 c'est normal. S'il en reste plus c'est possibles aussi quand il y a des nombres isolés. "
   ]
  },
  {
   "cell_type": "code",
   "execution_count": 26,
   "metadata": {},
   "outputs": [
    {
     "data": {
      "text/plain": [
       "0"
      ]
     },
     "execution_count": 26,
     "metadata": {},
     "output_type": "execute_result"
    }
   ],
   "source": [
    "S[-1] #dernier élément de S "
   ]
  },
  {
   "cell_type": "code",
   "execution_count": 33,
   "metadata": {},
   "outputs": [
    {
     "data": {
      "image/png": "[encoded data removed]",
      "text/plain": [
       "<Figure size 864x360 with 1 Axes>"
      ]
     },
     "metadata": {
      "needs_background": "light"
     },
     "output_type": "display_data"
    }
   ],
   "source": [
    "plt.figure(figsize=(12,5))\n",
    "plt.plot(range(len(S)),I,'o-',label='I')\n",
    "plt.plot(range(len(S)),S,'o-',label='S')\n",
    "plt.xlabel('time')\n",
    "plt.legend()\n",
    "plt.show()"
   ]
  },
  {
   "cell_type": "markdown",
   "metadata": {},
   "source": [
    "# SIR MODEL \n"
   ]
  },
  {
   "cell_type": "code",
   "execution_count": 34,
   "metadata": {},
   "outputs": [],
   "source": [
    "# model parameters\n",
    "beta=0.1\n",
    "mu=0.03\n",
    "i0=3\n",
    "\n",
    "# network parameter (random graph)\n",
    "N=1000\n",
    "avK=6\n",
    "\n",
    "# network parameter (BA graph)\n",
    "N=1000\n",
    "m=3\n",
    "\n",
    "p=avK/N"
   ]
  },
  {
   "cell_type": "code",
   "execution_count": 35,
   "metadata": {},
   "outputs": [],
   "source": [
    "# EVOLUTION FUNCTION\n",
    "def SIR_updateStates(Graph):\n",
    "    newStates={node:Graph.nodes[node]['status'] for node in Graph.nodes()}\n",
    "    infected=[node for node in Graph.nodes() if Graph.nodes[node]['status']=='I']\n",
    "    for node in infected:\n",
    "        for s_neigh in [node2 for node2 in Graph.neighbors(node) if Graph.nodes[node2]['status']=='S']:\n",
    "            r=random.uniform(0,1)\n",
    "            if r<beta:\n",
    "                newStates[s_neigh]='I'\n",
    "        r2=random.uniform(0,1)\n",
    "        if r2<mu:\n",
    "            newStates[node]='R'\n",
    "    return newStates"
   ]
  },
  {
   "cell_type": "code",
   "execution_count": 36,
   "metadata": {},
   "outputs": [],
   "source": [
    "#--------initialization--------------\n",
    "\n",
    "# 1- generate graph\n",
    "G=nx.erdos_renyi_graph(N,p)\n",
    "#G=nx.barabasi_albert_graph(N,m)\n",
    "\n",
    "# 2- assign all S states to nodes\n",
    "for node in G.nodes():\n",
    "    G.nodes[node]['status']='S'\n",
    "    \n",
    "# 3- select i0 initial infected\n",
    "iniI=random.sample(G.nodes(),3)\n",
    "for node in iniI:\n",
    "    G.nodes[node]['status']='I'\n",
    "\n",
    "\n",
    "I=[]\n",
    "S=[]\n",
    "R=[]\n",
    "#----------------------------------\n",
    "    \n",
    "\n",
    "for time in range(200):\n",
    "    newStates=SIR_updateStates(G)\n",
    "    for node in G.nodes():\n",
    "        G.nodes[node]['status']=newStates[node]\n",
    "    \n",
    "    S.append(collections.Counter(newStates.values())['S'])\n",
    "    I.append(collections.Counter(newStates.values())['I'])\n",
    "    R.append(collections.Counter(newStates.values())['R'])"
   ]
  },
  {
   "cell_type": "code",
   "execution_count": 37,
   "metadata": {},
   "outputs": [
    {
     "data": {
      "image/png": "[encoded data removed]",
      "text/plain": [
       "<Figure size 864x360 with 1 Axes>"
      ]
     },
     "metadata": {
      "needs_background": "light"
     },
     "output_type": "display_data"
    }
   ],
   "source": [
    "plt.figure(figsize=(12,5))\n",
    "plt.plot(range(len(S)),I,'o-',label='I')\n",
    "plt.plot(range(len(S)),S,'o-',label='S')\n",
    "plt.plot(range(len(S)),R,'o-',label='R')\n",
    "plt.xlabel('time')\n",
    "plt.legend()\n",
    "plt.show()"
   ]
  },
  {
   "cell_type": "markdown",
   "metadata": {},
   "source": [
    "# comparison SIR on ER-BA"
   ]
  },
  {
   "cell_type": "markdown",
   "metadata": {},
   "source": [
    "beta = tu rencontres un malades quelle est la probabilité pour qu'il t'infecte ? \n",
    "mu = quelle est la probabilité que tu sois soigné et que tu puisses ne plus jamais l'avoir."
   ]
  },
  {
   "cell_type": "code",
   "execution_count": 38,
   "metadata": {},
   "outputs": [],
   "source": [
    "# model parameters\n",
    "beta=0.1\n",
    "mu=0.03\n",
    "i0=3\n",
    "\n",
    "# network parameter (random graph)\n",
    "N=1000\n",
    "avK=6\n",
    "\n",
    "# network parameter (BA graph)\n",
    "N=1000\n",
    "m=3\n",
    "\n",
    "p=avK/N"
   ]
  },
  {
   "cell_type": "code",
   "execution_count": 39,
   "metadata": {},
   "outputs": [],
   "source": [
    "#--------ER--------------\n",
    "\n",
    "# 1- generate graph\n",
    "G_ER=nx.erdos_renyi_graph(N,p)\n",
    "\n",
    "# 2- assign all S states to nodes\n",
    "for node in G_ER.nodes():\n",
    "    G_ER.nodes[node]['status']='S'\n",
    "    \n",
    "# 3- select i0 initial infected\n",
    "iniI=random.sample(G_ER.nodes(),3)\n",
    "for node in iniI:\n",
    "    G_ER.nodes[node]['status']='I'\n",
    "\n",
    "I_ER=[]\n",
    "S_ER=[]\n",
    "R_ER=[]\n",
    "\n",
    "    \n",
    "\n",
    "for time in range(200):\n",
    "    newStates=SIR_updateStates(G_ER)\n",
    "    for node in G_ER.nodes():\n",
    "        G_ER.nodes[node]['status']=newStates[node]\n",
    "    \n",
    "    S_ER.append(collections.Counter(newStates.values())['S'])\n",
    "    I_ER.append(collections.Counter(newStates.values())['I'])\n",
    "    R_ER.append(collections.Counter(newStates.values())['R'])\n",
    "#----------------------------------\n",
    "\n",
    "#--------ER--------------\n",
    "\n",
    "# 1- generate graph\n",
    "#G=nx.erdos_renyi_graph(N,p)\n",
    "G_BA=nx.barabasi_albert_graph(N,m)\n",
    "\n",
    "# 2- assign all S states to nodes\n",
    "for node in G.nodes():\n",
    "    G_BA.nodes[node]['status']='S'\n",
    "    \n",
    "# 3- select i0 initial infected\n",
    "iniI=random.sample(G_BA.nodes(),3)\n",
    "for node in iniI:\n",
    "    G_BA.nodes[node]['status']='I'\n",
    "\n",
    "I_BA=[]\n",
    "S_BA=[]\n",
    "R_BA=[]\n",
    "\n",
    "    \n",
    "\n",
    "for time in range(200):\n",
    "    newStates=SIR_updateStates(G_BA)\n",
    "    for node in G_BA.nodes():\n",
    "        G_BA.nodes[node]['status']=newStates[node]\n",
    "    \n",
    "    S_BA.append(collections.Counter(newStates.values())['S'])\n",
    "    I_BA.append(collections.Counter(newStates.values())['I'])\n",
    "    R_BA.append(collections.Counter(newStates.values())['R'])\n",
    "#----------------------------------\n"
   ]
  },
  {
   "cell_type": "code",
   "execution_count": 40,
   "metadata": {},
   "outputs": [
    {
     "data": {
      "text/plain": [
       "5.982"
      ]
     },
     "execution_count": 40,
     "metadata": {},
     "output_type": "execute_result"
    }
   ],
   "source": [
    "np.mean(list(dict(G_BA.degree()).values()))"
   ]
  },
  {
   "cell_type": "code",
   "execution_count": 41,
   "metadata": {},
   "outputs": [
    {
     "data": {
      "text/plain": [
       "5.886"
      ]
     },
     "execution_count": 41,
     "metadata": {},
     "output_type": "execute_result"
    }
   ],
   "source": [
    "np.mean(list(dict(G_ER.degree()).values()))"
   ]
  },
  {
   "cell_type": "code",
   "execution_count": 42,
   "metadata": {},
   "outputs": [
    {
     "data": {
      "image/png": "[encoded data removed]",
      "text/plain": [
       "<Figure size 864x360 with 1 Axes>"
      ]
     },
     "metadata": {
      "needs_background": "light"
     },
     "output_type": "display_data"
    }
   ],
   "source": [
    "plt.figure(figsize=(12,5))\n",
    "plt.plot(range(len(S)),I_BA,'o-',label='BA')\n",
    "plt.plot(range(len(S)),I_ER,'o-',label='ER')\n",
    "plt.ylabel('I')\n",
    "plt.xlabel('time')\n",
    "plt.legend()\n",
    "plt.show()"
   ]
  }
 ],
 "metadata": {
  "kernelspec": {
   "display_name": "Python 3",
   "language": "python",
   "name": "python3"
  },
  "language_info": {
   "codemirror_mode": {
    "name": "ipython",
    "version": 3
   },
   "file_extension": ".py",
   "mimetype": "text/x-python",
   "name": "python",
   "nbconvert_exporter": "python",
   "pygments_lexer": "ipython3",
   "version": "3.7.4"
  }
 },
 "nbformat": 4,
 "nbformat_minor": 4
}
