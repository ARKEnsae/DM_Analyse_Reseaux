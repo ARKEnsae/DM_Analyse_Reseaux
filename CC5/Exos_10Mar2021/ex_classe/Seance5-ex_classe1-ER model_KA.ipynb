{
 "cells": [
  {
   "cell_type": "code",
   "execution_count": 8,
   "metadata": {},
   "outputs": [],
   "source": [
    "import networkx as nx\n",
    "import random\n",
    "\n",
    "import matplotlib.pyplot as plt\n",
    "\n",
    "import itertools #package utile pour faire des analyses\n",
    "\n",
    "import numpy as np\n",
    "\n",
    "random.seed(1)"
   ]
  },
  {
   "cell_type": "markdown",
   "metadata": {},
   "source": [
    "# THE RANDOM LIBRARY"
   ]
  },
  {
   "cell_type": "code",
   "execution_count": 10,
   "metadata": {},
   "outputs": [
    {
     "data": {
      "text/plain": [
       "0.8474337369372327"
      ]
     },
     "execution_count": 10,
     "metadata": {},
     "output_type": "execute_result"
    }
   ],
   "source": [
    "random.uniform(0,1)"
   ]
  },
  {
   "cell_type": "code",
   "execution_count": 11,
   "metadata": {},
   "outputs": [],
   "source": [
    "values=[random.uniform(0,1) for i in range(1000)]"
   ]
  },
  {
   "cell_type": "code",
   "execution_count": 12,
   "metadata": {},
   "outputs": [
    {
     "data": {
      "image/png": "[encoded data removed]",
      "text/plain": [
       "<Figure size 432x288 with 1 Axes>"
      ]
     },
     "metadata": {
      "needs_background": "light"
     },
     "output_type": "display_data"
    }
   ],
   "source": [
    "plt.hist(values,density=True, edgecolor='black', linewidth=1.2)\n",
    "plt.show()"
   ]
  },
  {
   "cell_type": "markdown",
   "metadata": {},
   "source": [
    "# THE IMPLEMENTATION OF THE ERDOS RENYI MODEL"
   ]
  },
  {
   "cell_type": "code",
   "execution_count": 15,
   "metadata": {},
   "outputs": [],
   "source": [
    "# parameters\n",
    "N=100 #number of nodes\n",
    "p=0.01 #probability of connection"
   ]
  },
  {
   "cell_type": "markdown",
   "metadata": {},
   "source": [
    "### the model loop version 1"
   ]
  },
  {
   "cell_type": "code",
   "execution_count": 16,
   "metadata": {},
   "outputs": [],
   "source": [
    "# Initialization: Creation of N isolated nodes\n",
    "G=nx.Graph()\n",
    "nodes=[i for i in range(N)]\n",
    "G.add_nodes_from(nodes)\n",
    "\n",
    "#the cycle\n",
    "for n1 in G.nodes():\n",
    "    for n2 in G.nodes():\n",
    "        if n1>n2:\n",
    "            r=random.uniform(0,1)\n",
    "            if r<p:\n",
    "                G.add_edge(n1,n2)\n",
    "        "
   ]
  },
  {
   "cell_type": "code",
   "execution_count": 17,
   "metadata": {},
   "outputs": [
    {
     "name": "stdout",
     "output_type": "stream",
     "text": [
      "100 60\n"
     ]
    }
   ],
   "source": [
    "print(G.number_of_nodes(),G.number_of_edges())"
   ]
  },
  {
   "cell_type": "markdown",
   "metadata": {},
   "source": [
    "### the model loop version 2 - using itertools"
   ]
  },
  {
   "cell_type": "code",
   "execution_count": 18,
   "metadata": {},
   "outputs": [
    {
     "data": {
      "text/plain": [
       "[(1, 2), (1, 3), (2, 3)]"
      ]
     },
     "execution_count": 18,
     "metadata": {},
     "output_type": "execute_result"
    }
   ],
   "source": [
    "list(itertools.combinations([1,2,3], 2) )"
   ]
  },
  {
   "cell_type": "markdown",
   "metadata": {},
   "source": [
    "Cet algorithme est plus rapide à tourner car `itertools` est une bibliothèque bien implémentée. Il vaut donc mieux l'utiliser dans des grands graphes. "
   ]
  },
  {
   "cell_type": "code",
   "execution_count": 19,
   "metadata": {},
   "outputs": [],
   "source": [
    "# Initialization: Creation of N isolated nodes\n",
    "G=nx.Graph()\n",
    "nodes=[i for i in range(N)]\n",
    "G.add_nodes_from(nodes)\n",
    "#marche aussi pour les réseaux dirigés ? là on s'intéresse au non dirigé\n",
    "allEdges=list(itertools.combinations(nodes, 2)) #all possible combinations\n",
    "\n",
    "for (u,v) in allEdges:\n",
    "    r=random.uniform(0,1)\n",
    "    if r<p:\n",
    "        G.add_edge(u,v)"
   ]
  },
  {
   "cell_type": "code",
   "execution_count": 20,
   "metadata": {},
   "outputs": [
    {
     "name": "stdout",
     "output_type": "stream",
     "text": [
      "100 58\n"
     ]
    }
   ],
   "source": [
    "print(G.number_of_nodes(),G.number_of_edges())"
   ]
  },
  {
   "cell_type": "markdown",
   "metadata": {},
   "source": [
    "### The model implemented in nx"
   ]
  },
  {
   "cell_type": "markdown",
   "metadata": {},
   "source": [
    "A quel nombre moyen de liens je dois m'attendre pour cette génération ? Mais pour ça il faut regarder plusieurs indicateurs. \n",
    "\n",
    "Il faut passer par la compréhension de l'analyse d'un modèle stochastique avec une composante aléatoire comme celui-ci. \n"
   ]
  },
  {
   "cell_type": "code",
   "execution_count": 21,
   "metadata": {},
   "outputs": [],
   "source": [
    "G=nx.erdos_renyi_graph(N,p)"
   ]
  },
  {
   "cell_type": "markdown",
   "metadata": {},
   "source": [
    "Quand il y a des générateurs qui existent dans `networkx`, il vaut mieux les utiliser car ils sont optimisés. "
   ]
  },
  {
   "cell_type": "code",
   "execution_count": 22,
   "metadata": {},
   "outputs": [
    {
     "data": {
      "text/plain": [
       "48"
      ]
     },
     "execution_count": 22,
     "metadata": {},
     "output_type": "execute_result"
    }
   ],
   "source": [
    "G.number_of_edges()"
   ]
  },
  {
   "cell_type": "markdown",
   "metadata": {},
   "source": [
    "# SEVERAL REPLICAS OF THE MODEL"
   ]
  },
  {
   "cell_type": "markdown",
   "metadata": {},
   "source": [
    "To statistically study the model we need to build several replicas"
   ]
  },
  {
   "cell_type": "code",
   "execution_count": 24,
   "metadata": {},
   "outputs": [],
   "source": [
    "# parameters\n",
    "N=100\n",
    "p=0.01\n",
    "\n",
    "nRepl=10 #je répète mon expérience 10 fois"
   ]
  },
  {
   "cell_type": "markdown",
   "metadata": {},
   "source": [
    "Syntaxe 1"
   ]
  },
  {
   "cell_type": "code",
   "execution_count": 31,
   "metadata": {},
   "outputs": [],
   "source": [
    "E=[]\n",
    "for i in range(nRepl):\n",
    "    G=nx.erdos_renyi_graph(N,p)\n",
    "    E.append(G.number_of_edges())"
   ]
  },
  {
   "cell_type": "code",
   "execution_count": 32,
   "metadata": {},
   "outputs": [
    {
     "data": {
      "text/plain": [
       "[45, 46, 46, 48, 45, 39, 50, 46, 43, 52]"
      ]
     },
     "execution_count": 32,
     "metadata": {},
     "output_type": "execute_result"
    }
   ],
   "source": [
    "E"
   ]
  },
  {
   "cell_type": "code",
   "execution_count": 33,
   "metadata": {},
   "outputs": [
    {
     "data": {
      "text/plain": [
       "46.0"
      ]
     },
     "execution_count": 33,
     "metadata": {},
     "output_type": "execute_result"
    }
   ],
   "source": [
    "np.mean(E)"
   ]
  },
  {
   "cell_type": "markdown",
   "metadata": {},
   "source": [
    "Syntaxe 2"
   ]
  },
  {
   "cell_type": "code",
   "execution_count": 34,
   "metadata": {},
   "outputs": [],
   "source": [
    "listGraphs=[]\n",
    "for i in range(nRepl):\n",
    "    G=nx.erdos_renyi_graph(N,p)\n",
    "    listGraphs.append(G)\n",
    "    \n",
    "# or listGraphs=[nx.erdos_renyi_graph(N,p) for i in range(nReplabs)]"
   ]
  },
  {
   "cell_type": "code",
   "execution_count": 35,
   "metadata": {},
   "outputs": [
    {
     "data": {
      "text/plain": [
       "[<networkx.classes.graph.Graph at 0x221b20696c8>,\n",
       " <networkx.classes.graph.Graph at 0x221b2069648>,\n",
       " <networkx.classes.graph.Graph at 0x221b2069508>,\n",
       " <networkx.classes.graph.Graph at 0x221b2069108>,\n",
       " <networkx.classes.graph.Graph at 0x221b1edc208>,\n",
       " <networkx.classes.graph.Graph at 0x221ae7eeec8>,\n",
       " <networkx.classes.graph.Graph at 0x221b1e62c88>,\n",
       " <networkx.classes.graph.Graph at 0x221b1d82148>,\n",
       " <networkx.classes.graph.Graph at 0x221b1f10448>,\n",
       " <networkx.classes.graph.Graph at 0x221b1f10f48>]"
      ]
     },
     "execution_count": 35,
     "metadata": {},
     "output_type": "execute_result"
    }
   ],
   "source": [
    "listGraphs"
   ]
  },
  {
   "cell_type": "code",
   "execution_count": 36,
   "metadata": {},
   "outputs": [
    {
     "name": "stdout",
     "output_type": "stream",
     "text": [
      "62\n",
      "44\n",
      "52\n",
      "53\n",
      "48\n",
      "46\n",
      "48\n",
      "56\n",
      "53\n",
      "63\n"
     ]
    }
   ],
   "source": [
    "for G in listGraphs:\n",
    "    print(G.number_of_edges())"
   ]
  },
  {
   "cell_type": "code",
   "execution_count": 37,
   "metadata": {},
   "outputs": [
    {
     "name": "stdout",
     "output_type": "stream",
     "text": [
      "52.5\n"
     ]
    }
   ],
   "source": [
    "avNLinks=[]\n",
    "for G in listGraphs:\n",
    "    avNLinks.append(G.number_of_edges())\n",
    "    \n",
    "print (np.mean(avNLinks))"
   ]
  },
  {
   "cell_type": "markdown",
   "metadata": {},
   "source": [
    "# A FIRST MEASURE: the number of links as a function of N"
   ]
  },
  {
   "cell_type": "markdown",
   "metadata": {},
   "source": [
    "We fix the number of nodes"
   ]
  },
  {
   "cell_type": "code",
   "execution_count": 40,
   "metadata": {},
   "outputs": [],
   "source": [
    "N=1000"
   ]
  },
  {
   "cell_type": "markdown",
   "metadata": {},
   "source": [
    "On fait deux cycles\n",
    "1. un sur les probabilités\n",
    "2. une sur les réplications"
   ]
  },
  {
   "cell_type": "markdown",
   "metadata": {},
   "source": [
    "p varies between 0.0001 and 0.1"
   ]
  },
  {
   "cell_type": "code",
   "execution_count": 39,
   "metadata": {},
   "outputs": [],
   "source": [
    "pList=[0.0001,0.0005,0.001,0.005,0.01,0.03,0.05,0.07,0.1]"
   ]
  },
  {
   "cell_type": "markdown",
   "metadata": {},
   "source": [
    "We should do at least 100 replicas, for calculation time we do 10"
   ]
  },
  {
   "cell_type": "code",
   "execution_count": 41,
   "metadata": {},
   "outputs": [],
   "source": [
    "nRepl=10"
   ]
  },
  {
   "cell_type": "markdown",
   "metadata": {},
   "source": [
    "### Model setup"
   ]
  },
  {
   "cell_type": "markdown",
   "metadata": {},
   "source": [
    "We build a model (with several replicas) for each value of p. For all the values of the parameter p we want to observe resulting number of edges."
   ]
  },
  {
   "cell_type": "markdown",
   "metadata": {},
   "source": [
    "La meilleure chose à faire est de générer tous les graphes et de les analyser. C'est mieux de les stocker si on veut tester plusieurs mesurer pour ne pas avoir à les refaire. \n",
    "\n",
    "On va donc générer 90 graphes. "
   ]
  },
  {
   "cell_type": "code",
   "execution_count": 42,
   "metadata": {},
   "outputs": [
    {
     "data": {
      "text/plain": [
       "90"
      ]
     },
     "execution_count": 42,
     "metadata": {},
     "output_type": "execute_result"
    }
   ],
   "source": [
    "len(pList)*nRepl"
   ]
  },
  {
   "cell_type": "code",
   "execution_count": 43,
   "metadata": {},
   "outputs": [],
   "source": [
    "# the list of graphs is now a dictionary: I will have a list for each value of the parameter p\n",
    "listGraphs={}\n",
    "\n",
    "#loop on the values for the parameter p\n",
    "for p in pList:\n",
    "    #print (p) #to be sure that I'm not too slow\n",
    "    listGraphs[p]=[]\n",
    "    #loop on the replicas\n",
    "    for i in range(nRepl):\n",
    "        G=nx.erdos_renyi_graph(N,p)\n",
    "        listGraphs[p].append(G)"
   ]
  },
  {
   "cell_type": "markdown",
   "metadata": {},
   "source": [
    "C'est un dictionnaire de clefs de valeurs p."
   ]
  },
  {
   "cell_type": "code",
   "execution_count": 44,
   "metadata": {},
   "outputs": [
    {
     "data": {
      "text/plain": [
       "{0.0001: [<networkx.classes.graph.Graph at 0x221b2107488>,\n",
       "  <networkx.classes.graph.Graph at 0x221b2104548>,\n",
       "  <networkx.classes.graph.Graph at 0x221b1f1fd48>,\n",
       "  <networkx.classes.graph.Graph at 0x221b1f1fc48>,\n",
       "  <networkx.classes.graph.Graph at 0x221b1f1fbc8>,\n",
       "  <networkx.classes.graph.Graph at 0x221b1f1fb08>,\n",
       "  <networkx.classes.graph.Graph at 0x221b1f1fa88>,\n",
       "  <networkx.classes.graph.Graph at 0x221b1f1fa08>,\n",
       "  <networkx.classes.graph.Graph at 0x221b1f1f988>,\n",
       "  <networkx.classes.graph.Graph at 0x221b1f1f948>],\n",
       " 0.0005: [<networkx.classes.graph.Graph at 0x221b1f1f8c8>,\n",
       "  <networkx.classes.graph.Graph at 0x221b1f1f848>,\n",
       "  <networkx.classes.graph.Graph at 0x221b1f1f7c8>,\n",
       "  <networkx.classes.graph.Graph at 0x221b1f1f748>,\n",
       "  <networkx.classes.graph.Graph at 0x221b1f1f6c8>,\n",
       "  <networkx.classes.graph.Graph at 0x221b1f1f608>,\n",
       "  <networkx.classes.graph.Graph at 0x221b1f1f588>,\n",
       "  <networkx.classes.graph.Graph at 0x221b1f1f508>,\n",
       "  <networkx.classes.graph.Graph at 0x221b1f1f488>,\n",
       "  <networkx.classes.graph.Graph at 0x221b1f1f448>],\n",
       " 0.001: [<networkx.classes.graph.Graph at 0x221b1f1f3c8>,\n",
       "  <networkx.classes.graph.Graph at 0x221b1f1f348>,\n",
       "  <networkx.classes.graph.Graph at 0x221b1f1f2c8>,\n",
       "  <networkx.classes.graph.Graph at 0x221b1f1f248>,\n",
       "  <networkx.classes.graph.Graph at 0x221b1f1f1c8>,\n",
       "  <networkx.classes.graph.Graph at 0x221b1f1f108>,\n",
       "  <networkx.classes.graph.Graph at 0x221b1f1f088>,\n",
       "  <networkx.classes.graph.Graph at 0x221b1e4e0c8>,\n",
       "  <networkx.classes.graph.Graph at 0x221ae6c8948>,\n",
       "  <networkx.classes.graph.Graph at 0x221ae6bdec8>],\n",
       " 0.005: [<networkx.classes.graph.Graph at 0x221ae6f66c8>,\n",
       "  <networkx.classes.graph.Graph at 0x221ae6f6d88>,\n",
       "  <networkx.classes.graph.Graph at 0x221b0bec308>,\n",
       "  <networkx.classes.graph.Graph at 0x221b07cb3c8>,\n",
       "  <networkx.classes.graph.Graph at 0x221ae6ed388>,\n",
       "  <networkx.classes.graph.Graph at 0x221b0bebd88>,\n",
       "  <networkx.classes.graph.Graph at 0x221ae6e2f88>,\n",
       "  <networkx.classes.graph.Graph at 0x221b1553e48>,\n",
       "  <networkx.classes.graph.Graph at 0x221b1553488>,\n",
       "  <networkx.classes.graph.Graph at 0x221b1553608>],\n",
       " 0.01: [<networkx.classes.graph.Graph at 0x221b1553c08>,\n",
       "  <networkx.classes.graph.Graph at 0x221b1553fc8>,\n",
       "  <networkx.classes.graph.Graph at 0x221b1553f08>,\n",
       "  <networkx.classes.graph.Graph at 0x221b1553cc8>,\n",
       "  <networkx.classes.graph.Graph at 0x221b07cb248>,\n",
       "  <networkx.classes.graph.Graph at 0x221b0bf59c8>,\n",
       "  <networkx.classes.graph.Graph at 0x221b1e50148>,\n",
       "  <networkx.classes.graph.Graph at 0x221b1e4e5c8>,\n",
       "  <networkx.classes.graph.Graph at 0x221b1f1ff88>,\n",
       "  <networkx.classes.graph.Graph at 0x221b1f1ff48>],\n",
       " 0.03: [<networkx.classes.graph.Graph at 0x221b1f1fd88>,\n",
       "  <networkx.classes.graph.Graph at 0x221b1f1fb88>,\n",
       "  <networkx.classes.graph.Graph at 0x221b1f1fac8>,\n",
       "  <networkx.classes.graph.Graph at 0x221b1f1f9c8>,\n",
       "  <networkx.classes.graph.Graph at 0x221b1f1f888>,\n",
       "  <networkx.classes.graph.Graph at 0x221b1f1f688>,\n",
       "  <networkx.classes.graph.Graph at 0x221b1f1f5c8>,\n",
       "  <networkx.classes.graph.Graph at 0x221b1f1f4c8>,\n",
       "  <networkx.classes.graph.Graph at 0x221b1f1f388>,\n",
       "  <networkx.classes.graph.Graph at 0x221b1f1f308>],\n",
       " 0.05: [<networkx.classes.graph.Graph at 0x221b1f1f188>,\n",
       "  <networkx.classes.graph.Graph at 0x221b1f1f0c8>,\n",
       "  <networkx.classes.graph.Graph at 0x221b1f1fd08>,\n",
       "  <networkx.classes.graph.Graph at 0x221b1f1ffc8>,\n",
       "  <networkx.classes.graph.Graph at 0x221b1498588>,\n",
       "  <networkx.classes.graph.Graph at 0x221b1553d08>,\n",
       "  <networkx.classes.graph.Graph at 0x221b1553dc8>,\n",
       "  <networkx.classes.graph.Graph at 0x221b1553ac8>,\n",
       "  <networkx.classes.graph.Graph at 0x221b1553f48>,\n",
       "  <networkx.classes.graph.Graph at 0x221b1553c48>],\n",
       " 0.07: [<networkx.classes.graph.Graph at 0x221b1553a48>,\n",
       "  <networkx.classes.graph.Graph at 0x221b1553c88>,\n",
       "  <networkx.classes.graph.Graph at 0x221b1553e88>,\n",
       "  <networkx.classes.graph.Graph at 0x221b1553188>,\n",
       "  <networkx.classes.graph.Graph at 0x221b1553548>,\n",
       "  <networkx.classes.graph.Graph at 0x221b112fd88>,\n",
       "  <networkx.classes.graph.Graph at 0x221b1f1fe08>,\n",
       "  <networkx.classes.graph.Graph at 0x221b1f1fa48>,\n",
       "  <networkx.classes.graph.Graph at 0x221b1f1f788>,\n",
       "  <networkx.classes.graph.Graph at 0x221b1f1f648>],\n",
       " 0.1: [<networkx.classes.graph.Graph at 0x221b1f1f408>,\n",
       "  <networkx.classes.graph.Graph at 0x221b1f1f148>,\n",
       "  <networkx.classes.graph.Graph at 0x221b1f1fdc8>,\n",
       "  <networkx.classes.graph.Graph at 0x221ae6b2ec8>,\n",
       "  <networkx.classes.graph.Graph at 0x221b1553f88>,\n",
       "  <networkx.classes.graph.Graph at 0x221b1553b88>,\n",
       "  <networkx.classes.graph.Graph at 0x221b15535c8>,\n",
       "  <networkx.classes.graph.Graph at 0x221b1553448>,\n",
       "  <networkx.classes.graph.Graph at 0x221b15536c8>,\n",
       "  <networkx.classes.graph.Graph at 0x221b1d59a48>]}"
      ]
     },
     "execution_count": 44,
     "metadata": {},
     "output_type": "execute_result"
    }
   ],
   "source": [
    "listGraphs"
   ]
  },
  {
   "cell_type": "code",
   "execution_count": 46,
   "metadata": {},
   "outputs": [
    {
     "data": {
      "text/plain": [
       "[<networkx.classes.graph.Graph at 0x221b2107488>,\n",
       " <networkx.classes.graph.Graph at 0x221b2104548>,\n",
       " <networkx.classes.graph.Graph at 0x221b1f1fd48>,\n",
       " <networkx.classes.graph.Graph at 0x221b1f1fc48>,\n",
       " <networkx.classes.graph.Graph at 0x221b1f1fbc8>,\n",
       " <networkx.classes.graph.Graph at 0x221b1f1fb08>,\n",
       " <networkx.classes.graph.Graph at 0x221b1f1fa88>,\n",
       " <networkx.classes.graph.Graph at 0x221b1f1fa08>,\n",
       " <networkx.classes.graph.Graph at 0x221b1f1f988>,\n",
       " <networkx.classes.graph.Graph at 0x221b1f1f948>]"
      ]
     },
     "execution_count": 46,
     "metadata": {},
     "output_type": "execute_result"
    }
   ],
   "source": [
    "listGraphs[0.0001]"
   ]
  },
  {
   "cell_type": "code",
   "execution_count": 48,
   "metadata": {},
   "outputs": [
    {
     "name": "stdout",
     "output_type": "stream",
     "text": [
      "49\n",
      "53\n",
      "49\n",
      "42\n",
      "54\n",
      "55\n",
      "50\n",
      "46\n",
      "61\n",
      "35\n"
     ]
    }
   ],
   "source": [
    "for G in listGraphs[0.0001]:\n",
    "    print(G.number_of_edges())"
   ]
  },
  {
   "cell_type": "code",
   "execution_count": 49,
   "metadata": {},
   "outputs": [
    {
     "name": "stdout",
     "output_type": "stream",
     "text": [
      "49\n",
      "53\n",
      "49\n",
      "42\n",
      "54\n",
      "55\n",
      "50\n",
      "46\n",
      "61\n",
      "35\n",
      "271\n",
      "255\n",
      "241\n",
      "261\n",
      "256\n",
      "280\n",
      "264\n",
      "270\n",
      "243\n",
      "212\n",
      "489\n",
      "475\n",
      "477\n",
      "511\n",
      "488\n",
      "515\n",
      "483\n",
      "510\n",
      "478\n",
      "488\n",
      "2552\n",
      "2539\n",
      "2522\n",
      "2483\n",
      "2485\n",
      "2445\n",
      "2549\n",
      "2533\n",
      "2514\n",
      "2502\n",
      "4902\n",
      "5078\n",
      "5008\n",
      "4940\n",
      "5128\n",
      "5058\n",
      "4980\n",
      "5052\n",
      "5019\n",
      "5098\n",
      "14883\n",
      "14824\n",
      "15098\n",
      "14987\n",
      "14850\n",
      "15094\n",
      "15050\n",
      "14910\n",
      "14958\n",
      "15100\n",
      "24877\n",
      "24900\n",
      "24960\n",
      "24853\n",
      "25000\n",
      "25240\n",
      "24970\n",
      "24502\n",
      "24735\n",
      "24844\n",
      "35003\n",
      "34837\n",
      "34865\n",
      "35074\n",
      "34644\n",
      "34975\n",
      "34776\n",
      "35504\n",
      "34854\n",
      "34572\n",
      "49896\n",
      "49803\n",
      "49968\n",
      "49872\n",
      "50390\n",
      "50144\n",
      "49778\n",
      "49834\n",
      "49860\n",
      "50094\n"
     ]
    }
   ],
   "source": [
    "for p in pList:\n",
    "    for G in listGraphs[p]:\n",
    "        print(G.number_of_edges())"
   ]
  },
  {
   "cell_type": "markdown",
   "metadata": {},
   "source": [
    "Je veux créer une liste où j'obtiens pour chaque p la moyenne du nombre de liens sur 10 réplications. "
   ]
  },
  {
   "cell_type": "code",
   "execution_count": 52,
   "metadata": {},
   "outputs": [
    {
     "name": "stdout",
     "output_type": "stream",
     "text": [
      "0.0001 49.4\n",
      "0.0005 255.3\n",
      "0.001 491.4\n",
      "0.005 2512.4\n",
      "0.01 5026.3\n",
      "0.03 14975.4\n",
      "0.05 24888.1\n",
      "0.07 34910.4\n",
      "0.1 49963.9\n"
     ]
    }
   ],
   "source": [
    "avE=[]\n",
    "for p in pList:\n",
    "    thisAverage=[]\n",
    "    for G in listGraphs[p]:\n",
    "        thisAverage.append(G.number_of_edges())\n",
    "    print(p, np.mean(thisAverage))\n",
    "    avE.append(np.mean(thisAverage))"
   ]
  },
  {
   "cell_type": "code",
   "execution_count": 53,
   "metadata": {},
   "outputs": [],
   "source": [
    "avL=[]\n",
    "for p in pList:\n",
    "    listE=[G.number_of_edges() for G in listGraphs[p]]\n",
    "    avL.append(np.mean(listE))"
   ]
  },
  {
   "cell_type": "code",
   "execution_count": 54,
   "metadata": {},
   "outputs": [
    {
     "data": {
      "text/plain": [
       "[49.4, 255.3, 491.4, 2512.4, 5026.3, 14975.4, 24888.1, 34910.4, 49963.9]"
      ]
     },
     "execution_count": 54,
     "metadata": {},
     "output_type": "execute_result"
    }
   ],
   "source": [
    "avL"
   ]
  },
  {
   "cell_type": "markdown",
   "metadata": {},
   "source": [
    "Je trace la relation entre p et le nombre de liens. C'est linéaire. Je vais donc faire un fit pour voir les valeurs qui relient le nombre de lien avec la connexion. "
   ]
  },
  {
   "cell_type": "code",
   "execution_count": 55,
   "metadata": {
    "scrolled": true
   },
   "outputs": [
    {
     "data": {
      "image/png": "[encoded data removed]",
      "text/plain": [
       "<Figure size 432x288 with 1 Axes>"
      ]
     },
     "metadata": {
      "needs_background": "light"
     },
     "output_type": "display_data"
    }
   ],
   "source": [
    "plt.plot(pList,avL,'o')\n",
    "\n",
    "plt.xlabel('p')\n",
    "plt.ylabel(r'$\\langle E\\rangle$')\n",
    "\n",
    "plt.show()"
   ]
  },
  {
   "cell_type": "code",
   "execution_count": 57,
   "metadata": {},
   "outputs": [],
   "source": [
    "coef = np.polyfit(pList,avL, 1) #1 c'est le degré : linéaire\n",
    "poly1d_fn = np.poly1d(coef) "
   ]
  },
  {
   "cell_type": "code",
   "execution_count": 58,
   "metadata": {},
   "outputs": [
    {
     "data": {
      "image/png": "[encoded data removed]",
      "text/plain": [
       "<Figure size 432x288 with 1 Axes>"
      ]
     },
     "metadata": {
      "needs_background": "light"
     },
     "output_type": "display_data"
    }
   ],
   "source": [
    "plt.plot(pList,avL,'o')\n",
    "plt.plot(pList, poly1d_fn(pList), '--k')\n",
    "\n",
    "plt.xlabel('p')\n",
    "plt.ylabel(r'$\\langle E\\rangle$')\n",
    "\n",
    "plt.show()"
   ]
  },
  {
   "cell_type": "markdown",
   "metadata": {},
   "source": [
    "La relation entre p et E c'est exactement le nombre de liens possibles. "
   ]
  },
  {
   "cell_type": "code",
   "execution_count": 59,
   "metadata": {},
   "outputs": [
    {
     "data": {
      "text/plain": [
       "499130.027739324"
      ]
     },
     "execution_count": 59,
     "metadata": {},
     "output_type": "execute_result"
    }
   ],
   "source": [
    "coef[0]"
   ]
  },
  {
   "cell_type": "code",
   "execution_count": 60,
   "metadata": {},
   "outputs": [
    {
     "data": {
      "text/plain": [
       "499500.0"
      ]
     },
     "execution_count": 60,
     "metadata": {},
     "output_type": "execute_result"
    }
   ],
   "source": [
    "N*(N-1)/2"
   ]
  },
  {
   "cell_type": "markdown",
   "metadata": {},
   "source": [
    "# THE DEGREE DISTRIBUTION"
   ]
  },
  {
   "cell_type": "markdown",
   "metadata": {},
   "source": [
    "Exercice individuel : faire un histogramme. "
   ]
  },
  {
   "cell_type": "code",
   "execution_count": null,
   "metadata": {},
   "outputs": [],
   "source": [
    "N=2000\n",
    "p=0.001\n",
    "nRepl=10"
   ]
  },
  {
   "cell_type": "markdown",
   "metadata": {},
   "source": [
    "[k1, k2, k3, ...] [x1,x2,x3, ...] \n",
    "Je fais une seule liste\n",
    "[k1, k2, k3, ... x1,x2,x3, ...] 10 x 2000 valeurs\n"
   ]
  },
  {
   "cell_type": "markdown",
   "metadata": {},
   "source": [
    "Distribution hétérogène"
   ]
  },
  {
   "cell_type": "code",
   "execution_count": 67,
   "metadata": {},
   "outputs": [
    {
     "name": "stderr",
     "output_type": "stream",
     "text": [
      "No handles with labels found to put in legend.\n"
     ]
    },
    {
     "data": {
      "image/png": "[encoded data removed]",
      "text/plain": [
       "<Figure size 432x288 with 1 Axes>"
      ]
     },
     "metadata": {
      "needs_background": "light"
     },
     "output_type": "display_data"
    }
   ],
   "source": [
    "#loop on the values for the parameter N\n",
    "graph=[]\n",
    "for i in range(nRepl):\n",
    "    G=nx.erdos_renyi_graph(N,p)\n",
    "    graph.append(G)\n",
    "\n",
    "# degree\n",
    "degreeList=[]\n",
    "for G in graph:\n",
    "    degreesReplica=[G.degree(n) for n in G.nodes()] \n",
    "    degreeList=degreeList+degreesReplica\n",
    "        \n",
    "y,x=np.histogram(degreeList)\n",
    "ynorm=[i/sum(y) for i in y]\n",
    "plt.plot(x[:-1],ynorm,'o-')\n",
    "plt.legend()\n",
    "plt.xlabel('k')\n",
    "plt.ylabel(r'$P(k)$')\n",
    "plt.show()"
   ]
  },
  {
   "cell_type": "markdown",
   "metadata": {},
   "source": [
    "Pour une liste de N"
   ]
  },
  {
   "cell_type": "code",
   "execution_count": 28,
   "metadata": {},
   "outputs": [],
   "source": [
    "NList=[100,500,1000,2000,5000,10000]\n",
    "p=0.001\n",
    "\n",
    "nRepl=10"
   ]
  },
  {
   "cell_type": "code",
   "execution_count": 29,
   "metadata": {},
   "outputs": [
    {
     "name": "stdout",
     "output_type": "stream",
     "text": [
      "100\n",
      "500\n",
      "1000\n",
      "2000\n",
      "5000\n",
      "10000\n"
     ]
    }
   ],
   "source": [
    "# the list of graphs is now a dictionary: I will have a list for each value of the parameter N\n",
    "listGraphs={}\n",
    "\n",
    "#loop on the values for the parameter N\n",
    "for N in NList:\n",
    "    print (N) \n",
    "    listGraphs[N]=[]\n",
    "    #loop on the replicas\n",
    "    for i in range(nRepl):\n",
    "        G=nx.erdos_renyi_graph(N,p)\n",
    "        listGraphs[N].append(G)"
   ]
  },
  {
   "cell_type": "code",
   "execution_count": 30,
   "metadata": {},
   "outputs": [],
   "source": [
    "# degree list for all the values of N:\n",
    "degreeList={}\n",
    "for N in NList:\n",
    "    degreeList[N]=[]\n",
    "    for G in listGraphs[N]:\n",
    "        degreesReplica=[G.degree(n) for n in G.nodes()] \n",
    "        degreeList[N]=degreeList[N]+degreesReplica"
   ]
  },
  {
   "cell_type": "code",
   "execution_count": 31,
   "metadata": {},
   "outputs": [
    {
     "data": {
      "image/png": "[encoded data removed]",
      "text/plain": [
       "<Figure size 432x288 with 1 Axes>"
      ]
     },
     "metadata": {
      "needs_background": "light"
     },
     "output_type": "display_data"
    }
   ],
   "source": [
    "for N in NList:\n",
    "    y,x=np.histogram(degreeList[N])\n",
    "    ynorm=[i/sum(y) for i in y]\n",
    "    plt.plot(x[:-1],ynorm,'o-',label=N)\n",
    "plt.legend()\n",
    "plt.xlabel('k')\n",
    "plt.ylabel(r'$P(k)$')\n",
    "\n",
    "\n",
    "plt.show()"
   ]
  },
  {
   "cell_type": "markdown",
   "metadata": {},
   "source": [
    "# SMALL WORLD PROPERTIES"
   ]
  },
  {
   "cell_type": "code",
   "execution_count": 69,
   "metadata": {},
   "outputs": [
    {
     "name": "stdout",
     "output_type": "stream",
     "text": [
      "100\n",
      "300\n",
      "500\n",
      "800\n",
      "1000\n",
      "1500\n"
     ]
    }
   ],
   "source": [
    "#we fix the average degree\n",
    "avK=5\n",
    "#This is the input list of the N values\n",
    "NList=[100,300,500,800,1000,1500]\n",
    "\n",
    "NREPL=2 \n",
    "#to do a good job we should put a larger number of replicas\n",
    "\n",
    "# the list of graphs is now a dictionary: I will have a list for each value of the parameter N\n",
    "listGraphs={}\n",
    "\n",
    "#loop on the values for the parameter N\n",
    "for N in NList:\n",
    "    prob=avK/N\n",
    "    print (N) \n",
    "    listGraphs[N]=[]\n",
    "    #loop on the replicas\n",
    "    for i in range(nRepl):\n",
    "        G=nx.erdos_renyi_graph(N,prob)\n",
    "        listGraphs[N].append(G)"
   ]
  },
  {
   "cell_type": "code",
   "execution_count": 70,
   "metadata": {},
   "outputs": [
    {
     "name": "stdout",
     "output_type": "stream",
     "text": [
      "100\n",
      "300\n",
      "500\n",
      "800\n",
      "1000\n",
      "1500\n"
     ]
    },
    {
     "ename": "KeyboardInterrupt",
     "evalue": "",
     "output_type": "error",
     "traceback": [
      "\u001b[1;31m---------------------------------------------------------------------------\u001b[0m",
      "\u001b[1;31mKeyboardInterrupt\u001b[0m                         Traceback (most recent call last)",
      "\u001b[1;32m<ipython-input-70-0f0dd7330348>\u001b[0m in \u001b[0;36m<module>\u001b[1;34m\u001b[0m\n\u001b[0;32m     10\u001b[0m             \u001b[0mGcc\u001b[0m \u001b[1;33m=\u001b[0m \u001b[0msorted\u001b[0m\u001b[1;33m(\u001b[0m\u001b[0mnx\u001b[0m\u001b[1;33m.\u001b[0m\u001b[0mconnected_components\u001b[0m\u001b[1;33m(\u001b[0m\u001b[0mthisGraph\u001b[0m\u001b[1;33m)\u001b[0m\u001b[1;33m,\u001b[0m \u001b[0mkey\u001b[0m\u001b[1;33m=\u001b[0m\u001b[0mlen\u001b[0m\u001b[1;33m,\u001b[0m \u001b[0mreverse\u001b[0m\u001b[1;33m=\u001b[0m\u001b[1;32mTrue\u001b[0m\u001b[1;33m)\u001b[0m\u001b[1;33m\u001b[0m\u001b[1;33m\u001b[0m\u001b[0m\n\u001b[0;32m     11\u001b[0m             \u001b[0mG0\u001b[0m \u001b[1;33m=\u001b[0m \u001b[0mthisGraph\u001b[0m\u001b[1;33m.\u001b[0m\u001b[0msubgraph\u001b[0m\u001b[1;33m(\u001b[0m\u001b[0mGcc\u001b[0m\u001b[1;33m[\u001b[0m\u001b[1;36m0\u001b[0m\u001b[1;33m]\u001b[0m\u001b[1;33m)\u001b[0m\u001b[1;33m\u001b[0m\u001b[1;33m\u001b[0m\u001b[0m\n\u001b[1;32m---> 12\u001b[1;33m             \u001b[0mll\u001b[0m\u001b[1;33m.\u001b[0m\u001b[0mappend\u001b[0m\u001b[1;33m(\u001b[0m\u001b[0mnx\u001b[0m\u001b[1;33m.\u001b[0m\u001b[0maverage_shortest_path_length\u001b[0m\u001b[1;33m(\u001b[0m\u001b[0mG0\u001b[0m\u001b[1;33m)\u001b[0m\u001b[1;33m)\u001b[0m\u001b[1;33m\u001b[0m\u001b[1;33m\u001b[0m\u001b[0m\n\u001b[0m\u001b[0;32m     13\u001b[0m     \u001b[0mavShPath\u001b[0m\u001b[1;33m.\u001b[0m\u001b[0mappend\u001b[0m\u001b[1;33m(\u001b[0m\u001b[0mnp\u001b[0m\u001b[1;33m.\u001b[0m\u001b[0mmean\u001b[0m\u001b[1;33m(\u001b[0m\u001b[0mll\u001b[0m\u001b[1;33m)\u001b[0m\u001b[1;33m)\u001b[0m\u001b[1;33m\u001b[0m\u001b[1;33m\u001b[0m\u001b[0m\n",
      "\u001b[1;32m~\\Anaconda3\\lib\\site-packages\\networkx\\algorithms\\shortest_paths\\generic.py\u001b[0m in \u001b[0;36maverage_shortest_path_length\u001b[1;34m(G, weight, method)\u001b[0m\n\u001b[0;32m    400\u001b[0m     \u001b[1;32mif\u001b[0m \u001b[0mmethod\u001b[0m \u001b[1;32min\u001b[0m \u001b[0msingle_source_methods\u001b[0m\u001b[1;33m:\u001b[0m\u001b[1;33m\u001b[0m\u001b[1;33m\u001b[0m\u001b[0m\n\u001b[0;32m    401\u001b[0m         \u001b[1;31m# Sum the distances for each (ordered) pair of source and target node.\u001b[0m\u001b[1;33m\u001b[0m\u001b[1;33m\u001b[0m\u001b[1;33m\u001b[0m\u001b[0m\n\u001b[1;32m--> 402\u001b[1;33m         \u001b[0ms\u001b[0m \u001b[1;33m=\u001b[0m \u001b[0msum\u001b[0m\u001b[1;33m(\u001b[0m\u001b[0ml\u001b[0m \u001b[1;32mfor\u001b[0m \u001b[0mu\u001b[0m \u001b[1;32min\u001b[0m \u001b[0mG\u001b[0m \u001b[1;32mfor\u001b[0m \u001b[0ml\u001b[0m \u001b[1;32min\u001b[0m \u001b[0mpath_length\u001b[0m\u001b[1;33m(\u001b[0m\u001b[0mu\u001b[0m\u001b[1;33m)\u001b[0m\u001b[1;33m.\u001b[0m\u001b[0mvalues\u001b[0m\u001b[1;33m(\u001b[0m\u001b[1;33m)\u001b[0m\u001b[1;33m)\u001b[0m\u001b[1;33m\u001b[0m\u001b[1;33m\u001b[0m\u001b[0m\n\u001b[0m\u001b[0;32m    403\u001b[0m     \u001b[1;32melse\u001b[0m\u001b[1;33m:\u001b[0m\u001b[1;33m\u001b[0m\u001b[1;33m\u001b[0m\u001b[0m\n\u001b[0;32m    404\u001b[0m         \u001b[1;32mif\u001b[0m \u001b[0mmethod\u001b[0m \u001b[1;33m==\u001b[0m \u001b[1;34m\"floyd-warshall\"\u001b[0m\u001b[1;33m:\u001b[0m\u001b[1;33m\u001b[0m\u001b[1;33m\u001b[0m\u001b[0m\n",
      "\u001b[1;32m~\\Anaconda3\\lib\\site-packages\\networkx\\algorithms\\shortest_paths\\generic.py\u001b[0m in \u001b[0;36m<genexpr>\u001b[1;34m(.0)\u001b[0m\n\u001b[0;32m    400\u001b[0m     \u001b[1;32mif\u001b[0m \u001b[0mmethod\u001b[0m \u001b[1;32min\u001b[0m \u001b[0msingle_source_methods\u001b[0m\u001b[1;33m:\u001b[0m\u001b[1;33m\u001b[0m\u001b[1;33m\u001b[0m\u001b[0m\n\u001b[0;32m    401\u001b[0m         \u001b[1;31m# Sum the distances for each (ordered) pair of source and target node.\u001b[0m\u001b[1;33m\u001b[0m\u001b[1;33m\u001b[0m\u001b[1;33m\u001b[0m\u001b[0m\n\u001b[1;32m--> 402\u001b[1;33m         \u001b[0ms\u001b[0m \u001b[1;33m=\u001b[0m \u001b[0msum\u001b[0m\u001b[1;33m(\u001b[0m\u001b[0ml\u001b[0m \u001b[1;32mfor\u001b[0m \u001b[0mu\u001b[0m \u001b[1;32min\u001b[0m \u001b[0mG\u001b[0m \u001b[1;32mfor\u001b[0m \u001b[0ml\u001b[0m \u001b[1;32min\u001b[0m \u001b[0mpath_length\u001b[0m\u001b[1;33m(\u001b[0m\u001b[0mu\u001b[0m\u001b[1;33m)\u001b[0m\u001b[1;33m.\u001b[0m\u001b[0mvalues\u001b[0m\u001b[1;33m(\u001b[0m\u001b[1;33m)\u001b[0m\u001b[1;33m)\u001b[0m\u001b[1;33m\u001b[0m\u001b[1;33m\u001b[0m\u001b[0m\n\u001b[0m\u001b[0;32m    403\u001b[0m     \u001b[1;32melse\u001b[0m\u001b[1;33m:\u001b[0m\u001b[1;33m\u001b[0m\u001b[1;33m\u001b[0m\u001b[0m\n\u001b[0;32m    404\u001b[0m         \u001b[1;32mif\u001b[0m \u001b[0mmethod\u001b[0m \u001b[1;33m==\u001b[0m \u001b[1;34m\"floyd-warshall\"\u001b[0m\u001b[1;33m:\u001b[0m\u001b[1;33m\u001b[0m\u001b[1;33m\u001b[0m\u001b[0m\n",
      "\u001b[1;32m~\\Anaconda3\\lib\\site-packages\\networkx\\algorithms\\shortest_paths\\generic.py\u001b[0m in \u001b[0;36mpath_length\u001b[1;34m(v)\u001b[0m\n\u001b[0;32m    392\u001b[0m     \u001b[1;32mdef\u001b[0m \u001b[0mpath_length\u001b[0m\u001b[1;33m(\u001b[0m\u001b[0mv\u001b[0m\u001b[1;33m)\u001b[0m\u001b[1;33m:\u001b[0m\u001b[1;33m\u001b[0m\u001b[1;33m\u001b[0m\u001b[0m\n\u001b[0;32m    393\u001b[0m         \u001b[1;32mif\u001b[0m \u001b[0mmethod\u001b[0m \u001b[1;33m==\u001b[0m \u001b[1;34m\"unweighted\"\u001b[0m\u001b[1;33m:\u001b[0m\u001b[1;33m\u001b[0m\u001b[1;33m\u001b[0m\u001b[0m\n\u001b[1;32m--> 394\u001b[1;33m             \u001b[1;32mreturn\u001b[0m \u001b[0mnx\u001b[0m\u001b[1;33m.\u001b[0m\u001b[0msingle_source_shortest_path_length\u001b[0m\u001b[1;33m(\u001b[0m\u001b[0mG\u001b[0m\u001b[1;33m,\u001b[0m \u001b[0mv\u001b[0m\u001b[1;33m)\u001b[0m\u001b[1;33m\u001b[0m\u001b[1;33m\u001b[0m\u001b[0m\n\u001b[0m\u001b[0;32m    395\u001b[0m         \u001b[1;32melif\u001b[0m \u001b[0mmethod\u001b[0m \u001b[1;33m==\u001b[0m \u001b[1;34m\"dijkstra\"\u001b[0m\u001b[1;33m:\u001b[0m\u001b[1;33m\u001b[0m\u001b[1;33m\u001b[0m\u001b[0m\n\u001b[0;32m    396\u001b[0m             \u001b[1;32mreturn\u001b[0m \u001b[0mnx\u001b[0m\u001b[1;33m.\u001b[0m\u001b[0msingle_source_dijkstra_path_length\u001b[0m\u001b[1;33m(\u001b[0m\u001b[0mG\u001b[0m\u001b[1;33m,\u001b[0m \u001b[0mv\u001b[0m\u001b[1;33m,\u001b[0m \u001b[0mweight\u001b[0m\u001b[1;33m=\u001b[0m\u001b[0mweight\u001b[0m\u001b[1;33m)\u001b[0m\u001b[1;33m\u001b[0m\u001b[1;33m\u001b[0m\u001b[0m\n",
      "\u001b[1;32m~\\Anaconda3\\lib\\site-packages\\networkx\\algorithms\\shortest_paths\\unweighted.py\u001b[0m in \u001b[0;36msingle_source_shortest_path_length\u001b[1;34m(G, source, cutoff)\u001b[0m\n\u001b[0;32m     57\u001b[0m         \u001b[0mcutoff\u001b[0m \u001b[1;33m=\u001b[0m \u001b[0mfloat\u001b[0m\u001b[1;33m(\u001b[0m\u001b[1;34m\"inf\"\u001b[0m\u001b[1;33m)\u001b[0m\u001b[1;33m\u001b[0m\u001b[1;33m\u001b[0m\u001b[0m\n\u001b[0;32m     58\u001b[0m     \u001b[0mnextlevel\u001b[0m \u001b[1;33m=\u001b[0m \u001b[1;33m{\u001b[0m\u001b[0msource\u001b[0m\u001b[1;33m:\u001b[0m \u001b[1;36m1\u001b[0m\u001b[1;33m}\u001b[0m\u001b[1;33m\u001b[0m\u001b[1;33m\u001b[0m\u001b[0m\n\u001b[1;32m---> 59\u001b[1;33m     \u001b[1;32mreturn\u001b[0m \u001b[0mdict\u001b[0m\u001b[1;33m(\u001b[0m\u001b[0m_single_shortest_path_length\u001b[0m\u001b[1;33m(\u001b[0m\u001b[0mG\u001b[0m\u001b[1;33m.\u001b[0m\u001b[0madj\u001b[0m\u001b[1;33m,\u001b[0m \u001b[0mnextlevel\u001b[0m\u001b[1;33m,\u001b[0m \u001b[0mcutoff\u001b[0m\u001b[1;33m)\u001b[0m\u001b[1;33m)\u001b[0m\u001b[1;33m\u001b[0m\u001b[1;33m\u001b[0m\u001b[0m\n\u001b[0m\u001b[0;32m     60\u001b[0m \u001b[1;33m\u001b[0m\u001b[0m\n\u001b[0;32m     61\u001b[0m \u001b[1;33m\u001b[0m\u001b[0m\n",
      "\u001b[1;32m~\\Anaconda3\\lib\\site-packages\\networkx\\algorithms\\shortest_paths\\unweighted.py\u001b[0m in \u001b[0;36m_single_shortest_path_length\u001b[1;34m(adj, firstlevel, cutoff)\u001b[0m\n\u001b[0;32m     89\u001b[0m             \u001b[1;32mreturn\u001b[0m\u001b[1;33m\u001b[0m\u001b[1;33m\u001b[0m\u001b[0m\n\u001b[0;32m     90\u001b[0m         \u001b[1;32mfor\u001b[0m \u001b[0mv\u001b[0m \u001b[1;32min\u001b[0m \u001b[0mfound\u001b[0m\u001b[1;33m:\u001b[0m\u001b[1;33m\u001b[0m\u001b[1;33m\u001b[0m\u001b[0m\n\u001b[1;32m---> 91\u001b[1;33m             \u001b[0mnextlevel\u001b[0m\u001b[1;33m.\u001b[0m\u001b[0mupdate\u001b[0m\u001b[1;33m(\u001b[0m\u001b[0madj\u001b[0m\u001b[1;33m[\u001b[0m\u001b[0mv\u001b[0m\u001b[1;33m]\u001b[0m\u001b[1;33m)\u001b[0m\u001b[1;33m\u001b[0m\u001b[1;33m\u001b[0m\u001b[0m\n\u001b[0m\u001b[0;32m     92\u001b[0m         \u001b[0mlevel\u001b[0m \u001b[1;33m+=\u001b[0m \u001b[1;36m1\u001b[0m\u001b[1;33m\u001b[0m\u001b[1;33m\u001b[0m\u001b[0m\n\u001b[0;32m     93\u001b[0m     \u001b[1;32mdel\u001b[0m \u001b[0mseen\u001b[0m\u001b[1;33m\u001b[0m\u001b[1;33m\u001b[0m\u001b[0m\n",
      "\u001b[1;31mKeyboardInterrupt\u001b[0m: "
     ]
    }
   ],
   "source": [
    "avShPath=[]\n",
    "for N in NList:\n",
    "    print(N)\n",
    "    ll=[]\n",
    "    for thisGraph in listGraphs[N]:\n",
    "        if nx.is_connected(thisGraph):\n",
    "            ll.append(nx.average_shortest_path_length(thisGraph))\n",
    "        else:\n",
    "            #extract the giant component\n",
    "            Gcc = sorted(nx.connected_components(thisGraph), key=len, reverse=True)\n",
    "            G0 = thisGraph.subgraph(Gcc[0])\n",
    "            ll.append(nx.average_shortest_path_length(G0))\n",
    "    avShPath.append(np.mean(ll))"
   ]
  },
  {
   "cell_type": "markdown",
   "metadata": {},
   "source": [
    "Je passe au logarithme sur l'axe x donc je trouve bien un loi logarithmique, comme ce à quoi je m'attendais. \n",
    "Ainsi les graphes d'Erdos Renyi ont bien une propriété de petit monde. "
   ]
  },
  {
   "cell_type": "code",
   "execution_count": null,
   "metadata": {},
   "outputs": [],
   "source": [
    "plt.plot(NList,avShPath,'o-',markersize=10)\n",
    "plt.xlabel('N',size=15)\n",
    "plt.ylabel('<l>',size=15)\n",
    "plt.show()\n",
    "\n",
    "#if <l>=log(N), in the semilog plane I should have a straight line \n",
    "plt.semilogx(NList,avShPath,'o-',markersize=10)\n",
    "plt.xlabel('N',size=15)\n",
    "plt.ylabel('<l>',size=15)\n",
    "plt.show()"
   ]
  }
 ],
 "metadata": {
  "kernelspec": {
   "display_name": "Python 3",
   "language": "python",
   "name": "python3"
  },
  "language_info": {
   "codemirror_mode": {
    "name": "ipython",
    "version": 3
   },
   "file_extension": ".py",
   "mimetype": "text/x-python",
   "name": "python",
   "nbconvert_exporter": "python",
   "pygments_lexer": "ipython3",
   "version": "3.7.4"
  }
 },
 "nbformat": 4,
 "nbformat_minor": 4
}
