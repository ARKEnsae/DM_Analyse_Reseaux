{
 "cells": [
  {
   "cell_type": "code",
   "execution_count": 2,
   "metadata": {},
   "outputs": [],
   "source": [
    "import networkx as nx\n",
    "import random\n",
    "import numpy as np\n",
    "import matplotlib.pyplot as plt"
   ]
  },
  {
   "cell_type": "markdown",
   "metadata": {},
   "source": [
    "# manual generation/single replica"
   ]
  },
  {
   "cell_type": "code",
   "execution_count": 3,
   "metadata": {},
   "outputs": [],
   "source": [
    "def roulette_wheel_selection(vecFit):\n",
    "    fitNorm=[i/float(sum(vecFit)) for i in vecFit]\n",
    "    fitNormCumSum=list(np.cumsum(fitNorm))\n",
    "    rand=random.uniform(0,1)\n",
    "    for i in range(len(fitNormCumSum)):\n",
    "        if fitNormCumSum[i]>rand:\n",
    "            selection=i\n",
    "            break\n",
    "    return selection"
   ]
  },
  {
   "cell_type": "markdown",
   "metadata": {},
   "source": [
    "Je commence avec 5 noeuds complètements connectés.\n",
    "Je veux arriver jusqu'à 1000\n",
    "J'en ajoute 3 à chaque initialisation."
   ]
  },
  {
   "cell_type": "code",
   "execution_count": 5,
   "metadata": {},
   "outputs": [],
   "source": [
    "#parameters\n",
    "Nini=5\n",
    "Nmax=1000\n",
    "m=3"
   ]
  },
  {
   "cell_type": "code",
   "execution_count": 6,
   "metadata": {},
   "outputs": [],
   "source": [
    "#initialization : graphe complet avec 5 noeuds\n",
    "G=nx.complete_graph(Nini)\n",
    "#node attachment loop:\n",
    "for t in range(Nini+1,Nmax):\n",
    "    #à chaque itération, j'ajoute un noeud et de nouveaux liens\n",
    "    #link attachment loop \n",
    "    listNodes=list(G.nodes())\n",
    "    listk=[G.degree(n) for n in G.nodes()]\n",
    "    for link in range(m):\n",
    "        selected=roulette_wheel_selection(listk)\n",
    "        #pour éviter de le sélectionner de nouveau dans la prochaine itération.\n",
    "        listk[selected]=0\n",
    "        G.add_edge(t,listNodes[selected])"
   ]
  },
  {
   "cell_type": "code",
   "execution_count": 7,
   "metadata": {},
   "outputs": [],
   "source": [
    "k=[G.degree(n) for n in G.nodes()]"
   ]
  },
  {
   "cell_type": "code",
   "execution_count": 8,
   "metadata": {},
   "outputs": [],
   "source": [
    "def logBinning(degreeList,nbin):\n",
    "    kmin=min(degreeList)\n",
    "    kmax=max(degreeList)\n",
    "    logBins = np.logspace(np.log10(kmin), np.log10(kmax),num=nbin)\n",
    "    logBinDensity, binedges = np.histogram(degreeList, bins=logBins, density=True)\n",
    "    logBins = np.delete(logBins, -1)\n",
    "    return logBinDensity, logBins"
   ]
  },
  {
   "cell_type": "code",
   "execution_count": 9,
   "metadata": {},
   "outputs": [
    {
     "data": {
      "image/png": "[encoded data removed]",
      "text/plain": [
       "<Figure size 432x288 with 1 Axes>"
      ]
     },
     "metadata": {
      "needs_background": "light"
     },
     "output_type": "display_data"
    }
   ],
   "source": [
    "y,x=logBinning(np.array(k),20)\n",
    "plt.semilogy(x,y,'o',markersize=10)\n",
    "plt.xlabel('k',size=15)\n",
    "plt.ylabel('P(k)',size=15)\n",
    "plt.show()"
   ]
  },
  {
   "cell_type": "markdown",
   "metadata": {},
   "source": [
    "C'est en ligne dans l'espace logarithmique donc c'est bien une loi de puissance. Il joue bien le jeu de créer un réseau **hétérogène** qui suit une loi de puissance. "
   ]
  },
  {
   "cell_type": "code",
   "execution_count": 16,
   "metadata": {},
   "outputs": [
    {
     "data": {
      "image/png": "[encoded data removed]",
      "text/plain": [
       "<Figure size 432x288 with 1 Axes>"
      ]
     },
     "metadata": {
      "needs_background": "light"
     },
     "output_type": "display_data"
    }
   ],
   "source": [
    "y,x=logBinning(np.array(k),20)\n",
    "plt.loglog(x,y,'o',markersize=10)\n",
    "plt.xlabel('k',size=15)\n",
    "plt.ylabel('P(k)',size=15)\n",
    "plt.show()"
   ]
  },
  {
   "cell_type": "markdown",
   "metadata": {},
   "source": [
    "# IT IS A POWER LAW!"
   ]
  },
  {
   "cell_type": "markdown",
   "metadata": {},
   "source": [
    "# NETWORKX GENERATION / MULTI-REPLICA"
   ]
  },
  {
   "cell_type": "code",
   "execution_count": 10,
   "metadata": {},
   "outputs": [],
   "source": [
    "#parameters\n",
    "Nini=5\n",
    "Nmax=1000\n",
    "m=3\n",
    "NREPL=100"
   ]
  },
  {
   "cell_type": "markdown",
   "metadata": {},
   "source": [
    "Il existe un générateur dans networkx `barabasi_albert_graph`. On voit qu'il est plus performant que son code "
   ]
  },
  {
   "cell_type": "code",
   "execution_count": 11,
   "metadata": {},
   "outputs": [],
   "source": [
    "k=[]\n",
    "for r in range(NREPL):\n",
    "    G=nx.barabasi_albert_graph(1000,3)\n",
    "    k=k+[G.degree(n) for n in G.nodes() if G.degree(n)>m]"
   ]
  },
  {
   "cell_type": "markdown",
   "metadata": {},
   "source": [
    "On voit encore mieux que c'est une loi de puissance."
   ]
  },
  {
   "cell_type": "code",
   "execution_count": 12,
   "metadata": {},
   "outputs": [
    {
     "data": {
      "image/png": "[encoded data removed]",
      "text/plain": [
       "<Figure size 432x288 with 1 Axes>"
      ]
     },
     "metadata": {
      "needs_background": "light"
     },
     "output_type": "display_data"
    }
   ],
   "source": [
    "y,x=logBinning(np.array(k),20)\n",
    "plt.loglog(x,y,'o',markersize=10)\n",
    "plt.xlabel('k',size=15)\n",
    "plt.ylabel('P(k)',size=15)\n",
    "plt.show()"
   ]
  },
  {
   "cell_type": "code",
   "execution_count": 20,
   "metadata": {},
   "outputs": [],
   "source": [
    "# calculate the exponent of the powerlaw\n",
    "from scipy.optimize import curve_fit\n",
    "\n",
    "def power_law (x, m, c):\n",
    "    return x**m * c\n",
    "\n",
    "popt, pcov = curve_fit(power_law, x[:-3], y[:-3])"
   ]
  },
  {
   "cell_type": "markdown",
   "metadata": {},
   "source": [
    "Moyenne = réécouter\n",
    "Mais écart type devient élevé\n",
    "=> réseau très hétérogènes"
   ]
  },
  {
   "cell_type": "code",
   "execution_count": 21,
   "metadata": {},
   "outputs": [
    {
     "data": {
      "image/png": "[encoded data removed]",
      "text/plain": [
       "<Figure size 432x288 with 1 Axes>"
      ]
     },
     "metadata": {
      "needs_background": "light"
     },
     "output_type": "display_data"
    }
   ],
   "source": [
    "plt.loglog(x,y,'o',markersize=10)\n",
    "plt.loglog(x, power_law(x, *popt), '--')\n",
    "plt.xlabel('k',size=15)\n",
    "plt.ylabel('P(k)',size=15)\n",
    "plt.show()"
   ]
  },
  {
   "cell_type": "code",
   "execution_count": 22,
   "metadata": {},
   "outputs": [
    {
     "name": "stdout",
     "output_type": "stream",
     "text": [
      "[-3.136807   29.69717162]\n"
     ]
    }
   ],
   "source": [
    "print (popt)"
   ]
  },
  {
   "cell_type": "code",
   "execution_count": null,
   "metadata": {},
   "outputs": [],
   "source": []
  }
 ],
 "metadata": {
  "kernelspec": {
   "display_name": "Python 3",
   "language": "python",
   "name": "python3"
  },
  "language_info": {
   "codemirror_mode": {
    "name": "ipython",
    "version": 3
   },
   "file_extension": ".py",
   "mimetype": "text/x-python",
   "name": "python",
   "nbconvert_exporter": "python",
   "pygments_lexer": "ipython3",
   "version": "3.7.4"
  }
 },
 "nbformat": 4,
 "nbformat_minor": 2
}
