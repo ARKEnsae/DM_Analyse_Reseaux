{
 "cells": [
  {
   "cell_type": "code",
   "execution_count": 1,
   "metadata": {},
   "outputs": [],
   "source": [
    "import networkx as nx\n",
    "import random\n",
    "\n",
    "import matplotlib.pyplot as plt\n",
    "\n",
    "import itertools\n",
    "\n",
    "import numpy as np"
   ]
  },
  {
   "cell_type": "markdown",
   "metadata": {},
   "source": [
    "# THE RANDOM LIBRARY"
   ]
  },
  {
   "cell_type": "code",
   "execution_count": 2,
   "metadata": {},
   "outputs": [
    {
     "data": {
      "text/plain": [
       "0.031726878261982616"
      ]
     },
     "execution_count": 2,
     "metadata": {},
     "output_type": "execute_result"
    }
   ],
   "source": [
    "random.uniform(0,1)"
   ]
  },
  {
   "cell_type": "code",
   "execution_count": 3,
   "metadata": {},
   "outputs": [],
   "source": [
    "values=[random.uniform(0,1) for i in range(1000)]"
   ]
  },
  {
   "cell_type": "code",
   "execution_count": 4,
   "metadata": {},
   "outputs": [
    {
     "data": {
      "image/png": "[encoded data removed]",
      "text/plain": [
       "<Figure size 432x288 with 1 Axes>"
      ]
     },
     "metadata": {
      "needs_background": "light"
     },
     "output_type": "display_data"
    }
   ],
   "source": [
    "plt.hist(values,density=True, edgecolor='black', linewidth=1.2)\n",
    "plt.show()"
   ]
  },
  {
   "cell_type": "markdown",
   "metadata": {},
   "source": [
    "# THE IMPLEMENTATION OF THE ERDOS RENYI MODEL"
   ]
  },
  {
   "cell_type": "code",
   "execution_count": 5,
   "metadata": {},
   "outputs": [],
   "source": [
    "# parameters\n",
    "N=100\n",
    "p=0.01"
   ]
  },
  {
   "cell_type": "markdown",
   "metadata": {},
   "source": [
    "### the model loop version 1"
   ]
  },
  {
   "cell_type": "code",
   "execution_count": 6,
   "metadata": {},
   "outputs": [],
   "source": [
    "# Initialization: Creation of N isolated nodes\n",
    "G=nx.Graph()\n",
    "nodes=[i for i in range(N)]\n",
    "G.add_nodes_from(nodes)\n",
    "\n",
    "#the cycle\n",
    "for n1 in G.nodes():\n",
    "    for n2 in G.nodes():\n",
    "        if n1>n2:\n",
    "            r=random.uniform(0,1)\n",
    "            if r<p:\n",
    "                G.add_edge(n1,n2)\n",
    "        "
   ]
  },
  {
   "cell_type": "code",
   "execution_count": 7,
   "metadata": {},
   "outputs": [
    {
     "name": "stdout",
     "output_type": "stream",
     "text": [
      "100 53\n"
     ]
    }
   ],
   "source": [
    "print(G.number_of_nodes(),G.number_of_edges())"
   ]
  },
  {
   "cell_type": "markdown",
   "metadata": {},
   "source": [
    "### the model loop version 2 - using itertools"
   ]
  },
  {
   "cell_type": "code",
   "execution_count": 8,
   "metadata": {},
   "outputs": [
    {
     "data": {
      "text/plain": [
       "[(1, 2), (1, 3), (2, 3)]"
      ]
     },
     "execution_count": 8,
     "metadata": {},
     "output_type": "execute_result"
    }
   ],
   "source": [
    "list(itertools.combinations([1,2,3], 2) )"
   ]
  },
  {
   "cell_type": "code",
   "execution_count": 9,
   "metadata": {},
   "outputs": [],
   "source": [
    "# Initialization: Creation of N isolated nodes\n",
    "G=nx.Graph()\n",
    "nodes=[i for i in range(N)]\n",
    "G.add_nodes_from(nodes)\n",
    "allEdges=list(itertools.combinations(nodes, 2))\n",
    "\n",
    "for (u,v) in allEdges:\n",
    "    r=random.uniform(0,1)\n",
    "    if r<p:\n",
    "        G.add_edge(u,v)"
   ]
  },
  {
   "cell_type": "code",
   "execution_count": 10,
   "metadata": {},
   "outputs": [
    {
     "name": "stdout",
     "output_type": "stream",
     "text": [
      "100 52\n"
     ]
    }
   ],
   "source": [
    "print(G.number_of_nodes(),G.number_of_edges())"
   ]
  },
  {
   "cell_type": "markdown",
   "metadata": {},
   "source": [
    "### The model implemented in nx"
   ]
  },
  {
   "cell_type": "code",
   "execution_count": 11,
   "metadata": {},
   "outputs": [],
   "source": [
    "G=nx.erdos_renyi_graph(N,p)"
   ]
  },
  {
   "cell_type": "code",
   "execution_count": 12,
   "metadata": {},
   "outputs": [
    {
     "data": {
      "text/plain": [
       "53"
      ]
     },
     "execution_count": 12,
     "metadata": {},
     "output_type": "execute_result"
    }
   ],
   "source": [
    "G.number_of_edges()"
   ]
  },
  {
   "cell_type": "markdown",
   "metadata": {},
   "source": [
    "# SEVERAL REPLICAS OF THE MODEL"
   ]
  },
  {
   "cell_type": "markdown",
   "metadata": {},
   "source": [
    "To statistically study the model we need to build several replicas"
   ]
  },
  {
   "cell_type": "code",
   "execution_count": 13,
   "metadata": {},
   "outputs": [],
   "source": [
    "# parameters\n",
    "N=100\n",
    "p=0.01\n",
    "\n",
    "nRepl=10"
   ]
  },
  {
   "cell_type": "code",
   "execution_count": 14,
   "metadata": {},
   "outputs": [],
   "source": [
    "listGraphs=[]\n",
    "for i in range(nRepl):\n",
    "    G=nx.erdos_renyi_graph(N,p)\n",
    "    listGraphs.append(G)\n",
    "    \n",
    "# or listGraphs=[nx.erdos_renyi_graph(N,p) for i in range(nReplabs)]"
   ]
  },
  {
   "cell_type": "code",
   "execution_count": 15,
   "metadata": {},
   "outputs": [
    {
     "name": "stdout",
     "output_type": "stream",
     "text": [
      "49\n",
      "41\n",
      "45\n",
      "41\n",
      "45\n",
      "34\n",
      "46\n",
      "50\n",
      "55\n",
      "43\n"
     ]
    }
   ],
   "source": [
    "for G in listGraphs:\n",
    "    print(G.number_of_edges())"
   ]
  },
  {
   "cell_type": "code",
   "execution_count": 16,
   "metadata": {},
   "outputs": [
    {
     "name": "stdout",
     "output_type": "stream",
     "text": [
      "44.9\n"
     ]
    }
   ],
   "source": [
    "avNLinks=[]\n",
    "for G in listGraphs:\n",
    "    avNLinks.append(G.number_of_edges())\n",
    "    \n",
    "print (np.mean(avNLinks))"
   ]
  },
  {
   "cell_type": "markdown",
   "metadata": {},
   "source": [
    "# A FIRST MEASURE: the number of links as a function of N"
   ]
  },
  {
   "cell_type": "markdown",
   "metadata": {},
   "source": [
    "We fix the number of nodes"
   ]
  },
  {
   "cell_type": "code",
   "execution_count": 17,
   "metadata": {},
   "outputs": [],
   "source": [
    "N=1000"
   ]
  },
  {
   "cell_type": "markdown",
   "metadata": {},
   "source": [
    "p varies between 0.0001 and 0.1"
   ]
  },
  {
   "cell_type": "code",
   "execution_count": 18,
   "metadata": {},
   "outputs": [],
   "source": [
    "pList=[0.0001,0.0005,0.001,0.005,0.01,0.03,0.05,0.07,0.1]"
   ]
  },
  {
   "cell_type": "markdown",
   "metadata": {},
   "source": [
    "We should do at least 100 replicas, for calculation time we do 10"
   ]
  },
  {
   "cell_type": "code",
   "execution_count": 19,
   "metadata": {},
   "outputs": [],
   "source": [
    "nRepl=10"
   ]
  },
  {
   "cell_type": "markdown",
   "metadata": {},
   "source": [
    "### Model setup"
   ]
  },
  {
   "cell_type": "markdown",
   "metadata": {},
   "source": [
    "We build a model (with several replicas) for each value of p. For all the values of the parameter p we want to observe resulting number of edges."
   ]
  },
  {
   "cell_type": "code",
   "execution_count": 20,
   "metadata": {},
   "outputs": [
    {
     "name": "stdout",
     "output_type": "stream",
     "text": [
      "0.0001\n",
      "0.0005\n",
      "0.001\n",
      "0.005\n",
      "0.01\n",
      "0.03\n",
      "0.05\n",
      "0.07\n",
      "0.1\n"
     ]
    }
   ],
   "source": [
    "# the list of graphs is now a dictionary: I will have a list for each value of the parameter p\n",
    "listGraphs={}\n",
    "\n",
    "#loop on the values for the parameter p\n",
    "for p in pList:\n",
    "    print (p) #to be sure that I'm not too slow\n",
    "    listGraphs[p]=[]\n",
    "    #loop on the replicas\n",
    "    for i in range(nRepl):\n",
    "        G=nx.erdos_renyi_graph(N,p)\n",
    "        listGraphs[p].append(G)"
   ]
  },
  {
   "cell_type": "code",
   "execution_count": 21,
   "metadata": {},
   "outputs": [],
   "source": [
    "avL=[]\n",
    "for p in pList:\n",
    "    listE=[G.number_of_edges() for G in listGraphs[p]]\n",
    "    avL.append(np.mean(listE))"
   ]
  },
  {
   "cell_type": "code",
   "execution_count": 22,
   "metadata": {},
   "outputs": [
    {
     "data": {
      "text/plain": [
       "[49.4, 250.6, 501.4, 2505.2, 4998.3, 14973.1, 24997.3, 34993.4, 49921.7]"
      ]
     },
     "execution_count": 22,
     "metadata": {},
     "output_type": "execute_result"
    }
   ],
   "source": [
    "avL"
   ]
  },
  {
   "cell_type": "code",
   "execution_count": 23,
   "metadata": {},
   "outputs": [
    {
     "data": {
      "image/png": "[encoded data removed]",
      "text/plain": [
       "<Figure size 432x288 with 1 Axes>"
      ]
     },
     "metadata": {
      "needs_background": "light"
     },
     "output_type": "display_data"
    }
   ],
   "source": [
    "plt.plot(pList,avL,'o')\n",
    "\n",
    "plt.xlabel('p')\n",
    "plt.ylabel(r'$\\langle E\\rangle$')\n",
    "\n",
    "plt.show()"
   ]
  },
  {
   "cell_type": "code",
   "execution_count": 24,
   "metadata": {},
   "outputs": [],
   "source": [
    "coef = np.polyfit(pList,avL, 1)\n",
    "poly1d_fn = np.poly1d(coef) "
   ]
  },
  {
   "cell_type": "code",
   "execution_count": 25,
   "metadata": {},
   "outputs": [
    {
     "data": {
      "image/png": "[encoded data removed]",
      "text/plain": [
       "<Figure size 432x288 with 1 Axes>"
      ]
     },
     "metadata": {
      "needs_background": "light"
     },
     "output_type": "display_data"
    }
   ],
   "source": [
    "plt.plot(pList,avL,'o')\n",
    "plt.plot(pList, poly1d_fn(pList), '--k')\n",
    "\n",
    "plt.xlabel('p')\n",
    "plt.ylabel(r'$\\langle E\\rangle$')\n",
    "\n",
    "plt.show()"
   ]
  },
  {
   "cell_type": "code",
   "execution_count": 26,
   "metadata": {},
   "outputs": [
    {
     "data": {
      "text/plain": [
       "499432.3508101135"
      ]
     },
     "execution_count": 26,
     "metadata": {},
     "output_type": "execute_result"
    }
   ],
   "source": [
    "coef[0]"
   ]
  },
  {
   "cell_type": "code",
   "execution_count": 27,
   "metadata": {},
   "outputs": [
    {
     "data": {
      "text/plain": [
       "499500.0"
      ]
     },
     "execution_count": 27,
     "metadata": {},
     "output_type": "execute_result"
    }
   ],
   "source": [
    "N*(N-1)/2"
   ]
  },
  {
   "cell_type": "markdown",
   "metadata": {},
   "source": [
    "# THE DEGREE DISTRIBUTION"
   ]
  },
  {
   "cell_type": "code",
   "execution_count": 28,
   "metadata": {},
   "outputs": [],
   "source": [
    "NList=[100,500,1000,2000,5000,10000]\n",
    "p=0.001\n",
    "\n",
    "nRepl=10"
   ]
  },
  {
   "cell_type": "code",
   "execution_count": 29,
   "metadata": {},
   "outputs": [
    {
     "name": "stdout",
     "output_type": "stream",
     "text": [
      "100\n",
      "500\n",
      "1000\n",
      "2000\n",
      "5000\n",
      "10000\n"
     ]
    }
   ],
   "source": [
    "# the list of graphs is now a dictionary: I will have a list for each value of the parameter N\n",
    "listGraphs={}\n",
    "\n",
    "#loop on the values for the parameter N\n",
    "for N in NList:\n",
    "    print (N) \n",
    "    listGraphs[N]=[]\n",
    "    #loop on the replicas\n",
    "    for i in range(nRepl):\n",
    "        G=nx.erdos_renyi_graph(N,p)\n",
    "        listGraphs[N].append(G)"
   ]
  },
  {
   "cell_type": "code",
   "execution_count": 30,
   "metadata": {},
   "outputs": [],
   "source": [
    "# degree list for all the values of N:\n",
    "degreeList={}\n",
    "for N in NList:\n",
    "    degreeList[N]=[]\n",
    "    for G in listGraphs[N]:\n",
    "        degreesReplica=[G.degree(n) for n in G.nodes()] \n",
    "        degreeList[N]=degreeList[N]+degreesReplica"
   ]
  },
  {
   "cell_type": "code",
   "execution_count": 31,
   "metadata": {},
   "outputs": [
    {
     "data": {
      "image/png": "[encoded data removed]",
      "text/plain": [
       "<Figure size 432x288 with 1 Axes>"
      ]
     },
     "metadata": {
      "needs_background": "light"
     },
     "output_type": "display_data"
    }
   ],
   "source": [
    "for N in NList:\n",
    "    y,x=np.histogram(degreeList[N])\n",
    "    ynorm=[i/sum(y) for i in y]\n",
    "    plt.plot(x[:-1],ynorm,'o-',label=N)\n",
    "plt.legend()\n",
    "plt.xlabel('k')\n",
    "plt.ylabel(r'$P(k)$')\n",
    "\n",
    "\n",
    "plt.show()"
   ]
  },
  {
   "cell_type": "markdown",
   "metadata": {},
   "source": [
    "# SMALL WORLD PROPERTIES"
   ]
  },
  {
   "cell_type": "code",
   "execution_count": 32,
   "metadata": {},
   "outputs": [
    {
     "name": "stdout",
     "output_type": "stream",
     "text": [
      "100\n",
      "300\n",
      "500\n",
      "800\n",
      "1000\n",
      "1500\n"
     ]
    }
   ],
   "source": [
    "#we fix the average degree\n",
    "avK=5\n",
    "#This is the input list of the N values\n",
    "NList=[100,300,500,800,1000,1500]\n",
    "\n",
    "NREPL=2 \n",
    "#to do a good job we should put a larger number of replicas\n",
    "\n",
    "# the list of graphs is now a dictionary: I will have a list for each value of the parameter N\n",
    "listGraphs={}\n",
    "\n",
    "#loop on the values for the parameter N\n",
    "for N in NList:\n",
    "    prob=avK/N\n",
    "    print (N) \n",
    "    listGraphs[N]=[]\n",
    "    #loop on the replicas\n",
    "    for i in range(nRepl):\n",
    "        G=nx.erdos_renyi_graph(N,prob)\n",
    "        listGraphs[N].append(G)"
   ]
  },
  {
   "cell_type": "code",
   "execution_count": 33,
   "metadata": {},
   "outputs": [
    {
     "name": "stdout",
     "output_type": "stream",
     "text": [
      "100\n",
      "300\n",
      "500\n",
      "800\n",
      "1000\n",
      "1500\n"
     ]
    }
   ],
   "source": [
    "avShPath=[]\n",
    "for N in NList:\n",
    "    print(N)\n",
    "    ll=[]\n",
    "    for thisGraph in listGraphs[N]:\n",
    "        if nx.is_connected(thisGraph):\n",
    "            ll.append(nx.average_shortest_path_length(thisGraph))\n",
    "        else:\n",
    "            #extract the giant component\n",
    "            Gcc = sorted(nx.connected_components(thisGraph), key=len, reverse=True)\n",
    "            G0 = thisGraph.subgraph(Gcc[0])\n",
    "            ll.append(nx.average_shortest_path_length(G0))\n",
    "    avShPath.append(np.mean(ll))"
   ]
  },
  {
   "cell_type": "code",
   "execution_count": 34,
   "metadata": {},
   "outputs": [
    {
     "data": {
      "image/png": "[encoded data removed]",
      "text/plain": [
       "<Figure size 432x288 with 1 Axes>"
      ]
     },
     "metadata": {
      "needs_background": "light"
     },
     "output_type": "display_data"
    },
    {
     "data": {
      "image/png": "[encoded data removed]",
      "text/plain": [
       "<Figure size 432x288 with 1 Axes>"
      ]
     },
     "metadata": {
      "needs_background": "light"
     },
     "output_type": "display_data"
    }
   ],
   "source": [
    "plt.plot(NList,avShPath,'o-',markersize=10)\n",
    "plt.xlabel('N',size=15)\n",
    "plt.ylabel('<l>',size=15)\n",
    "plt.show()\n",
    "\n",
    "#if <l>=log(N), in the semilog plane I should have a straight line \n",
    "plt.semilogx(NList,avShPath,'o-',markersize=10)\n",
    "plt.xlabel('N',size=15)\n",
    "plt.ylabel('<l>',size=15)\n",
    "plt.show()"
   ]
  }
 ],
 "metadata": {
  "kernelspec": {
   "display_name": "Python 3",
   "language": "python",
   "name": "python3"
  },
  "language_info": {
   "codemirror_mode": {
    "name": "ipython",
    "version": 3
   },
   "file_extension": ".py",
   "mimetype": "text/x-python",
   "name": "python",
   "nbconvert_exporter": "python",
   "pygments_lexer": "ipython3",
   "version": "3.8.3"
  }
 },
 "nbformat": 4,
 "nbformat_minor": 4
}
