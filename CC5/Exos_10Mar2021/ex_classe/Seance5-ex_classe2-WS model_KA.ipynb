{
 "cells": [
  {
   "cell_type": "code",
   "execution_count": 1,
   "metadata": {},
   "outputs": [],
   "source": [
    "import networkx as nx\n",
    "\n",
    "import matplotlib.pyplot as plt\n",
    "\n",
    "import numpy as np"
   ]
  },
  {
   "cell_type": "markdown",
   "metadata": {},
   "source": [
    "# The network generator"
   ]
  },
  {
   "cell_type": "code",
   "execution_count": 2,
   "metadata": {},
   "outputs": [],
   "source": [
    "#parameters\n",
    "N=100 #number of nodes\n",
    "m=4 #number of neighbours (le double de 2)\n",
    "p=0.01 #rewiring probability"
   ]
  },
  {
   "cell_type": "code",
   "execution_count": 3,
   "metadata": {},
   "outputs": [],
   "source": [
    "G=nx.watts_strogatz_graph(N, m, p)"
   ]
  },
  {
   "cell_type": "code",
   "execution_count": 4,
   "metadata": {},
   "outputs": [
    {
     "data": {
      "text/plain": [
       "200"
      ]
     },
     "execution_count": 4,
     "metadata": {},
     "output_type": "execute_result"
    }
   ],
   "source": [
    "G.number_of_edges()"
   ]
  },
  {
   "cell_type": "markdown",
   "metadata": {},
   "source": [
    "# The initial graph"
   ]
  },
  {
   "cell_type": "markdown",
   "metadata": {},
   "source": [
    "C'est le graphe ou la probabilité de ... (réécouter TP) c'est 0 "
   ]
  },
  {
   "cell_type": "code",
   "execution_count": 6,
   "metadata": {},
   "outputs": [],
   "source": [
    "N=100 #number of nodes\n",
    "m=4 #number of neighbours\n",
    "p=0 #rewiring probability"
   ]
  },
  {
   "cell_type": "code",
   "execution_count": 7,
   "metadata": {},
   "outputs": [],
   "source": [
    "G=nx.watts_strogatz_graph(N, m, p)"
   ]
  },
  {
   "cell_type": "markdown",
   "metadata": {},
   "source": [
    "Je vois que les degrés sont tous égaux et valent 4. Et le clustering aussi de 0.5."
   ]
  },
  {
   "cell_type": "code",
   "execution_count": 8,
   "metadata": {},
   "outputs": [
    {
     "data": {
      "text/plain": [
       "DegreeView({0: 4, 1: 4, 2: 4, 3: 4, 4: 4, 5: 4, 6: 4, 7: 4, 8: 4, 9: 4, 10: 4, 11: 4, 12: 4, 13: 4, 14: 4, 15: 4, 16: 4, 17: 4, 18: 4, 19: 4, 20: 4, 21: 4, 22: 4, 23: 4, 24: 4, 25: 4, 26: 4, 27: 4, 28: 4, 29: 4, 30: 4, 31: 4, 32: 4, 33: 4, 34: 4, 35: 4, 36: 4, 37: 4, 38: 4, 39: 4, 40: 4, 41: 4, 42: 4, 43: 4, 44: 4, 45: 4, 46: 4, 47: 4, 48: 4, 49: 4, 50: 4, 51: 4, 52: 4, 53: 4, 54: 4, 55: 4, 56: 4, 57: 4, 58: 4, 59: 4, 60: 4, 61: 4, 62: 4, 63: 4, 64: 4, 65: 4, 66: 4, 67: 4, 68: 4, 69: 4, 70: 4, 71: 4, 72: 4, 73: 4, 74: 4, 75: 4, 76: 4, 77: 4, 78: 4, 79: 4, 80: 4, 81: 4, 82: 4, 83: 4, 84: 4, 85: 4, 86: 4, 87: 4, 88: 4, 89: 4, 90: 4, 91: 4, 92: 4, 93: 4, 94: 4, 95: 4, 96: 4, 97: 4, 98: 4, 99: 4})"
      ]
     },
     "execution_count": 8,
     "metadata": {},
     "output_type": "execute_result"
    }
   ],
   "source": [
    "#degree\n",
    "G.degree()"
   ]
  },
  {
   "cell_type": "code",
   "execution_count": 9,
   "metadata": {},
   "outputs": [
    {
     "data": {
      "text/plain": [
       "{0: 0.5,\n",
       " 1: 0.5,\n",
       " 2: 0.5,\n",
       " 3: 0.5,\n",
       " 4: 0.5,\n",
       " 5: 0.5,\n",
       " 6: 0.5,\n",
       " 7: 0.5,\n",
       " 8: 0.5,\n",
       " 9: 0.5,\n",
       " 10: 0.5,\n",
       " 11: 0.5,\n",
       " 12: 0.5,\n",
       " 13: 0.5,\n",
       " 14: 0.5,\n",
       " 15: 0.5,\n",
       " 16: 0.5,\n",
       " 17: 0.5,\n",
       " 18: 0.5,\n",
       " 19: 0.5,\n",
       " 20: 0.5,\n",
       " 21: 0.5,\n",
       " 22: 0.5,\n",
       " 23: 0.5,\n",
       " 24: 0.5,\n",
       " 25: 0.5,\n",
       " 26: 0.5,\n",
       " 27: 0.5,\n",
       " 28: 0.5,\n",
       " 29: 0.5,\n",
       " 30: 0.5,\n",
       " 31: 0.5,\n",
       " 32: 0.5,\n",
       " 33: 0.5,\n",
       " 34: 0.5,\n",
       " 35: 0.5,\n",
       " 36: 0.5,\n",
       " 37: 0.5,\n",
       " 38: 0.5,\n",
       " 39: 0.5,\n",
       " 40: 0.5,\n",
       " 41: 0.5,\n",
       " 42: 0.5,\n",
       " 43: 0.5,\n",
       " 44: 0.5,\n",
       " 45: 0.5,\n",
       " 46: 0.5,\n",
       " 47: 0.5,\n",
       " 48: 0.5,\n",
       " 49: 0.5,\n",
       " 50: 0.5,\n",
       " 51: 0.5,\n",
       " 52: 0.5,\n",
       " 53: 0.5,\n",
       " 54: 0.5,\n",
       " 55: 0.5,\n",
       " 56: 0.5,\n",
       " 57: 0.5,\n",
       " 58: 0.5,\n",
       " 59: 0.5,\n",
       " 60: 0.5,\n",
       " 61: 0.5,\n",
       " 62: 0.5,\n",
       " 63: 0.5,\n",
       " 64: 0.5,\n",
       " 65: 0.5,\n",
       " 66: 0.5,\n",
       " 67: 0.5,\n",
       " 68: 0.5,\n",
       " 69: 0.5,\n",
       " 70: 0.5,\n",
       " 71: 0.5,\n",
       " 72: 0.5,\n",
       " 73: 0.5,\n",
       " 74: 0.5,\n",
       " 75: 0.5,\n",
       " 76: 0.5,\n",
       " 77: 0.5,\n",
       " 78: 0.5,\n",
       " 79: 0.5,\n",
       " 80: 0.5,\n",
       " 81: 0.5,\n",
       " 82: 0.5,\n",
       " 83: 0.5,\n",
       " 84: 0.5,\n",
       " 85: 0.5,\n",
       " 86: 0.5,\n",
       " 87: 0.5,\n",
       " 88: 0.5,\n",
       " 89: 0.5,\n",
       " 90: 0.5,\n",
       " 91: 0.5,\n",
       " 92: 0.5,\n",
       " 93: 0.5,\n",
       " 94: 0.5,\n",
       " 95: 0.5,\n",
       " 96: 0.5,\n",
       " 97: 0.5,\n",
       " 98: 0.5,\n",
       " 99: 0.5}"
      ]
     },
     "execution_count": 9,
     "metadata": {},
     "output_type": "execute_result"
    }
   ],
   "source": [
    "# clustering coefficient\n",
    "nx.clustering(G)"
   ]
  },
  {
   "cell_type": "code",
   "execution_count": 10,
   "metadata": {},
   "outputs": [
    {
     "data": {
      "text/plain": [
       "25"
      ]
     },
     "execution_count": 10,
     "metadata": {},
     "output_type": "execute_result"
    }
   ],
   "source": [
    "# diameter\n",
    "nx.diameter(G)"
   ]
  },
  {
   "cell_type": "code",
   "execution_count": 11,
   "metadata": {},
   "outputs": [],
   "source": [
    "NList=[50,100,200,500,700,1000,2000]"
   ]
  },
  {
   "cell_type": "markdown",
   "metadata": {},
   "source": [
    "Ici, ce n'est pas un modèle aléatoire, donc pas besoin de faire d'expérience. "
   ]
  },
  {
   "cell_type": "code",
   "execution_count": 12,
   "metadata": {},
   "outputs": [
    {
     "name": "stdout",
     "output_type": "stream",
     "text": [
      "50\n",
      "100\n",
      "200\n",
      "500\n",
      "700\n",
      "1000\n",
      "2000\n"
     ]
    }
   ],
   "source": [
    "lList=[]\n",
    "for N in NList:\n",
    "    print(N)\n",
    "    G=nx.watts_strogatz_graph(N, m, p)\n",
    "    lList.append(nx.diameter(G))"
   ]
  },
  {
   "cell_type": "markdown",
   "metadata": {},
   "source": [
    "Graphe linéaire donc dans le graphe régulier, il n'y a pas de petit monde. "
   ]
  },
  {
   "cell_type": "code",
   "execution_count": 13,
   "metadata": {},
   "outputs": [
    {
     "data": {
      "image/png": "[encoded data removed]",
      "text/plain": [
       "<Figure size 432x288 with 1 Axes>"
      ]
     },
     "metadata": {
      "needs_background": "light"
     },
     "output_type": "display_data"
    }
   ],
   "source": [
    "plt.plot(NList,lList,'o')\n",
    "plt.xlabel('N')\n",
    "\n",
    "plt.ylabel(r'$\\langle l \\rangle$')\n",
    "\n",
    "plt.show()"
   ]
  },
  {
   "cell_type": "markdown",
   "metadata": {},
   "source": [
    "# degree distribution of the evolution"
   ]
  },
  {
   "cell_type": "markdown",
   "metadata": {},
   "source": [
    "### Varying N"
   ]
  },
  {
   "cell_type": "markdown",
   "metadata": {},
   "source": [
    "Je calcule l'évolution de degrés pour l'\"évolution\".\n",
    "On a un comportement aléatoire avec p donc je dois faire plusieurs expériences. "
   ]
  },
  {
   "cell_type": "code",
   "execution_count": 14,
   "metadata": {},
   "outputs": [],
   "source": [
    "NList=[500,1000] #number of nodes\n",
    "m=4 #number of neighbours\n",
    "p=0.1 #rewiring probability\n",
    "\n",
    "nRepl=30"
   ]
  },
  {
   "cell_type": "markdown",
   "metadata": {},
   "source": [
    "Je construis plusieurs réseaux. "
   ]
  },
  {
   "cell_type": "code",
   "execution_count": 15,
   "metadata": {},
   "outputs": [],
   "source": [
    "listG={}\n",
    "for N in NList:\n",
    "    listG[N]=[]\n",
    "    for i in range(nRepl):\n",
    "        G=nx.watts_strogatz_graph(N, m, p)\n",
    "        listG[N].append(G)"
   ]
  },
  {
   "cell_type": "markdown",
   "metadata": {},
   "source": [
    "Liste de degrés pour les deux différentes valeurs de N"
   ]
  },
  {
   "cell_type": "code",
   "execution_count": 16,
   "metadata": {},
   "outputs": [],
   "source": [
    "degreeList={}\n",
    "for N in NList:\n",
    "    degreeList[N]=[]\n",
    "    for G in listG[N]:\n",
    "        degreesReplica=[G.degree(n) for n in G.nodes()] \n",
    "        degreeList[N]=degreeList[N]+degreesReplica"
   ]
  },
  {
   "cell_type": "markdown",
   "metadata": {},
   "source": [
    "En général ce sont des distributions très très homogènes. "
   ]
  },
  {
   "cell_type": "code",
   "execution_count": 17,
   "metadata": {},
   "outputs": [
    {
     "data": {
      "image/png": "[encoded data removed]",
      "text/plain": [
       "<Figure size 432x288 with 1 Axes>"
      ]
     },
     "metadata": {
      "needs_background": "light"
     },
     "output_type": "display_data"
    }
   ],
   "source": [
    "for N in NList:\n",
    "    y,x=np.histogram(degreeList[N],bins=6)\n",
    "    ynorm=[i/sum(y) for i in y]\n",
    "    plt.plot(x[:-1],ynorm,'o-',label=N)\n",
    "plt.legend()\n",
    "plt.show()"
   ]
  },
  {
   "cell_type": "markdown",
   "metadata": {},
   "source": [
    "# varying p"
   ]
  },
  {
   "cell_type": "code",
   "execution_count": 23,
   "metadata": {},
   "outputs": [],
   "source": [
    "N=1000 #number of nodes\n",
    "m=4 #number of neighbours\n",
    "pList=[0.1,0.3] #rewiring probability\n",
    "#pList=[0,0.01,0.3] #rewiring probability\n",
    "nRepl=10"
   ]
  },
  {
   "cell_type": "code",
   "execution_count": 19,
   "metadata": {},
   "outputs": [],
   "source": [
    "listG={}\n",
    "for p in pList:\n",
    "    listG[p]=[]\n",
    "    for i in range(nRepl):\n",
    "        G=nx.watts_strogatz_graph(N, m, p)\n",
    "        listG[p].append(G)"
   ]
  },
  {
   "cell_type": "code",
   "execution_count": 22,
   "metadata": {},
   "outputs": [
    {
     "data": {
      "text/plain": [
       "dict_keys([0.1, 0.3])"
      ]
     },
     "execution_count": 22,
     "metadata": {},
     "output_type": "execute_result"
    }
   ],
   "source": [
    "listG.keys()"
   ]
  },
  {
   "cell_type": "code",
   "execution_count": 20,
   "metadata": {},
   "outputs": [],
   "source": [
    "degreeList={}\n",
    "for p in pList:\n",
    "    degreeList[p]=[]\n",
    "    for G in listG[p]:\n",
    "        degreesReplica=[G.degree(n) for n in G.nodes()] \n",
    "        degreeList[p]=degreeList[p]+degreesReplica"
   ]
  },
  {
   "cell_type": "code",
   "execution_count": 21,
   "metadata": {},
   "outputs": [
    {
     "data": {
      "image/png": "[encoded data removed]",
      "text/plain": [
       "<Figure size 432x288 with 1 Axes>"
      ]
     },
     "metadata": {
      "needs_background": "light"
     },
     "output_type": "display_data"
    }
   ],
   "source": [
    "for p in pList:\n",
    "    y,x=np.histogram(degreeList[p],bins=6)\n",
    "    ynorm=[i/sum(y) for i in y]\n",
    "    plt.plot(x[:-1],ynorm,'o-',label=p)\n",
    "plt.legend()\n",
    "plt.show()"
   ]
  },
  {
   "cell_type": "markdown",
   "metadata": {},
   "source": [
    "# CLUSTERING COFFICIENT"
   ]
  },
  {
   "cell_type": "code",
   "execution_count": 24,
   "metadata": {},
   "outputs": [],
   "source": [
    "N=1000 #number of nodes\n",
    "m=4 #number of neighbours\n",
    "pList=[0.01,0.02,0.05]+[0.1*i for i in range(11)] #rewiring probability\n",
    "\n",
    "nRepl=2"
   ]
  },
  {
   "cell_type": "code",
   "execution_count": 25,
   "metadata": {},
   "outputs": [],
   "source": [
    "listG={}\n",
    "for p in pList:\n",
    "    listG[p]=[]\n",
    "    for i in range(nRepl):\n",
    "        G=nx.watts_strogatz_graph(N, m, p)\n",
    "        listG[p].append(G)"
   ]
  },
  {
   "cell_type": "code",
   "execution_count": 26,
   "metadata": {},
   "outputs": [
    {
     "data": {
      "text/plain": [
       "dict_keys([0.01, 0.02, 0.05, 0.0, 0.1, 0.2, 0.30000000000000004, 0.4, 0.5, 0.6000000000000001, 0.7000000000000001, 0.8, 0.9, 1.0])"
      ]
     },
     "execution_count": 26,
     "metadata": {},
     "output_type": "execute_result"
    }
   ],
   "source": [
    "listG.keys()"
   ]
  },
  {
   "cell_type": "code",
   "execution_count": 27,
   "metadata": {},
   "outputs": [],
   "source": [
    "avClust=[]\n",
    "for p in pList:\n",
    "    allClustp=[]\n",
    "    for G in listG[p]:\n",
    "        cc=nx.clustering(G)\n",
    "        allClustp=allClustp+[cc[n] for n in G.nodes()]\n",
    "    avClust.append(np.mean(allClustp))\n",
    "        \n",
    "    "
   ]
  },
  {
   "cell_type": "markdown",
   "metadata": {},
   "source": [
    "Pour beaucoup de valeurs de p, on a des valeurs intéressantes (beaucoup de clustering)"
   ]
  },
  {
   "cell_type": "code",
   "execution_count": 28,
   "metadata": {},
   "outputs": [
    {
     "data": {
      "image/png": "[encoded data removed]",
      "text/plain": [
       "<Figure size 432x288 with 1 Axes>"
      ]
     },
     "metadata": {
      "needs_background": "light"
     },
     "output_type": "display_data"
    }
   ],
   "source": [
    "plt.semilogx(pList,np.array(avClust)/avClust[0],'o')\n",
    "plt.xlabel('p')\n",
    "plt.ylabel(r'$C_p/C_0$')\n",
    "plt.show()"
   ]
  },
  {
   "cell_type": "markdown",
   "metadata": {},
   "source": [
    "# average shortest path"
   ]
  },
  {
   "cell_type": "code",
   "execution_count": 29,
   "metadata": {},
   "outputs": [
    {
     "name": "stdout",
     "output_type": "stream",
     "text": [
      "0.01\n",
      "0.02\n",
      "0.05\n",
      "0.0\n",
      "0.1\n",
      "0.2\n",
      "0.30000000000000004\n",
      "0.4\n",
      "0.5\n",
      "0.6000000000000001\n",
      "0.7000000000000001\n",
      "0.8\n",
      "0.9\n",
      "1.0\n"
     ]
    }
   ],
   "source": [
    "avsp=[]\n",
    "for p in pList:\n",
    "    print (p)\n",
    "    allsp_p=[]\n",
    "    for G in listG[p]:\n",
    "        spl=nx.average_shortest_path_length(G)\n",
    "        allsp_p.append(spl)\n",
    "    avsp.append(np.mean(allsp_p))\n",
    "        \n",
    "    "
   ]
  },
  {
   "cell_type": "markdown",
   "metadata": {},
   "source": [
    "Je représente l'ASP divisé par l'ASP initial et le clustering. \n",
    "On peut voir qu'il existe un certain intervalle de valeurs de p qui est caractérisé par un grand clustering et petit average shortest path (ou small world). cf. slide avec la partie en vert. \n",
    "Même si les réseaux sont homogènes, il existe du small world avec un grand clustering. \n",
    "C'est pourquoi ce type de réseau est appelé small world. "
   ]
  },
  {
   "cell_type": "code",
   "execution_count": 27,
   "metadata": {},
   "outputs": [
    {
     "data": {
      "image/png": "[encoded data removed]",
      "text/plain": [
       "<Figure size 432x288 with 1 Axes>"
      ]
     },
     "metadata": {
      "needs_background": "light"
     },
     "output_type": "display_data"
    }
   ],
   "source": [
    "plt.semilogx(pList,np.array(avClust)/avClust[0],'o',label=r'$C_p/C_0$')\n",
    "plt.semilogx(pList,np.array(avsp)/avsp[0],'o',label=r'$\\langle l\\rangle _p/\\langle l\\rangle_0$')\n",
    "\n",
    "plt.xlabel('p')\n",
    "plt.legend()\n",
    "plt.ylim(0,1)\n",
    "plt.show()"
   ]
  },
  {
   "cell_type": "code",
   "execution_count": null,
   "metadata": {},
   "outputs": [],
   "source": []
  }
 ],
 "metadata": {
  "kernelspec": {
   "display_name": "Python 3",
   "language": "python",
   "name": "python3"
  },
  "language_info": {
   "codemirror_mode": {
    "name": "ipython",
    "version": 3
   },
   "file_extension": ".py",
   "mimetype": "text/x-python",
   "name": "python",
   "nbconvert_exporter": "python",
   "pygments_lexer": "ipython3",
   "version": "3.7.4"
  }
 },
 "nbformat": 4,
 "nbformat_minor": 4
}
