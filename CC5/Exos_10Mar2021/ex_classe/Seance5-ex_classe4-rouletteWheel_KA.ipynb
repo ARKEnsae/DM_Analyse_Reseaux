{
 "cells": [
  {
   "cell_type": "code",
   "execution_count": 2,
   "metadata": {},
   "outputs": [],
   "source": [
    "import random\n",
    "import numpy as np"
   ]
  },
  {
   "cell_type": "code",
   "execution_count": 3,
   "metadata": {},
   "outputs": [],
   "source": [
    "fitness=range(1,21)"
   ]
  },
  {
   "cell_type": "markdown",
   "metadata": {},
   "source": [
    "# Write and test the algorithm for roulette wheel selection"
   ]
  },
  {
   "cell_type": "code",
   "execution_count": 4,
   "metadata": {},
   "outputs": [],
   "source": [
    "#create the normalized vector:\n",
    "fitNorm=[i/float(sum(fitness)) for i in fitness]"
   ]
  },
  {
   "cell_type": "markdown",
   "metadata": {},
   "source": [
    "On implémente l’algorithme de la sélection.\n",
    "La probabilité de tomber sur le dernier est plus élevé que pour le dernier."
   ]
  },
  {
   "cell_type": "code",
   "execution_count": 5,
   "metadata": {
    "scrolled": true
   },
   "outputs": [
    {
     "data": {
      "text/plain": [
       "[0.004761904761904762,\n",
       " 0.009523809523809525,\n",
       " 0.014285714285714285,\n",
       " 0.01904761904761905,\n",
       " 0.023809523809523808,\n",
       " 0.02857142857142857,\n",
       " 0.03333333333333333,\n",
       " 0.0380952380952381,\n",
       " 0.04285714285714286,\n",
       " 0.047619047619047616,\n",
       " 0.05238095238095238,\n",
       " 0.05714285714285714,\n",
       " 0.06190476190476191,\n",
       " 0.06666666666666667,\n",
       " 0.07142857142857142,\n",
       " 0.0761904761904762,\n",
       " 0.08095238095238096,\n",
       " 0.08571428571428572,\n",
       " 0.09047619047619047,\n",
       " 0.09523809523809523]"
      ]
     },
     "execution_count": 5,
     "metadata": {},
     "output_type": "execute_result"
    }
   ],
   "source": [
    "fitNorm"
   ]
  },
  {
   "cell_type": "markdown",
   "metadata": {},
   "source": [
    "L'intervalle est divisé de manière proportionnelle au fitness, de 0 à 1. "
   ]
  },
  {
   "cell_type": "code",
   "execution_count": 7,
   "metadata": {},
   "outputs": [],
   "source": [
    "fitNormCumSum=list(np.cumsum(fitNorm))"
   ]
  },
  {
   "cell_type": "code",
   "execution_count": 8,
   "metadata": {},
   "outputs": [
    {
     "data": {
      "text/plain": [
       "[0.004761904761904762,\n",
       " 0.014285714285714287,\n",
       " 0.028571428571428574,\n",
       " 0.04761904761904762,\n",
       " 0.07142857142857142,\n",
       " 0.09999999999999999,\n",
       " 0.13333333333333333,\n",
       " 0.17142857142857143,\n",
       " 0.2142857142857143,\n",
       " 0.2619047619047619,\n",
       " 0.3142857142857143,\n",
       " 0.37142857142857144,\n",
       " 0.43333333333333335,\n",
       " 0.5,\n",
       " 0.5714285714285714,\n",
       " 0.6476190476190475,\n",
       " 0.7285714285714285,\n",
       " 0.8142857142857143,\n",
       " 0.9047619047619048,\n",
       " 1.0]"
      ]
     },
     "execution_count": 8,
     "metadata": {},
     "output_type": "execute_result"
    }
   ],
   "source": [
    "fitNormCumSum"
   ]
  },
  {
   "cell_type": "markdown",
   "metadata": {},
   "source": [
    "Est-ce que j'ai dépassé la limite du 1er intervalle ? Oui alors je continue, etc jusqu'à ne plus dépasser. \n",
    "Mon choix est le numéro 3. On se rend compte qu'on a tendance à choisir les noeuds à forte probabilité. "
   ]
  },
  {
   "cell_type": "code",
   "execution_count": 9,
   "metadata": {},
   "outputs": [
    {
     "name": "stdout",
     "output_type": "stream",
     "text": [
      "3 0.04250937096910645 0.04761904761904762\n"
     ]
    }
   ],
   "source": [
    "rand=random.uniform(0,1)\n",
    "for i in range(len(fitNormCumSum)):\n",
    "    if fitNormCumSum[i]>rand:\n",
    "        print (i,rand,fitNormCumSum[i])\n",
    "        break"
   ]
  },
  {
   "cell_type": "markdown",
   "metadata": {},
   "source": [
    "# Write a function implementing the roulette wheel selection"
   ]
  },
  {
   "cell_type": "code",
   "execution_count": null,
   "metadata": {},
   "outputs": [],
   "source": [
    "Ici je dois mettre la liste de tous mes degrés pour me permettre de sélectionner selon le degré. "
   ]
  },
  {
   "cell_type": "code",
   "execution_count": 10,
   "metadata": {},
   "outputs": [],
   "source": [
    "def roulette_wheel_selection(vecFit):\n",
    "    fitNorm=[i/float(sum(vecFit)) for i in vecFit]\n",
    "    fitNormCumSum=list(np.cumsum(fitNorm))\n",
    "    rand=random.uniform(0,1)\n",
    "    for i in range(len(fitNormCumSum)):\n",
    "        if fitNormCumSum[i]>rand:\n",
    "            selection=i\n",
    "            break\n",
    "    return selection"
   ]
  },
  {
   "cell_type": "code",
   "execution_count": 16,
   "metadata": {},
   "outputs": [
    {
     "data": {
      "text/plain": [
       "10"
      ]
     },
     "execution_count": 16,
     "metadata": {},
     "output_type": "execute_result"
    }
   ],
   "source": [
    "roulette_wheel_selection(fitness)"
   ]
  },
  {
   "cell_type": "markdown",
   "metadata": {},
   "source": [
    "\n",
    "Mais est-ce que cela donne des réseaux qui sont faibles ? cf. TP5\n"
   ]
  }
 ],
 "metadata": {
  "kernelspec": {
   "display_name": "Python 3",
   "language": "python",
   "name": "python3"
  },
  "language_info": {
   "codemirror_mode": {
    "name": "ipython",
    "version": 3
   },
   "file_extension": ".py",
   "mimetype": "text/x-python",
   "name": "python",
   "nbconvert_exporter": "python",
   "pygments_lexer": "ipython3",
   "version": "3.7.4"
  }
 },
 "nbformat": 4,
 "nbformat_minor": 2
}
