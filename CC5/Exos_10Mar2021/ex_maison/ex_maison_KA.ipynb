{
 "cells": [
  {
   "cell_type": "markdown",
   "metadata": {},
   "source": [
    "# Exercises for the 16th March 2021\n",
    "\n",
    "Kim Antunez"
   ]
  },
  {
   "cell_type": "markdown",
   "metadata": {},
   "source": [
    "<mark>Ces exercices portent principalement sur les 2 premiers exercices vus en classe lors de la dernière séance.</mark> "
   ]
  },
  {
   "cell_type": "markdown",
   "metadata": {},
   "source": [
    "# Exercise 1 : ER graphs"
   ]
  },
  {
   "cell_type": "code",
   "execution_count": 1,
   "metadata": {},
   "outputs": [],
   "source": [
    "import networkx as nx\n",
    "import random\n",
    "\n",
    "import matplotlib.pyplot as plt\n",
    "\n",
    "import itertools #package utile pour faire des analyses\n",
    "\n",
    "import numpy as np\n",
    "from networkx.drawing.nx_agraph import graphviz_layout as layout\n",
    "\n",
    "random.seed(1)\n",
    "np.random.seed(1)"
   ]
  },
  {
   "cell_type": "markdown",
   "metadata": {},
   "source": [
    "## 1. 10 replicas of ER graphs "
   ]
  },
  {
   "cell_type": "markdown",
   "metadata": {},
   "source": [
    "<mark>1-Generate 10 replicas of ER graphs with N=1000 nodes and connection probabilities p=[0.00005, 0.0001, 0.0002, 0.001, 0.002,0.005, 0.01,0.015, 0.02]</mark>"
   ]
  },
  {
   "cell_type": "code",
   "execution_count": 2,
   "metadata": {},
   "outputs": [],
   "source": [
    "# parameters\n",
    "N=1000\n",
    "pList=[0.00005,0.0001,0.0002,0.001,0.002,0.005,0.01,0.015,0.02]\n",
    "nRepl=10 #je répète mon expérience 10 fois"
   ]
  },
  {
   "cell_type": "markdown",
   "metadata": {},
   "source": [
    "On construit un modèle (avec différentes réplications) pour chaque valeur de p. \n",
    "On doit donc faire deux boucles.\n",
    "1. un sur les probabilités\n",
    "2. une sur les réplications\n",
    "\n",
    "La meilleure chose à faire est de générer tous les graphes  en amont pour ne pas avoir à les recréer si on cherche à réaliser d'autres mesures. "
   ]
  },
  {
   "cell_type": "code",
   "execution_count": 3,
   "metadata": {},
   "outputs": [
    {
     "name": "stdout",
     "output_type": "stream",
     "text": [
      "Nombre de graphes à générer :  90\n"
     ]
    }
   ],
   "source": [
    "print(\"Nombre de graphes à générer : \",len(pList)*nRepl)"
   ]
  },
  {
   "cell_type": "code",
   "execution_count": 4,
   "metadata": {},
   "outputs": [],
   "source": [
    "# the list of graphs is now a dictionary: I will have a list for each value of the parameter p\n",
    "listGraphs={}\n",
    "\n",
    "#loop on the values for the parameter p\n",
    "for p in pList:\n",
    "    #print (p) #to be sure that I'm not too slow\n",
    "    listGraphs[p]=[]\n",
    "    #loop on the replicas\n",
    "    for i in range(nRepl):\n",
    "        G=nx.erdos_renyi_graph(N,p)\n",
    "        listGraphs[p].append(G)"
   ]
  },
  {
   "cell_type": "markdown",
   "metadata": {},
   "source": [
    "## 2. Show  $\\langle k\\rangle=Np$\n",
    "\n",
    "<mark>2- show visually and with a linear fit that $\\langle k\\rangle=Np$</mark>"
   ]
  },
  {
   "cell_type": "markdown",
   "metadata": {},
   "source": [
    "Je veux créer une liste où j'obtiens pour chaque p la **moyenne du degré moyen** sur 10 réplications. "
   ]
  },
  {
   "cell_type": "code",
   "execution_count": 5,
   "metadata": {},
   "outputs": [
    {
     "name": "stdout",
     "output_type": "stream",
     "text": [
      "5e-05 0.049\n",
      "0.0001 0.1\n",
      "0.0002 0.19779999999999998\n",
      "0.001 1.0070000000000001\n",
      "0.002 1.9846\n",
      "0.005 4.974\n",
      "0.01 10.027800000000003\n",
      "0.015 14.9098\n",
      "0.02 20.0194\n"
     ]
    }
   ],
   "source": [
    "avK=[]\n",
    "for p in pList:\n",
    "    thisAverage=[]\n",
    "    for G in listGraphs[p]:\n",
    "        avK_G = np.mean([degree for node, degree in G.degree()])\n",
    "        thisAverage.append(avK_G)\n",
    "    print(p, np.mean(thisAverage))\n",
    "    avK.append(np.mean(thisAverage))"
   ]
  },
  {
   "cell_type": "markdown",
   "metadata": {},
   "source": [
    "Je trace la relation entre p et le degré moyen. C'est linéaire. Je le vois en faisant un fit. "
   ]
  },
  {
   "cell_type": "code",
   "execution_count": 6,
   "metadata": {},
   "outputs": [],
   "source": [
    "coef = np.polyfit(pList,avK, 1) #1 c'est le degré : linéaire\n",
    "poly1d_fn = np.poly1d(coef) "
   ]
  },
  {
   "cell_type": "code",
   "execution_count": 7,
   "metadata": {},
   "outputs": [
    {
     "data": {
      "image/png": "[encoded data removed]",
      "text/plain": [
       "<Figure size 432x288 with 1 Axes>"
      ]
     },
     "metadata": {
      "needs_background": "light"
     },
     "output_type": "display_data"
    }
   ],
   "source": [
    "plt.plot(pList,avK,'o')\n",
    "plt.plot(pList, poly1d_fn(pList), '--k')\n",
    "\n",
    "plt.xlabel('p')\n",
    "plt.ylabel(r'$\\langle k\\rangle$')\n",
    "\n",
    "plt.show()"
   ]
  },
  {
   "cell_type": "markdown",
   "metadata": {},
   "source": [
    "On retrouve bien la relation linéaire présentée dans le cours à savoir : \n",
    "\n",
    "$$\\langle k\\rangle= p(N-1)$$"
   ]
  },
  {
   "cell_type": "code",
   "execution_count": 8,
   "metadata": {},
   "outputs": [
    {
     "data": {
      "text/plain": [
       "999.1715895423181"
      ]
     },
     "execution_count": 8,
     "metadata": {},
     "output_type": "execute_result"
    }
   ],
   "source": [
    "coef[0]"
   ]
  },
  {
   "cell_type": "code",
   "execution_count": 9,
   "metadata": {},
   "outputs": [
    {
     "data": {
      "text/plain": [
       "999"
      ]
     },
     "execution_count": 9,
     "metadata": {},
     "output_type": "execute_result"
    }
   ],
   "source": [
    "(N-1)"
   ]
  },
  {
   "cell_type": "markdown",
   "metadata": {},
   "source": [
    "## 3. Giant component\n",
    "\n",
    "<mark>3- Are the networks connected? Which is the size of the giant component?  Plot size of the giant component as a function of p. What do you observe?</mark>"
   ]
  },
  {
   "cell_type": "markdown",
   "metadata": {},
   "source": [
    "Tout d'abord quelques définitions sur ce que sont les composantes et en particulier la composante géante. \n",
    "\n",
    "Une **composante** est un sous graphe dans lesquels il y a un chemin qui relie chaque paire de noeuds. Elles ressemblent à des petites îles au sein du graphe et ne sont, par définition, par reliées entre elles. L'exemple suivant comporte 3 composantes. \n",
    "\n",
    "![](https://qph.fs.quoracdn.net/main-qimg-8eea92c00b763dc167745c3f06cfe5bd)\n",
    "\n",
    "La **composante géante** est une composante qui comporte beaucoup plus de noeuds que les autres composantes du graphe, elle ne se définit pas vraiment mathématiquement par un certain seuil, il s'agit davantage d'un concept. \n",
    "\n",
    "[Source](https://www.quora.com/What-is-the-giant-component-in-graph-theory)"
   ]
  },
  {
   "cell_type": "markdown",
   "metadata": {},
   "source": [
    "Nous générons à titre d'exemple un graphe et représentons avec un trait épais et rouge sa composante la plus grande. "
   ]
  },
  {
   "cell_type": "code",
   "execution_count": 10,
   "metadata": {},
   "outputs": [
    {
     "data": {
      "text/plain": [
       "<matplotlib.collections.LineCollection at 0x21d460ed2c8>"
      ]
     },
     "execution_count": 10,
     "metadata": {},
     "output_type": "execute_result"
    },
    {
     "data": {
      "image/png": "[encoded data removed]",
      "text/plain": [
       "<Figure size 432x288 with 1 Axes>"
      ]
     },
     "metadata": {},
     "output_type": "display_data"
    }
   ],
   "source": [
    "# inspiré de https://networkx.org/documentation/stable//auto_examples/drawing/plot_giant_component.html\n",
    "G = nx.binomial_graph(150, 0.01)\n",
    "# on fixe la position du réseau pour le graphe\n",
    "pos=nx.spring_layout(G)\n",
    "# On récupère les composantes et on les trie par ordre décroissant du nombre de noeud\n",
    "Gcc = sorted(nx.connected_components(G), key=len, reverse=True)\n",
    "# Donc la première composante est donc la composante ayant le plus grand nombre de noeud\n",
    "#(potentiellement giant)\n",
    "G0 = G.subgraph(Gcc[0])\n",
    "nx.draw(G, pos, with_labels=False, node_size=20)\n",
    "nx.draw_networkx_edges(G0, pos, edge_color=\"r\", width=6.0)"
   ]
  },
  {
   "cell_type": "markdown",
   "metadata": {},
   "source": [
    "Retour à nos graphes de la question 2. Cherchons à évaluer la relation entre p et la moyenne de la composante la plus grande des graphes. "
   ]
  },
  {
   "cell_type": "markdown",
   "metadata": {},
   "source": [
    "Je veux créer une liste où j'obtiens pour chaque p la **moyenne du nombre de noeuds de la plus grande composante** sur 10 réplications. \n",
    "\n",
    "Nous en tirons de premières remarques : \n",
    "\n",
    "- A partir de $p= \\frac{1}{N} = 0.001$, la taille de la plus grande composante se met soudainement à augmenter, comme s'il existait un effet de seuil. \n",
    "\n",
    "- A partir de $p = 0.01$, le graphe devient connecté puisque la taille de sa plus grande composante est de $N=1000$. Pour des probabilités inférieures, le graphe n'était donc pas connecté.  \n"
   ]
  },
  {
   "cell_type": "code",
   "execution_count": 11,
   "metadata": {},
   "outputs": [
    {
     "name": "stdout",
     "output_type": "stream",
     "text": [
      "5e-05 3.1\n",
      "0.0001 3.1\n",
      "0.0002 4.8\n",
      "0.001 73.4\n",
      "0.002 795.7\n",
      "0.005 994.2\n",
      "0.01 1000.0\n",
      "0.015 1000.0\n",
      "0.02 1000.0\n"
     ]
    }
   ],
   "source": [
    "avG=[]\n",
    "for p in pList:\n",
    "    thisAverage=[]\n",
    "    for G in listGraphs[p]:\n",
    "        Gcc = sorted(nx.connected_components(G), key=len, reverse=True)\n",
    "        giant_nb_nodes = G.subgraph(Gcc[0]).number_of_nodes()\n",
    "        thisAverage.append(giant_nb_nodes)\n",
    "    print(p, np.mean(thisAverage))\n",
    "    avG.append(np.mean(thisAverage))"
   ]
  },
  {
   "cell_type": "markdown",
   "metadata": {},
   "source": [
    "Je trace la relation entre p et la taille moyenne de la plus grande composante. Cette fois-ci ce n'est pas du tout linéaire. "
   ]
  },
  {
   "cell_type": "code",
   "execution_count": 12,
   "metadata": {},
   "outputs": [
    {
     "data": {
      "image/png": "[encoded data removed]",
      "text/plain": [
       "<Figure size 432x288 with 1 Axes>"
      ]
     },
     "metadata": {
      "needs_background": "light"
     },
     "output_type": "display_data"
    }
   ],
   "source": [
    "plt.plot(pList,avG,'o')\n",
    "plt.xlabel('p')\n",
    "plt.ylabel(r'$\\langle nb\\_nodes\\_GC\\rangle$')\n",
    "\n",
    "plt.show()"
   ]
  },
  {
   "cell_type": "markdown",
   "metadata": {},
   "source": [
    "Remarque : ce n'est pas non plus une distribution exponentielle. sauf peut-être avant d'atteindre le seuil maximal qui est le nombre de noeuds (cf. schéma suivant avec un fit seulement pour les plus petites valeurs de p). "
   ]
  },
  {
   "cell_type": "code",
   "execution_count": 13,
   "metadata": {},
   "outputs": [
    {
     "data": {
      "image/png": "[encoded data removed]",
      "text/plain": [
       "<Figure size 432x288 with 1 Axes>"
      ]
     },
     "metadata": {
      "needs_background": "light"
     },
     "output_type": "display_data"
    }
   ],
   "source": [
    "longueur = 5\n",
    "coef = np.polyfit(pList[:longueur],np.log(avG)[:longueur], 1) #1 c'est le degré : linéaire\n",
    "poly1d_fn = np.poly1d(coef) \n",
    "plt.plot(pList,np.log(avG),'o')\n",
    "plt.plot(pList[:longueur], poly1d_fn(pList)[:longueur], '--k')\n",
    "plt.xlabel('p')\n",
    "plt.ylabel(r'$\\langle log(nb\\_nodes\\_GC\\rangle)$')\n",
    "plt.show()"
   ]
  },
  {
   "cell_type": "markdown",
   "metadata": {},
   "source": [
    "Nous avons la confirmation empirique de l'élément indiqué dans [cet article](https://www.quora.com/What-is-the-giant-component-in-graph-theory) : \"Dans un graphe de Erdos–Renyi, si $p>\\frac{1}{N}$ alors il y a probablement une composante géante et si $p<\\frac{1}{N}$ il n'y en a probablement pas.\". Ci-dessous quelques dernières simulations en faisant varier p autour de $\\frac{1}{N}$ pour nous en convaincre ! "
   ]
  },
  {
   "cell_type": "code",
   "execution_count": 14,
   "metadata": {},
   "outputs": [],
   "source": [
    "pList2 = [0.0007,0.0008,0.0009,0.0011,0.0012,0.0013]\n",
    "\n",
    "listGraphs2={}\n",
    "for p in pList2:\n",
    "    listGraphs2[p]=[]\n",
    "    for i in range(nRepl):\n",
    "        G=nx.erdos_renyi_graph(N,p)\n",
    "        listGraphs2[p].append(G)"
   ]
  },
  {
   "cell_type": "code",
   "execution_count": 15,
   "metadata": {},
   "outputs": [
    {
     "name": "stdout",
     "output_type": "stream",
     "text": [
      "0.0007 19.9\n",
      "0.0008 30.1\n",
      "0.0009 63.0\n",
      "Effet de seuil à 0.0010 !\n",
      "0.0011 185.4\n",
      "0.0012 279.9\n",
      "0.0013 427.5\n"
     ]
    }
   ],
   "source": [
    "avG2=[]\n",
    "for p in pList2:\n",
    "    thisAverage=[]\n",
    "    for G in listGraphs2[p]:\n",
    "        Gcc = sorted(nx.connected_components(G), key=len, reverse=True)\n",
    "        giant_nb_nodes = G.subgraph(Gcc[0]).number_of_nodes()\n",
    "        thisAverage.append(giant_nb_nodes)\n",
    "    if p==0.0011:\n",
    "        print(\"Effet de seuil à 0.0010 !\")\n",
    "    print(p, np.mean(thisAverage))\n",
    "    avG2.append(np.mean(thisAverage))"
   ]
  },
  {
   "cell_type": "markdown",
   "metadata": {},
   "source": [
    "# Exercise 2 : Comparison with real networks"
   ]
  },
  {
   "cell_type": "markdown",
   "metadata": {},
   "source": [
    "3 réseaux de Twitch de pays différents.  ([source](http://snap.stanford.edu/data/twitch-social-networks.html))"
   ]
  },
  {
   "cell_type": "code",
   "execution_count": 16,
   "metadata": {},
   "outputs": [],
   "source": [
    "#import libraries\n",
    "import networkx as nx\n",
    "import numpy as np\n",
    "import matplotlib.pyplot as plt\n",
    "from matplotlib.lines import Line2D\n",
    "import seaborn as sns"
   ]
  },
  {
   "cell_type": "code",
   "execution_count": 17,
   "metadata": {},
   "outputs": [],
   "source": [
    "#Read datasets\n",
    "#Great Britain\n",
    "infile='data/musae_ENGB_edges.csv'\n",
    "GB=nx.read_edgelist(infile, delimiter=',')\n",
    "#France\n",
    "infile='data/musae_FR_edges.csv'\n",
    "FR=nx.read_edgelist(infile, delimiter=',')\n",
    "#Portugal\n",
    "infile='data/musae_PTBR_edges.csv'\n",
    "PT=nx.read_edgelist(infile, delimiter=',')"
   ]
  },
  {
   "cell_type": "markdown",
   "metadata": {},
   "source": [
    "## 1. Average clustering coefficient for twitch network\n",
    "\n",
    "<mark>1- Take the twitch networks from last lesson. Calculate their average clustering coefficient. Calculate the average clustering coefficient for several replicas of a random graph with the same number of nodes and the same number of edges (using p=2E/N(N-1) ) of the twich networks. Compare the real values and the random values. What do you observe? How can you interpret this?</mark>"
   ]
  },
  {
   "cell_type": "code",
   "execution_count": 18,
   "metadata": {},
   "outputs": [],
   "source": [
    "listG = [GB,FR,PT]\n",
    "listG_names={}\n",
    "listG_names[GB]=\"GB\"\n",
    "listG_names[FR]=\"FR\"\n",
    "listG_names[PT]=\"PT\""
   ]
  },
  {
   "cell_type": "code",
   "execution_count": 19,
   "metadata": {},
   "outputs": [
    {
     "name": "stdout",
     "output_type": "stream",
     "text": [
      "Nombre de noeuds\n",
      "GB 7126\n",
      "FR 6549\n",
      "PT 1912\n"
     ]
    }
   ],
   "source": [
    "N={}\n",
    "for G in listG:\n",
    "    N[listG_names[G]] =  G.number_of_nodes()\n",
    "    \n",
    "print(\"Nombre de noeuds\")\n",
    "for G in listG:\n",
    "    print (listG_names[G],N[listG_names[G]])"
   ]
  },
  {
   "cell_type": "code",
   "execution_count": 20,
   "metadata": {
    "scrolled": true
   },
   "outputs": [
    {
     "name": "stdout",
     "output_type": "stream",
     "text": [
      "Nombre de liens\n",
      "GB 35324\n",
      "FR 112666\n",
      "PT 31299\n"
     ]
    }
   ],
   "source": [
    "E={}\n",
    "for G in listG:\n",
    "    E[listG_names[G]] =  G.number_of_edges()\n",
    "    \n",
    "print(\"Nombre de liens\")\n",
    "for G in listG:\n",
    "    print (listG_names[G],E[listG_names[G]])"
   ]
  },
  {
   "cell_type": "markdown",
   "metadata": {},
   "source": [
    "Quelques premiers résultats\n",
    "\n",
    "- Le réseau britanique est celui dont le degré moyen et le clustering coefficient moyen sont les plus faibles. \n",
    "- Le réseau français a le degré moyen le plus élevé et un clustering coefficient moyen intermédiaire\n",
    "- Le réseau portugais a un degré moyen élevé (presque aussi élevé que le français) et possède le clustering coefficient moyen le plus élevé. \n"
   ]
  },
  {
   "cell_type": "code",
   "execution_count": 21,
   "metadata": {},
   "outputs": [
    {
     "name": "stdout",
     "output_type": "stream",
     "text": [
      "Degrés moyens\n",
      "GB 9.914117316867808\n",
      "FR 34.40708505115285\n",
      "PT 32.73953974895397\n"
     ]
    }
   ],
   "source": [
    "ak={}\n",
    "for G in listG:\n",
    "    ak[listG_names[G]] =  np.mean([degree for node, degree in G.degree()])\n",
    "    \n",
    "#Clusterings coefficients moyens\n",
    "print(\"Degrés moyens\")\n",
    "for G in listG:\n",
    "    print (listG_names[G],ak[listG_names[G]])"
   ]
  },
  {
   "cell_type": "code",
   "execution_count": 22,
   "metadata": {},
   "outputs": [
    {
     "name": "stdout",
     "output_type": "stream",
     "text": [
      "Clusterings coefficients moyens\n",
      "GB 0.13092821901472096\n",
      "FR 0.22170550923594232\n",
      "PT 0.3198952746693515\n"
     ]
    }
   ],
   "source": [
    "avClust={}\n",
    "for G in listG:\n",
    "    avClust[listG_names[G]] =  nx.average_clustering(G)\n",
    "    \n",
    "#Clusterings coefficients moyens\n",
    "print(\"Clusterings coefficients moyens\")\n",
    "for G in listG:\n",
    "    print (listG_names[G],avClust[listG_names[G]])"
   ]
  },
  {
   "cell_type": "markdown",
   "metadata": {},
   "source": [
    "Pour chaque réseau twitch, on fixe $p = \\frac{2\\langle E\\rangle}{N(N-1)}$ de manière à ce que le nombre de noeuds du graphe aléatoire soit, en moyenne, égal au nombre de noeuds du graphe initial. "
   ]
  },
  {
   "cell_type": "code",
   "execution_count": 23,
   "metadata": {},
   "outputs": [],
   "source": [
    "# On souhaite que p = (2*E)/(N*(N-1))\n",
    "p={}\n",
    "for G in listG:\n",
    "    p[listG_names[G]] = (2 * E[listG_names[G]]) / (N[listG_names[G]] * (N[listG_names[G]]-1)) "
   ]
  },
  {
   "cell_type": "code",
   "execution_count": 24,
   "metadata": {},
   "outputs": [
    {
     "name": "stdout",
     "output_type": "stream",
     "text": [
      "Valeur de p = (2*E)/(N*(N-1) pour chaque réseau twitch\n",
      "{'GB': 0.0013914550620165345, 'FR': 0.005254594540493715, 'PT': 0.017132150575067492}\n"
     ]
    }
   ],
   "source": [
    "print(\"Valeur de p = (2*E)/(N*(N-1) pour chaque réseau twitch\")\n",
    "print(p)"
   ]
  },
  {
   "cell_type": "markdown",
   "metadata": {},
   "source": [
    "Je vais associer à chaque réseau twitch 10 réplications aléatoires. \n",
    "Je vais donc faire 30 répétitions dans mes boucles."
   ]
  },
  {
   "cell_type": "code",
   "execution_count": 25,
   "metadata": {},
   "outputs": [
    {
     "name": "stdout",
     "output_type": "stream",
     "text": [
      "30\n"
     ]
    }
   ],
   "source": [
    "# parameters\n",
    "nRepl=10\n",
    "print(nRepl*len(listG))"
   ]
  },
  {
   "cell_type": "markdown",
   "metadata": {},
   "source": [
    "Je crée mes 30 graphes aléatoires. Ils ont tous un nombre de noeuds environ égal au graphe twitch initial dont ils font référence. "
   ]
  },
  {
   "cell_type": "code",
   "execution_count": 26,
   "metadata": {},
   "outputs": [
    {
     "name": "stdout",
     "output_type": "stream",
     "text": [
      "35516\n",
      "35158\n",
      "35190\n",
      "35527\n",
      "35504\n",
      "35119\n",
      "35283\n",
      "35441\n",
      "35050\n",
      "35290\n",
      "112312\n",
      "112688\n",
      "112408\n",
      "112806\n",
      "113614\n",
      "112371\n",
      "112103\n",
      "113087\n",
      "112512\n",
      "111788\n",
      "31313\n",
      "31488\n",
      "31378\n",
      "31265\n",
      "31467\n",
      "31390\n",
      "31087\n",
      "31372\n",
      "31572\n",
      "31116\n"
     ]
    }
   ],
   "source": [
    "# the list of random graphs is a dictionary: I will have a list of 10 graphes for each value of the N of the\n",
    "# 3 twitch networks\n",
    "listG_ER={}\n",
    "\n",
    "for G in listG:\n",
    "    listG_ER[listG_names[G]]=[]\n",
    "    #loop on the replicas\n",
    "    for i in range(nRepl):\n",
    "        #print(i)\n",
    "        G_ER=nx.erdos_renyi_graph(N[listG_names[G]],p[listG_names[G]])\n",
    "        #G_ER=nx.watts_strogatz_graph(N[listG_names[G]], m, p[listG_names[G]])\n",
    "        print(G_ER.number_of_edges())\n",
    "        #G=nx.watts_strogatz_graph(N, m, p)\n",
    "        listG_ER[listG_names[G]].append(G_ER)"
   ]
  },
  {
   "cell_type": "markdown",
   "metadata": {},
   "source": [
    "Je calcule pour chaque graphe l'average clustering coefficient."
   ]
  },
  {
   "cell_type": "code",
   "execution_count": 27,
   "metadata": {},
   "outputs": [],
   "source": [
    "avClust_ER={}\n",
    "\n",
    "for G in listG:\n",
    "    G_ER = listG_ER[listG_names[G]]\n",
    "    avClust_ER[listG_names[G]] = []\n",
    "    for i in range(nRepl):\n",
    "        G_ER_replica = G_ER[i]\n",
    "        acc = nx.average_clustering(G_ER_replica)\n",
    "        #print(acc)\n",
    "        avClust_ER[listG_names[G]].append(acc)"
   ]
  },
  {
   "cell_type": "markdown",
   "metadata": {},
   "source": [
    "Voici la valeur moyenne des *average clustering coefficients* des 10 graphes aléatoires comportant le même nombre de noeuds (en moyenne) que les réseaux réels twitchs. Ces valeurs sont bien plus faibles que pour les réseaux réels. On a en moyenne (cf. cours) : \n",
    "$$\n",
    "\\langle c\\rangle = p =\\frac{2\\langle E\\rangle}{N(N-1)}\n",
    "$$"
   ]
  },
  {
   "cell_type": "code",
   "execution_count": 28,
   "metadata": {},
   "outputs": [
    {
     "name": "stdout",
     "output_type": "stream",
     "text": [
      "Moyenne des average clustering coefficients sur les 10 graphes aléatoires\n",
      "GB 0.0013617059217607649\n",
      "FR 0.0052888296574432414\n",
      "PT 0.0172429978781376\n",
      "\n",
      "Valeur de p = (2*E)/(N*(N-1) pour chaque réseau twitch\n",
      "{'GB': 0.0013914550620165345, 'FR': 0.005254594540493715, 'PT': 0.017132150575067492}\n"
     ]
    }
   ],
   "source": [
    "print(\"Moyenne des average clustering coefficients sur les 10 graphes aléatoires\")\n",
    "for G in listG:\n",
    "    moyenne = np.mean(avClust_ER[listG_names[G]])\n",
    "    print(listG_names[G],moyenne)\n",
    "print(\"\\nValeur de p = (2*E)/(N*(N-1) pour chaque réseau twitch\")\n",
    "print(p)"
   ]
  },
  {
   "cell_type": "markdown",
   "metadata": {},
   "source": [
    "Fonction pour tracer un boxplot des résultats pour observer la distribution en plus de la moyenne. "
   ]
  },
  {
   "cell_type": "code",
   "execution_count": 29,
   "metadata": {},
   "outputs": [],
   "source": [
    "def boxplot(pays, ajout_reseau_reel=False):\n",
    "    if ajout_reseau_reel:\n",
    "        custom_point = [Line2D([0], [0], marker='o', color='red', label=pays,\n",
    "                                  markerfacecolor='red', markersize=10)]\n",
    "        ax = sns.swarmplot(y=[avClust[pays]], color=\"red\",size=10)\n",
    "        ax.legend(custom_point, [pays])\n",
    "        titre = \"Comparaison entre l'average clustering coefficient\\ndu réseau twitch et ceux des simulations (\"+pays+\")\"\n",
    "    else:\n",
    "        titre = \"Average clustering coefficient des réseaux aléatoires (\"+pays+\")\"        \n",
    "    ax = sns.boxplot(y=avClust_ER[pays])\n",
    "    ax.set_title(titre)\n",
    "    plt.show()"
   ]
  },
  {
   "cell_type": "markdown",
   "metadata": {},
   "source": [
    "Nous avons vu pendant le cours dernier que pour les graphes aléatoires d'ER, l'*average clustering coefficient* tend vers 0 quand N devient grand contrairement aux réseaux réels pour lesquels l'average clustering coefficient est plus grand. \n",
    "\n",
    "Cela s'observe bien pour les réseaux réels twitch des 3 pays. Le point rouge qui correspond à l'average clustering coefficient du réseau réel est bien largement supérieur à la répartition des average clustering coefficient des 10 réseaux aléatoires. "
   ]
  },
  {
   "cell_type": "code",
   "execution_count": 30,
   "metadata": {},
   "outputs": [
    {
     "data": {
      "image/png": "[encoded data removed]",
      "text/plain": [
       "<Figure size 432x288 with 1 Axes>"
      ]
     },
     "metadata": {
      "needs_background": "light"
     },
     "output_type": "display_data"
    },
    {
     "data": {
      "image/png": "[encoded data removed]",
      "text/plain": [
       "<Figure size 432x288 with 1 Axes>"
      ]
     },
     "metadata": {
      "needs_background": "light"
     },
     "output_type": "display_data"
    }
   ],
   "source": [
    "boxplot(\"GB\", ajout_reseau_reel=False)\n",
    "boxplot(\"GB\", ajout_reseau_reel=True)"
   ]
  },
  {
   "cell_type": "code",
   "execution_count": 31,
   "metadata": {},
   "outputs": [
    {
     "data": {
      "image/png": "[encoded data removed]",
      "text/plain": [
       "<Figure size 432x288 with 1 Axes>"
      ]
     },
     "metadata": {
      "needs_background": "light"
     },
     "output_type": "display_data"
    },
    {
     "data": {
      "image/png": "[encoded data removed]",
      "text/plain": [
       "<Figure size 432x288 with 1 Axes>"
      ]
     },
     "metadata": {
      "needs_background": "light"
     },
     "output_type": "display_data"
    }
   ],
   "source": [
    "boxplot(\"FR\", ajout_reseau_reel=False)\n",
    "boxplot(\"FR\", ajout_reseau_reel=True)"
   ]
  },
  {
   "cell_type": "code",
   "execution_count": 32,
   "metadata": {},
   "outputs": [
    {
     "data": {
      "image/png": "[encoded data removed]",
      "text/plain": [
       "<Figure size 432x288 with 1 Axes>"
      ]
     },
     "metadata": {
      "needs_background": "light"
     },
     "output_type": "display_data"
    },
    {
     "data": {
      "image/png": "[encoded data removed]",
      "text/plain": [
       "<Figure size 432x288 with 1 Axes>"
      ]
     },
     "metadata": {
      "needs_background": "light"
     },
     "output_type": "display_data"
    }
   ],
   "source": [
    "boxplot(\"PT\", ajout_reseau_reel=False)\n",
    "boxplot(\"PT\", ajout_reseau_reel=True)"
   ]
  },
  {
   "cell_type": "markdown",
   "metadata": {},
   "source": [
    "## 2. Significance test [OPTIONAL]\n",
    "\n",
    "<mark>2. perform a significance test to see if the value observed in real networks is equal to the value observed in the random case</mark>"
   ]
  },
  {
   "cell_type": "markdown",
   "metadata": {},
   "source": [
    "Le test de student, sans sa version `1samp` permet de tester l'égalité entre la moyenne d'un échantillon `a` et une certaines valeur `mean`. \n",
    "\n",
    "(H0) la moyenne d'un échantillon `a` d'observations  indépendantes est EGALE à la valeur `mean`.\n",
    "\n",
    "(H1) la moyenne d'un échantillon `a` d'observations  indépendantes est DIFFERENTE de la valeur `mean`\n",
    "\n",
    "Ce test suppose aussi que l'échantillon `a` est distribué normalement, ce qui n'est pas forcément le cas en pratique. \n",
    "\n",
    "**=> Les tests confirment que la valeur observée dans le réseau réel est différente de la valeur observée dans les cas aléatoires**"
   ]
  },
  {
   "cell_type": "code",
   "execution_count": 33,
   "metadata": {},
   "outputs": [],
   "source": [
    "from scipy import stats\n",
    "\n",
    "def ttest(pays):\n",
    "    print(pays)\n",
    "    a = avClust_ER[pays] #10 réseaux aléatoires\n",
    "    popmean = avClust[pays] #réseau réel \n",
    "    stat,p = stats.ttest_1samp(a, popmean)\n",
    "    if p > 0.05:\n",
    "        print('La moyenne des average clustering coefficients des réseaux aléatoires est EGALE à celle du réseau réel')\n",
    "    else:\n",
    "        print('La moyenne des average clustering coefficients des réseaux aléatoires est DIFFERENTE de celle du réseau réel')\n",
    "    print('(stat=%.3f, p=%.3f)' % (stat, p))\n",
    "    print('\\n')"
   ]
  },
  {
   "cell_type": "code",
   "execution_count": 34,
   "metadata": {},
   "outputs": [
    {
     "name": "stdout",
     "output_type": "stream",
     "text": [
      "GB\n",
      "La moyenne des average clustering coefficients des réseaux aléatoires est DIFFERENTE de celle du réseau réel\n",
      "(stat=-3958.002, p=0.000)\n",
      "\n",
      "\n",
      "FR\n",
      "La moyenne des average clustering coefficients des réseaux aléatoires est DIFFERENTE de celle du réseau réel\n",
      "(stat=-7337.718, p=0.000)\n",
      "\n",
      "\n",
      "PT\n",
      "La moyenne des average clustering coefficients des réseaux aléatoires est DIFFERENTE de celle du réseau réel\n",
      "(stat=-7061.376, p=0.000)\n",
      "\n",
      "\n"
     ]
    }
   ],
   "source": [
    "ttest(\"GB\")\n",
    "ttest(\"FR\")\n",
    "ttest(\"PT\")"
   ]
  },
  {
   "cell_type": "markdown",
   "metadata": {},
   "source": [
    "## 3. Preserving the degree structure [OPTIONAL]\n",
    "\n",
    "<mark>3- A better way to randomize network structures consists in rewiring the links preserving the degree structure:</mark>\n",
    "\n",
    "<mark>(1) take two links (n1,n2) and (n3,n4). </mark>\n",
    "\n",
    "<mark>(2)exchange one of the extremes in order to have (n1,n4) and (n3,n2)</mark>\n",
    "\n",
    "<mark>(3) Iterate this procedure for a number of times proportional to the number of edges</mark>\n",
    "\n",
    "<mark>Write the script performing this procedure and apply this to one of the Twitch networks.</mark>\n",
    "\n"
   ]
  },
  {
   "cell_type": "markdown",
   "metadata": {},
   "source": [
    "La fonction `permutations` permet d'implémenter les permutations proposées par l'énoncé."
   ]
  },
  {
   "cell_type": "code",
   "execution_count": 35,
   "metadata": {},
   "outputs": [],
   "source": [
    "def permutations(G,nbIters, plot=False):\n",
    "    G = G.copy()\n",
    "    if plot==True:\n",
    "            pos=nx.spring_layout(G)\n",
    "            plt.figure(figsize=(6,2))\n",
    "            nx.draw(G, pos, with_labels=True, node_size=200)\n",
    "            plt.show()\n",
    "    for i in range(0,nbIters):\n",
    "        #print(i)\n",
    "        allEdges=G.edges()\n",
    "        tirage = random.sample(allEdges,2)\n",
    "        n1 = tirage[0][0]\n",
    "        n2 = tirage[0][1]\n",
    "        n3 = tirage[1][0]\n",
    "        n4 = tirage[1][1]\n",
    "        if plot==True:\n",
    "            print(tirage)\n",
    "            plt.figure(figsize=(6,2))\n",
    "            nx.draw(G, pos, with_labels=True, node_size=200)\n",
    "        G.remove_edge(n1,n2)\n",
    "        G.remove_edge(n3,n4)\n",
    "        G.add_edge(n1,n4)\n",
    "        G.add_edge(n3,n2)\n",
    "        if plot==True:\n",
    "            nx.draw_networkx_edges(G, edgelist=[(n1,n2),(n3,n4)], pos=pos, edge_color=\"r\", width=3.0)\n",
    "            nx.draw_networkx_edges(G, edgelist=[(n1,n4),(n3,n2)], pos=pos, edge_color=\"g\", width=3.0, style=\"dashed\")\n",
    "            plt.show()\n",
    "    return(G)"
   ]
  },
  {
   "cell_type": "markdown",
   "metadata": {},
   "source": [
    "Illustration de l'algorithme sur un exemple simple : "
   ]
  },
  {
   "cell_type": "code",
   "execution_count": 41,
   "metadata": {},
   "outputs": [
    {
     "data": {
      "image/png": "[encoded data removed]",
      "text/plain": [
       "<Figure size 432x144 with 1 Axes>"
      ]
     },
     "metadata": {},
     "output_type": "display_data"
    },
    {
     "name": "stdout",
     "output_type": "stream",
     "text": [
      "[(0, 1), (7, 11)]\n"
     ]
    },
    {
     "data": {
      "image/png": "[encoded data removed]",
      "text/plain": [
       "<Figure size 432x144 with 1 Axes>"
      ]
     },
     "metadata": {},
     "output_type": "display_data"
    },
    {
     "name": "stdout",
     "output_type": "stream",
     "text": [
      "[(2, 5), (1, 6)]\n"
     ]
    },
    {
     "data": {
      "image/png": "[encoded data removed]",
      "text/plain": [
       "<Figure size 432x144 with 1 Axes>"
      ]
     },
     "metadata": {},
     "output_type": "display_data"
    }
   ],
   "source": [
    "Gtest=nx.erdos_renyi_graph(12,0.2)\n",
    "Gtest_permut= permutations(Gtest,nbIters=2,plot=True)"
   ]
  },
  {
   "cell_type": "markdown",
   "metadata": {},
   "source": [
    "Application sur les données françaises de twitch. Je modifie le réseau initial de twitch par permutations."
   ]
  },
  {
   "cell_type": "code",
   "execution_count": 37,
   "metadata": {},
   "outputs": [],
   "source": [
    "PT_permut = permutations(PT,nbIters=len(PT.edges()),plot=False)"
   ]
  },
  {
   "cell_type": "markdown",
   "metadata": {},
   "source": [
    "Je calcule l'average clustering coefficient du nouveau graphe."
   ]
  },
  {
   "cell_type": "code",
   "execution_count": 38,
   "metadata": {},
   "outputs": [
    {
     "name": "stdout",
     "output_type": "stream",
     "text": [
      "0.09512300351604067\n"
     ]
    }
   ],
   "source": [
    "avClust_ER_permut_PT= nx.average_clustering(PT_permut)\n",
    "print(avClust_ER_permut_PT)"
   ]
  },
  {
   "cell_type": "markdown",
   "metadata": {},
   "source": [
    "Je le représente sur l'histogramme de la première question. \n",
    "\n",
    "**=> On remarque que la création d'un réseau aléatoire par permutations des noeuds de l'ancien réseau (avec un nombre d'itérations égal au nombre de liens) conserve un peu mieux le clustering coefficient du réseau réel que l'implémentation d'un réseau aléatoire pur (point bleu plus proche du point rouge que la barre noire ne l'est) mais il demeure très faible (point bleu bien en dessous du point rouge).**\n",
    "\n",
    "\n",
    "Il pourrait être intéressant de tester avec un nombre d'itérations plus important mais cela prend un temps computationnel assez important. "
   ]
  },
  {
   "cell_type": "code",
   "execution_count": 39,
   "metadata": {},
   "outputs": [
    {
     "data": {
      "image/png": "[encoded data removed]",
      "text/plain": [
       "<Figure size 432x288 with 1 Axes>"
      ]
     },
     "metadata": {
      "needs_background": "light"
     },
     "output_type": "display_data"
    }
   ],
   "source": [
    "custom_points = [Line2D([0], [0], marker='o', color='red', label=\"Réseau réel\",\n",
    "                                  markerfacecolor='red', markersize=10),\n",
    "                 Line2D([0], [0], marker='o', color='blue', label=\"Réseau réel permuté\",\n",
    "                                  markerfacecolor='blue', markersize=10),\n",
    "                ]\n",
    "ax = sns.swarmplot(y=[avClust[\"PT\"]], color=\"red\",size=10)\n",
    "ax = sns.swarmplot(y=[avClust_ER_permut_PT], color=\"blue\",size=10)\n",
    "ax.legend(custom_points, [\"Réseau réel\",\"Réseau réel permuté\"])\n",
    "titre = \"Comparaison entre l'average clustering coefficient\\ndu réseau twitch, du réseau permuté et de ceux des simulations (\"+\"PT\"+\")\"\n",
    "ax = sns.boxplot(y=avClust_ER[\"PT\"])\n",
    "ax.set_title(titre)\n",
    "plt.show()"
   ]
  }
 ],
 "metadata": {
  "kernelspec": {
   "display_name": "Python 3",
   "language": "python",
   "name": "python3"
  },
  "language_info": {
   "codemirror_mode": {
    "name": "ipython",
    "version": 3
   },
   "file_extension": ".py",
   "mimetype": "text/x-python",
   "name": "python",
   "nbconvert_exporter": "python",
   "pygments_lexer": "ipython3",
   "version": "3.7.4"
  }
 },
 "nbformat": 4,
 "nbformat_minor": 4
}
