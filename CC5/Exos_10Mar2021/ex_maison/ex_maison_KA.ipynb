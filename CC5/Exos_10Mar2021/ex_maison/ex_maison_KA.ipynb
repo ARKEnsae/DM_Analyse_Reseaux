{
 "cells": [
  {
   "cell_type": "markdown",
   "metadata": {},
   "source": [
    "# Exercises for the 16th March 2021\n",
    "\n",
    "Kim Antunez"
   ]
  },
  {
   "cell_type": "markdown",
   "metadata": {},
   "source": [
    "<mark>Ces exercices portent principalement sur les 2 premiers exercices vus en classe lors de la dernière séance.</mark> "
   ]
  },
  {
   "cell_type": "markdown",
   "metadata": {},
   "source": [
    "# Exercise 1 : ER graphs"
   ]
  },
  {
   "cell_type": "code",
   "execution_count": 55,
   "metadata": {},
   "outputs": [],
   "source": [
    "import networkx as nx\n",
    "import random\n",
    "\n",
    "import matplotlib.pyplot as plt\n",
    "\n",
    "import itertools #package utile pour faire des analyses\n",
    "\n",
    "import numpy as np\n",
    "from networkx.drawing.nx_agraph import graphviz_layout as layout\n",
    "\n",
    "random.seed(1)"
   ]
  },
  {
   "cell_type": "markdown",
   "metadata": {},
   "source": [
    "## 1. 10 replicas of ER graphs "
   ]
  },
  {
   "cell_type": "markdown",
   "metadata": {},
   "source": [
    "<mark>1-Generate 10 replicas of ER graphs with N=1000 nodes and connection probabilities p=[0.00005, 0.0001, 0.0002, 0.001, 0.002,0.005, 0.01,0.015, 0.02]</mark>"
   ]
  },
  {
   "cell_type": "code",
   "execution_count": 4,
   "metadata": {},
   "outputs": [],
   "source": [
    "# parameters\n",
    "N=1000\n",
    "pList=[0.00005,0.0001,0.0002,0.001,0.002,0.005,0.01,0.015,0.02]\n",
    "nRepl=10 #je répète mon expérience 10 fois"
   ]
  },
  {
   "cell_type": "markdown",
   "metadata": {},
   "source": [
    "On construit un modèle (avec différentes réplications) pour chaque valeur de p. \n",
    "On doit donc faire deux boucles.\n",
    "1. un sur les probabilités\n",
    "2. une sur les réplications\n",
    "\n",
    "La meilleure chose à faire est de générer tous les graphes  en amont pour ne pas avoir à les recréer si on cherche à réaliser d'autres mesures. "
   ]
  },
  {
   "cell_type": "code",
   "execution_count": 5,
   "metadata": {},
   "outputs": [
    {
     "name": "stdout",
     "output_type": "stream",
     "text": [
      "Nombre de graphes à générer :  90\n"
     ]
    }
   ],
   "source": [
    "print(\"Nombre de graphes à générer : \",len(pList)*nRepl)"
   ]
  },
  {
   "cell_type": "code",
   "execution_count": 8,
   "metadata": {},
   "outputs": [],
   "source": [
    "# the list of graphs is now a dictionary: I will have a list for each value of the parameter p\n",
    "listGraphs={}\n",
    "\n",
    "#loop on the values for the parameter p\n",
    "for p in pList:\n",
    "    #print (p) #to be sure that I'm not too slow\n",
    "    listGraphs[p]=[]\n",
    "    #loop on the replicas\n",
    "    for i in range(nRepl):\n",
    "        G=nx.erdos_renyi_graph(N,p)\n",
    "        listGraphs[p].append(G)"
   ]
  },
  {
   "cell_type": "markdown",
   "metadata": {},
   "source": [
    "## 2. Show  $\\langle k\\rangle=Np$\n",
    "\n",
    "<mark>2- show visually and with a linear fit that $\\langle k\\rangle=Np$</mark>"
   ]
  },
  {
   "cell_type": "markdown",
   "metadata": {},
   "source": [
    "Je veux créer une liste où j'obtiens pour chaque p la **moyenne du degré moyen** sur 10 réplications. "
   ]
  },
  {
   "cell_type": "code",
   "execution_count": 26,
   "metadata": {},
   "outputs": [
    {
     "name": "stdout",
     "output_type": "stream",
     "text": [
      "5e-05 0.044\n",
      "0.0001 0.09740000000000001\n",
      "0.0002 0.2136\n",
      "0.001 0.9960000000000001\n",
      "0.002 1.9952\n",
      "0.005 4.9878\n",
      "0.01 10.039000000000001\n",
      "0.015 14.912199999999999\n",
      "0.02 19.860599999999998\n"
     ]
    }
   ],
   "source": [
    "avK=[]\n",
    "for p in pList:\n",
    "    thisAverage=[]\n",
    "    for G in listGraphs[p]:\n",
    "        avK_G = np.mean([degree for node, degree in G.degree()])\n",
    "        thisAverage.append(avK_G)\n",
    "    print(p, np.mean(thisAverage))\n",
    "    avK.append(np.mean(thisAverage))"
   ]
  },
  {
   "cell_type": "markdown",
   "metadata": {},
   "source": [
    "Je trace la relation entre p et le degré moyen. C'est linéaire. Je le vois en faisant un fit. "
   ]
  },
  {
   "cell_type": "code",
   "execution_count": 30,
   "metadata": {},
   "outputs": [],
   "source": [
    "coef = np.polyfit(pList,avK, 1) #1 c'est le degré : linéaire\n",
    "poly1d_fn = np.poly1d(coef) "
   ]
  },
  {
   "cell_type": "code",
   "execution_count": 31,
   "metadata": {},
   "outputs": [
    {
     "data": {
      "image/png": "[encoded data removed]",
      "text/plain": [
       "<Figure size 432x288 with 1 Axes>"
      ]
     },
     "metadata": {
      "needs_background": "light"
     },
     "output_type": "display_data"
    }
   ],
   "source": [
    "plt.plot(pList,avK,'o')\n",
    "plt.plot(pList, poly1d_fn(pList), '--k')\n",
    "\n",
    "plt.xlabel('p')\n",
    "plt.ylabel(r'$\\langle k\\rangle$')\n",
    "\n",
    "plt.show()"
   ]
  },
  {
   "cell_type": "markdown",
   "metadata": {},
   "source": [
    "On retrouve bien la relation linéaire présentée dans le cours à savoir : \n",
    "\n",
    "$$\\langle k\\rangle= p(N-1)$$"
   ]
  },
  {
   "cell_type": "code",
   "execution_count": 34,
   "metadata": {},
   "outputs": [
    {
     "data": {
      "text/plain": [
       "994.1272672026333"
      ]
     },
     "execution_count": 34,
     "metadata": {},
     "output_type": "execute_result"
    }
   ],
   "source": [
    "coef[0]"
   ]
  },
  {
   "cell_type": "code",
   "execution_count": 35,
   "metadata": {},
   "outputs": [
    {
     "data": {
      "text/plain": [
       "999"
      ]
     },
     "execution_count": 35,
     "metadata": {},
     "output_type": "execute_result"
    }
   ],
   "source": [
    "(N-1)"
   ]
  },
  {
   "cell_type": "markdown",
   "metadata": {},
   "source": [
    "## 3. Giant component\n",
    "\n",
    "<mark>3- Are the networks connected? Which is the size of the giant component?  Plot size of the giant component as a function of p. What do you observe?</mark>"
   ]
  },
  {
   "cell_type": "markdown",
   "metadata": {},
   "source": [
    "Tout d'abord quelques définitions sur ce que sont les composantes et en particulier la composante géante. \n",
    "\n",
    "Une **composante** est un sous graphe dans lesquels il y a un chemin qui relie chaque paire de noeuds. Elles ressemblent à des petites îles au sein du graphe et ne sont, par définition, par reliées entre elles. L'exemple suivant comporte 3 composantes. \n",
    "\n",
    "![](https://qph.fs.quoracdn.net/main-qimg-8eea92c00b763dc167745c3f06cfe5bd)\n",
    "\n",
    "La **composante géante** est une composante qui comporte beaucoup plus de noeuds que les autres composantes du graphe, elle ne se définit pas vraiment mathématiquement par un certain seuil, il s'agit davantage d'un concept. \n",
    "\n",
    "[Source](https://www.quora.com/What-is-the-giant-component-in-graph-theory)"
   ]
  },
  {
   "cell_type": "markdown",
   "metadata": {},
   "source": [
    "Nous générons à titre d'exemple un graphe et représentons avec un trait épais et rouge sa composante la plus grande. "
   ]
  },
  {
   "cell_type": "code",
   "execution_count": 63,
   "metadata": {},
   "outputs": [
    {
     "data": {
      "text/plain": [
       "<matplotlib.collections.LineCollection at 0x17a2a8a9fc8>"
      ]
     },
     "execution_count": 63,
     "metadata": {},
     "output_type": "execute_result"
    },
    {
     "data": {
      "image/png": "[encoded data removed]",
      "text/plain": [
       "<Figure size 432x288 with 1 Axes>"
      ]
     },
     "metadata": {},
     "output_type": "display_data"
    }
   ],
   "source": [
    "# inspiré de https://networkx.org/documentation/stable//auto_examples/drawing/plot_giant_component.html\n",
    "G = nx.binomial_graph(150, 0.01)\n",
    "# on fixe la position du réseau pour le graphe\n",
    "pos=nx.spring_layout(G)\n",
    "# On récupère les composantes et on les trie par ordre décroissant du nombre de noeud\n",
    "Gcc = sorted(nx.connected_components(G), key=len, reverse=True)\n",
    "# Donc la première composante est donc la composante ayant le plus grand nombre de noeud\n",
    "#(potentiellement giant)\n",
    "G0 = G.subgraph(Gcc[0])\n",
    "nx.draw(G, pos, with_labels=False, node_size=20)\n",
    "nx.draw_networkx_edges(G0, pos, edge_color=\"r\", width=6.0)"
   ]
  },
  {
   "cell_type": "markdown",
   "metadata": {},
   "source": [
    "Retour à nos graphes de la question 2. Cherchons à évaluer la relation entre p et la moyenne de la composante la plus grande des graphes. "
   ]
  },
  {
   "cell_type": "markdown",
   "metadata": {},
   "source": [
    "Je veux créer une liste où j'obtiens pour chaque p la **moyenne du nombre de noeuds de la plus grande composante** sur 10 réplications. \n",
    "\n",
    "Nous en tirons de premières remarques : \n",
    "\n",
    "- A partir de $p= \\frac{1}{N} = 0.001$, la taille de la plus grande composante se met soudainement à augmenter, comme s'il existait un effet de seuil. \n",
    "\n",
    "- A partir de $p = 0.01$, le graphe devient connecté puisque la taille de sa plus grande composante est de $N=1000$. Pour des probabilités inférieures, le graphe n'était donc pas connecté.  \n"
   ]
  },
  {
   "cell_type": "code",
   "execution_count": 69,
   "metadata": {},
   "outputs": [
    {
     "name": "stdout",
     "output_type": "stream",
     "text": [
      "5e-05 2.7\n",
      "0.0001 3.4\n",
      "0.0002 5.4\n",
      "0.001 94.0\n",
      "0.002 790.4\n",
      "0.005 992.7\n",
      "0.01 1000.0\n",
      "0.015 1000.0\n",
      "0.02 1000.0\n"
     ]
    }
   ],
   "source": [
    "avG=[]\n",
    "for p in pList:\n",
    "    thisAverage=[]\n",
    "    for G in listGraphs[p]:\n",
    "        Gcc = sorted(nx.connected_components(G), key=len, reverse=True)\n",
    "        giant_nb_nodes = G.subgraph(Gcc[0]).number_of_nodes()\n",
    "        thisAverage.append(giant_nb_nodes)\n",
    "    print(p, np.mean(thisAverage))\n",
    "    avG.append(np.mean(thisAverage))"
   ]
  },
  {
   "cell_type": "markdown",
   "metadata": {},
   "source": [
    "Je trace la relation entre p et la taille moyenne de la plus grande composante. Cette fois-ci ce n'est pas du tout linéaire. "
   ]
  },
  {
   "cell_type": "code",
   "execution_count": 85,
   "metadata": {},
   "outputs": [
    {
     "data": {
      "image/png": "[encoded data removed]",
      "text/plain": [
       "<Figure size 432x288 with 1 Axes>"
      ]
     },
     "metadata": {
      "needs_background": "light"
     },
     "output_type": "display_data"
    }
   ],
   "source": [
    "plt.plot(pList,avG,'o')\n",
    "plt.xlabel('p')\n",
    "plt.ylabel(r'$\\langle nb\\_nodes\\_GC\\rangle$')\n",
    "\n",
    "plt.show()"
   ]
  },
  {
   "cell_type": "markdown",
   "metadata": {},
   "source": [
    "Nous avons la confirmation empirique de l'élément indiqué dans [cet article](https://www.quora.com/What-is-the-giant-component-in-graph-theory) : \"Dans un graphe de Erdos–Renyi, si $p>\\frac{1}{N}$ alors il y a probablement une composante géante et si $p<\\frac{1}{N}$ il n'y en a probablement pas.\". Ci-dessous quelques dernières simulations en faisant varier p autour de $\\frac{1}{N}$ pour nous en convaincre ! "
   ]
  },
  {
   "cell_type": "code",
   "execution_count": 97,
   "metadata": {},
   "outputs": [],
   "source": [
    "pList2 = [0.0007,0.0008,0.0009,0.0011,0.0012,0.0013]\n",
    "\n",
    "listGraphs2={}\n",
    "for p in pList2:\n",
    "    listGraphs2[p]=[]\n",
    "    for i in range(nRepl):\n",
    "        G=nx.erdos_renyi_graph(N,p)\n",
    "        listGraphs2[p].append(G)"
   ]
  },
  {
   "cell_type": "code",
   "execution_count": 100,
   "metadata": {},
   "outputs": [
    {
     "name": "stdout",
     "output_type": "stream",
     "text": [
      "0.0007 24.6\n",
      "0.0008 32.3\n",
      "0.0009 59.2\n",
      "Effet de seuil à 0.0010 !\n",
      "0.0011 165.8\n",
      "0.0012 264.9\n",
      "0.0013 378.5\n"
     ]
    }
   ],
   "source": [
    "avG2=[]\n",
    "for p in pList2:\n",
    "    thisAverage=[]\n",
    "    for G in listGraphs2[p]:\n",
    "        Gcc = sorted(nx.connected_components(G), key=len, reverse=True)\n",
    "        giant_nb_nodes = G.subgraph(Gcc[0]).number_of_nodes()\n",
    "        thisAverage.append(giant_nb_nodes)\n",
    "    if p==0.0011:\n",
    "        print(\"Effet de seuil à 0.0010 !\")\n",
    "    print(p, np.mean(thisAverage))\n",
    "    avG2.append(np.mean(thisAverage))"
   ]
  },
  {
   "cell_type": "markdown",
   "metadata": {},
   "source": [
    "# COMPARISON WITH REAL NETWORKS"
   ]
  },
  {
   "cell_type": "markdown",
   "metadata": {},
   "source": [
    "1- Take the twitch networks from last lesson. Calculate their average clustering coefficient. Calculate the average clustering coefficient for several replicas of a random graph with the same number of nodes and the same number of edges (using p=2E/N(N-1) ) of the twich networks. Compare the real values and the random values. What do you observe? How can you interpret this?"
   ]
  },
  {
   "cell_type": "markdown",
   "metadata": {},
   "source": [
    "OPTIONAL: perform a significance test to see if the value observed in real networks is equal to the value observed in the random case. "
   ]
  },
  {
   "cell_type": "markdown",
   "metadata": {},
   "source": [
    "2- OPTIONAL A better way to randomize network structures consists in rewiring the links preserving the degree structure:\n",
    "\n",
    "(1) take two links (n1,n2) and (n3,n4). \n",
    "\n",
    "(2)exchange one of the extremes in order to have (n1,n4) and (n3,n2)\n",
    "\n",
    "(3) Iterate this procedure for a number of times proportional to the number of edges\n",
    "\n",
    "Write the script performing this procedure and apply this to one of the Twitch networks. \n",
    "\n",
    "\n",
    "\n",
    "\n",
    "<mark>On cherche à utiliser des réseaux aléatoires. On regarde les réseaux twitch de la dernière fois (France, Portugal, les deux ensemble comme on veut). On calcule l’erreur clustering moyenne et ensite l’average clustering pour un graphe aléatoire qui a le même nombre de nœuds et de liens et on fait la comparaison entre les valeurs obtenus du clustering pour le réseau réel et réseau aléatoire. Si on sait le faire, on peut faire si on veut un test (significativité) pour voir comment comparer ces valeurs (mais ça c’est pas obligatoire). \n",
    "Dernière chose : algorithme qui correspond à une possibilité de changer structure des réseau sans changer [réécouter] et réaliser cet algorithme sur le réseau twitch</mark>"
   ]
  },
  {
   "cell_type": "code",
   "execution_count": null,
   "metadata": {},
   "outputs": [],
   "source": []
  }
 ],
 "metadata": {
  "kernelspec": {
   "display_name": "Python 3",
   "language": "python",
   "name": "python3"
  },
  "language_info": {
   "codemirror_mode": {
    "name": "ipython",
    "version": 3
   },
   "file_extension": ".py",
   "mimetype": "text/x-python",
   "name": "python",
   "nbconvert_exporter": "python",
   "pygments_lexer": "ipython3",
   "version": "3.7.4"
  }
 },
 "nbformat": 4,
 "nbformat_minor": 4
}
