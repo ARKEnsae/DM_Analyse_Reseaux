{
 "cells": [
  {
   "cell_type": "markdown",
   "metadata": {},
   "source": [
    "# ER graphs\n",
    "\n",
    "Ces exercices portent principalement sur les 2 premiers exercices vus en classe lors de la dernière séance. "
   ]
  },
  {
   "cell_type": "markdown",
   "metadata": {},
   "source": [
    "1-Generate 10 replicas of ER graphs with N=1000 nodes and connection probabilities p=[0.00005, 0.0001, 0.0002, 0.001, 0.002,0.005, 0.01,0.015, 0.02]"
   ]
  },
  {
   "cell_type": "markdown",
   "metadata": {},
   "source": [
    "2- show visually and with a linear fit that $\\langle k\\rangle=Np$"
   ]
  },
  {
   "cell_type": "markdown",
   "metadata": {},
   "source": [
    "3- Are the networks connected? Which is the size of the giant component?  Plot size of the giant component as a function of p. What do you observe?"
   ]
  },
  {
   "cell_type": "markdown",
   "metadata": {},
   "source": [
    "<mark>10 réplications de graphe avec 1000 nœuds avec REECOUTER Montrer visuellement ces relation. \n",
    "2. Très important : concerne la connectivité du réseau. L’idée est que pour chaque valeur de p, on doit regarder la taille moyenne de la composante maximale. Et on nous laisse donner les conclusions là-dessus.</mark>\n"
   ]
  },
  {
   "cell_type": "markdown",
   "metadata": {},
   "source": [
    "# COMPARISON WITH REAL NETWORKS"
   ]
  },
  {
   "cell_type": "markdown",
   "metadata": {},
   "source": [
    "1- Take the twitch networks from last lesson. Calculate their average clustering coefficient. Calculate the average clustering coefficient for several replicas of a random graph with the same number of nodes and the same number of edges (using p=2E/N(N-1) ) of the twich networks. Compare the real values and the random values. What do you observe? How can you interpret this?"
   ]
  },
  {
   "cell_type": "markdown",
   "metadata": {},
   "source": [
    "OPTIONAL: perform a significance test to see if the value observed in real networks is equal to the value observed in the random case. "
   ]
  },
  {
   "cell_type": "markdown",
   "metadata": {},
   "source": [
    "2- OPTIONAL A better way to randomize network structures consists in rewiring the links preserving the degree structure:\n",
    "\n",
    "(1) take two links (n1,n2) and (n3,n4). \n",
    "\n",
    "(2)exchange one of the extremes in order to have (n1,n4) and (n3,n2)\n",
    "\n",
    "(3) Iterate this procedure for a number of times proportional to the number of edges\n",
    "\n",
    "Write the script performing this procedure and apply this to one of the Twitch networks. \n",
    "\n",
    "\n",
    "\n",
    "\n",
    "<mark>On cherche à utiliser des réseaux aléatoires. On regarde les réseaux twitch de la dernière fois (France, Portugal, les deux ensemble comme on veut). On calcule l’erreur clustering moyenne et ensite l’average clustering pour un graphe aléatoire qui a le même nombre de nœuds et de liens et on fait la comparaison entre les valeurs obtenus du clustering pour le réseau réel et réseau aléatoire. Si on sait le faire, on peut faire si on veut un test (significativité) pour voir comment comparer ces valeurs (mais ça c’est pas obligatoire). \n",
    "Dernière chose : algorithme qui correspond à une possibilité de changer structure des réseau sans changer [réécouter] et réaliser cet algorithme sur le réseau twitch</mark>"
   ]
  },
  {
   "cell_type": "code",
   "execution_count": null,
   "metadata": {},
   "outputs": [],
   "source": []
  }
 ],
 "metadata": {
  "kernelspec": {
   "display_name": "Python 3",
   "language": "python",
   "name": "python3"
  },
  "language_info": {
   "codemirror_mode": {
    "name": "ipython",
    "version": 3
   },
   "file_extension": ".py",
   "mimetype": "text/x-python",
   "name": "python",
   "nbconvert_exporter": "python",
   "pygments_lexer": "ipython3",
   "version": "3.7.4"
  }
 },
 "nbformat": 4,
 "nbformat_minor": 4
}
