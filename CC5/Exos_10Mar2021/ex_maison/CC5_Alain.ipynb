{
 "cells": [
  {
   "cell_type": "markdown",
   "metadata": {},
   "source": [
    "# ER graphs"
   ]
  },
  {
   "cell_type": "markdown",
   "metadata": {},
   "source": [
    "1-Generate 10 replicas of ER graphs with N=1000 nodes and connection probabilities p=[0.00005, 0.0001, 0.0002, 0.001, 0.002,0.005, 0.01,0.015, 0.02]"
   ]
  },
  {
   "cell_type": "markdown",
   "metadata": {},
   "source": [
    "2- show visually and with a linear fit that $\\langle k\\rangle=Np$"
   ]
  },
  {
   "cell_type": "markdown",
   "metadata": {},
   "source": [
    "3- Are the networks connected? Which is the size of the giant component?  Plot size of the giant component as a function of p. What do you observe?"
   ]
  },
  {
   "cell_type": "code",
   "execution_count": 13,
   "metadata": {},
   "outputs": [],
   "source": [
    "import networkx as nx\n",
    "import random\n",
    "\n",
    "import matplotlib.pyplot as plt\n",
    "\n",
    "import itertools\n",
    "\n",
    "import numpy as np\n",
    "import math"
   ]
  },
  {
   "cell_type": "markdown",
   "metadata": {},
   "source": [
    "## Question 1 - Génération des graphes"
   ]
  },
  {
   "cell_type": "code",
   "execution_count": 39,
   "metadata": {},
   "outputs": [],
   "source": [
    "import random\n",
    "random.seed(2021)\n",
    "np.random.seed(2021)"
   ]
  },
  {
   "cell_type": "code",
   "execution_count": 40,
   "metadata": {},
   "outputs": [],
   "source": [
    "N=1000\n",
    "nRepl=10\n",
    "pList=[0.00005, 0.0001, 0.0002, 0.001, 0.002,0.005, 0.01,0.015, 0.02]"
   ]
  },
  {
   "cell_type": "code",
   "execution_count": 41,
   "metadata": {},
   "outputs": [
    {
     "name": "stdout",
     "output_type": "stream",
     "text": [
      "5e-05\n",
      "0.0001\n",
      "0.0002\n",
      "0.001\n",
      "0.002\n",
      "0.005\n",
      "0.01\n",
      "0.015\n",
      "0.02\n"
     ]
    }
   ],
   "source": [
    "# the list of graphs is now a dictionary: I will have a list for each value of the parameter p\n",
    "listGraphs={}\n",
    "\n",
    "#loop on the values for the parameter p\n",
    "for p in pList:\n",
    "    print (p) #to be sure that I'm not too slow\n",
    "    listGraphs[p]=[]\n",
    "    #loop on the replicas\n",
    "    for i in range(nRepl):\n",
    "        G=nx.erdos_renyi_graph(N,p)\n",
    "        listGraphs[p].append(G)"
   ]
  },
  {
   "cell_type": "markdown",
   "metadata": {},
   "source": [
    "## Question 2 - show visually and with a linear fit that $\\langle k\\rangle=Np$\n",
    "\n",
    "On a vu dans le cours, que la relation entre le degré moyen $\\langle k\\rangle$ et $p$ était bien linéaire mais plutôt sous la forme $\\langle k\\rangle=(N-1)p$"
   ]
  },
  {
   "cell_type": "code",
   "execution_count": 42,
   "metadata": {},
   "outputs": [],
   "source": [
    "avK=[np.mean([np.mean([G.degree(u) for u in G.nodes()]) for G in listGraphs[p]]) for p in pList]"
   ]
  },
  {
   "cell_type": "markdown",
   "metadata": {},
   "source": [
    "On fait d'abord une régression linéaire avec constante"
   ]
  },
  {
   "cell_type": "code",
   "execution_count": 43,
   "metadata": {},
   "outputs": [
    {
     "data": {
      "text/plain": [
       "'<k> = 995.88 p + 0.02'"
      ]
     },
     "execution_count": 43,
     "metadata": {},
     "output_type": "execute_result"
    }
   ],
   "source": [
    "coef = np.polyfit(pList,avK, 1)\n",
    "poly1d_fn = np.poly1d(coef)\n",
    "lin_fit = \"<k> = {} p + {}\".format(round(coef[0],2),\n",
    "                             round(coef[1],2))\n",
    "lin_fit"
   ]
  },
  {
   "cell_type": "markdown",
   "metadata": {},
   "source": [
    "Il serait peut-être plus pertinent de faire une régression linéaire sans constante : pour $p=0$ le degré moyen est nul. La valeur de la constante était presque nulle, cela ne change quasiment pas les résultats d'enlever la constante."
   ]
  },
  {
   "cell_type": "code",
   "execution_count": 18,
   "metadata": {
    "scrolled": true
   },
   "outputs": [
    {
     "data": {
      "text/plain": [
       "'<k> = 998.1 p'"
      ]
     },
     "execution_count": 18,
     "metadata": {},
     "output_type": "execute_result"
    }
   ],
   "source": [
    "from scipy.optimize import curve_fit\n",
    "def f(x, a):\n",
    "    return a * x\n",
    "\n",
    "# parameters and parameter covariances\n",
    "popt, pcov = curve_fit(f, pList, avK)\n",
    "popt\n",
    "lin_fit_without_c = \"<k> = {} p\".format(round(popt[0],2))\n",
    "poly1d_fn = np.poly1d([popt[0],0]) \n",
    "lin_fit_without_c"
   ]
  },
  {
   "cell_type": "markdown",
   "metadata": {},
   "source": [
    "On ne retrouve pas exactement la relation $<k>=(N-1)p$ mais quelque chose d'assez proche par la régression linéaire sans constante, cela vient sûrement du fait que l'on fait une régression linéaire avec 7 observations, et donc qu'il y a beaucoup de variance dans les estimations. Par ailleurs, du fait de l'aléatoire, en relançant les programmes on trouve des résultats différents"
   ]
  },
  {
   "cell_type": "code",
   "execution_count": 19,
   "metadata": {
    "scrolled": false
   },
   "outputs": [
    {
     "data": {
      "image/png": "[encoded data removed]",
      "text/plain": [
       "<Figure size 432x288 with 1 Axes>"
      ]
     },
     "metadata": {
      "needs_background": "light"
     },
     "output_type": "display_data"
    }
   ],
   "source": [
    "plt.plot(pList,avK,'o')\n",
    "plt.plot(pList, poly1d_fn(pList), '--k',label = lin_fit_without_c)\n",
    "\n",
    "plt.xlabel('p')\n",
    "plt.ylabel(r'$\\langle k\\rangle$')\n",
    "plt.legend()\n",
    "plt.title(\"N - 1 = {}\".format(N-1))\n",
    "plt.show()"
   ]
  },
  {
   "cell_type": "markdown",
   "metadata": {},
   "source": [
    "## Question 3 - Are the networks connected? Which is the size of the giant component?  Plot size of the giant component as a function of p. What do you observe?  \n",
    "Pour chaque valeur de $p$ on regarde la taille moyenne de la composante maximale.   \n",
    "https://stackoverflow.com/questions/26105764/how-do-i-get-the-giant-component-of-a-networkx-graph"
   ]
  },
  {
   "cell_type": "markdown",
   "metadata": {},
   "source": [
    "On regardant la connectivité on note que pour des petites probabilités ($p<0.01$) les graphs ne sont pas connectés mais ils le sont dès lors que $p\\geq 0.01$. Dès lors que les graphs sont connectés, on va trouver que la taille de la *giant component* est de 1000 (il n'y a qu'une seule composante)."
   ]
  },
  {
   "cell_type": "code",
   "execution_count": 44,
   "metadata": {
    "scrolled": true
   },
   "outputs": [
    {
     "data": {
      "text/plain": [
       "{5e-05: [False, False, False, False, False, False, False, False, False, False],\n",
       " 0.0001: [False,\n",
       "  False,\n",
       "  False,\n",
       "  False,\n",
       "  False,\n",
       "  False,\n",
       "  False,\n",
       "  False,\n",
       "  False,\n",
       "  False],\n",
       " 0.0002: [False,\n",
       "  False,\n",
       "  False,\n",
       "  False,\n",
       "  False,\n",
       "  False,\n",
       "  False,\n",
       "  False,\n",
       "  False,\n",
       "  False],\n",
       " 0.001: [False, False, False, False, False, False, False, False, False, False],\n",
       " 0.002: [False, False, False, False, False, False, False, False, False, False],\n",
       " 0.005: [False, False, False, False, False, False, False, False, False, False],\n",
       " 0.01: [True, True, True, True, True, True, True, True, True, True],\n",
       " 0.015: [True, True, True, True, True, True, True, True, True, True],\n",
       " 0.02: [True, True, True, True, True, True, True, True, True, True]}"
      ]
     },
     "execution_count": 44,
     "metadata": {},
     "output_type": "execute_result"
    }
   ],
   "source": [
    "{k:[nx.is_connected(g) for g in listGraphs[k]] for k in listGraphs.keys()}"
   ]
  },
  {
   "cell_type": "code",
   "execution_count": 51,
   "metadata": {},
   "outputs": [],
   "source": [
    "def giant_comp(G):\n",
    "    return G.subgraph(max(nx.connected_components(G), key=len))"
   ]
  },
  {
   "cell_type": "code",
   "execution_count": 57,
   "metadata": {},
   "outputs": [],
   "source": [
    "avG=[np.mean([len(giant_comp(G)) for G in listGraphs[p]]) for p in pList]"
   ]
  },
  {
   "cell_type": "code",
   "execution_count": 99,
   "metadata": {
    "scrolled": false
   },
   "outputs": [
    {
     "name": "stdout",
     "output_type": "stream",
     "text": [
      "[5e-05, 0.0001, 0.0002, 0.001, 0.002, 0.005, 0.01, 0.015, 0.02] \n",
      " [2.8, 3.5, 4.4, 107.5, 803.9, 992.7, 1000.0, 1000.0, 1000.0]\n"
     ]
    }
   ],
   "source": [
    "print(pList,\"\\n\",avG)"
   ]
  },
  {
   "cell_type": "code",
   "execution_count": 100,
   "metadata": {},
   "outputs": [
    {
     "data": {
      "image/png": "[encoded data removed]",
      "text/plain": [
       "<Figure size 432x288 with 1 Axes>"
      ]
     },
     "metadata": {
      "needs_background": "light"
     },
     "output_type": "display_data"
    }
   ],
   "source": [
    "plt.plot(pList,avG,'o')\n",
    "plt.xlabel('p')\n",
    "plt.ylabel(\"size of the giant component\")\n",
    "plt.show()"
   ]
  },
  {
   "cell_type": "markdown",
   "metadata": {},
   "source": [
    "On observe en fait 3 phases différentes, qu'on retrouve dans la littérature :\n",
    "- $p<\\frac{1}{N}=0.001$, évolution très lente, logarithmique\n",
    "\n",
    "- $\\frac{1}{N}=0.001\\leq p< \\frac{\\log(N)}{N}\\simeq 0.007$ augmentation très rapide\n",
    "\n",
    "- $p> \\frac{\\log(N)}{N}\\simeq 0.007$ taille égale à $N$"
   ]
  },
  {
   "cell_type": "markdown",
   "metadata": {},
   "source": [
    "# COMPARISON WITH REAL NETWORKS"
   ]
  },
  {
   "cell_type": "markdown",
   "metadata": {},
   "source": [
    "1- Take the twitch networks from last lesson. Calculate their average clustering coefficient. Calculate the average clustering coefficient for several replicas of a random graph with the same number of nodes and the same number of edges (using p=2E/N(N-1) ) of the twich networks. Compare the real values and the random values. What do you observe? How can you interpret this?"
   ]
  },
  {
   "cell_type": "markdown",
   "metadata": {},
   "source": [
    "OPTIONAL: perform a significance test to see if the value observed in real networks is equal to the value observed in the random case. "
   ]
  },
  {
   "cell_type": "markdown",
   "metadata": {},
   "source": [
    "2- OPTIONAL: A better way to randomize network structures consists in rewiring the links preserving the degree structure:\n",
    "\n",
    "(1) take two links (n1,n2) and (n3,n4). \n",
    "\n",
    "(2)exchange one of the extremes in order to have (n1,n4) and (n3,n2)\n",
    "\n",
    "(3) Iterate this procedure for a number of times proportional to the number of edges\n",
    "\n",
    "Write the script performing this procedure and apply this to one of the Twitch networks. "
   ]
  },
  {
   "cell_type": "code",
   "execution_count": null,
   "metadata": {},
   "outputs": [],
   "source": []
  }
 ],
 "metadata": {
  "kernelspec": {
   "display_name": "Python 3",
   "language": "python",
   "name": "python3"
  },
  "language_info": {
   "codemirror_mode": {
    "name": "ipython",
    "version": 3
   },
   "file_extension": ".py",
   "mimetype": "text/x-python",
   "name": "python",
   "nbconvert_exporter": "python",
   "pygments_lexer": "ipython3",
   "version": "3.7.5"
  }
 },
 "nbformat": 4,
 "nbformat_minor": 4
}
