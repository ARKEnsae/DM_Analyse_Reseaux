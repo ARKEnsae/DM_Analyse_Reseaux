{
 "cells": [
  {
   "cell_type": "markdown",
   "metadata": {},
   "source": [
    "# CC5 d'Alain QUARTIER-LA-TENTE\n",
    "\n",
    "# ER graphs\n",
    "1-Generate 10 replicas of ER graphs with N=1000 nodes and connection probabilities p=[0.00005, 0.0001, 0.0002, 0.001, 0.002,0.005, 0.01,0.015, 0.02]\n",
    "2- show visually and with a linear fit that $\\langle k\\rangle=Np$\n",
    "3- Are the networks connected? Which is the size of the giant component?  Plot size of the giant component as a function of p. What do you observe?"
   ]
  },
  {
   "cell_type": "code",
   "execution_count": 102,
   "metadata": {},
   "outputs": [],
   "source": [
    "import networkx as nx\n",
    "import random\n",
    "\n",
    "import matplotlib.pyplot as plt\n",
    "\n",
    "import itertools\n",
    "\n",
    "import numpy as np\n",
    "import math\n",
    "import random\n",
    "\n",
    "random.seed(202101)\n",
    "np.random.seed(202101)"
   ]
  },
  {
   "cell_type": "markdown",
   "metadata": {},
   "source": [
    "## Question 1 - Génération des graphes"
   ]
  },
  {
   "cell_type": "code",
   "execution_count": 103,
   "metadata": {},
   "outputs": [],
   "source": [
    "N=1000\n",
    "nRepl=10\n",
    "pList=[0.00005, 0.0001, 0.0002, 0.001, 0.002,0.005, 0.01,0.015, 0.02]"
   ]
  },
  {
   "cell_type": "code",
   "execution_count": 104,
   "metadata": {},
   "outputs": [
    {
     "name": "stdout",
     "output_type": "stream",
     "text": [
      "5e-05\n",
      "0.0001\n",
      "0.0002\n",
      "0.001\n",
      "0.002\n",
      "0.005\n",
      "0.01\n",
      "0.015\n",
      "0.02\n"
     ]
    }
   ],
   "source": [
    "# the list of graphs is now a dictionary: I will have a list for each value of the parameter p\n",
    "listGraphs={}\n",
    "\n",
    "#loop on the values for the parameter p\n",
    "for p in pList:\n",
    "    print (p) #to be sure that I'm not too slow\n",
    "    listGraphs[p]=[]\n",
    "    #loop on the replicas\n",
    "    for i in range(nRepl):\n",
    "        G=nx.erdos_renyi_graph(N,p)\n",
    "        listGraphs[p].append(G)"
   ]
  },
  {
   "cell_type": "markdown",
   "metadata": {},
   "source": [
    "## Question 2 - show visually and with a linear fit that $\\langle k\\rangle=Np$\n",
    "\n",
    "On a vu dans le cours, que la relation entre le degré moyen $\\langle k\\rangle$ et $p$ était bien linéaire mais plutôt sous la forme $\\langle k\\rangle=(N-1)p$"
   ]
  },
  {
   "cell_type": "code",
   "execution_count": 105,
   "metadata": {},
   "outputs": [],
   "source": [
    "avK=[np.mean([np.mean([G.degree(u) for u in G.nodes()]) for G in listGraphs[p]]) for p in pList]"
   ]
  },
  {
   "cell_type": "markdown",
   "metadata": {},
   "source": [
    "On fait d'abord une régression linéaire avec constante"
   ]
  },
  {
   "cell_type": "code",
   "execution_count": 106,
   "metadata": {},
   "outputs": [
    {
     "data": {
      "text/plain": [
       "'<k> = 1000.5 p + 0.0'"
      ]
     },
     "execution_count": 106,
     "metadata": {},
     "output_type": "execute_result"
    }
   ],
   "source": [
    "coef = np.polyfit(pList,avK, 1)\n",
    "poly1d_fn = np.poly1d(coef)\n",
    "lin_fit = \"<k> = {} p + {}\".format(round(coef[0],2),\n",
    "                             round(coef[1],2))\n",
    "lin_fit"
   ]
  },
  {
   "cell_type": "markdown",
   "metadata": {},
   "source": [
    "Il serait peut-être plus pertinent de faire une régression linéaire sans constante : pour $p=0$ le degré moyen est nul. La valeur de la constante était presque nulle, cela ne change quasiment pas les résultats d'enlever la constante."
   ]
  },
  {
   "cell_type": "code",
   "execution_count": 107,
   "metadata": {
    "scrolled": true
   },
   "outputs": [
    {
     "data": {
      "text/plain": [
       "'<k> = 1000.65 p'"
      ]
     },
     "execution_count": 107,
     "metadata": {},
     "output_type": "execute_result"
    }
   ],
   "source": [
    "from scipy.optimize import curve_fit\n",
    "def f(x, a):\n",
    "    return a * x\n",
    "\n",
    "# parameters and parameter covariances\n",
    "popt, pcov = curve_fit(f, pList, avK)\n",
    "popt\n",
    "lin_fit_without_c = \"<k> = {} p\".format(round(popt[0],2))\n",
    "poly1d_fn = np.poly1d([popt[0],0]) \n",
    "lin_fit_without_c"
   ]
  },
  {
   "cell_type": "markdown",
   "metadata": {},
   "source": [
    "On ne retrouve pas exactement la relation $<k>=(N-1)p$ mais quelque chose d'assez proche par la régression linéaire sans constante, cela vient sûrement du fait que l'on fait une régression linéaire avec 7 observations, et donc qu'il y a beaucoup de variance dans les estimations. Par ailleurs, du fait de l'aléatoire, en relançant les programmes on trouve des résultats différents"
   ]
  },
  {
   "cell_type": "code",
   "execution_count": 108,
   "metadata": {
    "scrolled": false
   },
   "outputs": [
    {
     "data": {
      "image/png": "[encoded data removed]",
      "text/plain": [
       "<Figure size 432x288 with 1 Axes>"
      ]
     },
     "metadata": {},
     "output_type": "display_data"
    }
   ],
   "source": [
    "plt.plot(pList,avK,'o')\n",
    "plt.plot(pList, poly1d_fn(pList), '--k',label = lin_fit_without_c)\n",
    "\n",
    "plt.xlabel('p')\n",
    "plt.ylabel(r'$\\langle k\\rangle$')\n",
    "plt.legend()\n",
    "plt.title(\"N - 1 = {}\".format(N-1))\n",
    "plt.show()"
   ]
  },
  {
   "cell_type": "markdown",
   "metadata": {},
   "source": [
    "## Question 3 - Are the networks connected? Which is the size of the giant component?  Plot size of the giant component as a function of p. What do you observe?  \n",
    "Pour chaque valeur de $p$ on regarde la taille moyenne de la composante maximale.   \n",
    "https://stackoverflow.com/questions/26105764/how-do-i-get-the-giant-component-of-a-networkx-graph"
   ]
  },
  {
   "cell_type": "markdown",
   "metadata": {},
   "source": [
    "On regardant la connectivité on note que pour des petites probabilités ($p<0.01$) les graphs ne sont pas connectés mais ils le sont dès lors que $p\\geq 0.01$. Dès lors que les graphs sont connectés, on va trouver que la taille de la *giant component* est de 1000 (il n'y a qu'une seule composante)."
   ]
  },
  {
   "cell_type": "code",
   "execution_count": 109,
   "metadata": {
    "scrolled": true
   },
   "outputs": [
    {
     "data": {
      "text/plain": [
       "{5e-05: [False, False, False, False, False, False, False, False, False, False],\n",
       " 0.0001: [False,\n",
       "  False,\n",
       "  False,\n",
       "  False,\n",
       "  False,\n",
       "  False,\n",
       "  False,\n",
       "  False,\n",
       "  False,\n",
       "  False],\n",
       " 0.0002: [False,\n",
       "  False,\n",
       "  False,\n",
       "  False,\n",
       "  False,\n",
       "  False,\n",
       "  False,\n",
       "  False,\n",
       "  False,\n",
       "  False],\n",
       " 0.001: [False, False, False, False, False, False, False, False, False, False],\n",
       " 0.002: [False, False, False, False, False, False, False, False, False, False],\n",
       " 0.005: [False, False, False, False, False, False, False, False, False, False],\n",
       " 0.01: [True, True, True, True, True, True, True, True, True, True],\n",
       " 0.015: [True, True, True, True, True, True, True, True, True, True],\n",
       " 0.02: [True, True, True, True, True, True, True, True, True, True]}"
      ]
     },
     "execution_count": 109,
     "metadata": {},
     "output_type": "execute_result"
    }
   ],
   "source": [
    "{k:[nx.is_connected(g) for g in listGraphs[k]] for k in listGraphs.keys()}"
   ]
  },
  {
   "cell_type": "code",
   "execution_count": 110,
   "metadata": {},
   "outputs": [],
   "source": [
    "def giant_comp(G):\n",
    "    return G.subgraph(max(nx.connected_components(G), key=len))"
   ]
  },
  {
   "cell_type": "code",
   "execution_count": 111,
   "metadata": {},
   "outputs": [],
   "source": [
    "avG=[np.mean([len(giant_comp(G)) for G in listGraphs[p]]) for p in pList]"
   ]
  },
  {
   "cell_type": "code",
   "execution_count": 112,
   "metadata": {
    "scrolled": false
   },
   "outputs": [
    {
     "name": "stdout",
     "output_type": "stream",
     "text": [
      "[5e-05, 0.0001, 0.0002, 0.001, 0.002, 0.005, 0.01, 0.015, 0.02] \n",
      " [2.7, 3.6, 4.6, 100.1, 790.0, 992.9, 1000.0, 1000.0, 1000.0]\n"
     ]
    }
   ],
   "source": [
    "print(pList,\"\\n\",avG)"
   ]
  },
  {
   "cell_type": "code",
   "execution_count": 113,
   "metadata": {},
   "outputs": [
    {
     "data": {
      "image/png": "[encoded data removed]",
      "text/plain": [
       "<Figure size 432x288 with 1 Axes>"
      ]
     },
     "metadata": {},
     "output_type": "display_data"
    }
   ],
   "source": [
    "plt.plot(pList,avG,'o')\n",
    "plt.xlabel('p')\n",
    "plt.ylabel(\"size of the giant component\")\n",
    "plt.show()"
   ]
  },
  {
   "cell_type": "markdown",
   "metadata": {},
   "source": [
    "On observe en fait 3 phases différentes, qu'on retrouve dans la littérature (voir par exemple [ici](https://www.ndsu.edu/pubweb/~novozhil/Teaching/767%20Data/36_pdfsam_notes.pdf)) :\n",
    "- $p<\\frac{1}{N}=0.001$, évolution très lente, logarithmique\n",
    "\n",
    "- $\\frac{1}{N}=0.001\\leq p< \\frac{\\log(N)}{N}\\simeq 0.007$ un saut puis augmentation très rapide\n",
    "\n",
    "- $p> \\frac{\\log(N)}{N}\\simeq 0.007$ taille égale à $N$"
   ]
  },
  {
   "cell_type": "markdown",
   "metadata": {},
   "source": [
    "# COMPARISON WITH REAL NETWORKS"
   ]
  },
  {
   "cell_type": "markdown",
   "metadata": {},
   "source": [
    "1- Take the twitch networks from last lesson. Calculate their average clustering coefficient. Calculate the average clustering coefficient for several replicas of a random graph with the same number of nodes and the same number of edges (using p=2E/N(N-1) ) of the twich networks. Compare the real values and the random values. What do you observe? How can you interpret this?"
   ]
  },
  {
   "cell_type": "markdown",
   "metadata": {},
   "source": [
    "OPTIONAL: perform a significance test to see if the value observed in real networks is equal to the value observed in the random case. "
   ]
  },
  {
   "cell_type": "markdown",
   "metadata": {},
   "source": [
    "2- OPTIONAL: A better way to randomize network structures consists in rewiring the links preserving the degree structure:\n",
    "\n",
    "(1) take two links (n1,n2) and (n3,n4). \n",
    "\n",
    "(2)exchange one of the extremes in order to have (n1,n4) and (n3,n2)\n",
    "\n",
    "(3) Iterate this procedure for a number of times proportional to the number of edges\n",
    "\n",
    "Write the script performing this procedure and apply this to one of the Twitch networks. "
   ]
  },
  {
   "cell_type": "code",
   "execution_count": 1,
   "metadata": {},
   "outputs": [],
   "source": [
    "import networkx as nx\n",
    "import random\n",
    "\n",
    "import matplotlib.pyplot as plt\n",
    "\n",
    "import itertools\n",
    "\n",
    "import numpy as np\n",
    "import math\n",
    "\n",
    "import random\n",
    "random.seed(202102)\n",
    "np.random.seed(202102)"
   ]
  },
  {
   "cell_type": "markdown",
   "metadata": {},
   "source": [
    "On se restreint à l'étude du réseau Twitch français"
   ]
  },
  {
   "cell_type": "code",
   "execution_count": 2,
   "metadata": {},
   "outputs": [
    {
     "name": "stdout",
     "output_type": "stream",
     "text": [
      "Average clustering coefficient = 0.2217\n"
     ]
    }
   ],
   "source": [
    "infile='data/musae_FR_edges.csv'\n",
    "FR=nx.read_edgelist(infile, delimiter=',')\n",
    "avr_clustering_fr = nx.average_clustering(FR)\n",
    "print(\"Average clustering coefficient = {}\".format(round(avr_clustering_fr,4)))"
   ]
  },
  {
   "cell_type": "code",
   "execution_count": 6,
   "metadata": {},
   "outputs": [
    {
     "name": "stdout",
     "output_type": "stream",
     "text": [
      "Il y a 6549 noeuds et 112666 arêtes\n"
     ]
    }
   ],
   "source": [
    "E = len(FR.edges())\n",
    "N = len(FR.nodes())\n",
    "p = 2*E/(N*(N-1))\n",
    "print(\"Il y a {} noeuds et {} arêtes\".format(N,E))"
   ]
  },
  {
   "cell_type": "markdown",
   "metadata": {},
   "source": [
    "On va générer aléatoirement `nRepl=50` Erdos-Renyi graphes avec autant de noeuds que dans le réseau initial et avec en moyenne le même nombre de lien (en utilisant $p=\\frac{2\\langle E\\rangle}{N(N-1)}$)."
   ]
  },
  {
   "cell_type": "code",
   "execution_count": 28,
   "metadata": {},
   "outputs": [
    {
     "name": "stdout",
     "output_type": "stream",
     "text": [
      "0\n",
      "5\n",
      "10\n",
      "15\n",
      "20\n",
      "25\n",
      "30\n",
      "35\n",
      "40\n",
      "45\n"
     ]
    }
   ],
   "source": [
    "nRepl=50\n",
    "listGraphs=[]\n",
    "\n",
    "for i in range(nRepl):\n",
    "    if i % 5 == 0:\n",
    "        print(i)\n",
    "    G=nx.erdos_renyi_graph(N,p)\n",
    "    listGraphs.append(G)"
   ]
  },
  {
   "cell_type": "code",
   "execution_count": 30,
   "metadata": {},
   "outputs": [],
   "source": [
    "avr_clustering = [nx.average_clustering(G) for G in listGraphs]"
   ]
  },
  {
   "cell_type": "markdown",
   "metadata": {},
   "source": [
    "On trouve que le clustering moyen est très faible par rapport au clustering trouvé dans la base twitch.\n",
    "On retrouve ce que l'on a vu en cours :\n",
    "$$\n",
    "\\langle c\\rangle = p \\left(=\\frac{2\\langle E\\rangle}{N(N-1)}\\text{ dans notre cas}\\right)\n",
    "$$\n",
    "le clustering moyen est égal à la probabilité $p$ utilisée dans la génération du graphe : il tend vers 0 quand $N$ est grand."
   ]
  },
  {
   "cell_type": "code",
   "execution_count": 34,
   "metadata": {},
   "outputs": [
    {
     "name": "stdout",
     "output_type": "stream",
     "text": [
      "Clustering base twitch FR = 0.22170550923594232\n",
      "Clustering moyen = 0.005271182221132933\n",
      "p = 0.005254594540493715\n"
     ]
    },
    {
     "data": {
      "image/png": "[encoded data removed]",
      "text/plain": [
       "<Figure size 432x288 with 1 Axes>"
      ]
     },
     "metadata": {},
     "output_type": "display_data"
    }
   ],
   "source": [
    "import seaborn as sns\n",
    "sns.set_theme(style=\"whitegrid\")\n",
    "ax = sns.violinplot(x=avr_clustering, inner=\"quartile\")\n",
    "plt.axvline(x=p, color = \"red\",label =\"p\")\n",
    "#plt.axvline(x=avr_clustering_fr, color = \"orange\", label = \"Base twitch\")\n",
    "\n",
    "print(\"Clustering base twitch FR = {}\".format(avr_clustering_fr))\n",
    "print(\"Clustering moyen =\", np.mean(avr_clustering))\n",
    "print(\"p =\", p)"
   ]
  },
  {
   "cell_type": "markdown",
   "metadata": {},
   "source": [
    "## [Optional] perform a significance test to see if the value observed in real networks is equal to the value observed in the random case.\n",
    "On va vu en cours la relation suivante :\n",
    "$$\n",
    "\\langle c\\rangle = p =\\frac{\\langle k\\rangle}{N}\n",
    "$$\n",
    "Et la probabilité qu'un noeud soit de degré $k$ suit une loi binomiale $\\mathcal B(N-1,p)$. Notons $c_0$ la valeur du clustering coefficient trouvée dans le réseau twitch. On veut effectuer le test suivant :\n",
    "\n",
    "$H_0$ : $p=c_0$ contre $H_1$ : $p\\ne c_0$ \n",
    "\n",
    "Comme $N$ est grand, on utilise une approximation gaussienne. Notons $X\\sim \\mathcal B(N-1,p)$, on a :\n",
    "$$\n",
    "T=\\frac{\n",
    "\\lvert X-(N-1)c_0 \\rvert\n",
    "}{\\sqrt{\n",
    "(N-1)c_0(1-c_0)\n",
    "}}\n",
    "\\sim \\mathcal N(0,1) \\text{ sous }H_0\n",
    "$$\n",
    "On compare la réalisation de cette loi (en \"remplaçant\" $X$ par le clustering moyen trouvé dans notre génération des graphs) au quantile $1-\\alpha/2$ d'une loi normale $\\mathcal N(0,1)$. Le test d'égalité de la valeur observée dans le réseau réel à celle du cas aléatoire est rejeté au seuil de 10 % (idem si l'on fait un test unilatéral uniquement)."
   ]
  },
  {
   "cell_type": "code",
   "execution_count": 45,
   "metadata": {},
   "outputs": [
    {
     "name": "stdout",
     "output_type": "stream",
     "text": [
      "Statistique de test = 43.18858972855375\n",
      "Quantile 1-alpha/2 d'une loi normale N(0,1) pour alpha = 10% :  True\n",
      "Test rejeté au seuil 10 % ? True\n"
     ]
    }
   ],
   "source": [
    "import math\n",
    "import scipy.stats\n",
    "T = abs(np.mean(avr_clustering) - (N-1)* avr_clustering_fr)/math.sqrt((N-1)* avr_clustering_fr*(1-avr_clustering_fr))\n",
    "print(\"Statistique de test =\",T)\n",
    "print(\"Quantile 1-alpha/2 d'une loi normale N(0,1) pour alpha = 10% : \",T > scipy.stats.norm.ppf(0.95))\n",
    "print(\"Test rejeté au seuil 10 % ?\", T > scipy.stats.norm.ppf(0.95))"
   ]
  },
  {
   "cell_type": "markdown",
   "metadata": {},
   "source": [
    "## 2- OPTIONAL: A better way to randomize network structures consists in rewiring the links preserving the degree structure\n",
    "\n",
    "(1) take two links (n1,n2) and (n3,n4). \n",
    "\n",
    "(2)exchange one of the extremes in order to have (n1,n4) and (n3,n2)\n",
    "\n",
    "(3) Iterate this procedure for a number of times proportional to the number of edges\n",
    "\n",
    "Write the script performing this procedure and apply this to one of the Twitch networks. "
   ]
  },
  {
   "cell_type": "code",
   "execution_count": 3,
   "metadata": {},
   "outputs": [],
   "source": [
    "random.seed(20210202)\n",
    "np.random.seed(20210202)"
   ]
  },
  {
   "cell_type": "code",
   "execution_count": 11,
   "metadata": {},
   "outputs": [],
   "source": [
    "def rewiring (G, nbIter):\n",
    "    G = G.copy()\n",
    "    for _ in range(round(nbIter)):\n",
    "        selEdges=random.sample(G.edges(),2)\n",
    "        G.remove_edges_from(selEdges)\n",
    "        G.add_edge(selEdges[0][0], selEdges[1][1])\n",
    "        G.add_edge(selEdges[1][0], selEdges[0][1])\n",
    "    return G"
   ]
  },
  {
   "cell_type": "markdown",
   "metadata": {},
   "source": [
    "Le programme suivant met plusieurs heures à tourner, ne pas le relancer"
   ]
  },
  {
   "cell_type": "code",
   "execution_count": 12,
   "metadata": {},
   "outputs": [
    {
     "name": "stdout",
     "output_type": "stream",
     "text": [
      "0.5\n",
      "1\n",
      "2\n",
      "4\n"
     ]
    },
    {
     "ename": "KeyboardInterrupt",
     "evalue": "",
     "output_type": "error",
     "traceback": [
      "\u001b[0;31m---------------------------------------------------------------------------\u001b[0m",
      "\u001b[0;31mKeyboardInterrupt\u001b[0m                         Traceback (most recent call last)",
      "\u001b[0;32m<ipython-input-12-3d45d5be92df>\u001b[0m in \u001b[0;36m<module>\u001b[0;34m\u001b[0m\n\u001b[1;32m      5\u001b[0m \u001b[0;32mfor\u001b[0m \u001b[0malpha\u001b[0m \u001b[0;32min\u001b[0m \u001b[0malphaIter\u001b[0m\u001b[0;34m:\u001b[0m\u001b[0;34m\u001b[0m\u001b[0;34m\u001b[0m\u001b[0m\n\u001b[1;32m      6\u001b[0m     \u001b[0mprint\u001b[0m \u001b[0;34m(\u001b[0m\u001b[0malpha\u001b[0m\u001b[0;34m)\u001b[0m\u001b[0;34m\u001b[0m\u001b[0;34m\u001b[0m\u001b[0m\n\u001b[0;32m----> 7\u001b[0;31m     \u001b[0mlistGraphs\u001b[0m\u001b[0;34m.\u001b[0m\u001b[0mappend\u001b[0m\u001b[0;34m(\u001b[0m\u001b[0mrewiring\u001b[0m\u001b[0;34m(\u001b[0m\u001b[0mFR\u001b[0m\u001b[0;34m,\u001b[0m \u001b[0malpha\u001b[0m\u001b[0;34m*\u001b[0m\u001b[0mE\u001b[0m\u001b[0;34m)\u001b[0m\u001b[0;34m)\u001b[0m\u001b[0;34m\u001b[0m\u001b[0;34m\u001b[0m\u001b[0m\n\u001b[0m",
      "\u001b[0;32m<ipython-input-11-9933f5c78e76>\u001b[0m in \u001b[0;36mrewiring\u001b[0;34m(G, nbIter)\u001b[0m\n\u001b[1;32m      2\u001b[0m     \u001b[0mG\u001b[0m \u001b[0;34m=\u001b[0m \u001b[0mG\u001b[0m\u001b[0;34m.\u001b[0m\u001b[0mcopy\u001b[0m\u001b[0;34m(\u001b[0m\u001b[0;34m)\u001b[0m\u001b[0;34m\u001b[0m\u001b[0;34m\u001b[0m\u001b[0m\n\u001b[1;32m      3\u001b[0m     \u001b[0;32mfor\u001b[0m \u001b[0m_\u001b[0m \u001b[0;32min\u001b[0m \u001b[0mrange\u001b[0m\u001b[0;34m(\u001b[0m\u001b[0mround\u001b[0m\u001b[0;34m(\u001b[0m\u001b[0mnbIter\u001b[0m\u001b[0;34m)\u001b[0m\u001b[0;34m)\u001b[0m\u001b[0;34m:\u001b[0m\u001b[0;34m\u001b[0m\u001b[0;34m\u001b[0m\u001b[0m\n\u001b[0;32m----> 4\u001b[0;31m         \u001b[0mselEdges\u001b[0m\u001b[0;34m=\u001b[0m\u001b[0mrandom\u001b[0m\u001b[0;34m.\u001b[0m\u001b[0msample\u001b[0m\u001b[0;34m(\u001b[0m\u001b[0mG\u001b[0m\u001b[0;34m.\u001b[0m\u001b[0medges\u001b[0m\u001b[0;34m(\u001b[0m\u001b[0;34m)\u001b[0m\u001b[0;34m,\u001b[0m\u001b[0;36m2\u001b[0m\u001b[0;34m)\u001b[0m\u001b[0;34m\u001b[0m\u001b[0;34m\u001b[0m\u001b[0m\n\u001b[0m\u001b[1;32m      5\u001b[0m         \u001b[0mG\u001b[0m\u001b[0;34m.\u001b[0m\u001b[0mremove_edges_from\u001b[0m\u001b[0;34m(\u001b[0m\u001b[0mselEdges\u001b[0m\u001b[0;34m)\u001b[0m\u001b[0;34m\u001b[0m\u001b[0;34m\u001b[0m\u001b[0m\n\u001b[1;32m      6\u001b[0m         \u001b[0mG\u001b[0m\u001b[0;34m.\u001b[0m\u001b[0madd_edge\u001b[0m\u001b[0;34m(\u001b[0m\u001b[0mselEdges\u001b[0m\u001b[0;34m[\u001b[0m\u001b[0;36m0\u001b[0m\u001b[0;34m]\u001b[0m\u001b[0;34m[\u001b[0m\u001b[0;36m0\u001b[0m\u001b[0;34m]\u001b[0m\u001b[0;34m,\u001b[0m \u001b[0mselEdges\u001b[0m\u001b[0;34m[\u001b[0m\u001b[0;36m1\u001b[0m\u001b[0;34m]\u001b[0m\u001b[0;34m[\u001b[0m\u001b[0;36m1\u001b[0m\u001b[0;34m]\u001b[0m\u001b[0;34m)\u001b[0m\u001b[0;34m\u001b[0m\u001b[0;34m\u001b[0m\u001b[0m\n",
      "\u001b[0;31mKeyboardInterrupt\u001b[0m: "
     ]
    }
   ],
   "source": [
    "alphaIter=[0.5,1, 2]\n",
    "listGraphs=[]\n",
    "\n",
    "#loop on the values for the parameter p\n",
    "for alpha in alphaIter:\n",
    "    print (alpha)\n",
    "    listGraphs.append(rewiring(FR, alpha*E))"
   ]
  },
  {
   "cell_type": "code",
   "execution_count": 13,
   "metadata": {},
   "outputs": [],
   "source": [
    "avr_clusteringp2 = [nx.average_clustering(G) for G in listGraphs]"
   ]
  },
  {
   "cell_type": "markdown",
   "metadata": {},
   "source": [
    "Avec cette nouvelle méthode de génération de graph, le clustering coefficient est bien plus élevé que précédemment mais reste inférieur. Plus le nombre d'itérations est grand, plus on déforme les liens et donc plus on tend vers un graphe aléatoire et l'*average clustering coefficient* diminue."
   ]
  },
  {
   "cell_type": "code",
   "execution_count": 14,
   "metadata": {},
   "outputs": [
    {
     "data": {
      "image/png": "[encoded data removed]",
      "text/plain": [
       "<Figure size 432x288 with 1 Axes>"
      ]
     },
     "metadata": {
      "needs_background": "light"
     },
     "output_type": "display_data"
    }
   ],
   "source": [
    "plt.plot([0.5,1, 2],avr_clusteringp2,'o', label = \"Rewiring graph\")\n",
    "#plt.plot(pList, poly1d_fn(pList), '--k',label = lin_fit_without_c)\n",
    "plt.axhline(y=avr_clustering_fr, color = \"orange\", label = \"Twitch FR coef\")\n",
    "plt.xlabel(r'$\\alpha$')\n",
    "plt.ylabel(r'$\\langle c\\rangle$')\n",
    "plt.legend()\n",
    "plt.title(\"Average clustering coefficient rewiring \"+r'$\\alpha\\langle E\\rangle$' +\" edges\")\n",
    "plt.show()"
   ]
  }
 ],
 "metadata": {
  "kernelspec": {
   "display_name": "Python 3",
   "language": "python",
   "name": "python3"
  },
  "language_info": {
   "codemirror_mode": {
    "name": "ipython",
    "version": 3
   },
   "file_extension": ".py",
   "mimetype": "text/x-python",
   "name": "python",
   "nbconvert_exporter": "python",
   "pygments_lexer": "ipython3",
   "version": "3.7.5"
  }
 },
 "nbformat": 4,
 "nbformat_minor": 4
}
